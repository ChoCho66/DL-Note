{
 "cells": [
  {
   "cell_type": "markdown",
   "id": "f6824e76",
   "metadata": {
    "origin_pos": 1
   },
   "source": [
    "# Weight Decay\n",
    ":label:`sec_weight_decay`\n",
    "\n",
    "Now that we have characterized the problem of overfitting,\n",
    "we can introduce our first *regularization* technique.\n",
    "Recall that we can always mitigate overfitting\n",
    "by collecting more training data.\n",
    "However, that can be costly, time consuming,\n",
    "or entirely out of our control,\n",
    "making it impossible in the short run.\n",
    "For now, we can assume that we already have\n",
    "as much high-quality data as our resources permit\n",
    "and focus the tools at our disposal\n",
    "even when the dataset is taken as a given.\n",
    "\n",
    "Recall that in our polynomial regression example\n",
    "(:numref:`subsec_polynomial-curve-fitting`)\n",
    "we could limit our model's capacity\n",
    "by tweaking the degree\n",
    "of the fitted polynomial.\n",
    "Indeed, limiting the number of features\n",
    "is a popular technique to mitigate overfitting.\n",
    "However, simply tossing aside features\n",
    "can be too blunt an instrument.\n",
    "Sticking with the polynomial regression\n",
    "example, consider what might happen\n",
    "with high-dimensional input.\n",
    "The natural extensions of polynomials\n",
    "to multivariate data are called *monomials*,\n",
    "which are simply products of powers of variables.\n",
    "The degree of a monomial is the sum of the powers.\n",
    "For example, $x_1^2 x_2$, and $x_3 x_5^2$\n",
    "are both monomials of degree 3.\n",
    "\n",
    "Note that the number of terms with degree $d$\n",
    "blows up rapidly as $d$ grows larger.\n",
    "Given $k$ variables, the number of monomials\n",
    "of degree $d$ (i.e., $k$ multichoose $d$) is ${k - 1 + d} \\choose {k - 1}$.\n",
    "Even small changes in degree, say from $2$ to $3$,\n",
    "dramatically increase the complexity of our model.\n",
    "Thus we often need a more fine-grained tool\n",
    "for adjusting function complexity.\n",
    "\n",
    "## Norms and Weight Decay\n",
    "\n",
    "(**Rather than directly manipulating the number of parameters,\n",
    "*weight decay*, operates by restricting the values \n",
    "that the parameters can take.**)\n",
    "More commonly called $\\ell_2$ regularization\n",
    "outside of deep learning circles\n",
    "when optimized by minibatch stochastic gradient descent,\n",
    "weight decay might be the most widely used technique\n",
    "for regularizing parametric machine learning models.\n",
    "The technique is motivated by the basic intuition\n",
    "that among all functions $f$,\n",
    "the function $f = 0$\n",
    "(assigning the value $0$ to all inputs)\n",
    "is in some sense the *simplest*,\n",
    "and that we can measure the complexity\n",
    "of a function by the distance of its parameters from zero.\n",
    "But how precisely should we measure\n",
    "the distance between a function and zero?\n",
    "There's no single right answer.\n",
    "In fact, entire branches of mathematics,\n",
    "including parts of functional analysis\n",
    "and the theory of Banach spaces,\n",
    "are devoted to addressing such issues.\n",
    "\n",
    "One simple interpretation might be\n",
    "to measure the complexity of a linear function\n",
    "$f(\\mathbf{x}) = \\mathbf{w}^\\top \\mathbf{x}$\n",
    "by some norm of its weight vector, e.g., $\\| \\mathbf{w} \\|^2$.\n",
    "Recall that we introduced the $\\ell_2$ norm and $\\ell_1$ norm,\n",
    "which are special cases of the more general $\\ell_p$ norm\n",
    "in :numref:`subsec_lin-algebra-norms`.\n",
    "The most common method for ensuring a small weight vector\n",
    "is to add its norm as a penalty term\n",
    "to the problem of minimizing the loss.\n",
    "Thus we replace our original objective,\n",
    "*minimizing the prediction loss on the training labels*,\n",
    "with new objective,\n",
    "*minimizing the sum of the prediction loss and the penalty term*.\n",
    "Now, if our weight vector grows too large,\n",
    "our learning algorithm might focus\n",
    "on minimizing the weight norm $\\| \\mathbf{w} \\|^2$\n",
    "vs. minimizing the training error.\n",
    "That is exactly what we want.\n",
    "To illustrate things in code,\n",
    "we revive our previous example\n",
    "from :numref:`sec_linear_regression` for linear regression.\n",
    "There, our loss was given by\n",
    "\n",
    "$$L(\\mathbf{w}, b) = \\frac{1}{n}\\sum_{i=1}^n \\frac{1}{2}\\left(\\mathbf{w}^\\top \\mathbf{x}^{(i)} + b - y^{(i)}\\right)^2.$$\n",
    "\n",
    "Recall that $\\mathbf{x}^{(i)}$ are the features,\n",
    "$y^{(i)}$ is the label for any data example $i$, and $(\\mathbf{w}, b)$\n",
    "are the weight and bias parameters, respectively.\n",
    "To penalize the size of the weight vector,\n",
    "we must somehow add $\\| \\mathbf{w} \\|^2$ to the loss function,\n",
    "but how should the model trade off the\n",
    "standard loss for this new additive penalty?\n",
    "In practice, we characterize this tradeoff\n",
    "via the *regularization constant* $\\lambda$,\n",
    "a non-negative hyperparameter\n",
    "that we fit using validation data:\n",
    "\n",
    "$$L(\\mathbf{w}, b) + \\frac{\\lambda}{2} \\|\\mathbf{w}\\|^2.$$\n",
    "\n",
    "\n",
    "For $\\lambda = 0$, we recover our original loss function.\n",
    "For $\\lambda > 0$, we restrict the size of $\\| \\mathbf{w} \\|$.\n",
    "We divide by $2$ by convention:\n",
    "when we take the derivative of a quadratic function,\n",
    "the $2$ and $1/2$ cancel out, ensuring that the expression\n",
    "for the update looks nice and simple.\n",
    "The astute reader might wonder why we work with the squared\n",
    "norm and not the standard norm (i.e., the Euclidean distance).\n",
    "We do this for computational convenience.\n",
    "By squaring the $\\ell_2$ norm, we remove the square root,\n",
    "leaving the sum of squares of\n",
    "each component of the weight vector.\n",
    "This makes the derivative of the penalty easy to compute: \n",
    "the sum of derivatives equals the derivative of the sum.\n",
    "\n",
    "\n",
    "Moreover, you might ask why we work with the $\\ell_2$ norm\n",
    "in the first place and not, say, the $\\ell_1$ norm.\n",
    "In fact, other choices are valid and\n",
    "popular throughout statistics.\n",
    "While $\\ell_2$-regularized linear models constitute\n",
    "the classic *ridge regression* algorithm,\n",
    "$\\ell_1$-regularized linear regression\n",
    "is a similarly fundamental method in statistics, \n",
    "popularly known as *lasso regression*.\n",
    "One reason to work with the $\\ell_2$ norm\n",
    "is that it places an outsize penalty\n",
    "on large components of the weight vector.\n",
    "This biases our learning algorithm\n",
    "towards models that distribute weight evenly\n",
    "across a larger number of features.\n",
    "In practice, this might make them more robust\n",
    "to measurement error in a single variable.\n",
    "By contrast, $\\ell_1$ penalties lead to models\n",
    "that concentrate weights on a small set of features\n",
    "by clearing the other weights to zero.\n",
    "This gives us an effective method for *feature selection*,\n",
    "which may be desirable for other reasons.\n",
    "For example, if our model only relies on a few features,\n",
    "then we may not need to collect, store, or transmit data\n",
    "for the other (dropped) features. \n",
    "\n",
    "Using the same notation in :eqref:`eq_linreg_batch_update`,\n",
    "the minibatch stochastic gradient descent updates\n",
    "for $\\ell_2$-regularized regression follow:\n",
    "\n",
    "$$\\begin{aligned}\n",
    "\\mathbf{w} & \\leftarrow \\left(1- \\eta\\lambda \\right) \\mathbf{w} - \\frac{\\eta}{|\\mathcal{B}|} \\sum_{i \\in \\mathcal{B}} \\mathbf{x}^{(i)} \\left(\\mathbf{w}^\\top \\mathbf{x}^{(i)} + b - y^{(i)}\\right).\n",
    "\\end{aligned}$$\n",
    "\n",
    "As before, we update $\\mathbf{w}$ based on the amount\n",
    "by which our estimate differs from the observation.\n",
    "However, we also shrink the size of $\\mathbf{w}$ towards zero.\n",
    "That is why the method is sometimes called \"weight decay\":\n",
    "given the penalty term alone,\n",
    "our optimization algorithm *decays*\n",
    "the weight at each step of training.\n",
    "In contrast to feature selection,\n",
    "weight decay offers us a continuous mechanism\n",
    "for adjusting the complexity of a function.\n",
    "Smaller values of $\\lambda$ correspond\n",
    "to less constrained $\\mathbf{w}$,\n",
    "whereas larger values of $\\lambda$\n",
    "constrain $\\mathbf{w}$ more considerably.\n",
    "Whether we include a corresponding bias penalty $b^2$ \n",
    "can vary across implementations, \n",
    "and may vary across layers of a neural network.\n",
    "Often, we do not regularize the bias term.\n",
    "Besides,\n",
    "although $\\ell_2$ regularization may not be equivalent to weight decay for other optimization algorithms,\n",
    "the idea of regularization through\n",
    "shrinking the size of weights\n",
    "still holds true.\n",
    "\n",
    "\n",
    "\n",
    "## High-Dimensional Linear Regression\n",
    "\n",
    "We can illustrate the benefits of weight decay \n",
    "through a simple synthetic example.\n"
   ]
  },
  {
   "cell_type": "code",
   "execution_count": 1,
   "id": "1c8d95a9",
   "metadata": {
    "attributes": {
     "classes": [],
     "id": "",
     "n": "3"
    },
    "execution": {
     "iopub.execute_input": "2022-08-29T22:11:55.478249Z",
     "iopub.status.busy": "2022-08-29T22:11:55.477563Z",
     "iopub.status.idle": "2022-08-29T22:11:57.559314Z",
     "shell.execute_reply": "2022-08-29T22:11:57.558273Z"
    },
    "origin_pos": 3,
    "tab": [
     "pytorch"
    ]
   },
   "outputs": [],
   "source": [
    "%matplotlib inline\n",
    "import torch\n",
    "from torch import nn\n",
    "from d2l import torch as d2l"
   ]
  },
  {
   "attachments": {},
   "cell_type": "markdown",
   "id": "00b9db10",
   "metadata": {
    "origin_pos": 5
   },
   "source": [
    "First, we [**generate some data as before**]:\n",
    "\n",
    "$$\n",
    "y = 0.05 + \\sum_{i = 1}^d 0.01 x_i + \\epsilon \\text{ where }\n",
    "\\epsilon \\sim \\mathcal{N}(0, 0.01^2).\n",
    "$$\n",
    "\n",
    "In this synthetic dataset, our label is given \n",
    "by an underlying linear function of our inputs,\n",
    "corrupted by Gaussian noise \n",
    "with zero mean and standard deviation 0.01.\n",
    "For illustrative purposes, \n",
    "we can make the effects of overfitting pronounced,\n",
    "by increasing the dimensionality of our problem to $d = 200$\n",
    "and working with a small training set with only 20 examples.\n"
   ]
  },
  {
   "cell_type": "code",
   "execution_count": 2,
   "id": "8add28b8",
   "metadata": {
    "attributes": {
     "classes": [],
     "id": "",
     "n": "5"
    },
    "execution": {
     "iopub.execute_input": "2022-08-29T22:11:57.564706Z",
     "iopub.status.busy": "2022-08-29T22:11:57.564169Z",
     "iopub.status.idle": "2022-08-29T22:11:57.570464Z",
     "shell.execute_reply": "2022-08-29T22:11:57.569738Z"
    },
    "origin_pos": 6,
    "tab": [
     "pytorch"
    ]
   },
   "outputs": [],
   "source": [
    "class Data(d2l.DataModule):\n",
    "    def __init__(self, num_train, num_val, num_inputs, batch_size):\n",
    "        self.save_hyperparameters()\n",
    "        n = num_train + num_val\n",
    "        self.X = torch.randn(n, num_inputs)\n",
    "        noise = torch.randn(n, 1) * 0.01\n",
    "        w, b = torch.ones((num_inputs, 1)) * 0.01, 0.05\n",
    "        self.y = torch.matmul(self.X, w) + b + noise\n",
    "\n",
    "    def get_dataloader(self, train):\n",
    "        i = slice(0, self.num_train) if train else slice(self.num_train, None)\n",
    "        return self.get_tensorloader([self.X, self.y], train, i)"
   ]
  },
  {
   "cell_type": "markdown",
   "id": "0ffa68b7",
   "metadata": {
    "origin_pos": 7
   },
   "source": [
    "## Implementation from Scratch\n",
    "\n",
    "Now, let's try implementing weight decay from scratch.\n",
    "Since minibatch stochastic gradient descent\n",
    "is our optimizer,\n",
    "we just need to add the squared $\\ell_2$ penalty\n",
    "to the original loss function.\n",
    "\n",
    "### (**Defining $\\ell_2$ Norm Penalty**)\n",
    "\n",
    "Perhaps the most convenient way to implement this penalty\n",
    "is to square all terms in place and sum them up.\n"
   ]
  },
  {
   "cell_type": "code",
   "execution_count": 3,
   "id": "5cdec45e",
   "metadata": {
    "attributes": {
     "classes": [],
     "id": "",
     "n": "6"
    },
    "execution": {
     "iopub.execute_input": "2022-08-29T22:11:57.573754Z",
     "iopub.status.busy": "2022-08-29T22:11:57.573310Z",
     "iopub.status.idle": "2022-08-29T22:11:57.577118Z",
     "shell.execute_reply": "2022-08-29T22:11:57.576390Z"
    },
    "origin_pos": 8,
    "tab": [
     "pytorch"
    ]
   },
   "outputs": [],
   "source": [
    "def l2_penalty(w):\n",
    "    return (w ** 2).sum() / 2"
   ]
  },
  {
   "cell_type": "markdown",
   "id": "d3256a1b",
   "metadata": {
    "origin_pos": 9
   },
   "source": [
    "### Defining the Model\n",
    "\n",
    "In the final model,\n",
    "the linear regression and the squared loss have not changed since :numref:`sec_linear_scratch`,\n",
    "so we will just define a subclass of `d2l.LinearRegressionScratch`. The only change here is that our loss now includes the penalty term.\n"
   ]
  },
  {
   "cell_type": "code",
   "execution_count": 4,
   "id": "4f8a0e98",
   "metadata": {
    "attributes": {
     "classes": [],
     "id": "",
     "n": "7"
    },
    "execution": {
     "iopub.execute_input": "2022-08-29T22:11:57.581760Z",
     "iopub.status.busy": "2022-08-29T22:11:57.580490Z",
     "iopub.status.idle": "2022-08-29T22:11:57.589631Z",
     "shell.execute_reply": "2022-08-29T22:11:57.588529Z"
    },
    "origin_pos": 10,
    "tab": [
     "pytorch"
    ]
   },
   "outputs": [],
   "source": [
    "class WeightDecayScratch(d2l.LinearRegressionScratch):\n",
    "    def __init__(self, num_inputs, lambd, lr, sigma=0.01):\n",
    "        super().__init__(num_inputs, lr, sigma)\n",
    "        self.save_hyperparameters()\n",
    "\n",
    "    def loss(self, y_hat, y):\n",
    "        return super().loss(y_hat, y) + self.lambd * l2_penalty(self.w)"
   ]
  },
  {
   "attachments": {},
   "cell_type": "markdown",
   "id": "1709bab7",
   "metadata": {},
   "source": [
    "- https://www.runoob.com/python/python-func-super.html"
   ]
  },
  {
   "cell_type": "code",
   "execution_count": 5,
   "id": "52485305",
   "metadata": {},
   "outputs": [
    {
     "name": "stdout",
     "output_type": "stream",
     "text": [
      "Parent\n",
      "Child\n",
      "HelloWorld from Parent\n",
      "Child bar fuction\n",
      "I'm the parent.\n"
     ]
    }
   ],
   "source": [
    "#!/usr/bin/python\n",
    "# -*- coding: UTF-8 -*-\n",
    " \n",
    "class FooParent(object):\n",
    "    def __init__(self):\n",
    "        self.parent = 'I\\'m the parent.'\n",
    "        print ('Parent')\n",
    "    \n",
    "    def bar(self,message):\n",
    "        print (\"%s from Parent\" % message)\n",
    " \n",
    "class FooChild(FooParent):\n",
    "    def __init__(self):\n",
    "        # super(FooChild,self) 首先找到 FooChild 的父类（就是类 FooParent），然后把类 FooChild 的对象转换为类 FooParent 的对象\n",
    "        super(FooChild,self).__init__()    \n",
    "        print ('Child')\n",
    "        \n",
    "    def bar(self,message):\n",
    "        super(FooChild, self).bar(message)\n",
    "        print ('Child bar fuction')\n",
    "        print (self.parent)\n",
    " \n",
    "\n",
    "fooChild = FooChild()\n",
    "fooChild.bar('HelloWorld')"
   ]
  },
  {
   "cell_type": "code",
   "execution_count": 6,
   "id": "0fbe332d",
   "metadata": {},
   "outputs": [
    {
     "data": {
      "text/plain": [
       "\"I'm the parent.\""
      ]
     },
     "execution_count": 6,
     "metadata": {},
     "output_type": "execute_result"
    }
   ],
   "source": [
    "fooChild.parent"
   ]
  },
  {
   "cell_type": "code",
   "execution_count": 7,
   "id": "1474e33d",
   "metadata": {},
   "outputs": [
    {
     "name": "stdout",
     "output_type": "stream",
     "text": [
      "2\n"
     ]
    }
   ],
   "source": [
    "class test():\n",
    "    def t(self):\n",
    "        print(1)\n",
    "    def t(self):\n",
    "        print(2)\n",
    "T = test()\n",
    "T.t()"
   ]
  },
  {
   "cell_type": "markdown",
   "id": "96bacbe8",
   "metadata": {
    "origin_pos": 11
   },
   "source": [
    "The following code fits our model on the training set with 20 examples and evaluates it on the validation set with 100 examples.\n"
   ]
  },
  {
   "cell_type": "code",
   "execution_count": 8,
   "id": "2b7561ef",
   "metadata": {
    "attributes": {
     "classes": [],
     "id": "",
     "n": "8"
    },
    "execution": {
     "iopub.execute_input": "2022-08-29T22:11:57.595511Z",
     "iopub.status.busy": "2022-08-29T22:11:57.594630Z",
     "iopub.status.idle": "2022-08-29T22:11:57.619602Z",
     "shell.execute_reply": "2022-08-29T22:11:57.618429Z"
    },
    "origin_pos": 12,
    "tab": [
     "pytorch"
    ]
   },
   "outputs": [],
   "source": [
    "data = Data(num_train=20, num_val=100, num_inputs=200, batch_size=5)\n",
    "trainer = d2l.Trainer(max_epochs=10)\n",
    "\n",
    "def train_scratch(lambd):\n",
    "    model = WeightDecayScratch(num_inputs=200, lambd=lambd, lr=0.01)\n",
    "    model.board.yscale='log'\n",
    "    trainer.fit(model, data)\n",
    "    print('L2 norm of w:', float(l2_penalty(model.w)))"
   ]
  },
  {
   "cell_type": "markdown",
   "id": "9bc2b506",
   "metadata": {
    "origin_pos": 13
   },
   "source": [
    "### [**Training without Regularization**]\n",
    "\n",
    "We now run this code with `lambd = 0`,\n",
    "disabling weight decay.\n",
    "Note that we overfit badly,\n",
    "decreasing the training error but not the\n",
    "validation error---a textbook case of overfitting.\n"
   ]
  },
  {
   "cell_type": "code",
   "execution_count": 9,
   "id": "064c7000",
   "metadata": {
    "attributes": {
     "classes": [],
     "id": "",
     "n": "9"
    },
    "execution": {
     "iopub.execute_input": "2022-08-29T22:11:57.625984Z",
     "iopub.status.busy": "2022-08-29T22:11:57.625008Z",
     "iopub.status.idle": "2022-08-29T22:12:08.764563Z",
     "shell.execute_reply": "2022-08-29T22:12:08.763747Z"
    },
    "origin_pos": 14,
    "tab": [
     "pytorch"
    ]
   },
   "outputs": [
    {
     "name": "stdout",
     "output_type": "stream",
     "text": [
      "L2 norm of w: 0.011564576998353004\n"
     ]
    },
    {
     "data": {
      "image/svg+xml": "<?xml version=\"1.0\" encoding=\"utf-8\" standalone=\"no\"?>\n<!DOCTYPE svg PUBLIC \"-//W3C//DTD SVG 1.1//EN\"\n  \"http://www.w3.org/Graphics/SVG/1.1/DTD/svg11.dtd\">\n<svg xmlns:xlink=\"http://www.w3.org/1999/xlink\" width=\"246.5625pt\" height=\"183.35625pt\" viewBox=\"0 0 246.5625 183.35625\" xmlns=\"http://www.w3.org/2000/svg\" version=\"1.1\">\n <metadata>\n  <rdf:RDF xmlns:dc=\"http://purl.org/dc/elements/1.1/\" xmlns:cc=\"http://creativecommons.org/ns#\" xmlns:rdf=\"http://www.w3.org/1999/02/22-rdf-syntax-ns#\">\n   <cc:Work>\n    <dc:type rdf:resource=\"http://purl.org/dc/dcmitype/StillImage\"/>\n    <dc:date>2022-12-11T10:33:38.860071</dc:date>\n    <dc:format>image/svg+xml</dc:format>\n    <dc:creator>\n     <cc:Agent>\n      <dc:title>Matplotlib v3.6.0, https://matplotlib.org/</dc:title>\n     </cc:Agent>\n    </dc:creator>\n   </cc:Work>\n  </rdf:RDF>\n </metadata>\n <defs>\n  <style type=\"text/css\">*{stroke-linejoin: round; stroke-linecap: butt}</style>\n </defs>\n <g id=\"figure_1\">\n  <g id=\"patch_1\">\n   <path d=\"M 0 183.35625 \nL 246.5625 183.35625 \nL 246.5625 0 \nL 0 0 \nz\n\" style=\"fill: #ffffff\"/>\n  </g>\n  <g id=\"axes_1\">\n   <g id=\"patch_2\">\n    <path d=\"M 37.7 145.8 \nL 233 145.8 \nL 233 7.2 \nL 37.7 7.2 \nz\n\" style=\"fill: #ffffff\"/>\n   </g>\n   <g id=\"matplotlib.axis_1\">\n    <g id=\"xtick_1\">\n     <g id=\"line2d_1\">\n      <defs>\n       <path id=\"m7fa5848634\" d=\"M 0 0 \nL 0 3.5 \n\" style=\"stroke: #000000; stroke-width: 0.8\"/>\n      </defs>\n      <g>\n       <use xlink:href=\"#m7fa5848634\" x=\"37.7\" y=\"145.8\" style=\"stroke: #000000; stroke-width: 0.8\"/>\n      </g>\n     </g>\n     <g id=\"text_1\">\n      <!-- 0 -->\n      <g transform=\"translate(34.51875 160.398438) scale(0.1 -0.1)\">\n       <defs>\n        <path id=\"DejaVuSans-30\" d=\"M 2034 4250 \nQ 1547 4250 1301 3770 \nQ 1056 3291 1056 2328 \nQ 1056 1369 1301 889 \nQ 1547 409 2034 409 \nQ 2525 409 2770 889 \nQ 3016 1369 3016 2328 \nQ 3016 3291 2770 3770 \nQ 2525 4250 2034 4250 \nz\nM 2034 4750 \nQ 2819 4750 3233 4129 \nQ 3647 3509 3647 2328 \nQ 3647 1150 3233 529 \nQ 2819 -91 2034 -91 \nQ 1250 -91 836 529 \nQ 422 1150 422 2328 \nQ 422 3509 836 4129 \nQ 1250 4750 2034 4750 \nz\n\" transform=\"scale(0.015625)\"/>\n       </defs>\n       <use xlink:href=\"#DejaVuSans-30\"/>\n      </g>\n     </g>\n    </g>\n    <g id=\"xtick_2\">\n     <g id=\"line2d_2\">\n      <g>\n       <use xlink:href=\"#m7fa5848634\" x=\"76.76\" y=\"145.8\" style=\"stroke: #000000; stroke-width: 0.8\"/>\n      </g>\n     </g>\n     <g id=\"text_2\">\n      <!-- 2 -->\n      <g transform=\"translate(73.57875 160.398438) scale(0.1 -0.1)\">\n       <defs>\n        <path id=\"DejaVuSans-32\" d=\"M 1228 531 \nL 3431 531 \nL 3431 0 \nL 469 0 \nL 469 531 \nQ 828 903 1448 1529 \nQ 2069 2156 2228 2338 \nQ 2531 2678 2651 2914 \nQ 2772 3150 2772 3378 \nQ 2772 3750 2511 3984 \nQ 2250 4219 1831 4219 \nQ 1534 4219 1204 4116 \nQ 875 4013 500 3803 \nL 500 4441 \nQ 881 4594 1212 4672 \nQ 1544 4750 1819 4750 \nQ 2544 4750 2975 4387 \nQ 3406 4025 3406 3419 \nQ 3406 3131 3298 2873 \nQ 3191 2616 2906 2266 \nQ 2828 2175 2409 1742 \nQ 1991 1309 1228 531 \nz\n\" transform=\"scale(0.015625)\"/>\n       </defs>\n       <use xlink:href=\"#DejaVuSans-32\"/>\n      </g>\n     </g>\n    </g>\n    <g id=\"xtick_3\">\n     <g id=\"line2d_3\">\n      <g>\n       <use xlink:href=\"#m7fa5848634\" x=\"115.82\" y=\"145.8\" style=\"stroke: #000000; stroke-width: 0.8\"/>\n      </g>\n     </g>\n     <g id=\"text_3\">\n      <!-- 4 -->\n      <g transform=\"translate(112.63875 160.398438) scale(0.1 -0.1)\">\n       <defs>\n        <path id=\"DejaVuSans-34\" d=\"M 2419 4116 \nL 825 1625 \nL 2419 1625 \nL 2419 4116 \nz\nM 2253 4666 \nL 3047 4666 \nL 3047 1625 \nL 3713 1625 \nL 3713 1100 \nL 3047 1100 \nL 3047 0 \nL 2419 0 \nL 2419 1100 \nL 313 1100 \nL 313 1709 \nL 2253 4666 \nz\n\" transform=\"scale(0.015625)\"/>\n       </defs>\n       <use xlink:href=\"#DejaVuSans-34\"/>\n      </g>\n     </g>\n    </g>\n    <g id=\"xtick_4\">\n     <g id=\"line2d_4\">\n      <g>\n       <use xlink:href=\"#m7fa5848634\" x=\"154.88\" y=\"145.8\" style=\"stroke: #000000; stroke-width: 0.8\"/>\n      </g>\n     </g>\n     <g id=\"text_4\">\n      <!-- 6 -->\n      <g transform=\"translate(151.69875 160.398438) scale(0.1 -0.1)\">\n       <defs>\n        <path id=\"DejaVuSans-36\" d=\"M 2113 2584 \nQ 1688 2584 1439 2293 \nQ 1191 2003 1191 1497 \nQ 1191 994 1439 701 \nQ 1688 409 2113 409 \nQ 2538 409 2786 701 \nQ 3034 994 3034 1497 \nQ 3034 2003 2786 2293 \nQ 2538 2584 2113 2584 \nz\nM 3366 4563 \nL 3366 3988 \nQ 3128 4100 2886 4159 \nQ 2644 4219 2406 4219 \nQ 1781 4219 1451 3797 \nQ 1122 3375 1075 2522 \nQ 1259 2794 1537 2939 \nQ 1816 3084 2150 3084 \nQ 2853 3084 3261 2657 \nQ 3669 2231 3669 1497 \nQ 3669 778 3244 343 \nQ 2819 -91 2113 -91 \nQ 1303 -91 875 529 \nQ 447 1150 447 2328 \nQ 447 3434 972 4092 \nQ 1497 4750 2381 4750 \nQ 2619 4750 2861 4703 \nQ 3103 4656 3366 4563 \nz\n\" transform=\"scale(0.015625)\"/>\n       </defs>\n       <use xlink:href=\"#DejaVuSans-36\"/>\n      </g>\n     </g>\n    </g>\n    <g id=\"xtick_5\">\n     <g id=\"line2d_5\">\n      <g>\n       <use xlink:href=\"#m7fa5848634\" x=\"193.94\" y=\"145.8\" style=\"stroke: #000000; stroke-width: 0.8\"/>\n      </g>\n     </g>\n     <g id=\"text_5\">\n      <!-- 8 -->\n      <g transform=\"translate(190.75875 160.398438) scale(0.1 -0.1)\">\n       <defs>\n        <path id=\"DejaVuSans-38\" d=\"M 2034 2216 \nQ 1584 2216 1326 1975 \nQ 1069 1734 1069 1313 \nQ 1069 891 1326 650 \nQ 1584 409 2034 409 \nQ 2484 409 2743 651 \nQ 3003 894 3003 1313 \nQ 3003 1734 2745 1975 \nQ 2488 2216 2034 2216 \nz\nM 1403 2484 \nQ 997 2584 770 2862 \nQ 544 3141 544 3541 \nQ 544 4100 942 4425 \nQ 1341 4750 2034 4750 \nQ 2731 4750 3128 4425 \nQ 3525 4100 3525 3541 \nQ 3525 3141 3298 2862 \nQ 3072 2584 2669 2484 \nQ 3125 2378 3379 2068 \nQ 3634 1759 3634 1313 \nQ 3634 634 3220 271 \nQ 2806 -91 2034 -91 \nQ 1263 -91 848 271 \nQ 434 634 434 1313 \nQ 434 1759 690 2068 \nQ 947 2378 1403 2484 \nz\nM 1172 3481 \nQ 1172 3119 1398 2916 \nQ 1625 2713 2034 2713 \nQ 2441 2713 2670 2916 \nQ 2900 3119 2900 3481 \nQ 2900 3844 2670 4047 \nQ 2441 4250 2034 4250 \nQ 1625 4250 1398 4047 \nQ 1172 3844 1172 3481 \nz\n\" transform=\"scale(0.015625)\"/>\n       </defs>\n       <use xlink:href=\"#DejaVuSans-38\"/>\n      </g>\n     </g>\n    </g>\n    <g id=\"xtick_6\">\n     <g id=\"line2d_6\">\n      <g>\n       <use xlink:href=\"#m7fa5848634\" x=\"233\" y=\"145.8\" style=\"stroke: #000000; stroke-width: 0.8\"/>\n      </g>\n     </g>\n     <g id=\"text_6\">\n      <!-- 10 -->\n      <g transform=\"translate(226.6375 160.398438) scale(0.1 -0.1)\">\n       <defs>\n        <path id=\"DejaVuSans-31\" d=\"M 794 531 \nL 1825 531 \nL 1825 4091 \nL 703 3866 \nL 703 4441 \nL 1819 4666 \nL 2450 4666 \nL 2450 531 \nL 3481 531 \nL 3481 0 \nL 794 0 \nL 794 531 \nz\n\" transform=\"scale(0.015625)\"/>\n       </defs>\n       <use xlink:href=\"#DejaVuSans-31\"/>\n       <use xlink:href=\"#DejaVuSans-30\" x=\"63.623047\"/>\n      </g>\n     </g>\n    </g>\n    <g id=\"text_7\">\n     <!-- epoch -->\n     <g transform=\"translate(120.121875 174.076563) scale(0.1 -0.1)\">\n      <defs>\n       <path id=\"DejaVuSans-65\" d=\"M 3597 1894 \nL 3597 1613 \nL 953 1613 \nQ 991 1019 1311 708 \nQ 1631 397 2203 397 \nQ 2534 397 2845 478 \nQ 3156 559 3463 722 \nL 3463 178 \nQ 3153 47 2828 -22 \nQ 2503 -91 2169 -91 \nQ 1331 -91 842 396 \nQ 353 884 353 1716 \nQ 353 2575 817 3079 \nQ 1281 3584 2069 3584 \nQ 2775 3584 3186 3129 \nQ 3597 2675 3597 1894 \nz\nM 3022 2063 \nQ 3016 2534 2758 2815 \nQ 2500 3097 2075 3097 \nQ 1594 3097 1305 2825 \nQ 1016 2553 972 2059 \nL 3022 2063 \nz\n\" transform=\"scale(0.015625)\"/>\n       <path id=\"DejaVuSans-70\" d=\"M 1159 525 \nL 1159 -1331 \nL 581 -1331 \nL 581 3500 \nL 1159 3500 \nL 1159 2969 \nQ 1341 3281 1617 3432 \nQ 1894 3584 2278 3584 \nQ 2916 3584 3314 3078 \nQ 3713 2572 3713 1747 \nQ 3713 922 3314 415 \nQ 2916 -91 2278 -91 \nQ 1894 -91 1617 61 \nQ 1341 213 1159 525 \nz\nM 3116 1747 \nQ 3116 2381 2855 2742 \nQ 2594 3103 2138 3103 \nQ 1681 3103 1420 2742 \nQ 1159 2381 1159 1747 \nQ 1159 1113 1420 752 \nQ 1681 391 2138 391 \nQ 2594 391 2855 752 \nQ 3116 1113 3116 1747 \nz\n\" transform=\"scale(0.015625)\"/>\n       <path id=\"DejaVuSans-6f\" d=\"M 1959 3097 \nQ 1497 3097 1228 2736 \nQ 959 2375 959 1747 \nQ 959 1119 1226 758 \nQ 1494 397 1959 397 \nQ 2419 397 2687 759 \nQ 2956 1122 2956 1747 \nQ 2956 2369 2687 2733 \nQ 2419 3097 1959 3097 \nz\nM 1959 3584 \nQ 2709 3584 3137 3096 \nQ 3566 2609 3566 1747 \nQ 3566 888 3137 398 \nQ 2709 -91 1959 -91 \nQ 1206 -91 779 398 \nQ 353 888 353 1747 \nQ 353 2609 779 3096 \nQ 1206 3584 1959 3584 \nz\n\" transform=\"scale(0.015625)\"/>\n       <path id=\"DejaVuSans-63\" d=\"M 3122 3366 \nL 3122 2828 \nQ 2878 2963 2633 3030 \nQ 2388 3097 2138 3097 \nQ 1578 3097 1268 2742 \nQ 959 2388 959 1747 \nQ 959 1106 1268 751 \nQ 1578 397 2138 397 \nQ 2388 397 2633 464 \nQ 2878 531 3122 666 \nL 3122 134 \nQ 2881 22 2623 -34 \nQ 2366 -91 2075 -91 \nQ 1284 -91 818 406 \nQ 353 903 353 1747 \nQ 353 2603 823 3093 \nQ 1294 3584 2113 3584 \nQ 2378 3584 2631 3529 \nQ 2884 3475 3122 3366 \nz\n\" transform=\"scale(0.015625)\"/>\n       <path id=\"DejaVuSans-68\" d=\"M 3513 2113 \nL 3513 0 \nL 2938 0 \nL 2938 2094 \nQ 2938 2591 2744 2837 \nQ 2550 3084 2163 3084 \nQ 1697 3084 1428 2787 \nQ 1159 2491 1159 1978 \nL 1159 0 \nL 581 0 \nL 581 4863 \nL 1159 4863 \nL 1159 2956 \nQ 1366 3272 1645 3428 \nQ 1925 3584 2291 3584 \nQ 2894 3584 3203 3211 \nQ 3513 2838 3513 2113 \nz\n\" transform=\"scale(0.015625)\"/>\n      </defs>\n      <use xlink:href=\"#DejaVuSans-65\"/>\n      <use xlink:href=\"#DejaVuSans-70\" x=\"61.523438\"/>\n      <use xlink:href=\"#DejaVuSans-6f\" x=\"125\"/>\n      <use xlink:href=\"#DejaVuSans-63\" x=\"186.181641\"/>\n      <use xlink:href=\"#DejaVuSans-68\" x=\"241.162109\"/>\n     </g>\n    </g>\n   </g>\n   <g id=\"matplotlib.axis_2\">\n    <g id=\"ytick_1\">\n     <g id=\"line2d_7\">\n      <defs>\n       <path id=\"m7e89d9e531\" d=\"M 0 0 \nL -3.5 0 \n\" style=\"stroke: #000000; stroke-width: 0.8\"/>\n      </defs>\n      <g>\n       <use xlink:href=\"#m7e89d9e531\" x=\"37.7\" y=\"107.038355\" style=\"stroke: #000000; stroke-width: 0.8\"/>\n      </g>\n     </g>\n     <g id=\"text_8\">\n      <!-- $\\mathdefault{10^{-4}}$ -->\n      <g transform=\"translate(7.2 110.837574) scale(0.1 -0.1)\">\n       <defs>\n        <path id=\"DejaVuSans-2212\" d=\"M 678 2272 \nL 4684 2272 \nL 4684 1741 \nL 678 1741 \nL 678 2272 \nz\n\" transform=\"scale(0.015625)\"/>\n       </defs>\n       <use xlink:href=\"#DejaVuSans-31\" transform=\"translate(0 0.684375)\"/>\n       <use xlink:href=\"#DejaVuSans-30\" transform=\"translate(63.623047 0.684375)\"/>\n       <use xlink:href=\"#DejaVuSans-2212\" transform=\"translate(128.203125 38.965625) scale(0.7)\"/>\n       <use xlink:href=\"#DejaVuSans-34\" transform=\"translate(186.855469 38.965625) scale(0.7)\"/>\n      </g>\n     </g>\n    </g>\n    <g id=\"ytick_2\">\n     <g id=\"line2d_8\">\n      <g>\n       <use xlink:href=\"#m7e89d9e531\" x=\"37.7\" y=\"68.069325\" style=\"stroke: #000000; stroke-width: 0.8\"/>\n      </g>\n     </g>\n     <g id=\"text_9\">\n      <!-- $\\mathdefault{10^{-3}}$ -->\n      <g transform=\"translate(7.2 71.868544) scale(0.1 -0.1)\">\n       <defs>\n        <path id=\"DejaVuSans-33\" d=\"M 2597 2516 \nQ 3050 2419 3304 2112 \nQ 3559 1806 3559 1356 \nQ 3559 666 3084 287 \nQ 2609 -91 1734 -91 \nQ 1441 -91 1130 -33 \nQ 819 25 488 141 \nL 488 750 \nQ 750 597 1062 519 \nQ 1375 441 1716 441 \nQ 2309 441 2620 675 \nQ 2931 909 2931 1356 \nQ 2931 1769 2642 2001 \nQ 2353 2234 1838 2234 \nL 1294 2234 \nL 1294 2753 \nL 1863 2753 \nQ 2328 2753 2575 2939 \nQ 2822 3125 2822 3475 \nQ 2822 3834 2567 4026 \nQ 2313 4219 1838 4219 \nQ 1578 4219 1281 4162 \nQ 984 4106 628 3988 \nL 628 4550 \nQ 988 4650 1302 4700 \nQ 1616 4750 1894 4750 \nQ 2613 4750 3031 4423 \nQ 3450 4097 3450 3541 \nQ 3450 3153 3228 2886 \nQ 3006 2619 2597 2516 \nz\n\" transform=\"scale(0.015625)\"/>\n       </defs>\n       <use xlink:href=\"#DejaVuSans-31\" transform=\"translate(0 0.765625)\"/>\n       <use xlink:href=\"#DejaVuSans-30\" transform=\"translate(63.623047 0.765625)\"/>\n       <use xlink:href=\"#DejaVuSans-2212\" transform=\"translate(128.203125 39.046875) scale(0.7)\"/>\n       <use xlink:href=\"#DejaVuSans-33\" transform=\"translate(186.855469 39.046875) scale(0.7)\"/>\n      </g>\n     </g>\n    </g>\n    <g id=\"ytick_3\">\n     <g id=\"line2d_9\">\n      <g>\n       <use xlink:href=\"#m7e89d9e531\" x=\"37.7\" y=\"29.100295\" style=\"stroke: #000000; stroke-width: 0.8\"/>\n      </g>\n     </g>\n     <g id=\"text_10\">\n      <!-- $\\mathdefault{10^{-2}}$ -->\n      <g transform=\"translate(7.2 32.899514) scale(0.1 -0.1)\">\n       <use xlink:href=\"#DejaVuSans-31\" transform=\"translate(0 0.765625)\"/>\n       <use xlink:href=\"#DejaVuSans-30\" transform=\"translate(63.623047 0.765625)\"/>\n       <use xlink:href=\"#DejaVuSans-2212\" transform=\"translate(128.203125 39.046875) scale(0.7)\"/>\n       <use xlink:href=\"#DejaVuSans-32\" transform=\"translate(186.855469 39.046875) scale(0.7)\"/>\n      </g>\n     </g>\n    </g>\n    <g id=\"ytick_4\">\n     <g id=\"line2d_10\">\n      <defs>\n       <path id=\"m550219100d\" d=\"M 0 0 \nL -2 0 \n\" style=\"stroke: #000000; stroke-width: 0.6\"/>\n      </defs>\n      <g>\n       <use xlink:href=\"#m550219100d\" x=\"37.7\" y=\"134.276538\" style=\"stroke: #000000; stroke-width: 0.6\"/>\n      </g>\n     </g>\n    </g>\n    <g id=\"ytick_5\">\n     <g id=\"line2d_11\">\n      <g>\n       <use xlink:href=\"#m550219100d\" x=\"37.7\" y=\"127.414433\" style=\"stroke: #000000; stroke-width: 0.6\"/>\n      </g>\n     </g>\n    </g>\n    <g id=\"ytick_6\">\n     <g id=\"line2d_12\">\n      <g>\n       <use xlink:href=\"#m550219100d\" x=\"37.7\" y=\"122.545691\" style=\"stroke: #000000; stroke-width: 0.6\"/>\n      </g>\n     </g>\n    </g>\n    <g id=\"ytick_7\">\n     <g id=\"line2d_13\">\n      <g>\n       <use xlink:href=\"#m550219100d\" x=\"37.7\" y=\"118.769202\" style=\"stroke: #000000; stroke-width: 0.6\"/>\n      </g>\n     </g>\n    </g>\n    <g id=\"ytick_8\">\n     <g id=\"line2d_14\">\n      <g>\n       <use xlink:href=\"#m550219100d\" x=\"37.7\" y=\"115.683586\" style=\"stroke: #000000; stroke-width: 0.6\"/>\n      </g>\n     </g>\n    </g>\n    <g id=\"ytick_9\">\n     <g id=\"line2d_15\">\n      <g>\n       <use xlink:href=\"#m550219100d\" x=\"37.7\" y=\"113.074734\" style=\"stroke: #000000; stroke-width: 0.6\"/>\n      </g>\n     </g>\n    </g>\n    <g id=\"ytick_10\">\n     <g id=\"line2d_16\">\n      <g>\n       <use xlink:href=\"#m550219100d\" x=\"37.7\" y=\"110.814844\" style=\"stroke: #000000; stroke-width: 0.6\"/>\n      </g>\n     </g>\n    </g>\n    <g id=\"ytick_11\">\n     <g id=\"line2d_17\">\n      <g>\n       <use xlink:href=\"#m550219100d\" x=\"37.7\" y=\"108.82148\" style=\"stroke: #000000; stroke-width: 0.6\"/>\n      </g>\n     </g>\n    </g>\n    <g id=\"ytick_12\">\n     <g id=\"line2d_18\">\n      <g>\n       <use xlink:href=\"#m550219100d\" x=\"37.7\" y=\"95.307508\" style=\"stroke: #000000; stroke-width: 0.6\"/>\n      </g>\n     </g>\n    </g>\n    <g id=\"ytick_13\">\n     <g id=\"line2d_19\">\n      <g>\n       <use xlink:href=\"#m550219100d\" x=\"37.7\" y=\"88.445403\" style=\"stroke: #000000; stroke-width: 0.6\"/>\n      </g>\n     </g>\n    </g>\n    <g id=\"ytick_14\">\n     <g id=\"line2d_20\">\n      <g>\n       <use xlink:href=\"#m550219100d\" x=\"37.7\" y=\"83.576661\" style=\"stroke: #000000; stroke-width: 0.6\"/>\n      </g>\n     </g>\n    </g>\n    <g id=\"ytick_15\">\n     <g id=\"line2d_21\">\n      <g>\n       <use xlink:href=\"#m550219100d\" x=\"37.7\" y=\"79.800172\" style=\"stroke: #000000; stroke-width: 0.6\"/>\n      </g>\n     </g>\n    </g>\n    <g id=\"ytick_16\">\n     <g id=\"line2d_22\">\n      <g>\n       <use xlink:href=\"#m550219100d\" x=\"37.7\" y=\"76.714556\" style=\"stroke: #000000; stroke-width: 0.6\"/>\n      </g>\n     </g>\n    </g>\n    <g id=\"ytick_17\">\n     <g id=\"line2d_23\">\n      <g>\n       <use xlink:href=\"#m550219100d\" x=\"37.7\" y=\"74.105704\" style=\"stroke: #000000; stroke-width: 0.6\"/>\n      </g>\n     </g>\n    </g>\n    <g id=\"ytick_18\">\n     <g id=\"line2d_24\">\n      <g>\n       <use xlink:href=\"#m550219100d\" x=\"37.7\" y=\"71.845814\" style=\"stroke: #000000; stroke-width: 0.6\"/>\n      </g>\n     </g>\n    </g>\n    <g id=\"ytick_19\">\n     <g id=\"line2d_25\">\n      <g>\n       <use xlink:href=\"#m550219100d\" x=\"37.7\" y=\"69.85245\" style=\"stroke: #000000; stroke-width: 0.6\"/>\n      </g>\n     </g>\n    </g>\n    <g id=\"ytick_20\">\n     <g id=\"line2d_26\">\n      <g>\n       <use xlink:href=\"#m550219100d\" x=\"37.7\" y=\"56.338478\" style=\"stroke: #000000; stroke-width: 0.6\"/>\n      </g>\n     </g>\n    </g>\n    <g id=\"ytick_21\">\n     <g id=\"line2d_27\">\n      <g>\n       <use xlink:href=\"#m550219100d\" x=\"37.7\" y=\"49.476373\" style=\"stroke: #000000; stroke-width: 0.6\"/>\n      </g>\n     </g>\n    </g>\n    <g id=\"ytick_22\">\n     <g id=\"line2d_28\">\n      <g>\n       <use xlink:href=\"#m550219100d\" x=\"37.7\" y=\"44.607631\" style=\"stroke: #000000; stroke-width: 0.6\"/>\n      </g>\n     </g>\n    </g>\n    <g id=\"ytick_23\">\n     <g id=\"line2d_29\">\n      <g>\n       <use xlink:href=\"#m550219100d\" x=\"37.7\" y=\"40.831142\" style=\"stroke: #000000; stroke-width: 0.6\"/>\n      </g>\n     </g>\n    </g>\n    <g id=\"ytick_24\">\n     <g id=\"line2d_30\">\n      <g>\n       <use xlink:href=\"#m550219100d\" x=\"37.7\" y=\"37.745526\" style=\"stroke: #000000; stroke-width: 0.6\"/>\n      </g>\n     </g>\n    </g>\n    <g id=\"ytick_25\">\n     <g id=\"line2d_31\">\n      <g>\n       <use xlink:href=\"#m550219100d\" x=\"37.7\" y=\"35.136674\" style=\"stroke: #000000; stroke-width: 0.6\"/>\n      </g>\n     </g>\n    </g>\n    <g id=\"ytick_26\">\n     <g id=\"line2d_32\">\n      <g>\n       <use xlink:href=\"#m550219100d\" x=\"37.7\" y=\"32.876784\" style=\"stroke: #000000; stroke-width: 0.6\"/>\n      </g>\n     </g>\n    </g>\n    <g id=\"ytick_27\">\n     <g id=\"line2d_33\">\n      <g>\n       <use xlink:href=\"#m550219100d\" x=\"37.7\" y=\"30.88342\" style=\"stroke: #000000; stroke-width: 0.6\"/>\n      </g>\n     </g>\n    </g>\n    <g id=\"ytick_28\">\n     <g id=\"line2d_34\">\n      <g>\n       <use xlink:href=\"#m550219100d\" x=\"37.7\" y=\"17.369448\" style=\"stroke: #000000; stroke-width: 0.6\"/>\n      </g>\n     </g>\n    </g>\n    <g id=\"ytick_29\">\n     <g id=\"line2d_35\">\n      <g>\n       <use xlink:href=\"#m550219100d\" x=\"37.7\" y=\"10.507343\" style=\"stroke: #000000; stroke-width: 0.6\"/>\n      </g>\n     </g>\n    </g>\n   </g>\n   <g id=\"line2d_36\">\n    <path d=\"M 40.14125 33.524632 \n\" clip-path=\"url(#pc33a5aa644)\" style=\"fill: none; stroke: #1f77b4; stroke-width: 1.5; stroke-linecap: square\"/>\n   </g>\n   <g id=\"line2d_37\">\n    <path d=\"M 40.14125 33.524632 \nL 49.90625 19.880311 \n\" clip-path=\"url(#pc33a5aa644)\" style=\"fill: none; stroke: #1f77b4; stroke-width: 1.5; stroke-linecap: square\"/>\n   </g>\n   <g id=\"line2d_38\">\n    <path d=\"M 40.14125 33.524632 \nL 49.90625 19.880311 \n\" clip-path=\"url(#pc33a5aa644)\" style=\"fill: none; stroke: #1f77b4; stroke-width: 1.5; stroke-linecap: square\"/>\n   </g>\n   <g id=\"line2d_39\">\n    <path d=\"M 57.23 13.5 \n\" clip-path=\"url(#pc33a5aa644)\" style=\"fill: none; stroke-dasharray: 5.55,2.4; stroke-dashoffset: 0; stroke: #ff7f0e; stroke-width: 1.5\"/>\n   </g>\n   <g id=\"line2d_40\">\n    <path d=\"M 40.14125 33.524632 \nL 49.90625 19.880311 \nL 59.67125 40.717613 \n\" clip-path=\"url(#pc33a5aa644)\" style=\"fill: none; stroke: #1f77b4; stroke-width: 1.5; stroke-linecap: square\"/>\n   </g>\n   <g id=\"line2d_41\">\n    <path d=\"M 57.23 13.5 \n\" clip-path=\"url(#pc33a5aa644)\" style=\"fill: none; stroke-dasharray: 5.55,2.4; stroke-dashoffset: 0; stroke: #ff7f0e; stroke-width: 1.5\"/>\n   </g>\n   <g id=\"line2d_42\">\n    <path d=\"M 40.14125 33.524632 \nL 49.90625 19.880311 \nL 59.67125 40.717613 \nL 69.43625 46.729128 \n\" clip-path=\"url(#pc33a5aa644)\" style=\"fill: none; stroke: #1f77b4; stroke-width: 1.5; stroke-linecap: square\"/>\n   </g>\n   <g id=\"line2d_43\">\n    <path d=\"M 57.23 13.5 \n\" clip-path=\"url(#pc33a5aa644)\" style=\"fill: none; stroke-dasharray: 5.55,2.4; stroke-dashoffset: 0; stroke: #ff7f0e; stroke-width: 1.5\"/>\n   </g>\n   <g id=\"line2d_44\">\n    <path d=\"M 40.14125 33.524632 \nL 49.90625 19.880311 \nL 59.67125 40.717613 \nL 69.43625 46.729128 \n\" clip-path=\"url(#pc33a5aa644)\" style=\"fill: none; stroke: #1f77b4; stroke-width: 1.5; stroke-linecap: square\"/>\n   </g>\n   <g id=\"line2d_45\">\n    <path d=\"M 57.23 13.5 \nL 76.76 13.537634 \n\" clip-path=\"url(#pc33a5aa644)\" style=\"fill: none; stroke-dasharray: 5.55,2.4; stroke-dashoffset: 0; stroke: #ff7f0e; stroke-width: 1.5\"/>\n   </g>\n   <g id=\"line2d_46\">\n    <path d=\"M 40.14125 33.524632 \nL 49.90625 19.880311 \nL 59.67125 40.717613 \nL 69.43625 46.729128 \nL 79.20125 66.621784 \n\" clip-path=\"url(#pc33a5aa644)\" style=\"fill: none; stroke: #1f77b4; stroke-width: 1.5; stroke-linecap: square\"/>\n   </g>\n   <g id=\"line2d_47\">\n    <path d=\"M 57.23 13.5 \nL 76.76 13.537634 \n\" clip-path=\"url(#pc33a5aa644)\" style=\"fill: none; stroke-dasharray: 5.55,2.4; stroke-dashoffset: 0; stroke: #ff7f0e; stroke-width: 1.5\"/>\n   </g>\n   <g id=\"line2d_48\">\n    <path d=\"M 40.14125 33.524632 \nL 49.90625 19.880311 \nL 59.67125 40.717613 \nL 69.43625 46.729128 \nL 79.20125 66.621784 \nL 88.96625 54.435864 \n\" clip-path=\"url(#pc33a5aa644)\" style=\"fill: none; stroke: #1f77b4; stroke-width: 1.5; stroke-linecap: square\"/>\n   </g>\n   <g id=\"line2d_49\">\n    <path d=\"M 57.23 13.5 \nL 76.76 13.537634 \n\" clip-path=\"url(#pc33a5aa644)\" style=\"fill: none; stroke-dasharray: 5.55,2.4; stroke-dashoffset: 0; stroke: #ff7f0e; stroke-width: 1.5\"/>\n   </g>\n   <g id=\"line2d_50\">\n    <path d=\"M 40.14125 33.524632 \nL 49.90625 19.880311 \nL 59.67125 40.717613 \nL 69.43625 46.729128 \nL 79.20125 66.621784 \nL 88.96625 54.435864 \n\" clip-path=\"url(#pc33a5aa644)\" style=\"fill: none; stroke: #1f77b4; stroke-width: 1.5; stroke-linecap: square\"/>\n   </g>\n   <g id=\"line2d_51\">\n    <path d=\"M 57.23 13.5 \nL 76.76 13.537634 \nL 96.29 13.538034 \n\" clip-path=\"url(#pc33a5aa644)\" style=\"fill: none; stroke-dasharray: 5.55,2.4; stroke-dashoffset: 0; stroke: #ff7f0e; stroke-width: 1.5\"/>\n   </g>\n   <g id=\"line2d_52\">\n    <path d=\"M 40.14125 33.524632 \nL 49.90625 19.880311 \nL 59.67125 40.717613 \nL 69.43625 46.729128 \nL 79.20125 66.621784 \nL 88.96625 54.435864 \nL 98.73125 71.902859 \n\" clip-path=\"url(#pc33a5aa644)\" style=\"fill: none; stroke: #1f77b4; stroke-width: 1.5; stroke-linecap: square\"/>\n   </g>\n   <g id=\"line2d_53\">\n    <path d=\"M 57.23 13.5 \nL 76.76 13.537634 \nL 96.29 13.538034 \n\" clip-path=\"url(#pc33a5aa644)\" style=\"fill: none; stroke-dasharray: 5.55,2.4; stroke-dashoffset: 0; stroke: #ff7f0e; stroke-width: 1.5\"/>\n   </g>\n   <g id=\"line2d_54\">\n    <path d=\"M 40.14125 33.524632 \nL 49.90625 19.880311 \nL 59.67125 40.717613 \nL 69.43625 46.729128 \nL 79.20125 66.621784 \nL 88.96625 54.435864 \nL 98.73125 71.902859 \nL 108.49625 71.886396 \n\" clip-path=\"url(#pc33a5aa644)\" style=\"fill: none; stroke: #1f77b4; stroke-width: 1.5; stroke-linecap: square\"/>\n   </g>\n   <g id=\"line2d_55\">\n    <path d=\"M 57.23 13.5 \nL 76.76 13.537634 \nL 96.29 13.538034 \n\" clip-path=\"url(#pc33a5aa644)\" style=\"fill: none; stroke-dasharray: 5.55,2.4; stroke-dashoffset: 0; stroke: #ff7f0e; stroke-width: 1.5\"/>\n   </g>\n   <g id=\"line2d_56\">\n    <path d=\"M 40.14125 33.524632 \nL 49.90625 19.880311 \nL 59.67125 40.717613 \nL 69.43625 46.729128 \nL 79.20125 66.621784 \nL 88.96625 54.435864 \nL 98.73125 71.902859 \nL 108.49625 71.886396 \n\" clip-path=\"url(#pc33a5aa644)\" style=\"fill: none; stroke: #1f77b4; stroke-width: 1.5; stroke-linecap: square\"/>\n   </g>\n   <g id=\"line2d_57\">\n    <path d=\"M 57.23 13.5 \nL 76.76 13.537634 \nL 96.29 13.538034 \nL 115.82 13.538498 \n\" clip-path=\"url(#pc33a5aa644)\" style=\"fill: none; stroke-dasharray: 5.55,2.4; stroke-dashoffset: 0; stroke: #ff7f0e; stroke-width: 1.5\"/>\n   </g>\n   <g id=\"line2d_58\">\n    <path d=\"M 40.14125 33.524632 \nL 49.90625 19.880311 \nL 59.67125 40.717613 \nL 69.43625 46.729128 \nL 79.20125 66.621784 \nL 88.96625 54.435864 \nL 98.73125 71.902859 \nL 108.49625 71.886396 \nL 118.26125 84.479281 \n\" clip-path=\"url(#pc33a5aa644)\" style=\"fill: none; stroke: #1f77b4; stroke-width: 1.5; stroke-linecap: square\"/>\n   </g>\n   <g id=\"line2d_59\">\n    <path d=\"M 57.23 13.5 \nL 76.76 13.537634 \nL 96.29 13.538034 \nL 115.82 13.538498 \n\" clip-path=\"url(#pc33a5aa644)\" style=\"fill: none; stroke-dasharray: 5.55,2.4; stroke-dashoffset: 0; stroke: #ff7f0e; stroke-width: 1.5\"/>\n   </g>\n   <g id=\"line2d_60\">\n    <path d=\"M 40.14125 33.524632 \nL 49.90625 19.880311 \nL 59.67125 40.717613 \nL 69.43625 46.729128 \nL 79.20125 66.621784 \nL 88.96625 54.435864 \nL 98.73125 71.902859 \nL 108.49625 71.886396 \nL 118.26125 84.479281 \nL 128.02625 84.764654 \n\" clip-path=\"url(#pc33a5aa644)\" style=\"fill: none; stroke: #1f77b4; stroke-width: 1.5; stroke-linecap: square\"/>\n   </g>\n   <g id=\"line2d_61\">\n    <path d=\"M 57.23 13.5 \nL 76.76 13.537634 \nL 96.29 13.538034 \nL 115.82 13.538498 \n\" clip-path=\"url(#pc33a5aa644)\" style=\"fill: none; stroke-dasharray: 5.55,2.4; stroke-dashoffset: 0; stroke: #ff7f0e; stroke-width: 1.5\"/>\n   </g>\n   <g id=\"line2d_62\">\n    <path d=\"M 40.14125 33.524632 \nL 49.90625 19.880311 \nL 59.67125 40.717613 \nL 69.43625 46.729128 \nL 79.20125 66.621784 \nL 88.96625 54.435864 \nL 98.73125 71.902859 \nL 108.49625 71.886396 \nL 118.26125 84.479281 \nL 128.02625 84.764654 \n\" clip-path=\"url(#pc33a5aa644)\" style=\"fill: none; stroke: #1f77b4; stroke-width: 1.5; stroke-linecap: square\"/>\n   </g>\n   <g id=\"line2d_63\">\n    <path d=\"M 57.23 13.5 \nL 76.76 13.537634 \nL 96.29 13.538034 \nL 115.82 13.538498 \nL 135.35 13.543344 \n\" clip-path=\"url(#pc33a5aa644)\" style=\"fill: none; stroke-dasharray: 5.55,2.4; stroke-dashoffset: 0; stroke: #ff7f0e; stroke-width: 1.5\"/>\n   </g>\n   <g id=\"line2d_64\">\n    <path d=\"M 40.14125 33.524632 \nL 49.90625 19.880311 \nL 59.67125 40.717613 \nL 69.43625 46.729128 \nL 79.20125 66.621784 \nL 88.96625 54.435864 \nL 98.73125 71.902859 \nL 108.49625 71.886396 \nL 118.26125 84.479281 \nL 128.02625 84.764654 \nL 137.79125 95.322926 \n\" clip-path=\"url(#pc33a5aa644)\" style=\"fill: none; stroke: #1f77b4; stroke-width: 1.5; stroke-linecap: square\"/>\n   </g>\n   <g id=\"line2d_65\">\n    <path d=\"M 57.23 13.5 \nL 76.76 13.537634 \nL 96.29 13.538034 \nL 115.82 13.538498 \nL 135.35 13.543344 \n\" clip-path=\"url(#pc33a5aa644)\" style=\"fill: none; stroke-dasharray: 5.55,2.4; stroke-dashoffset: 0; stroke: #ff7f0e; stroke-width: 1.5\"/>\n   </g>\n   <g id=\"line2d_66\">\n    <path d=\"M 40.14125 33.524632 \nL 49.90625 19.880311 \nL 59.67125 40.717613 \nL 69.43625 46.729128 \nL 79.20125 66.621784 \nL 88.96625 54.435864 \nL 98.73125 71.902859 \nL 108.49625 71.886396 \nL 118.26125 84.479281 \nL 128.02625 84.764654 \nL 137.79125 95.322926 \nL 147.55625 95.40991 \n\" clip-path=\"url(#pc33a5aa644)\" style=\"fill: none; stroke: #1f77b4; stroke-width: 1.5; stroke-linecap: square\"/>\n   </g>\n   <g id=\"line2d_67\">\n    <path d=\"M 57.23 13.5 \nL 76.76 13.537634 \nL 96.29 13.538034 \nL 115.82 13.538498 \nL 135.35 13.543344 \n\" clip-path=\"url(#pc33a5aa644)\" style=\"fill: none; stroke-dasharray: 5.55,2.4; stroke-dashoffset: 0; stroke: #ff7f0e; stroke-width: 1.5\"/>\n   </g>\n   <g id=\"line2d_68\">\n    <path d=\"M 40.14125 33.524632 \nL 49.90625 19.880311 \nL 59.67125 40.717613 \nL 69.43625 46.729128 \nL 79.20125 66.621784 \nL 88.96625 54.435864 \nL 98.73125 71.902859 \nL 108.49625 71.886396 \nL 118.26125 84.479281 \nL 128.02625 84.764654 \nL 137.79125 95.322926 \nL 147.55625 95.40991 \n\" clip-path=\"url(#pc33a5aa644)\" style=\"fill: none; stroke: #1f77b4; stroke-width: 1.5; stroke-linecap: square\"/>\n   </g>\n   <g id=\"line2d_69\">\n    <path d=\"M 57.23 13.5 \nL 76.76 13.537634 \nL 96.29 13.538034 \nL 115.82 13.538498 \nL 135.35 13.543344 \nL 154.88 13.540115 \n\" clip-path=\"url(#pc33a5aa644)\" style=\"fill: none; stroke-dasharray: 5.55,2.4; stroke-dashoffset: 0; stroke: #ff7f0e; stroke-width: 1.5\"/>\n   </g>\n   <g id=\"line2d_70\">\n    <path d=\"M 40.14125 33.524632 \nL 49.90625 19.880311 \nL 59.67125 40.717613 \nL 69.43625 46.729128 \nL 79.20125 66.621784 \nL 88.96625 54.435864 \nL 98.73125 71.902859 \nL 108.49625 71.886396 \nL 118.26125 84.479281 \nL 128.02625 84.764654 \nL 137.79125 95.322926 \nL 147.55625 95.40991 \nL 157.32125 106.981674 \n\" clip-path=\"url(#pc33a5aa644)\" style=\"fill: none; stroke: #1f77b4; stroke-width: 1.5; stroke-linecap: square\"/>\n   </g>\n   <g id=\"line2d_71\">\n    <path d=\"M 57.23 13.5 \nL 76.76 13.537634 \nL 96.29 13.538034 \nL 115.82 13.538498 \nL 135.35 13.543344 \nL 154.88 13.540115 \n\" clip-path=\"url(#pc33a5aa644)\" style=\"fill: none; stroke-dasharray: 5.55,2.4; stroke-dashoffset: 0; stroke: #ff7f0e; stroke-width: 1.5\"/>\n   </g>\n   <g id=\"line2d_72\">\n    <path d=\"M 40.14125 33.524632 \nL 49.90625 19.880311 \nL 59.67125 40.717613 \nL 69.43625 46.729128 \nL 79.20125 66.621784 \nL 88.96625 54.435864 \nL 98.73125 71.902859 \nL 108.49625 71.886396 \nL 118.26125 84.479281 \nL 128.02625 84.764654 \nL 137.79125 95.322926 \nL 147.55625 95.40991 \nL 157.32125 106.981674 \nL 167.08625 106.953818 \n\" clip-path=\"url(#pc33a5aa644)\" style=\"fill: none; stroke: #1f77b4; stroke-width: 1.5; stroke-linecap: square\"/>\n   </g>\n   <g id=\"line2d_73\">\n    <path d=\"M 57.23 13.5 \nL 76.76 13.537634 \nL 96.29 13.538034 \nL 115.82 13.538498 \nL 135.35 13.543344 \nL 154.88 13.540115 \n\" clip-path=\"url(#pc33a5aa644)\" style=\"fill: none; stroke-dasharray: 5.55,2.4; stroke-dashoffset: 0; stroke: #ff7f0e; stroke-width: 1.5\"/>\n   </g>\n   <g id=\"line2d_74\">\n    <path d=\"M 40.14125 33.524632 \nL 49.90625 19.880311 \nL 59.67125 40.717613 \nL 69.43625 46.729128 \nL 79.20125 66.621784 \nL 88.96625 54.435864 \nL 98.73125 71.902859 \nL 108.49625 71.886396 \nL 118.26125 84.479281 \nL 128.02625 84.764654 \nL 137.79125 95.322926 \nL 147.55625 95.40991 \nL 157.32125 106.981674 \nL 167.08625 106.953818 \n\" clip-path=\"url(#pc33a5aa644)\" style=\"fill: none; stroke: #1f77b4; stroke-width: 1.5; stroke-linecap: square\"/>\n   </g>\n   <g id=\"line2d_75\">\n    <path d=\"M 57.23 13.5 \nL 76.76 13.537634 \nL 96.29 13.538034 \nL 115.82 13.538498 \nL 135.35 13.543344 \nL 154.88 13.540115 \nL 174.41 13.538823 \n\" clip-path=\"url(#pc33a5aa644)\" style=\"fill: none; stroke-dasharray: 5.55,2.4; stroke-dashoffset: 0; stroke: #ff7f0e; stroke-width: 1.5\"/>\n   </g>\n   <g id=\"line2d_76\">\n    <path d=\"M 40.14125 33.524632 \nL 49.90625 19.880311 \nL 59.67125 40.717613 \nL 69.43625 46.729128 \nL 79.20125 66.621784 \nL 88.96625 54.435864 \nL 98.73125 71.902859 \nL 108.49625 71.886396 \nL 118.26125 84.479281 \nL 128.02625 84.764654 \nL 137.79125 95.322926 \nL 147.55625 95.40991 \nL 157.32125 106.981674 \nL 167.08625 106.953818 \nL 176.85125 118.584937 \n\" clip-path=\"url(#pc33a5aa644)\" style=\"fill: none; stroke: #1f77b4; stroke-width: 1.5; stroke-linecap: square\"/>\n   </g>\n   <g id=\"line2d_77\">\n    <path d=\"M 57.23 13.5 \nL 76.76 13.537634 \nL 96.29 13.538034 \nL 115.82 13.538498 \nL 135.35 13.543344 \nL 154.88 13.540115 \nL 174.41 13.538823 \n\" clip-path=\"url(#pc33a5aa644)\" style=\"fill: none; stroke-dasharray: 5.55,2.4; stroke-dashoffset: 0; stroke: #ff7f0e; stroke-width: 1.5\"/>\n   </g>\n   <g id=\"line2d_78\">\n    <path d=\"M 40.14125 33.524632 \nL 49.90625 19.880311 \nL 59.67125 40.717613 \nL 69.43625 46.729128 \nL 79.20125 66.621784 \nL 88.96625 54.435864 \nL 98.73125 71.902859 \nL 108.49625 71.886396 \nL 118.26125 84.479281 \nL 128.02625 84.764654 \nL 137.79125 95.322926 \nL 147.55625 95.40991 \nL 157.32125 106.981674 \nL 167.08625 106.953818 \nL 176.85125 118.584937 \nL 186.61625 116.541943 \n\" clip-path=\"url(#pc33a5aa644)\" style=\"fill: none; stroke: #1f77b4; stroke-width: 1.5; stroke-linecap: square\"/>\n   </g>\n   <g id=\"line2d_79\">\n    <path d=\"M 57.23 13.5 \nL 76.76 13.537634 \nL 96.29 13.538034 \nL 115.82 13.538498 \nL 135.35 13.543344 \nL 154.88 13.540115 \nL 174.41 13.538823 \n\" clip-path=\"url(#pc33a5aa644)\" style=\"fill: none; stroke-dasharray: 5.55,2.4; stroke-dashoffset: 0; stroke: #ff7f0e; stroke-width: 1.5\"/>\n   </g>\n   <g id=\"line2d_80\">\n    <path d=\"M 40.14125 33.524632 \nL 49.90625 19.880311 \nL 59.67125 40.717613 \nL 69.43625 46.729128 \nL 79.20125 66.621784 \nL 88.96625 54.435864 \nL 98.73125 71.902859 \nL 108.49625 71.886396 \nL 118.26125 84.479281 \nL 128.02625 84.764654 \nL 137.79125 95.322926 \nL 147.55625 95.40991 \nL 157.32125 106.981674 \nL 167.08625 106.953818 \nL 176.85125 118.584937 \nL 186.61625 116.541943 \n\" clip-path=\"url(#pc33a5aa644)\" style=\"fill: none; stroke: #1f77b4; stroke-width: 1.5; stroke-linecap: square\"/>\n   </g>\n   <g id=\"line2d_81\">\n    <path d=\"M 57.23 13.5 \nL 76.76 13.537634 \nL 96.29 13.538034 \nL 115.82 13.538498 \nL 135.35 13.543344 \nL 154.88 13.540115 \nL 174.41 13.538823 \nL 193.94 13.539652 \n\" clip-path=\"url(#pc33a5aa644)\" style=\"fill: none; stroke-dasharray: 5.55,2.4; stroke-dashoffset: 0; stroke: #ff7f0e; stroke-width: 1.5\"/>\n   </g>\n   <g id=\"line2d_82\">\n    <path d=\"M 40.14125 33.524632 \nL 49.90625 19.880311 \nL 59.67125 40.717613 \nL 69.43625 46.729128 \nL 79.20125 66.621784 \nL 88.96625 54.435864 \nL 98.73125 71.902859 \nL 108.49625 71.886396 \nL 118.26125 84.479281 \nL 128.02625 84.764654 \nL 137.79125 95.322926 \nL 147.55625 95.40991 \nL 157.32125 106.981674 \nL 167.08625 106.953818 \nL 176.85125 118.584937 \nL 186.61625 116.541943 \nL 196.38125 130.657531 \n\" clip-path=\"url(#pc33a5aa644)\" style=\"fill: none; stroke: #1f77b4; stroke-width: 1.5; stroke-linecap: square\"/>\n   </g>\n   <g id=\"line2d_83\">\n    <path d=\"M 57.23 13.5 \nL 76.76 13.537634 \nL 96.29 13.538034 \nL 115.82 13.538498 \nL 135.35 13.543344 \nL 154.88 13.540115 \nL 174.41 13.538823 \nL 193.94 13.539652 \n\" clip-path=\"url(#pc33a5aa644)\" style=\"fill: none; stroke-dasharray: 5.55,2.4; stroke-dashoffset: 0; stroke: #ff7f0e; stroke-width: 1.5\"/>\n   </g>\n   <g id=\"line2d_84\">\n    <path d=\"M 40.14125 33.524632 \nL 49.90625 19.880311 \nL 59.67125 40.717613 \nL 69.43625 46.729128 \nL 79.20125 66.621784 \nL 88.96625 54.435864 \nL 98.73125 71.902859 \nL 108.49625 71.886396 \nL 118.26125 84.479281 \nL 128.02625 84.764654 \nL 137.79125 95.322926 \nL 147.55625 95.40991 \nL 157.32125 106.981674 \nL 167.08625 106.953818 \nL 176.85125 118.584937 \nL 186.61625 116.541943 \nL 196.38125 130.657531 \nL 206.14625 126.11905 \n\" clip-path=\"url(#pc33a5aa644)\" style=\"fill: none; stroke: #1f77b4; stroke-width: 1.5; stroke-linecap: square\"/>\n   </g>\n   <g id=\"line2d_85\">\n    <path d=\"M 57.23 13.5 \nL 76.76 13.537634 \nL 96.29 13.538034 \nL 115.82 13.538498 \nL 135.35 13.543344 \nL 154.88 13.540115 \nL 174.41 13.538823 \nL 193.94 13.539652 \n\" clip-path=\"url(#pc33a5aa644)\" style=\"fill: none; stroke-dasharray: 5.55,2.4; stroke-dashoffset: 0; stroke: #ff7f0e; stroke-width: 1.5\"/>\n   </g>\n   <g id=\"line2d_86\">\n    <path d=\"M 40.14125 33.524632 \nL 49.90625 19.880311 \nL 59.67125 40.717613 \nL 69.43625 46.729128 \nL 79.20125 66.621784 \nL 88.96625 54.435864 \nL 98.73125 71.902859 \nL 108.49625 71.886396 \nL 118.26125 84.479281 \nL 128.02625 84.764654 \nL 137.79125 95.322926 \nL 147.55625 95.40991 \nL 157.32125 106.981674 \nL 167.08625 106.953818 \nL 176.85125 118.584937 \nL 186.61625 116.541943 \nL 196.38125 130.657531 \nL 206.14625 126.11905 \n\" clip-path=\"url(#pc33a5aa644)\" style=\"fill: none; stroke: #1f77b4; stroke-width: 1.5; stroke-linecap: square\"/>\n   </g>\n   <g id=\"line2d_87\">\n    <path d=\"M 57.23 13.5 \nL 76.76 13.537634 \nL 96.29 13.538034 \nL 115.82 13.538498 \nL 135.35 13.543344 \nL 154.88 13.540115 \nL 174.41 13.538823 \nL 193.94 13.539652 \nL 213.47 13.537162 \n\" clip-path=\"url(#pc33a5aa644)\" style=\"fill: none; stroke-dasharray: 5.55,2.4; stroke-dashoffset: 0; stroke: #ff7f0e; stroke-width: 1.5\"/>\n   </g>\n   <g id=\"line2d_88\">\n    <path d=\"M 40.14125 33.524632 \nL 49.90625 19.880311 \nL 59.67125 40.717613 \nL 69.43625 46.729128 \nL 79.20125 66.621784 \nL 88.96625 54.435864 \nL 98.73125 71.902859 \nL 108.49625 71.886396 \nL 118.26125 84.479281 \nL 128.02625 84.764654 \nL 137.79125 95.322926 \nL 147.55625 95.40991 \nL 157.32125 106.981674 \nL 167.08625 106.953818 \nL 176.85125 118.584937 \nL 186.61625 116.541943 \nL 196.38125 130.657531 \nL 206.14625 126.11905 \nL 215.91125 139.5 \n\" clip-path=\"url(#pc33a5aa644)\" style=\"fill: none; stroke: #1f77b4; stroke-width: 1.5; stroke-linecap: square\"/>\n   </g>\n   <g id=\"line2d_89\">\n    <path d=\"M 57.23 13.5 \nL 76.76 13.537634 \nL 96.29 13.538034 \nL 115.82 13.538498 \nL 135.35 13.543344 \nL 154.88 13.540115 \nL 174.41 13.538823 \nL 193.94 13.539652 \nL 213.47 13.537162 \n\" clip-path=\"url(#pc33a5aa644)\" style=\"fill: none; stroke-dasharray: 5.55,2.4; stroke-dashoffset: 0; stroke: #ff7f0e; stroke-width: 1.5\"/>\n   </g>\n   <g id=\"line2d_90\">\n    <path d=\"M 40.14125 33.524632 \nL 49.90625 19.880311 \nL 59.67125 40.717613 \nL 69.43625 46.729128 \nL 79.20125 66.621784 \nL 88.96625 54.435864 \nL 98.73125 71.902859 \nL 108.49625 71.886396 \nL 118.26125 84.479281 \nL 128.02625 84.764654 \nL 137.79125 95.322926 \nL 147.55625 95.40991 \nL 157.32125 106.981674 \nL 167.08625 106.953818 \nL 176.85125 118.584937 \nL 186.61625 116.541943 \nL 196.38125 130.657531 \nL 206.14625 126.11905 \nL 215.91125 139.5 \nL 225.67625 137.926978 \n\" clip-path=\"url(#pc33a5aa644)\" style=\"fill: none; stroke: #1f77b4; stroke-width: 1.5; stroke-linecap: square\"/>\n   </g>\n   <g id=\"line2d_91\">\n    <path d=\"M 57.23 13.5 \nL 76.76 13.537634 \nL 96.29 13.538034 \nL 115.82 13.538498 \nL 135.35 13.543344 \nL 154.88 13.540115 \nL 174.41 13.538823 \nL 193.94 13.539652 \nL 213.47 13.537162 \n\" clip-path=\"url(#pc33a5aa644)\" style=\"fill: none; stroke-dasharray: 5.55,2.4; stroke-dashoffset: 0; stroke: #ff7f0e; stroke-width: 1.5\"/>\n   </g>\n   <g id=\"line2d_92\">\n    <path d=\"M 40.14125 33.524632 \nL 49.90625 19.880311 \nL 59.67125 40.717613 \nL 69.43625 46.729128 \nL 79.20125 66.621784 \nL 88.96625 54.435864 \nL 98.73125 71.902859 \nL 108.49625 71.886396 \nL 118.26125 84.479281 \nL 128.02625 84.764654 \nL 137.79125 95.322926 \nL 147.55625 95.40991 \nL 157.32125 106.981674 \nL 167.08625 106.953818 \nL 176.85125 118.584937 \nL 186.61625 116.541943 \nL 196.38125 130.657531 \nL 206.14625 126.11905 \nL 215.91125 139.5 \nL 225.67625 137.926978 \n\" clip-path=\"url(#pc33a5aa644)\" style=\"fill: none; stroke: #1f77b4; stroke-width: 1.5; stroke-linecap: square\"/>\n   </g>\n   <g id=\"line2d_93\">\n    <path d=\"M 57.23 13.5 \nL 76.76 13.537634 \nL 96.29 13.538034 \nL 115.82 13.538498 \nL 135.35 13.543344 \nL 154.88 13.540115 \nL 174.41 13.538823 \nL 193.94 13.539652 \nL 213.47 13.537162 \nL 233 13.536213 \n\" clip-path=\"url(#pc33a5aa644)\" style=\"fill: none; stroke-dasharray: 5.55,2.4; stroke-dashoffset: 0; stroke: #ff7f0e; stroke-width: 1.5\"/>\n   </g>\n   <g id=\"patch_3\">\n    <path d=\"M 37.7 145.8 \nL 37.7 7.2 \n\" style=\"fill: none; stroke: #000000; stroke-width: 0.8; stroke-linejoin: miter; stroke-linecap: square\"/>\n   </g>\n   <g id=\"patch_4\">\n    <path d=\"M 233 145.8 \nL 233 7.2 \n\" style=\"fill: none; stroke: #000000; stroke-width: 0.8; stroke-linejoin: miter; stroke-linecap: square\"/>\n   </g>\n   <g id=\"patch_5\">\n    <path d=\"M 37.7 145.8 \nL 233 145.8 \n\" style=\"fill: none; stroke: #000000; stroke-width: 0.8; stroke-linejoin: miter; stroke-linecap: square\"/>\n   </g>\n   <g id=\"patch_6\">\n    <path d=\"M 37.7 7.2 \nL 233 7.2 \n\" style=\"fill: none; stroke: #000000; stroke-width: 0.8; stroke-linejoin: miter; stroke-linecap: square\"/>\n   </g>\n   <g id=\"legend_1\">\n    <g id=\"patch_7\">\n     <path d=\"M 44.7 140.8 \nL 124.290625 140.8 \nQ 126.290625 140.8 126.290625 138.8 \nL 126.290625 109.8875 \nQ 126.290625 107.8875 124.290625 107.8875 \nL 44.7 107.8875 \nQ 42.7 107.8875 42.7 109.8875 \nL 42.7 138.8 \nQ 42.7 140.8 44.7 140.8 \nz\n\" style=\"fill: #ffffff; opacity: 0.8; stroke: #cccccc; stroke-linejoin: miter\"/>\n    </g>\n    <g id=\"line2d_94\">\n     <path d=\"M 46.7 115.985938 \nL 56.7 115.985938 \nL 66.7 115.985938 \n\" style=\"fill: none; stroke: #1f77b4; stroke-width: 1.5; stroke-linecap: square\"/>\n    </g>\n    <g id=\"text_11\">\n     <!-- train_loss -->\n     <g transform=\"translate(74.7 119.485938) scale(0.1 -0.1)\">\n      <defs>\n       <path id=\"DejaVuSans-74\" d=\"M 1172 4494 \nL 1172 3500 \nL 2356 3500 \nL 2356 3053 \nL 1172 3053 \nL 1172 1153 \nQ 1172 725 1289 603 \nQ 1406 481 1766 481 \nL 2356 481 \nL 2356 0 \nL 1766 0 \nQ 1100 0 847 248 \nQ 594 497 594 1153 \nL 594 3053 \nL 172 3053 \nL 172 3500 \nL 594 3500 \nL 594 4494 \nL 1172 4494 \nz\n\" transform=\"scale(0.015625)\"/>\n       <path id=\"DejaVuSans-72\" d=\"M 2631 2963 \nQ 2534 3019 2420 3045 \nQ 2306 3072 2169 3072 \nQ 1681 3072 1420 2755 \nQ 1159 2438 1159 1844 \nL 1159 0 \nL 581 0 \nL 581 3500 \nL 1159 3500 \nL 1159 2956 \nQ 1341 3275 1631 3429 \nQ 1922 3584 2338 3584 \nQ 2397 3584 2469 3576 \nQ 2541 3569 2628 3553 \nL 2631 2963 \nz\n\" transform=\"scale(0.015625)\"/>\n       <path id=\"DejaVuSans-61\" d=\"M 2194 1759 \nQ 1497 1759 1228 1600 \nQ 959 1441 959 1056 \nQ 959 750 1161 570 \nQ 1363 391 1709 391 \nQ 2188 391 2477 730 \nQ 2766 1069 2766 1631 \nL 2766 1759 \nL 2194 1759 \nz\nM 3341 1997 \nL 3341 0 \nL 2766 0 \nL 2766 531 \nQ 2569 213 2275 61 \nQ 1981 -91 1556 -91 \nQ 1019 -91 701 211 \nQ 384 513 384 1019 \nQ 384 1609 779 1909 \nQ 1175 2209 1959 2209 \nL 2766 2209 \nL 2766 2266 \nQ 2766 2663 2505 2880 \nQ 2244 3097 1772 3097 \nQ 1472 3097 1187 3025 \nQ 903 2953 641 2809 \nL 641 3341 \nQ 956 3463 1253 3523 \nQ 1550 3584 1831 3584 \nQ 2591 3584 2966 3190 \nQ 3341 2797 3341 1997 \nz\n\" transform=\"scale(0.015625)\"/>\n       <path id=\"DejaVuSans-69\" d=\"M 603 3500 \nL 1178 3500 \nL 1178 0 \nL 603 0 \nL 603 3500 \nz\nM 603 4863 \nL 1178 4863 \nL 1178 4134 \nL 603 4134 \nL 603 4863 \nz\n\" transform=\"scale(0.015625)\"/>\n       <path id=\"DejaVuSans-6e\" d=\"M 3513 2113 \nL 3513 0 \nL 2938 0 \nL 2938 2094 \nQ 2938 2591 2744 2837 \nQ 2550 3084 2163 3084 \nQ 1697 3084 1428 2787 \nQ 1159 2491 1159 1978 \nL 1159 0 \nL 581 0 \nL 581 3500 \nL 1159 3500 \nL 1159 2956 \nQ 1366 3272 1645 3428 \nQ 1925 3584 2291 3584 \nQ 2894 3584 3203 3211 \nQ 3513 2838 3513 2113 \nz\n\" transform=\"scale(0.015625)\"/>\n       <path id=\"DejaVuSans-5f\" d=\"M 3263 -1063 \nL 3263 -1509 \nL -63 -1509 \nL -63 -1063 \nL 3263 -1063 \nz\n\" transform=\"scale(0.015625)\"/>\n       <path id=\"DejaVuSans-6c\" d=\"M 603 4863 \nL 1178 4863 \nL 1178 0 \nL 603 0 \nL 603 4863 \nz\n\" transform=\"scale(0.015625)\"/>\n       <path id=\"DejaVuSans-73\" d=\"M 2834 3397 \nL 2834 2853 \nQ 2591 2978 2328 3040 \nQ 2066 3103 1784 3103 \nQ 1356 3103 1142 2972 \nQ 928 2841 928 2578 \nQ 928 2378 1081 2264 \nQ 1234 2150 1697 2047 \nL 1894 2003 \nQ 2506 1872 2764 1633 \nQ 3022 1394 3022 966 \nQ 3022 478 2636 193 \nQ 2250 -91 1575 -91 \nQ 1294 -91 989 -36 \nQ 684 19 347 128 \nL 347 722 \nQ 666 556 975 473 \nQ 1284 391 1588 391 \nQ 1994 391 2212 530 \nQ 2431 669 2431 922 \nQ 2431 1156 2273 1281 \nQ 2116 1406 1581 1522 \nL 1381 1569 \nQ 847 1681 609 1914 \nQ 372 2147 372 2553 \nQ 372 3047 722 3315 \nQ 1072 3584 1716 3584 \nQ 2034 3584 2315 3537 \nQ 2597 3491 2834 3397 \nz\n\" transform=\"scale(0.015625)\"/>\n      </defs>\n      <use xlink:href=\"#DejaVuSans-74\"/>\n      <use xlink:href=\"#DejaVuSans-72\" x=\"39.208984\"/>\n      <use xlink:href=\"#DejaVuSans-61\" x=\"80.322266\"/>\n      <use xlink:href=\"#DejaVuSans-69\" x=\"141.601562\"/>\n      <use xlink:href=\"#DejaVuSans-6e\" x=\"169.384766\"/>\n      <use xlink:href=\"#DejaVuSans-5f\" x=\"232.763672\"/>\n      <use xlink:href=\"#DejaVuSans-6c\" x=\"282.763672\"/>\n      <use xlink:href=\"#DejaVuSans-6f\" x=\"310.546875\"/>\n      <use xlink:href=\"#DejaVuSans-73\" x=\"371.728516\"/>\n      <use xlink:href=\"#DejaVuSans-73\" x=\"423.828125\"/>\n     </g>\n    </g>\n    <g id=\"line2d_95\">\n     <path d=\"M 46.7 130.942188 \nL 56.7 130.942188 \nL 66.7 130.942188 \n\" style=\"fill: none; stroke-dasharray: 5.55,2.4; stroke-dashoffset: 0; stroke: #ff7f0e; stroke-width: 1.5\"/>\n    </g>\n    <g id=\"text_12\">\n     <!-- val_loss -->\n     <g transform=\"translate(74.7 134.442188) scale(0.1 -0.1)\">\n      <defs>\n       <path id=\"DejaVuSans-76\" d=\"M 191 3500 \nL 800 3500 \nL 1894 563 \nL 2988 3500 \nL 3597 3500 \nL 2284 0 \nL 1503 0 \nL 191 3500 \nz\n\" transform=\"scale(0.015625)\"/>\n      </defs>\n      <use xlink:href=\"#DejaVuSans-76\"/>\n      <use xlink:href=\"#DejaVuSans-61\" x=\"59.179688\"/>\n      <use xlink:href=\"#DejaVuSans-6c\" x=\"120.458984\"/>\n      <use xlink:href=\"#DejaVuSans-5f\" x=\"148.242188\"/>\n      <use xlink:href=\"#DejaVuSans-6c\" x=\"198.242188\"/>\n      <use xlink:href=\"#DejaVuSans-6f\" x=\"226.025391\"/>\n      <use xlink:href=\"#DejaVuSans-73\" x=\"287.207031\"/>\n      <use xlink:href=\"#DejaVuSans-73\" x=\"339.306641\"/>\n     </g>\n    </g>\n   </g>\n  </g>\n </g>\n <defs>\n  <clipPath id=\"pc33a5aa644\">\n   <rect x=\"37.7\" y=\"7.2\" width=\"195.3\" height=\"138.6\"/>\n  </clipPath>\n </defs>\n</svg>\n",
      "text/plain": [
       "<Figure size 350x250 with 1 Axes>"
      ]
     },
     "metadata": {},
     "output_type": "display_data"
    }
   ],
   "source": [
    "train_scratch(0)"
   ]
  },
  {
   "cell_type": "markdown",
   "id": "0d5bfa62",
   "metadata": {
    "origin_pos": 15
   },
   "source": [
    "### [**Using Weight Decay**]\n",
    "\n",
    "Below, we run with substantial weight decay.\n",
    "Note that the training error increases\n",
    "but the validation error decreases.\n",
    "This is precisely the effect\n",
    "we expect from regularization.\n"
   ]
  },
  {
   "cell_type": "code",
   "execution_count": 10,
   "id": "d0c2084f",
   "metadata": {
    "attributes": {
     "classes": [],
     "id": "",
     "n": "10"
    },
    "execution": {
     "iopub.execute_input": "2022-08-29T22:12:08.768297Z",
     "iopub.status.busy": "2022-08-29T22:12:08.767806Z",
     "iopub.status.idle": "2022-08-29T22:12:17.660296Z",
     "shell.execute_reply": "2022-08-29T22:12:17.659482Z"
    },
    "origin_pos": 16,
    "tab": [
     "pytorch"
    ]
   },
   "outputs": [
    {
     "name": "stdout",
     "output_type": "stream",
     "text": [
      "L2 norm of w: 0.0014380167704075575\n"
     ]
    },
    {
     "data": {
      "image/svg+xml": "<?xml version=\"1.0\" encoding=\"utf-8\" standalone=\"no\"?>\n<!DOCTYPE svg PUBLIC \"-//W3C//DTD SVG 1.1//EN\"\n  \"http://www.w3.org/Graphics/SVG/1.1/DTD/svg11.dtd\">\n<svg xmlns:xlink=\"http://www.w3.org/1999/xlink\" width=\"246.5625pt\" height=\"183.35625pt\" viewBox=\"0 0 246.5625 183.35625\" xmlns=\"http://www.w3.org/2000/svg\" version=\"1.1\">\n <metadata>\n  <rdf:RDF xmlns:dc=\"http://purl.org/dc/elements/1.1/\" xmlns:cc=\"http://creativecommons.org/ns#\" xmlns:rdf=\"http://www.w3.org/1999/02/22-rdf-syntax-ns#\">\n   <cc:Work>\n    <dc:type rdf:resource=\"http://purl.org/dc/dcmitype/StillImage\"/>\n    <dc:date>2022-12-11T10:33:41.163697</dc:date>\n    <dc:format>image/svg+xml</dc:format>\n    <dc:creator>\n     <cc:Agent>\n      <dc:title>Matplotlib v3.6.0, https://matplotlib.org/</dc:title>\n     </cc:Agent>\n    </dc:creator>\n   </cc:Work>\n  </rdf:RDF>\n </metadata>\n <defs>\n  <style type=\"text/css\">*{stroke-linejoin: round; stroke-linecap: butt}</style>\n </defs>\n <g id=\"figure_1\">\n  <g id=\"patch_1\">\n   <path d=\"M 0 183.35625 \nL 246.5625 183.35625 \nL 246.5625 0 \nL 0 0 \nz\n\" style=\"fill: #ffffff\"/>\n  </g>\n  <g id=\"axes_1\">\n   <g id=\"patch_2\">\n    <path d=\"M 37.7 145.8 \nL 233 145.8 \nL 233 7.2 \nL 37.7 7.2 \nz\n\" style=\"fill: #ffffff\"/>\n   </g>\n   <g id=\"matplotlib.axis_1\">\n    <g id=\"xtick_1\">\n     <g id=\"line2d_1\">\n      <defs>\n       <path id=\"m756ae6bf8e\" d=\"M 0 0 \nL 0 3.5 \n\" style=\"stroke: #000000; stroke-width: 0.8\"/>\n      </defs>\n      <g>\n       <use xlink:href=\"#m756ae6bf8e\" x=\"37.7\" y=\"145.8\" style=\"stroke: #000000; stroke-width: 0.8\"/>\n      </g>\n     </g>\n     <g id=\"text_1\">\n      <!-- 0 -->\n      <g transform=\"translate(34.51875 160.398438) scale(0.1 -0.1)\">\n       <defs>\n        <path id=\"DejaVuSans-30\" d=\"M 2034 4250 \nQ 1547 4250 1301 3770 \nQ 1056 3291 1056 2328 \nQ 1056 1369 1301 889 \nQ 1547 409 2034 409 \nQ 2525 409 2770 889 \nQ 3016 1369 3016 2328 \nQ 3016 3291 2770 3770 \nQ 2525 4250 2034 4250 \nz\nM 2034 4750 \nQ 2819 4750 3233 4129 \nQ 3647 3509 3647 2328 \nQ 3647 1150 3233 529 \nQ 2819 -91 2034 -91 \nQ 1250 -91 836 529 \nQ 422 1150 422 2328 \nQ 422 3509 836 4129 \nQ 1250 4750 2034 4750 \nz\n\" transform=\"scale(0.015625)\"/>\n       </defs>\n       <use xlink:href=\"#DejaVuSans-30\"/>\n      </g>\n     </g>\n    </g>\n    <g id=\"xtick_2\">\n     <g id=\"line2d_2\">\n      <g>\n       <use xlink:href=\"#m756ae6bf8e\" x=\"76.76\" y=\"145.8\" style=\"stroke: #000000; stroke-width: 0.8\"/>\n      </g>\n     </g>\n     <g id=\"text_2\">\n      <!-- 2 -->\n      <g transform=\"translate(73.57875 160.398438) scale(0.1 -0.1)\">\n       <defs>\n        <path id=\"DejaVuSans-32\" d=\"M 1228 531 \nL 3431 531 \nL 3431 0 \nL 469 0 \nL 469 531 \nQ 828 903 1448 1529 \nQ 2069 2156 2228 2338 \nQ 2531 2678 2651 2914 \nQ 2772 3150 2772 3378 \nQ 2772 3750 2511 3984 \nQ 2250 4219 1831 4219 \nQ 1534 4219 1204 4116 \nQ 875 4013 500 3803 \nL 500 4441 \nQ 881 4594 1212 4672 \nQ 1544 4750 1819 4750 \nQ 2544 4750 2975 4387 \nQ 3406 4025 3406 3419 \nQ 3406 3131 3298 2873 \nQ 3191 2616 2906 2266 \nQ 2828 2175 2409 1742 \nQ 1991 1309 1228 531 \nz\n\" transform=\"scale(0.015625)\"/>\n       </defs>\n       <use xlink:href=\"#DejaVuSans-32\"/>\n      </g>\n     </g>\n    </g>\n    <g id=\"xtick_3\">\n     <g id=\"line2d_3\">\n      <g>\n       <use xlink:href=\"#m756ae6bf8e\" x=\"115.82\" y=\"145.8\" style=\"stroke: #000000; stroke-width: 0.8\"/>\n      </g>\n     </g>\n     <g id=\"text_3\">\n      <!-- 4 -->\n      <g transform=\"translate(112.63875 160.398438) scale(0.1 -0.1)\">\n       <defs>\n        <path id=\"DejaVuSans-34\" d=\"M 2419 4116 \nL 825 1625 \nL 2419 1625 \nL 2419 4116 \nz\nM 2253 4666 \nL 3047 4666 \nL 3047 1625 \nL 3713 1625 \nL 3713 1100 \nL 3047 1100 \nL 3047 0 \nL 2419 0 \nL 2419 1100 \nL 313 1100 \nL 313 1709 \nL 2253 4666 \nz\n\" transform=\"scale(0.015625)\"/>\n       </defs>\n       <use xlink:href=\"#DejaVuSans-34\"/>\n      </g>\n     </g>\n    </g>\n    <g id=\"xtick_4\">\n     <g id=\"line2d_4\">\n      <g>\n       <use xlink:href=\"#m756ae6bf8e\" x=\"154.88\" y=\"145.8\" style=\"stroke: #000000; stroke-width: 0.8\"/>\n      </g>\n     </g>\n     <g id=\"text_4\">\n      <!-- 6 -->\n      <g transform=\"translate(151.69875 160.398438) scale(0.1 -0.1)\">\n       <defs>\n        <path id=\"DejaVuSans-36\" d=\"M 2113 2584 \nQ 1688 2584 1439 2293 \nQ 1191 2003 1191 1497 \nQ 1191 994 1439 701 \nQ 1688 409 2113 409 \nQ 2538 409 2786 701 \nQ 3034 994 3034 1497 \nQ 3034 2003 2786 2293 \nQ 2538 2584 2113 2584 \nz\nM 3366 4563 \nL 3366 3988 \nQ 3128 4100 2886 4159 \nQ 2644 4219 2406 4219 \nQ 1781 4219 1451 3797 \nQ 1122 3375 1075 2522 \nQ 1259 2794 1537 2939 \nQ 1816 3084 2150 3084 \nQ 2853 3084 3261 2657 \nQ 3669 2231 3669 1497 \nQ 3669 778 3244 343 \nQ 2819 -91 2113 -91 \nQ 1303 -91 875 529 \nQ 447 1150 447 2328 \nQ 447 3434 972 4092 \nQ 1497 4750 2381 4750 \nQ 2619 4750 2861 4703 \nQ 3103 4656 3366 4563 \nz\n\" transform=\"scale(0.015625)\"/>\n       </defs>\n       <use xlink:href=\"#DejaVuSans-36\"/>\n      </g>\n     </g>\n    </g>\n    <g id=\"xtick_5\">\n     <g id=\"line2d_5\">\n      <g>\n       <use xlink:href=\"#m756ae6bf8e\" x=\"193.94\" y=\"145.8\" style=\"stroke: #000000; stroke-width: 0.8\"/>\n      </g>\n     </g>\n     <g id=\"text_5\">\n      <!-- 8 -->\n      <g transform=\"translate(190.75875 160.398438) scale(0.1 -0.1)\">\n       <defs>\n        <path id=\"DejaVuSans-38\" d=\"M 2034 2216 \nQ 1584 2216 1326 1975 \nQ 1069 1734 1069 1313 \nQ 1069 891 1326 650 \nQ 1584 409 2034 409 \nQ 2484 409 2743 651 \nQ 3003 894 3003 1313 \nQ 3003 1734 2745 1975 \nQ 2488 2216 2034 2216 \nz\nM 1403 2484 \nQ 997 2584 770 2862 \nQ 544 3141 544 3541 \nQ 544 4100 942 4425 \nQ 1341 4750 2034 4750 \nQ 2731 4750 3128 4425 \nQ 3525 4100 3525 3541 \nQ 3525 3141 3298 2862 \nQ 3072 2584 2669 2484 \nQ 3125 2378 3379 2068 \nQ 3634 1759 3634 1313 \nQ 3634 634 3220 271 \nQ 2806 -91 2034 -91 \nQ 1263 -91 848 271 \nQ 434 634 434 1313 \nQ 434 1759 690 2068 \nQ 947 2378 1403 2484 \nz\nM 1172 3481 \nQ 1172 3119 1398 2916 \nQ 1625 2713 2034 2713 \nQ 2441 2713 2670 2916 \nQ 2900 3119 2900 3481 \nQ 2900 3844 2670 4047 \nQ 2441 4250 2034 4250 \nQ 1625 4250 1398 4047 \nQ 1172 3844 1172 3481 \nz\n\" transform=\"scale(0.015625)\"/>\n       </defs>\n       <use xlink:href=\"#DejaVuSans-38\"/>\n      </g>\n     </g>\n    </g>\n    <g id=\"xtick_6\">\n     <g id=\"line2d_6\">\n      <g>\n       <use xlink:href=\"#m756ae6bf8e\" x=\"233\" y=\"145.8\" style=\"stroke: #000000; stroke-width: 0.8\"/>\n      </g>\n     </g>\n     <g id=\"text_6\">\n      <!-- 10 -->\n      <g transform=\"translate(226.6375 160.398438) scale(0.1 -0.1)\">\n       <defs>\n        <path id=\"DejaVuSans-31\" d=\"M 794 531 \nL 1825 531 \nL 1825 4091 \nL 703 3866 \nL 703 4441 \nL 1819 4666 \nL 2450 4666 \nL 2450 531 \nL 3481 531 \nL 3481 0 \nL 794 0 \nL 794 531 \nz\n\" transform=\"scale(0.015625)\"/>\n       </defs>\n       <use xlink:href=\"#DejaVuSans-31\"/>\n       <use xlink:href=\"#DejaVuSans-30\" x=\"63.623047\"/>\n      </g>\n     </g>\n    </g>\n    <g id=\"text_7\">\n     <!-- epoch -->\n     <g transform=\"translate(120.121875 174.076563) scale(0.1 -0.1)\">\n      <defs>\n       <path id=\"DejaVuSans-65\" d=\"M 3597 1894 \nL 3597 1613 \nL 953 1613 \nQ 991 1019 1311 708 \nQ 1631 397 2203 397 \nQ 2534 397 2845 478 \nQ 3156 559 3463 722 \nL 3463 178 \nQ 3153 47 2828 -22 \nQ 2503 -91 2169 -91 \nQ 1331 -91 842 396 \nQ 353 884 353 1716 \nQ 353 2575 817 3079 \nQ 1281 3584 2069 3584 \nQ 2775 3584 3186 3129 \nQ 3597 2675 3597 1894 \nz\nM 3022 2063 \nQ 3016 2534 2758 2815 \nQ 2500 3097 2075 3097 \nQ 1594 3097 1305 2825 \nQ 1016 2553 972 2059 \nL 3022 2063 \nz\n\" transform=\"scale(0.015625)\"/>\n       <path id=\"DejaVuSans-70\" d=\"M 1159 525 \nL 1159 -1331 \nL 581 -1331 \nL 581 3500 \nL 1159 3500 \nL 1159 2969 \nQ 1341 3281 1617 3432 \nQ 1894 3584 2278 3584 \nQ 2916 3584 3314 3078 \nQ 3713 2572 3713 1747 \nQ 3713 922 3314 415 \nQ 2916 -91 2278 -91 \nQ 1894 -91 1617 61 \nQ 1341 213 1159 525 \nz\nM 3116 1747 \nQ 3116 2381 2855 2742 \nQ 2594 3103 2138 3103 \nQ 1681 3103 1420 2742 \nQ 1159 2381 1159 1747 \nQ 1159 1113 1420 752 \nQ 1681 391 2138 391 \nQ 2594 391 2855 752 \nQ 3116 1113 3116 1747 \nz\n\" transform=\"scale(0.015625)\"/>\n       <path id=\"DejaVuSans-6f\" d=\"M 1959 3097 \nQ 1497 3097 1228 2736 \nQ 959 2375 959 1747 \nQ 959 1119 1226 758 \nQ 1494 397 1959 397 \nQ 2419 397 2687 759 \nQ 2956 1122 2956 1747 \nQ 2956 2369 2687 2733 \nQ 2419 3097 1959 3097 \nz\nM 1959 3584 \nQ 2709 3584 3137 3096 \nQ 3566 2609 3566 1747 \nQ 3566 888 3137 398 \nQ 2709 -91 1959 -91 \nQ 1206 -91 779 398 \nQ 353 888 353 1747 \nQ 353 2609 779 3096 \nQ 1206 3584 1959 3584 \nz\n\" transform=\"scale(0.015625)\"/>\n       <path id=\"DejaVuSans-63\" d=\"M 3122 3366 \nL 3122 2828 \nQ 2878 2963 2633 3030 \nQ 2388 3097 2138 3097 \nQ 1578 3097 1268 2742 \nQ 959 2388 959 1747 \nQ 959 1106 1268 751 \nQ 1578 397 2138 397 \nQ 2388 397 2633 464 \nQ 2878 531 3122 666 \nL 3122 134 \nQ 2881 22 2623 -34 \nQ 2366 -91 2075 -91 \nQ 1284 -91 818 406 \nQ 353 903 353 1747 \nQ 353 2603 823 3093 \nQ 1294 3584 2113 3584 \nQ 2378 3584 2631 3529 \nQ 2884 3475 3122 3366 \nz\n\" transform=\"scale(0.015625)\"/>\n       <path id=\"DejaVuSans-68\" d=\"M 3513 2113 \nL 3513 0 \nL 2938 0 \nL 2938 2094 \nQ 2938 2591 2744 2837 \nQ 2550 3084 2163 3084 \nQ 1697 3084 1428 2787 \nQ 1159 2491 1159 1978 \nL 1159 0 \nL 581 0 \nL 581 4863 \nL 1159 4863 \nL 1159 2956 \nQ 1366 3272 1645 3428 \nQ 1925 3584 2291 3584 \nQ 2894 3584 3203 3211 \nQ 3513 2838 3513 2113 \nz\n\" transform=\"scale(0.015625)\"/>\n      </defs>\n      <use xlink:href=\"#DejaVuSans-65\"/>\n      <use xlink:href=\"#DejaVuSans-70\" x=\"61.523438\"/>\n      <use xlink:href=\"#DejaVuSans-6f\" x=\"125\"/>\n      <use xlink:href=\"#DejaVuSans-63\" x=\"186.181641\"/>\n      <use xlink:href=\"#DejaVuSans-68\" x=\"241.162109\"/>\n     </g>\n    </g>\n   </g>\n   <g id=\"matplotlib.axis_2\">\n    <g id=\"ytick_1\">\n     <g id=\"line2d_7\">\n      <defs>\n       <path id=\"mfb81eefdc6\" d=\"M 0 0 \nL -3.5 0 \n\" style=\"stroke: #000000; stroke-width: 0.8\"/>\n      </defs>\n      <g>\n       <use xlink:href=\"#mfb81eefdc6\" x=\"37.7\" y=\"102.965806\" style=\"stroke: #000000; stroke-width: 0.8\"/>\n      </g>\n     </g>\n     <g id=\"text_8\">\n      <!-- $\\mathdefault{10^{-2}}$ -->\n      <g transform=\"translate(7.2 106.765025) scale(0.1 -0.1)\">\n       <defs>\n        <path id=\"DejaVuSans-2212\" d=\"M 678 2272 \nL 4684 2272 \nL 4684 1741 \nL 678 1741 \nL 678 2272 \nz\n\" transform=\"scale(0.015625)\"/>\n       </defs>\n       <use xlink:href=\"#DejaVuSans-31\" transform=\"translate(0 0.765625)\"/>\n       <use xlink:href=\"#DejaVuSans-30\" transform=\"translate(63.623047 0.765625)\"/>\n       <use xlink:href=\"#DejaVuSans-2212\" transform=\"translate(128.203125 39.046875) scale(0.7)\"/>\n       <use xlink:href=\"#DejaVuSans-32\" transform=\"translate(186.855469 39.046875) scale(0.7)\"/>\n      </g>\n     </g>\n    </g>\n    <g id=\"ytick_2\">\n     <g id=\"line2d_8\">\n      <defs>\n       <path id=\"mf19b2f6182\" d=\"M 0 0 \nL -2 0 \n\" style=\"stroke: #000000; stroke-width: 0.6\"/>\n      </defs>\n      <g>\n       <use xlink:href=\"#mf19b2f6182\" x=\"37.7\" y=\"142.028404\" style=\"stroke: #000000; stroke-width: 0.6\"/>\n      </g>\n     </g>\n    </g>\n    <g id=\"ytick_3\">\n     <g id=\"line2d_9\">\n      <g>\n       <use xlink:href=\"#mf19b2f6182\" x=\"37.7\" y=\"131.753596\" style=\"stroke: #000000; stroke-width: 0.6\"/>\n      </g>\n     </g>\n    </g>\n    <g id=\"ytick_4\">\n     <g id=\"line2d_10\">\n      <g>\n       <use xlink:href=\"#mf19b2f6182\" x=\"37.7\" y=\"123.066371\" style=\"stroke: #000000; stroke-width: 0.6\"/>\n      </g>\n     </g>\n    </g>\n    <g id=\"ytick_5\">\n     <g id=\"line2d_11\">\n      <g>\n       <use xlink:href=\"#mf19b2f6182\" x=\"37.7\" y=\"115.541154\" style=\"stroke: #000000; stroke-width: 0.6\"/>\n      </g>\n     </g>\n    </g>\n    <g id=\"ytick_6\">\n     <g id=\"line2d_12\">\n      <g>\n       <use xlink:href=\"#mf19b2f6182\" x=\"37.7\" y=\"108.903442\" style=\"stroke: #000000; stroke-width: 0.6\"/>\n      </g>\n     </g>\n    </g>\n    <g id=\"ytick_7\">\n     <g id=\"line2d_13\">\n      <g>\n       <use xlink:href=\"#mf19b2f6182\" x=\"37.7\" y=\"63.903209\" style=\"stroke: #000000; stroke-width: 0.6\"/>\n      </g>\n     </g>\n    </g>\n    <g id=\"ytick_8\">\n     <g id=\"line2d_14\">\n      <g>\n       <use xlink:href=\"#mf19b2f6182\" x=\"37.7\" y=\"41.053054\" style=\"stroke: #000000; stroke-width: 0.6\"/>\n      </g>\n     </g>\n    </g>\n    <g id=\"ytick_9\">\n     <g id=\"line2d_15\">\n      <g>\n       <use xlink:href=\"#mf19b2f6182\" x=\"37.7\" y=\"24.840612\" style=\"stroke: #000000; stroke-width: 0.6\"/>\n      </g>\n     </g>\n    </g>\n    <g id=\"ytick_10\">\n     <g id=\"line2d_16\">\n      <g>\n       <use xlink:href=\"#mf19b2f6182\" x=\"37.7\" y=\"12.265264\" style=\"stroke: #000000; stroke-width: 0.6\"/>\n      </g>\n     </g>\n    </g>\n   </g>\n   <g id=\"line2d_17\">\n    <path d=\"M 40.14125 16.010781 \n\" clip-path=\"url(#p7fab0de66f)\" style=\"fill: none; stroke: #1f77b4; stroke-width: 1.5; stroke-linecap: square\"/>\n   </g>\n   <g id=\"line2d_18\">\n    <path d=\"M 40.14125 16.010781 \nL 49.90625 13.5 \n\" clip-path=\"url(#p7fab0de66f)\" style=\"fill: none; stroke: #1f77b4; stroke-width: 1.5; stroke-linecap: square\"/>\n   </g>\n   <g id=\"line2d_19\">\n    <path d=\"M 40.14125 16.010781 \nL 49.90625 13.5 \n\" clip-path=\"url(#p7fab0de66f)\" style=\"fill: none; stroke: #1f77b4; stroke-width: 1.5; stroke-linecap: square\"/>\n   </g>\n   <g id=\"line2d_20\">\n    <path d=\"M 57.23 25.828771 \n\" clip-path=\"url(#p7fab0de66f)\" style=\"fill: none; stroke-dasharray: 5.55,2.4; stroke-dashoffset: 0; stroke: #ff7f0e; stroke-width: 1.5\"/>\n   </g>\n   <g id=\"line2d_21\">\n    <path d=\"M 40.14125 16.010781 \nL 49.90625 13.5 \nL 59.67125 44.469422 \n\" clip-path=\"url(#p7fab0de66f)\" style=\"fill: none; stroke: #1f77b4; stroke-width: 1.5; stroke-linecap: square\"/>\n   </g>\n   <g id=\"line2d_22\">\n    <path d=\"M 57.23 25.828771 \n\" clip-path=\"url(#p7fab0de66f)\" style=\"fill: none; stroke-dasharray: 5.55,2.4; stroke-dashoffset: 0; stroke: #ff7f0e; stroke-width: 1.5\"/>\n   </g>\n   <g id=\"line2d_23\">\n    <path d=\"M 40.14125 16.010781 \nL 49.90625 13.5 \nL 59.67125 44.469422 \nL 69.43625 50.150053 \n\" clip-path=\"url(#p7fab0de66f)\" style=\"fill: none; stroke: #1f77b4; stroke-width: 1.5; stroke-linecap: square\"/>\n   </g>\n   <g id=\"line2d_24\">\n    <path d=\"M 57.23 25.828771 \n\" clip-path=\"url(#p7fab0de66f)\" style=\"fill: none; stroke-dasharray: 5.55,2.4; stroke-dashoffset: 0; stroke: #ff7f0e; stroke-width: 1.5\"/>\n   </g>\n   <g id=\"line2d_25\">\n    <path d=\"M 40.14125 16.010781 \nL 49.90625 13.5 \nL 59.67125 44.469422 \nL 69.43625 50.150053 \n\" clip-path=\"url(#p7fab0de66f)\" style=\"fill: none; stroke: #1f77b4; stroke-width: 1.5; stroke-linecap: square\"/>\n   </g>\n   <g id=\"line2d_26\">\n    <path d=\"M 57.23 25.828771 \nL 76.76 35.592238 \n\" clip-path=\"url(#p7fab0de66f)\" style=\"fill: none; stroke-dasharray: 5.55,2.4; stroke-dashoffset: 0; stroke: #ff7f0e; stroke-width: 1.5\"/>\n   </g>\n   <g id=\"line2d_27\">\n    <path d=\"M 40.14125 16.010781 \nL 49.90625 13.5 \nL 59.67125 44.469422 \nL 69.43625 50.150053 \nL 79.20125 61.314671 \n\" clip-path=\"url(#p7fab0de66f)\" style=\"fill: none; stroke: #1f77b4; stroke-width: 1.5; stroke-linecap: square\"/>\n   </g>\n   <g id=\"line2d_28\">\n    <path d=\"M 57.23 25.828771 \nL 76.76 35.592238 \n\" clip-path=\"url(#p7fab0de66f)\" style=\"fill: none; stroke-dasharray: 5.55,2.4; stroke-dashoffset: 0; stroke: #ff7f0e; stroke-width: 1.5\"/>\n   </g>\n   <g id=\"line2d_29\">\n    <path d=\"M 40.14125 16.010781 \nL 49.90625 13.5 \nL 59.67125 44.469422 \nL 69.43625 50.150053 \nL 79.20125 61.314671 \nL 88.96625 72.202972 \n\" clip-path=\"url(#p7fab0de66f)\" style=\"fill: none; stroke: #1f77b4; stroke-width: 1.5; stroke-linecap: square\"/>\n   </g>\n   <g id=\"line2d_30\">\n    <path d=\"M 57.23 25.828771 \nL 76.76 35.592238 \n\" clip-path=\"url(#p7fab0de66f)\" style=\"fill: none; stroke-dasharray: 5.55,2.4; stroke-dashoffset: 0; stroke: #ff7f0e; stroke-width: 1.5\"/>\n   </g>\n   <g id=\"line2d_31\">\n    <path d=\"M 40.14125 16.010781 \nL 49.90625 13.5 \nL 59.67125 44.469422 \nL 69.43625 50.150053 \nL 79.20125 61.314671 \nL 88.96625 72.202972 \n\" clip-path=\"url(#p7fab0de66f)\" style=\"fill: none; stroke: #1f77b4; stroke-width: 1.5; stroke-linecap: square\"/>\n   </g>\n   <g id=\"line2d_32\">\n    <path d=\"M 57.23 25.828771 \nL 76.76 35.592238 \nL 96.29 44.074326 \n\" clip-path=\"url(#p7fab0de66f)\" style=\"fill: none; stroke-dasharray: 5.55,2.4; stroke-dashoffset: 0; stroke: #ff7f0e; stroke-width: 1.5\"/>\n   </g>\n   <g id=\"line2d_33\">\n    <path d=\"M 40.14125 16.010781 \nL 49.90625 13.5 \nL 59.67125 44.469422 \nL 69.43625 50.150053 \nL 79.20125 61.314671 \nL 88.96625 72.202972 \nL 98.73125 79.322618 \n\" clip-path=\"url(#p7fab0de66f)\" style=\"fill: none; stroke: #1f77b4; stroke-width: 1.5; stroke-linecap: square\"/>\n   </g>\n   <g id=\"line2d_34\">\n    <path d=\"M 57.23 25.828771 \nL 76.76 35.592238 \nL 96.29 44.074326 \n\" clip-path=\"url(#p7fab0de66f)\" style=\"fill: none; stroke-dasharray: 5.55,2.4; stroke-dashoffset: 0; stroke: #ff7f0e; stroke-width: 1.5\"/>\n   </g>\n   <g id=\"line2d_35\">\n    <path d=\"M 40.14125 16.010781 \nL 49.90625 13.5 \nL 59.67125 44.469422 \nL 69.43625 50.150053 \nL 79.20125 61.314671 \nL 88.96625 72.202972 \nL 98.73125 79.322618 \nL 108.49625 81.711545 \n\" clip-path=\"url(#p7fab0de66f)\" style=\"fill: none; stroke: #1f77b4; stroke-width: 1.5; stroke-linecap: square\"/>\n   </g>\n   <g id=\"line2d_36\">\n    <path d=\"M 57.23 25.828771 \nL 76.76 35.592238 \nL 96.29 44.074326 \n\" clip-path=\"url(#p7fab0de66f)\" style=\"fill: none; stroke-dasharray: 5.55,2.4; stroke-dashoffset: 0; stroke: #ff7f0e; stroke-width: 1.5\"/>\n   </g>\n   <g id=\"line2d_37\">\n    <path d=\"M 40.14125 16.010781 \nL 49.90625 13.5 \nL 59.67125 44.469422 \nL 69.43625 50.150053 \nL 79.20125 61.314671 \nL 88.96625 72.202972 \nL 98.73125 79.322618 \nL 108.49625 81.711545 \n\" clip-path=\"url(#p7fab0de66f)\" style=\"fill: none; stroke: #1f77b4; stroke-width: 1.5; stroke-linecap: square\"/>\n   </g>\n   <g id=\"line2d_38\">\n    <path d=\"M 57.23 25.828771 \nL 76.76 35.592238 \nL 96.29 44.074326 \nL 115.82 51.534606 \n\" clip-path=\"url(#p7fab0de66f)\" style=\"fill: none; stroke-dasharray: 5.55,2.4; stroke-dashoffset: 0; stroke: #ff7f0e; stroke-width: 1.5\"/>\n   </g>\n   <g id=\"line2d_39\">\n    <path d=\"M 40.14125 16.010781 \nL 49.90625 13.5 \nL 59.67125 44.469422 \nL 69.43625 50.150053 \nL 79.20125 61.314671 \nL 88.96625 72.202972 \nL 98.73125 79.322618 \nL 108.49625 81.711545 \nL 118.26125 90.95843 \n\" clip-path=\"url(#p7fab0de66f)\" style=\"fill: none; stroke: #1f77b4; stroke-width: 1.5; stroke-linecap: square\"/>\n   </g>\n   <g id=\"line2d_40\">\n    <path d=\"M 57.23 25.828771 \nL 76.76 35.592238 \nL 96.29 44.074326 \nL 115.82 51.534606 \n\" clip-path=\"url(#p7fab0de66f)\" style=\"fill: none; stroke-dasharray: 5.55,2.4; stroke-dashoffset: 0; stroke: #ff7f0e; stroke-width: 1.5\"/>\n   </g>\n   <g id=\"line2d_41\">\n    <path d=\"M 40.14125 16.010781 \nL 49.90625 13.5 \nL 59.67125 44.469422 \nL 69.43625 50.150053 \nL 79.20125 61.314671 \nL 88.96625 72.202972 \nL 98.73125 79.322618 \nL 108.49625 81.711545 \nL 118.26125 90.95843 \nL 128.02625 94.687355 \n\" clip-path=\"url(#p7fab0de66f)\" style=\"fill: none; stroke: #1f77b4; stroke-width: 1.5; stroke-linecap: square\"/>\n   </g>\n   <g id=\"line2d_42\">\n    <path d=\"M 57.23 25.828771 \nL 76.76 35.592238 \nL 96.29 44.074326 \nL 115.82 51.534606 \n\" clip-path=\"url(#p7fab0de66f)\" style=\"fill: none; stroke-dasharray: 5.55,2.4; stroke-dashoffset: 0; stroke: #ff7f0e; stroke-width: 1.5\"/>\n   </g>\n   <g id=\"line2d_43\">\n    <path d=\"M 40.14125 16.010781 \nL 49.90625 13.5 \nL 59.67125 44.469422 \nL 69.43625 50.150053 \nL 79.20125 61.314671 \nL 88.96625 72.202972 \nL 98.73125 79.322618 \nL 108.49625 81.711545 \nL 118.26125 90.95843 \nL 128.02625 94.687355 \n\" clip-path=\"url(#p7fab0de66f)\" style=\"fill: none; stroke: #1f77b4; stroke-width: 1.5; stroke-linecap: square\"/>\n   </g>\n   <g id=\"line2d_44\">\n    <path d=\"M 57.23 25.828771 \nL 76.76 35.592238 \nL 96.29 44.074326 \nL 115.82 51.534606 \nL 135.35 58.203497 \n\" clip-path=\"url(#p7fab0de66f)\" style=\"fill: none; stroke-dasharray: 5.55,2.4; stroke-dashoffset: 0; stroke: #ff7f0e; stroke-width: 1.5\"/>\n   </g>\n   <g id=\"line2d_45\">\n    <path d=\"M 40.14125 16.010781 \nL 49.90625 13.5 \nL 59.67125 44.469422 \nL 69.43625 50.150053 \nL 79.20125 61.314671 \nL 88.96625 72.202972 \nL 98.73125 79.322618 \nL 108.49625 81.711545 \nL 118.26125 90.95843 \nL 128.02625 94.687355 \nL 137.79125 103.058775 \n\" clip-path=\"url(#p7fab0de66f)\" style=\"fill: none; stroke: #1f77b4; stroke-width: 1.5; stroke-linecap: square\"/>\n   </g>\n   <g id=\"line2d_46\">\n    <path d=\"M 57.23 25.828771 \nL 76.76 35.592238 \nL 96.29 44.074326 \nL 115.82 51.534606 \nL 135.35 58.203497 \n\" clip-path=\"url(#p7fab0de66f)\" style=\"fill: none; stroke-dasharray: 5.55,2.4; stroke-dashoffset: 0; stroke: #ff7f0e; stroke-width: 1.5\"/>\n   </g>\n   <g id=\"line2d_47\">\n    <path d=\"M 40.14125 16.010781 \nL 49.90625 13.5 \nL 59.67125 44.469422 \nL 69.43625 50.150053 \nL 79.20125 61.314671 \nL 88.96625 72.202972 \nL 98.73125 79.322618 \nL 108.49625 81.711545 \nL 118.26125 90.95843 \nL 128.02625 94.687355 \nL 137.79125 103.058775 \nL 147.55625 104.020761 \n\" clip-path=\"url(#p7fab0de66f)\" style=\"fill: none; stroke: #1f77b4; stroke-width: 1.5; stroke-linecap: square\"/>\n   </g>\n   <g id=\"line2d_48\">\n    <path d=\"M 57.23 25.828771 \nL 76.76 35.592238 \nL 96.29 44.074326 \nL 115.82 51.534606 \nL 135.35 58.203497 \n\" clip-path=\"url(#p7fab0de66f)\" style=\"fill: none; stroke-dasharray: 5.55,2.4; stroke-dashoffset: 0; stroke: #ff7f0e; stroke-width: 1.5\"/>\n   </g>\n   <g id=\"line2d_49\">\n    <path d=\"M 40.14125 16.010781 \nL 49.90625 13.5 \nL 59.67125 44.469422 \nL 69.43625 50.150053 \nL 79.20125 61.314671 \nL 88.96625 72.202972 \nL 98.73125 79.322618 \nL 108.49625 81.711545 \nL 118.26125 90.95843 \nL 128.02625 94.687355 \nL 137.79125 103.058775 \nL 147.55625 104.020761 \n\" clip-path=\"url(#p7fab0de66f)\" style=\"fill: none; stroke: #1f77b4; stroke-width: 1.5; stroke-linecap: square\"/>\n   </g>\n   <g id=\"line2d_50\">\n    <path d=\"M 57.23 25.828771 \nL 76.76 35.592238 \nL 96.29 44.074326 \nL 115.82 51.534606 \nL 135.35 58.203497 \nL 154.88 63.943635 \n\" clip-path=\"url(#p7fab0de66f)\" style=\"fill: none; stroke-dasharray: 5.55,2.4; stroke-dashoffset: 0; stroke: #ff7f0e; stroke-width: 1.5\"/>\n   </g>\n   <g id=\"line2d_51\">\n    <path d=\"M 40.14125 16.010781 \nL 49.90625 13.5 \nL 59.67125 44.469422 \nL 69.43625 50.150053 \nL 79.20125 61.314671 \nL 88.96625 72.202972 \nL 98.73125 79.322618 \nL 108.49625 81.711545 \nL 118.26125 90.95843 \nL 128.02625 94.687355 \nL 137.79125 103.058775 \nL 147.55625 104.020761 \nL 157.32125 111.720488 \n\" clip-path=\"url(#p7fab0de66f)\" style=\"fill: none; stroke: #1f77b4; stroke-width: 1.5; stroke-linecap: square\"/>\n   </g>\n   <g id=\"line2d_52\">\n    <path d=\"M 57.23 25.828771 \nL 76.76 35.592238 \nL 96.29 44.074326 \nL 115.82 51.534606 \nL 135.35 58.203497 \nL 154.88 63.943635 \n\" clip-path=\"url(#p7fab0de66f)\" style=\"fill: none; stroke-dasharray: 5.55,2.4; stroke-dashoffset: 0; stroke: #ff7f0e; stroke-width: 1.5\"/>\n   </g>\n   <g id=\"line2d_53\">\n    <path d=\"M 40.14125 16.010781 \nL 49.90625 13.5 \nL 59.67125 44.469422 \nL 69.43625 50.150053 \nL 79.20125 61.314671 \nL 88.96625 72.202972 \nL 98.73125 79.322618 \nL 108.49625 81.711545 \nL 118.26125 90.95843 \nL 128.02625 94.687355 \nL 137.79125 103.058775 \nL 147.55625 104.020761 \nL 157.32125 111.720488 \nL 167.08625 116.160887 \n\" clip-path=\"url(#p7fab0de66f)\" style=\"fill: none; stroke: #1f77b4; stroke-width: 1.5; stroke-linecap: square\"/>\n   </g>\n   <g id=\"line2d_54\">\n    <path d=\"M 57.23 25.828771 \nL 76.76 35.592238 \nL 96.29 44.074326 \nL 115.82 51.534606 \nL 135.35 58.203497 \nL 154.88 63.943635 \n\" clip-path=\"url(#p7fab0de66f)\" style=\"fill: none; stroke-dasharray: 5.55,2.4; stroke-dashoffset: 0; stroke: #ff7f0e; stroke-width: 1.5\"/>\n   </g>\n   <g id=\"line2d_55\">\n    <path d=\"M 40.14125 16.010781 \nL 49.90625 13.5 \nL 59.67125 44.469422 \nL 69.43625 50.150053 \nL 79.20125 61.314671 \nL 88.96625 72.202972 \nL 98.73125 79.322618 \nL 108.49625 81.711545 \nL 118.26125 90.95843 \nL 128.02625 94.687355 \nL 137.79125 103.058775 \nL 147.55625 104.020761 \nL 157.32125 111.720488 \nL 167.08625 116.160887 \n\" clip-path=\"url(#p7fab0de66f)\" style=\"fill: none; stroke: #1f77b4; stroke-width: 1.5; stroke-linecap: square\"/>\n   </g>\n   <g id=\"line2d_56\">\n    <path d=\"M 57.23 25.828771 \nL 76.76 35.592238 \nL 96.29 44.074326 \nL 115.82 51.534606 \nL 135.35 58.203497 \nL 154.88 63.943635 \nL 174.41 69.118 \n\" clip-path=\"url(#p7fab0de66f)\" style=\"fill: none; stroke-dasharray: 5.55,2.4; stroke-dashoffset: 0; stroke: #ff7f0e; stroke-width: 1.5\"/>\n   </g>\n   <g id=\"line2d_57\">\n    <path d=\"M 40.14125 16.010781 \nL 49.90625 13.5 \nL 59.67125 44.469422 \nL 69.43625 50.150053 \nL 79.20125 61.314671 \nL 88.96625 72.202972 \nL 98.73125 79.322618 \nL 108.49625 81.711545 \nL 118.26125 90.95843 \nL 128.02625 94.687355 \nL 137.79125 103.058775 \nL 147.55625 104.020761 \nL 157.32125 111.720488 \nL 167.08625 116.160887 \nL 176.85125 121.719752 \n\" clip-path=\"url(#p7fab0de66f)\" style=\"fill: none; stroke: #1f77b4; stroke-width: 1.5; stroke-linecap: square\"/>\n   </g>\n   <g id=\"line2d_58\">\n    <path d=\"M 57.23 25.828771 \nL 76.76 35.592238 \nL 96.29 44.074326 \nL 115.82 51.534606 \nL 135.35 58.203497 \nL 154.88 63.943635 \nL 174.41 69.118 \n\" clip-path=\"url(#p7fab0de66f)\" style=\"fill: none; stroke-dasharray: 5.55,2.4; stroke-dashoffset: 0; stroke: #ff7f0e; stroke-width: 1.5\"/>\n   </g>\n   <g id=\"line2d_59\">\n    <path d=\"M 40.14125 16.010781 \nL 49.90625 13.5 \nL 59.67125 44.469422 \nL 69.43625 50.150053 \nL 79.20125 61.314671 \nL 88.96625 72.202972 \nL 98.73125 79.322618 \nL 108.49625 81.711545 \nL 118.26125 90.95843 \nL 128.02625 94.687355 \nL 137.79125 103.058775 \nL 147.55625 104.020761 \nL 157.32125 111.720488 \nL 167.08625 116.160887 \nL 176.85125 121.719752 \nL 186.61625 124.295173 \n\" clip-path=\"url(#p7fab0de66f)\" style=\"fill: none; stroke: #1f77b4; stroke-width: 1.5; stroke-linecap: square\"/>\n   </g>\n   <g id=\"line2d_60\">\n    <path d=\"M 57.23 25.828771 \nL 76.76 35.592238 \nL 96.29 44.074326 \nL 115.82 51.534606 \nL 135.35 58.203497 \nL 154.88 63.943635 \nL 174.41 69.118 \n\" clip-path=\"url(#p7fab0de66f)\" style=\"fill: none; stroke-dasharray: 5.55,2.4; stroke-dashoffset: 0; stroke: #ff7f0e; stroke-width: 1.5\"/>\n   </g>\n   <g id=\"line2d_61\">\n    <path d=\"M 40.14125 16.010781 \nL 49.90625 13.5 \nL 59.67125 44.469422 \nL 69.43625 50.150053 \nL 79.20125 61.314671 \nL 88.96625 72.202972 \nL 98.73125 79.322618 \nL 108.49625 81.711545 \nL 118.26125 90.95843 \nL 128.02625 94.687355 \nL 137.79125 103.058775 \nL 147.55625 104.020761 \nL 157.32125 111.720488 \nL 167.08625 116.160887 \nL 176.85125 121.719752 \nL 186.61625 124.295173 \n\" clip-path=\"url(#p7fab0de66f)\" style=\"fill: none; stroke: #1f77b4; stroke-width: 1.5; stroke-linecap: square\"/>\n   </g>\n   <g id=\"line2d_62\">\n    <path d=\"M 57.23 25.828771 \nL 76.76 35.592238 \nL 96.29 44.074326 \nL 115.82 51.534606 \nL 135.35 58.203497 \nL 154.88 63.943635 \nL 174.41 69.118 \nL 193.94 73.418881 \n\" clip-path=\"url(#p7fab0de66f)\" style=\"fill: none; stroke-dasharray: 5.55,2.4; stroke-dashoffset: 0; stroke: #ff7f0e; stroke-width: 1.5\"/>\n   </g>\n   <g id=\"line2d_63\">\n    <path d=\"M 40.14125 16.010781 \nL 49.90625 13.5 \nL 59.67125 44.469422 \nL 69.43625 50.150053 \nL 79.20125 61.314671 \nL 88.96625 72.202972 \nL 98.73125 79.322618 \nL 108.49625 81.711545 \nL 118.26125 90.95843 \nL 128.02625 94.687355 \nL 137.79125 103.058775 \nL 147.55625 104.020761 \nL 157.32125 111.720488 \nL 167.08625 116.160887 \nL 176.85125 121.719752 \nL 186.61625 124.295173 \nL 196.38125 132.075798 \n\" clip-path=\"url(#p7fab0de66f)\" style=\"fill: none; stroke: #1f77b4; stroke-width: 1.5; stroke-linecap: square\"/>\n   </g>\n   <g id=\"line2d_64\">\n    <path d=\"M 57.23 25.828771 \nL 76.76 35.592238 \nL 96.29 44.074326 \nL 115.82 51.534606 \nL 135.35 58.203497 \nL 154.88 63.943635 \nL 174.41 69.118 \nL 193.94 73.418881 \n\" clip-path=\"url(#p7fab0de66f)\" style=\"fill: none; stroke-dasharray: 5.55,2.4; stroke-dashoffset: 0; stroke: #ff7f0e; stroke-width: 1.5\"/>\n   </g>\n   <g id=\"line2d_65\">\n    <path d=\"M 40.14125 16.010781 \nL 49.90625 13.5 \nL 59.67125 44.469422 \nL 69.43625 50.150053 \nL 79.20125 61.314671 \nL 88.96625 72.202972 \nL 98.73125 79.322618 \nL 108.49625 81.711545 \nL 118.26125 90.95843 \nL 128.02625 94.687355 \nL 137.79125 103.058775 \nL 147.55625 104.020761 \nL 157.32125 111.720488 \nL 167.08625 116.160887 \nL 176.85125 121.719752 \nL 186.61625 124.295173 \nL 196.38125 132.075798 \nL 206.14625 130.571646 \n\" clip-path=\"url(#p7fab0de66f)\" style=\"fill: none; stroke: #1f77b4; stroke-width: 1.5; stroke-linecap: square\"/>\n   </g>\n   <g id=\"line2d_66\">\n    <path d=\"M 57.23 25.828771 \nL 76.76 35.592238 \nL 96.29 44.074326 \nL 115.82 51.534606 \nL 135.35 58.203497 \nL 154.88 63.943635 \nL 174.41 69.118 \nL 193.94 73.418881 \n\" clip-path=\"url(#p7fab0de66f)\" style=\"fill: none; stroke-dasharray: 5.55,2.4; stroke-dashoffset: 0; stroke: #ff7f0e; stroke-width: 1.5\"/>\n   </g>\n   <g id=\"line2d_67\">\n    <path d=\"M 40.14125 16.010781 \nL 49.90625 13.5 \nL 59.67125 44.469422 \nL 69.43625 50.150053 \nL 79.20125 61.314671 \nL 88.96625 72.202972 \nL 98.73125 79.322618 \nL 108.49625 81.711545 \nL 118.26125 90.95843 \nL 128.02625 94.687355 \nL 137.79125 103.058775 \nL 147.55625 104.020761 \nL 157.32125 111.720488 \nL 167.08625 116.160887 \nL 176.85125 121.719752 \nL 186.61625 124.295173 \nL 196.38125 132.075798 \nL 206.14625 130.571646 \n\" clip-path=\"url(#p7fab0de66f)\" style=\"fill: none; stroke: #1f77b4; stroke-width: 1.5; stroke-linecap: square\"/>\n   </g>\n   <g id=\"line2d_68\">\n    <path d=\"M 57.23 25.828771 \nL 76.76 35.592238 \nL 96.29 44.074326 \nL 115.82 51.534606 \nL 135.35 58.203497 \nL 154.88 63.943635 \nL 174.41 69.118 \nL 193.94 73.418881 \nL 213.47 76.863448 \n\" clip-path=\"url(#p7fab0de66f)\" style=\"fill: none; stroke-dasharray: 5.55,2.4; stroke-dashoffset: 0; stroke: #ff7f0e; stroke-width: 1.5\"/>\n   </g>\n   <g id=\"line2d_69\">\n    <path d=\"M 40.14125 16.010781 \nL 49.90625 13.5 \nL 59.67125 44.469422 \nL 69.43625 50.150053 \nL 79.20125 61.314671 \nL 88.96625 72.202972 \nL 98.73125 79.322618 \nL 108.49625 81.711545 \nL 118.26125 90.95843 \nL 128.02625 94.687355 \nL 137.79125 103.058775 \nL 147.55625 104.020761 \nL 157.32125 111.720488 \nL 167.08625 116.160887 \nL 176.85125 121.719752 \nL 186.61625 124.295173 \nL 196.38125 132.075798 \nL 206.14625 130.571646 \nL 215.91125 139.5 \n\" clip-path=\"url(#p7fab0de66f)\" style=\"fill: none; stroke: #1f77b4; stroke-width: 1.5; stroke-linecap: square\"/>\n   </g>\n   <g id=\"line2d_70\">\n    <path d=\"M 57.23 25.828771 \nL 76.76 35.592238 \nL 96.29 44.074326 \nL 115.82 51.534606 \nL 135.35 58.203497 \nL 154.88 63.943635 \nL 174.41 69.118 \nL 193.94 73.418881 \nL 213.47 76.863448 \n\" clip-path=\"url(#p7fab0de66f)\" style=\"fill: none; stroke-dasharray: 5.55,2.4; stroke-dashoffset: 0; stroke: #ff7f0e; stroke-width: 1.5\"/>\n   </g>\n   <g id=\"line2d_71\">\n    <path d=\"M 40.14125 16.010781 \nL 49.90625 13.5 \nL 59.67125 44.469422 \nL 69.43625 50.150053 \nL 79.20125 61.314671 \nL 88.96625 72.202972 \nL 98.73125 79.322618 \nL 108.49625 81.711545 \nL 118.26125 90.95843 \nL 128.02625 94.687355 \nL 137.79125 103.058775 \nL 147.55625 104.020761 \nL 157.32125 111.720488 \nL 167.08625 116.160887 \nL 176.85125 121.719752 \nL 186.61625 124.295173 \nL 196.38125 132.075798 \nL 206.14625 130.571646 \nL 215.91125 139.5 \nL 225.67625 138.229711 \n\" clip-path=\"url(#p7fab0de66f)\" style=\"fill: none; stroke: #1f77b4; stroke-width: 1.5; stroke-linecap: square\"/>\n   </g>\n   <g id=\"line2d_72\">\n    <path d=\"M 57.23 25.828771 \nL 76.76 35.592238 \nL 96.29 44.074326 \nL 115.82 51.534606 \nL 135.35 58.203497 \nL 154.88 63.943635 \nL 174.41 69.118 \nL 193.94 73.418881 \nL 213.47 76.863448 \n\" clip-path=\"url(#p7fab0de66f)\" style=\"fill: none; stroke-dasharray: 5.55,2.4; stroke-dashoffset: 0; stroke: #ff7f0e; stroke-width: 1.5\"/>\n   </g>\n   <g id=\"line2d_73\">\n    <path d=\"M 40.14125 16.010781 \nL 49.90625 13.5 \nL 59.67125 44.469422 \nL 69.43625 50.150053 \nL 79.20125 61.314671 \nL 88.96625 72.202972 \nL 98.73125 79.322618 \nL 108.49625 81.711545 \nL 118.26125 90.95843 \nL 128.02625 94.687355 \nL 137.79125 103.058775 \nL 147.55625 104.020761 \nL 157.32125 111.720488 \nL 167.08625 116.160887 \nL 176.85125 121.719752 \nL 186.61625 124.295173 \nL 196.38125 132.075798 \nL 206.14625 130.571646 \nL 215.91125 139.5 \nL 225.67625 138.229711 \n\" clip-path=\"url(#p7fab0de66f)\" style=\"fill: none; stroke: #1f77b4; stroke-width: 1.5; stroke-linecap: square\"/>\n   </g>\n   <g id=\"line2d_74\">\n    <path d=\"M 57.23 25.828771 \nL 76.76 35.592238 \nL 96.29 44.074326 \nL 115.82 51.534606 \nL 135.35 58.203497 \nL 154.88 63.943635 \nL 174.41 69.118 \nL 193.94 73.418881 \nL 213.47 76.863448 \nL 233 79.913063 \n\" clip-path=\"url(#p7fab0de66f)\" style=\"fill: none; stroke-dasharray: 5.55,2.4; stroke-dashoffset: 0; stroke: #ff7f0e; stroke-width: 1.5\"/>\n   </g>\n   <g id=\"patch_3\">\n    <path d=\"M 37.7 145.8 \nL 37.7 7.2 \n\" style=\"fill: none; stroke: #000000; stroke-width: 0.8; stroke-linejoin: miter; stroke-linecap: square\"/>\n   </g>\n   <g id=\"patch_4\">\n    <path d=\"M 233 145.8 \nL 233 7.2 \n\" style=\"fill: none; stroke: #000000; stroke-width: 0.8; stroke-linejoin: miter; stroke-linecap: square\"/>\n   </g>\n   <g id=\"patch_5\">\n    <path d=\"M 37.7 145.8 \nL 233 145.8 \n\" style=\"fill: none; stroke: #000000; stroke-width: 0.8; stroke-linejoin: miter; stroke-linecap: square\"/>\n   </g>\n   <g id=\"patch_6\">\n    <path d=\"M 37.7 7.2 \nL 233 7.2 \n\" style=\"fill: none; stroke: #000000; stroke-width: 0.8; stroke-linejoin: miter; stroke-linecap: square\"/>\n   </g>\n   <g id=\"legend_1\">\n    <g id=\"patch_7\">\n     <path d=\"M 146.409375 45.1125 \nL 226 45.1125 \nQ 228 45.1125 228 43.1125 \nL 228 14.2 \nQ 228 12.2 226 12.2 \nL 146.409375 12.2 \nQ 144.409375 12.2 144.409375 14.2 \nL 144.409375 43.1125 \nQ 144.409375 45.1125 146.409375 45.1125 \nz\n\" style=\"fill: #ffffff; opacity: 0.8; stroke: #cccccc; stroke-linejoin: miter\"/>\n    </g>\n    <g id=\"line2d_75\">\n     <path d=\"M 148.409375 20.298438 \nL 158.409375 20.298438 \nL 168.409375 20.298438 \n\" style=\"fill: none; stroke: #1f77b4; stroke-width: 1.5; stroke-linecap: square\"/>\n    </g>\n    <g id=\"text_9\">\n     <!-- train_loss -->\n     <g transform=\"translate(176.409375 23.798438) scale(0.1 -0.1)\">\n      <defs>\n       <path id=\"DejaVuSans-74\" d=\"M 1172 4494 \nL 1172 3500 \nL 2356 3500 \nL 2356 3053 \nL 1172 3053 \nL 1172 1153 \nQ 1172 725 1289 603 \nQ 1406 481 1766 481 \nL 2356 481 \nL 2356 0 \nL 1766 0 \nQ 1100 0 847 248 \nQ 594 497 594 1153 \nL 594 3053 \nL 172 3053 \nL 172 3500 \nL 594 3500 \nL 594 4494 \nL 1172 4494 \nz\n\" transform=\"scale(0.015625)\"/>\n       <path id=\"DejaVuSans-72\" d=\"M 2631 2963 \nQ 2534 3019 2420 3045 \nQ 2306 3072 2169 3072 \nQ 1681 3072 1420 2755 \nQ 1159 2438 1159 1844 \nL 1159 0 \nL 581 0 \nL 581 3500 \nL 1159 3500 \nL 1159 2956 \nQ 1341 3275 1631 3429 \nQ 1922 3584 2338 3584 \nQ 2397 3584 2469 3576 \nQ 2541 3569 2628 3553 \nL 2631 2963 \nz\n\" transform=\"scale(0.015625)\"/>\n       <path id=\"DejaVuSans-61\" d=\"M 2194 1759 \nQ 1497 1759 1228 1600 \nQ 959 1441 959 1056 \nQ 959 750 1161 570 \nQ 1363 391 1709 391 \nQ 2188 391 2477 730 \nQ 2766 1069 2766 1631 \nL 2766 1759 \nL 2194 1759 \nz\nM 3341 1997 \nL 3341 0 \nL 2766 0 \nL 2766 531 \nQ 2569 213 2275 61 \nQ 1981 -91 1556 -91 \nQ 1019 -91 701 211 \nQ 384 513 384 1019 \nQ 384 1609 779 1909 \nQ 1175 2209 1959 2209 \nL 2766 2209 \nL 2766 2266 \nQ 2766 2663 2505 2880 \nQ 2244 3097 1772 3097 \nQ 1472 3097 1187 3025 \nQ 903 2953 641 2809 \nL 641 3341 \nQ 956 3463 1253 3523 \nQ 1550 3584 1831 3584 \nQ 2591 3584 2966 3190 \nQ 3341 2797 3341 1997 \nz\n\" transform=\"scale(0.015625)\"/>\n       <path id=\"DejaVuSans-69\" d=\"M 603 3500 \nL 1178 3500 \nL 1178 0 \nL 603 0 \nL 603 3500 \nz\nM 603 4863 \nL 1178 4863 \nL 1178 4134 \nL 603 4134 \nL 603 4863 \nz\n\" transform=\"scale(0.015625)\"/>\n       <path id=\"DejaVuSans-6e\" d=\"M 3513 2113 \nL 3513 0 \nL 2938 0 \nL 2938 2094 \nQ 2938 2591 2744 2837 \nQ 2550 3084 2163 3084 \nQ 1697 3084 1428 2787 \nQ 1159 2491 1159 1978 \nL 1159 0 \nL 581 0 \nL 581 3500 \nL 1159 3500 \nL 1159 2956 \nQ 1366 3272 1645 3428 \nQ 1925 3584 2291 3584 \nQ 2894 3584 3203 3211 \nQ 3513 2838 3513 2113 \nz\n\" transform=\"scale(0.015625)\"/>\n       <path id=\"DejaVuSans-5f\" d=\"M 3263 -1063 \nL 3263 -1509 \nL -63 -1509 \nL -63 -1063 \nL 3263 -1063 \nz\n\" transform=\"scale(0.015625)\"/>\n       <path id=\"DejaVuSans-6c\" d=\"M 603 4863 \nL 1178 4863 \nL 1178 0 \nL 603 0 \nL 603 4863 \nz\n\" transform=\"scale(0.015625)\"/>\n       <path id=\"DejaVuSans-73\" d=\"M 2834 3397 \nL 2834 2853 \nQ 2591 2978 2328 3040 \nQ 2066 3103 1784 3103 \nQ 1356 3103 1142 2972 \nQ 928 2841 928 2578 \nQ 928 2378 1081 2264 \nQ 1234 2150 1697 2047 \nL 1894 2003 \nQ 2506 1872 2764 1633 \nQ 3022 1394 3022 966 \nQ 3022 478 2636 193 \nQ 2250 -91 1575 -91 \nQ 1294 -91 989 -36 \nQ 684 19 347 128 \nL 347 722 \nQ 666 556 975 473 \nQ 1284 391 1588 391 \nQ 1994 391 2212 530 \nQ 2431 669 2431 922 \nQ 2431 1156 2273 1281 \nQ 2116 1406 1581 1522 \nL 1381 1569 \nQ 847 1681 609 1914 \nQ 372 2147 372 2553 \nQ 372 3047 722 3315 \nQ 1072 3584 1716 3584 \nQ 2034 3584 2315 3537 \nQ 2597 3491 2834 3397 \nz\n\" transform=\"scale(0.015625)\"/>\n      </defs>\n      <use xlink:href=\"#DejaVuSans-74\"/>\n      <use xlink:href=\"#DejaVuSans-72\" x=\"39.208984\"/>\n      <use xlink:href=\"#DejaVuSans-61\" x=\"80.322266\"/>\n      <use xlink:href=\"#DejaVuSans-69\" x=\"141.601562\"/>\n      <use xlink:href=\"#DejaVuSans-6e\" x=\"169.384766\"/>\n      <use xlink:href=\"#DejaVuSans-5f\" x=\"232.763672\"/>\n      <use xlink:href=\"#DejaVuSans-6c\" x=\"282.763672\"/>\n      <use xlink:href=\"#DejaVuSans-6f\" x=\"310.546875\"/>\n      <use xlink:href=\"#DejaVuSans-73\" x=\"371.728516\"/>\n      <use xlink:href=\"#DejaVuSans-73\" x=\"423.828125\"/>\n     </g>\n    </g>\n    <g id=\"line2d_76\">\n     <path d=\"M 148.409375 35.254688 \nL 158.409375 35.254688 \nL 168.409375 35.254688 \n\" style=\"fill: none; stroke-dasharray: 5.55,2.4; stroke-dashoffset: 0; stroke: #ff7f0e; stroke-width: 1.5\"/>\n    </g>\n    <g id=\"text_10\">\n     <!-- val_loss -->\n     <g transform=\"translate(176.409375 38.754688) scale(0.1 -0.1)\">\n      <defs>\n       <path id=\"DejaVuSans-76\" d=\"M 191 3500 \nL 800 3500 \nL 1894 563 \nL 2988 3500 \nL 3597 3500 \nL 2284 0 \nL 1503 0 \nL 191 3500 \nz\n\" transform=\"scale(0.015625)\"/>\n      </defs>\n      <use xlink:href=\"#DejaVuSans-76\"/>\n      <use xlink:href=\"#DejaVuSans-61\" x=\"59.179688\"/>\n      <use xlink:href=\"#DejaVuSans-6c\" x=\"120.458984\"/>\n      <use xlink:href=\"#DejaVuSans-5f\" x=\"148.242188\"/>\n      <use xlink:href=\"#DejaVuSans-6c\" x=\"198.242188\"/>\n      <use xlink:href=\"#DejaVuSans-6f\" x=\"226.025391\"/>\n      <use xlink:href=\"#DejaVuSans-73\" x=\"287.207031\"/>\n      <use xlink:href=\"#DejaVuSans-73\" x=\"339.306641\"/>\n     </g>\n    </g>\n   </g>\n  </g>\n </g>\n <defs>\n  <clipPath id=\"p7fab0de66f\">\n   <rect x=\"37.7\" y=\"7.2\" width=\"195.3\" height=\"138.6\"/>\n  </clipPath>\n </defs>\n</svg>\n",
      "text/plain": [
       "<Figure size 350x250 with 1 Axes>"
      ]
     },
     "metadata": {},
     "output_type": "display_data"
    }
   ],
   "source": [
    "train_scratch(3)"
   ]
  },
  {
   "cell_type": "markdown",
   "id": "a7745769",
   "metadata": {
    "origin_pos": 17
   },
   "source": [
    "## [**Concise Implementation**]\n",
    "\n",
    "Because weight decay is ubiquitous\n",
    "in neural network optimization,\n",
    "the deep learning framework makes it especially convenient,\n",
    "integrating weight decay into the optimization algorithm itself\n",
    "for easy use in combination with any loss function.\n",
    "Moreover, this integration serves a computational benefit,\n",
    "allowing implementation tricks to add weight decay to the algorithm,\n",
    "without any additional computational overhead.\n",
    "Since the weight decay portion of the update\n",
    "depends only on the current value of each parameter,\n",
    "the optimizer must touch each parameter once anyway.\n"
   ]
  },
  {
   "cell_type": "markdown",
   "id": "70dbf171",
   "metadata": {
    "origin_pos": 19,
    "tab": [
     "pytorch"
    ]
   },
   "source": [
    "In the following code, we specify\n",
    "the weight decay hyperparameter directly\n",
    "through `weight_decay` when instantiating our optimizer.\n",
    "By default, PyTorch decays both\n",
    "weights and biases simultaneously.\n",
    "Here, we only set `weight_decay` for\n",
    "the weight, so the bias parameter $b$ will not decay.\n"
   ]
  },
  {
   "cell_type": "code",
   "execution_count": 11,
   "id": "bcc006c5",
   "metadata": {
    "attributes": {
     "classes": [],
     "id": "",
     "n": "12"
    },
    "execution": {
     "iopub.execute_input": "2022-08-29T22:12:17.664547Z",
     "iopub.status.busy": "2022-08-29T22:12:17.663833Z",
     "iopub.status.idle": "2022-08-29T22:12:17.669036Z",
     "shell.execute_reply": "2022-08-29T22:12:17.668270Z"
    },
    "origin_pos": 22,
    "tab": [
     "pytorch"
    ]
   },
   "outputs": [],
   "source": [
    "class WeightDecay(d2l.LinearRegression):\n",
    "    def __init__(self, wd, lr):\n",
    "        super().__init__(lr)\n",
    "        self.save_hyperparameters()\n",
    "        self.wd = wd\n",
    "\n",
    "    def configure_optimizers(self):\n",
    "        return torch.optim.SGD(self.net.parameters(),\n",
    "                               lr=self.lr, weight_decay=self.wd)"
   ]
  },
  {
   "cell_type": "markdown",
   "id": "e50f3323",
   "metadata": {
    "origin_pos": 24
   },
   "source": [
    "[**The plot looks similar to that when\n",
    "we implemented weight decay from scratch**].\n",
    "However, this version runs faster\n",
    "and is easier to implement,\n",
    "benefits that will become more\n",
    "pronounced as you address larger problems\n",
    "and this work becomes more routine.\n"
   ]
  },
  {
   "cell_type": "code",
   "execution_count": 12,
   "id": "5be43cc6",
   "metadata": {
    "attributes": {
     "classes": [],
     "id": "",
     "n": "14"
    },
    "execution": {
     "iopub.execute_input": "2022-08-29T22:12:17.672581Z",
     "iopub.status.busy": "2022-08-29T22:12:17.672042Z",
     "iopub.status.idle": "2022-08-29T22:12:29.280177Z",
     "shell.execute_reply": "2022-08-29T22:12:29.279132Z"
    },
    "origin_pos": 25,
    "tab": [
     "pytorch"
    ]
   },
   "outputs": [
    {
     "name": "stdout",
     "output_type": "stream",
     "text": [
      "L2 norm of w: 0.013181895017623901\n"
     ]
    },
    {
     "data": {
      "image/svg+xml": "<?xml version=\"1.0\" encoding=\"utf-8\" standalone=\"no\"?>\n<!DOCTYPE svg PUBLIC \"-//W3C//DTD SVG 1.1//EN\"\n  \"http://www.w3.org/Graphics/SVG/1.1/DTD/svg11.dtd\">\n<svg xmlns:xlink=\"http://www.w3.org/1999/xlink\" width=\"246.5625pt\" height=\"186.2065pt\" viewBox=\"0 0 246.5625 186.2065\" xmlns=\"http://www.w3.org/2000/svg\" version=\"1.1\">\n <metadata>\n  <rdf:RDF xmlns:dc=\"http://purl.org/dc/elements/1.1/\" xmlns:cc=\"http://creativecommons.org/ns#\" xmlns:rdf=\"http://www.w3.org/1999/02/22-rdf-syntax-ns#\">\n   <cc:Work>\n    <dc:type rdf:resource=\"http://purl.org/dc/dcmitype/StillImage\"/>\n    <dc:date>2022-12-11T10:33:44.098302</dc:date>\n    <dc:format>image/svg+xml</dc:format>\n    <dc:creator>\n     <cc:Agent>\n      <dc:title>Matplotlib v3.6.0, https://matplotlib.org/</dc:title>\n     </cc:Agent>\n    </dc:creator>\n   </cc:Work>\n  </rdf:RDF>\n </metadata>\n <defs>\n  <style type=\"text/css\">*{stroke-linejoin: round; stroke-linecap: butt}</style>\n </defs>\n <g id=\"figure_1\">\n  <g id=\"patch_1\">\n   <path d=\"M 0 186.2065 \nL 246.5625 186.2065 \nL 246.5625 -0 \nL 0 -0 \nz\n\" style=\"fill: #ffffff\"/>\n  </g>\n  <g id=\"axes_1\">\n   <g id=\"patch_2\">\n    <path d=\"M 37.7 148.65025 \nL 233 148.65025 \nL 233 10.05025 \nL 37.7 10.05025 \nz\n\" style=\"fill: #ffffff\"/>\n   </g>\n   <g id=\"matplotlib.axis_1\">\n    <g id=\"xtick_1\">\n     <g id=\"line2d_1\">\n      <defs>\n       <path id=\"mc72258f6f7\" d=\"M 0 0 \nL 0 3.5 \n\" style=\"stroke: #000000; stroke-width: 0.8\"/>\n      </defs>\n      <g>\n       <use xlink:href=\"#mc72258f6f7\" x=\"37.7\" y=\"148.65025\" style=\"stroke: #000000; stroke-width: 0.8\"/>\n      </g>\n     </g>\n     <g id=\"text_1\">\n      <!-- 0 -->\n      <g transform=\"translate(34.51875 163.248688) scale(0.1 -0.1)\">\n       <defs>\n        <path id=\"DejaVuSans-30\" d=\"M 2034 4250 \nQ 1547 4250 1301 3770 \nQ 1056 3291 1056 2328 \nQ 1056 1369 1301 889 \nQ 1547 409 2034 409 \nQ 2525 409 2770 889 \nQ 3016 1369 3016 2328 \nQ 3016 3291 2770 3770 \nQ 2525 4250 2034 4250 \nz\nM 2034 4750 \nQ 2819 4750 3233 4129 \nQ 3647 3509 3647 2328 \nQ 3647 1150 3233 529 \nQ 2819 -91 2034 -91 \nQ 1250 -91 836 529 \nQ 422 1150 422 2328 \nQ 422 3509 836 4129 \nQ 1250 4750 2034 4750 \nz\n\" transform=\"scale(0.015625)\"/>\n       </defs>\n       <use xlink:href=\"#DejaVuSans-30\"/>\n      </g>\n     </g>\n    </g>\n    <g id=\"xtick_2\">\n     <g id=\"line2d_2\">\n      <g>\n       <use xlink:href=\"#mc72258f6f7\" x=\"76.76\" y=\"148.65025\" style=\"stroke: #000000; stroke-width: 0.8\"/>\n      </g>\n     </g>\n     <g id=\"text_2\">\n      <!-- 2 -->\n      <g transform=\"translate(73.57875 163.248688) scale(0.1 -0.1)\">\n       <defs>\n        <path id=\"DejaVuSans-32\" d=\"M 1228 531 \nL 3431 531 \nL 3431 0 \nL 469 0 \nL 469 531 \nQ 828 903 1448 1529 \nQ 2069 2156 2228 2338 \nQ 2531 2678 2651 2914 \nQ 2772 3150 2772 3378 \nQ 2772 3750 2511 3984 \nQ 2250 4219 1831 4219 \nQ 1534 4219 1204 4116 \nQ 875 4013 500 3803 \nL 500 4441 \nQ 881 4594 1212 4672 \nQ 1544 4750 1819 4750 \nQ 2544 4750 2975 4387 \nQ 3406 4025 3406 3419 \nQ 3406 3131 3298 2873 \nQ 3191 2616 2906 2266 \nQ 2828 2175 2409 1742 \nQ 1991 1309 1228 531 \nz\n\" transform=\"scale(0.015625)\"/>\n       </defs>\n       <use xlink:href=\"#DejaVuSans-32\"/>\n      </g>\n     </g>\n    </g>\n    <g id=\"xtick_3\">\n     <g id=\"line2d_3\">\n      <g>\n       <use xlink:href=\"#mc72258f6f7\" x=\"115.82\" y=\"148.65025\" style=\"stroke: #000000; stroke-width: 0.8\"/>\n      </g>\n     </g>\n     <g id=\"text_3\">\n      <!-- 4 -->\n      <g transform=\"translate(112.63875 163.248688) scale(0.1 -0.1)\">\n       <defs>\n        <path id=\"DejaVuSans-34\" d=\"M 2419 4116 \nL 825 1625 \nL 2419 1625 \nL 2419 4116 \nz\nM 2253 4666 \nL 3047 4666 \nL 3047 1625 \nL 3713 1625 \nL 3713 1100 \nL 3047 1100 \nL 3047 0 \nL 2419 0 \nL 2419 1100 \nL 313 1100 \nL 313 1709 \nL 2253 4666 \nz\n\" transform=\"scale(0.015625)\"/>\n       </defs>\n       <use xlink:href=\"#DejaVuSans-34\"/>\n      </g>\n     </g>\n    </g>\n    <g id=\"xtick_4\">\n     <g id=\"line2d_4\">\n      <g>\n       <use xlink:href=\"#mc72258f6f7\" x=\"154.88\" y=\"148.65025\" style=\"stroke: #000000; stroke-width: 0.8\"/>\n      </g>\n     </g>\n     <g id=\"text_4\">\n      <!-- 6 -->\n      <g transform=\"translate(151.69875 163.248688) scale(0.1 -0.1)\">\n       <defs>\n        <path id=\"DejaVuSans-36\" d=\"M 2113 2584 \nQ 1688 2584 1439 2293 \nQ 1191 2003 1191 1497 \nQ 1191 994 1439 701 \nQ 1688 409 2113 409 \nQ 2538 409 2786 701 \nQ 3034 994 3034 1497 \nQ 3034 2003 2786 2293 \nQ 2538 2584 2113 2584 \nz\nM 3366 4563 \nL 3366 3988 \nQ 3128 4100 2886 4159 \nQ 2644 4219 2406 4219 \nQ 1781 4219 1451 3797 \nQ 1122 3375 1075 2522 \nQ 1259 2794 1537 2939 \nQ 1816 3084 2150 3084 \nQ 2853 3084 3261 2657 \nQ 3669 2231 3669 1497 \nQ 3669 778 3244 343 \nQ 2819 -91 2113 -91 \nQ 1303 -91 875 529 \nQ 447 1150 447 2328 \nQ 447 3434 972 4092 \nQ 1497 4750 2381 4750 \nQ 2619 4750 2861 4703 \nQ 3103 4656 3366 4563 \nz\n\" transform=\"scale(0.015625)\"/>\n       </defs>\n       <use xlink:href=\"#DejaVuSans-36\"/>\n      </g>\n     </g>\n    </g>\n    <g id=\"xtick_5\">\n     <g id=\"line2d_5\">\n      <g>\n       <use xlink:href=\"#mc72258f6f7\" x=\"193.94\" y=\"148.65025\" style=\"stroke: #000000; stroke-width: 0.8\"/>\n      </g>\n     </g>\n     <g id=\"text_5\">\n      <!-- 8 -->\n      <g transform=\"translate(190.75875 163.248688) scale(0.1 -0.1)\">\n       <defs>\n        <path id=\"DejaVuSans-38\" d=\"M 2034 2216 \nQ 1584 2216 1326 1975 \nQ 1069 1734 1069 1313 \nQ 1069 891 1326 650 \nQ 1584 409 2034 409 \nQ 2484 409 2743 651 \nQ 3003 894 3003 1313 \nQ 3003 1734 2745 1975 \nQ 2488 2216 2034 2216 \nz\nM 1403 2484 \nQ 997 2584 770 2862 \nQ 544 3141 544 3541 \nQ 544 4100 942 4425 \nQ 1341 4750 2034 4750 \nQ 2731 4750 3128 4425 \nQ 3525 4100 3525 3541 \nQ 3525 3141 3298 2862 \nQ 3072 2584 2669 2484 \nQ 3125 2378 3379 2068 \nQ 3634 1759 3634 1313 \nQ 3634 634 3220 271 \nQ 2806 -91 2034 -91 \nQ 1263 -91 848 271 \nQ 434 634 434 1313 \nQ 434 1759 690 2068 \nQ 947 2378 1403 2484 \nz\nM 1172 3481 \nQ 1172 3119 1398 2916 \nQ 1625 2713 2034 2713 \nQ 2441 2713 2670 2916 \nQ 2900 3119 2900 3481 \nQ 2900 3844 2670 4047 \nQ 2441 4250 2034 4250 \nQ 1625 4250 1398 4047 \nQ 1172 3844 1172 3481 \nz\n\" transform=\"scale(0.015625)\"/>\n       </defs>\n       <use xlink:href=\"#DejaVuSans-38\"/>\n      </g>\n     </g>\n    </g>\n    <g id=\"xtick_6\">\n     <g id=\"line2d_6\">\n      <g>\n       <use xlink:href=\"#mc72258f6f7\" x=\"233\" y=\"148.65025\" style=\"stroke: #000000; stroke-width: 0.8\"/>\n      </g>\n     </g>\n     <g id=\"text_6\">\n      <!-- 10 -->\n      <g transform=\"translate(226.6375 163.248688) scale(0.1 -0.1)\">\n       <defs>\n        <path id=\"DejaVuSans-31\" d=\"M 794 531 \nL 1825 531 \nL 1825 4091 \nL 703 3866 \nL 703 4441 \nL 1819 4666 \nL 2450 4666 \nL 2450 531 \nL 3481 531 \nL 3481 0 \nL 794 0 \nL 794 531 \nz\n\" transform=\"scale(0.015625)\"/>\n       </defs>\n       <use xlink:href=\"#DejaVuSans-31\"/>\n       <use xlink:href=\"#DejaVuSans-30\" x=\"63.623047\"/>\n      </g>\n     </g>\n    </g>\n    <g id=\"text_7\">\n     <!-- epoch -->\n     <g transform=\"translate(120.121875 176.926813) scale(0.1 -0.1)\">\n      <defs>\n       <path id=\"DejaVuSans-65\" d=\"M 3597 1894 \nL 3597 1613 \nL 953 1613 \nQ 991 1019 1311 708 \nQ 1631 397 2203 397 \nQ 2534 397 2845 478 \nQ 3156 559 3463 722 \nL 3463 178 \nQ 3153 47 2828 -22 \nQ 2503 -91 2169 -91 \nQ 1331 -91 842 396 \nQ 353 884 353 1716 \nQ 353 2575 817 3079 \nQ 1281 3584 2069 3584 \nQ 2775 3584 3186 3129 \nQ 3597 2675 3597 1894 \nz\nM 3022 2063 \nQ 3016 2534 2758 2815 \nQ 2500 3097 2075 3097 \nQ 1594 3097 1305 2825 \nQ 1016 2553 972 2059 \nL 3022 2063 \nz\n\" transform=\"scale(0.015625)\"/>\n       <path id=\"DejaVuSans-70\" d=\"M 1159 525 \nL 1159 -1331 \nL 581 -1331 \nL 581 3500 \nL 1159 3500 \nL 1159 2969 \nQ 1341 3281 1617 3432 \nQ 1894 3584 2278 3584 \nQ 2916 3584 3314 3078 \nQ 3713 2572 3713 1747 \nQ 3713 922 3314 415 \nQ 2916 -91 2278 -91 \nQ 1894 -91 1617 61 \nQ 1341 213 1159 525 \nz\nM 3116 1747 \nQ 3116 2381 2855 2742 \nQ 2594 3103 2138 3103 \nQ 1681 3103 1420 2742 \nQ 1159 2381 1159 1747 \nQ 1159 1113 1420 752 \nQ 1681 391 2138 391 \nQ 2594 391 2855 752 \nQ 3116 1113 3116 1747 \nz\n\" transform=\"scale(0.015625)\"/>\n       <path id=\"DejaVuSans-6f\" d=\"M 1959 3097 \nQ 1497 3097 1228 2736 \nQ 959 2375 959 1747 \nQ 959 1119 1226 758 \nQ 1494 397 1959 397 \nQ 2419 397 2687 759 \nQ 2956 1122 2956 1747 \nQ 2956 2369 2687 2733 \nQ 2419 3097 1959 3097 \nz\nM 1959 3584 \nQ 2709 3584 3137 3096 \nQ 3566 2609 3566 1747 \nQ 3566 888 3137 398 \nQ 2709 -91 1959 -91 \nQ 1206 -91 779 398 \nQ 353 888 353 1747 \nQ 353 2609 779 3096 \nQ 1206 3584 1959 3584 \nz\n\" transform=\"scale(0.015625)\"/>\n       <path id=\"DejaVuSans-63\" d=\"M 3122 3366 \nL 3122 2828 \nQ 2878 2963 2633 3030 \nQ 2388 3097 2138 3097 \nQ 1578 3097 1268 2742 \nQ 959 2388 959 1747 \nQ 959 1106 1268 751 \nQ 1578 397 2138 397 \nQ 2388 397 2633 464 \nQ 2878 531 3122 666 \nL 3122 134 \nQ 2881 22 2623 -34 \nQ 2366 -91 2075 -91 \nQ 1284 -91 818 406 \nQ 353 903 353 1747 \nQ 353 2603 823 3093 \nQ 1294 3584 2113 3584 \nQ 2378 3584 2631 3529 \nQ 2884 3475 3122 3366 \nz\n\" transform=\"scale(0.015625)\"/>\n       <path id=\"DejaVuSans-68\" d=\"M 3513 2113 \nL 3513 0 \nL 2938 0 \nL 2938 2094 \nQ 2938 2591 2744 2837 \nQ 2550 3084 2163 3084 \nQ 1697 3084 1428 2787 \nQ 1159 2491 1159 1978 \nL 1159 0 \nL 581 0 \nL 581 4863 \nL 1159 4863 \nL 1159 2956 \nQ 1366 3272 1645 3428 \nQ 1925 3584 2291 3584 \nQ 2894 3584 3203 3211 \nQ 3513 2838 3513 2113 \nz\n\" transform=\"scale(0.015625)\"/>\n      </defs>\n      <use xlink:href=\"#DejaVuSans-65\"/>\n      <use xlink:href=\"#DejaVuSans-70\" x=\"61.523438\"/>\n      <use xlink:href=\"#DejaVuSans-6f\" x=\"125\"/>\n      <use xlink:href=\"#DejaVuSans-63\" x=\"186.181641\"/>\n      <use xlink:href=\"#DejaVuSans-68\" x=\"241.162109\"/>\n     </g>\n    </g>\n   </g>\n   <g id=\"matplotlib.axis_2\">\n    <g id=\"ytick_1\">\n     <g id=\"line2d_7\">\n      <defs>\n       <path id=\"m7b816209a7\" d=\"M 0 0 \nL -3.5 0 \n\" style=\"stroke: #000000; stroke-width: 0.8\"/>\n      </defs>\n      <g>\n       <use xlink:href=\"#m7b816209a7\" x=\"37.7\" y=\"147.287165\" style=\"stroke: #000000; stroke-width: 0.8\"/>\n      </g>\n     </g>\n     <g id=\"text_8\">\n      <!-- $\\mathdefault{10^{-4}}$ -->\n      <g transform=\"translate(7.2 151.086383) scale(0.1 -0.1)\">\n       <defs>\n        <path id=\"DejaVuSans-2212\" d=\"M 678 2272 \nL 4684 2272 \nL 4684 1741 \nL 678 1741 \nL 678 2272 \nz\n\" transform=\"scale(0.015625)\"/>\n       </defs>\n       <use xlink:href=\"#DejaVuSans-31\" transform=\"translate(0 0.684375)\"/>\n       <use xlink:href=\"#DejaVuSans-30\" transform=\"translate(63.623047 0.684375)\"/>\n       <use xlink:href=\"#DejaVuSans-2212\" transform=\"translate(128.203125 38.965625) scale(0.7)\"/>\n       <use xlink:href=\"#DejaVuSans-34\" transform=\"translate(186.855469 38.965625) scale(0.7)\"/>\n      </g>\n     </g>\n    </g>\n    <g id=\"ytick_2\">\n     <g id=\"line2d_8\">\n      <g>\n       <use xlink:href=\"#m7b816209a7\" x=\"37.7\" y=\"113.215178\" style=\"stroke: #000000; stroke-width: 0.8\"/>\n      </g>\n     </g>\n     <g id=\"text_9\">\n      <!-- $\\mathdefault{10^{-3}}$ -->\n      <g transform=\"translate(7.2 117.014397) scale(0.1 -0.1)\">\n       <defs>\n        <path id=\"DejaVuSans-33\" d=\"M 2597 2516 \nQ 3050 2419 3304 2112 \nQ 3559 1806 3559 1356 \nQ 3559 666 3084 287 \nQ 2609 -91 1734 -91 \nQ 1441 -91 1130 -33 \nQ 819 25 488 141 \nL 488 750 \nQ 750 597 1062 519 \nQ 1375 441 1716 441 \nQ 2309 441 2620 675 \nQ 2931 909 2931 1356 \nQ 2931 1769 2642 2001 \nQ 2353 2234 1838 2234 \nL 1294 2234 \nL 1294 2753 \nL 1863 2753 \nQ 2328 2753 2575 2939 \nQ 2822 3125 2822 3475 \nQ 2822 3834 2567 4026 \nQ 2313 4219 1838 4219 \nQ 1578 4219 1281 4162 \nQ 984 4106 628 3988 \nL 628 4550 \nQ 988 4650 1302 4700 \nQ 1616 4750 1894 4750 \nQ 2613 4750 3031 4423 \nQ 3450 4097 3450 3541 \nQ 3450 3153 3228 2886 \nQ 3006 2619 2597 2516 \nz\n\" transform=\"scale(0.015625)\"/>\n       </defs>\n       <use xlink:href=\"#DejaVuSans-31\" transform=\"translate(0 0.765625)\"/>\n       <use xlink:href=\"#DejaVuSans-30\" transform=\"translate(63.623047 0.765625)\"/>\n       <use xlink:href=\"#DejaVuSans-2212\" transform=\"translate(128.203125 39.046875) scale(0.7)\"/>\n       <use xlink:href=\"#DejaVuSans-33\" transform=\"translate(186.855469 39.046875) scale(0.7)\"/>\n      </g>\n     </g>\n    </g>\n    <g id=\"ytick_3\">\n     <g id=\"line2d_9\">\n      <g>\n       <use xlink:href=\"#m7b816209a7\" x=\"37.7\" y=\"79.143192\" style=\"stroke: #000000; stroke-width: 0.8\"/>\n      </g>\n     </g>\n     <g id=\"text_10\">\n      <!-- $\\mathdefault{10^{-2}}$ -->\n      <g transform=\"translate(7.2 82.94241) scale(0.1 -0.1)\">\n       <use xlink:href=\"#DejaVuSans-31\" transform=\"translate(0 0.765625)\"/>\n       <use xlink:href=\"#DejaVuSans-30\" transform=\"translate(63.623047 0.765625)\"/>\n       <use xlink:href=\"#DejaVuSans-2212\" transform=\"translate(128.203125 39.046875) scale(0.7)\"/>\n       <use xlink:href=\"#DejaVuSans-32\" transform=\"translate(186.855469 39.046875) scale(0.7)\"/>\n      </g>\n     </g>\n    </g>\n    <g id=\"ytick_4\">\n     <g id=\"line2d_10\">\n      <g>\n       <use xlink:href=\"#m7b816209a7\" x=\"37.7\" y=\"45.071205\" style=\"stroke: #000000; stroke-width: 0.8\"/>\n      </g>\n     </g>\n     <g id=\"text_11\">\n      <!-- $\\mathdefault{10^{-1}}$ -->\n      <g transform=\"translate(7.2 48.870424) scale(0.1 -0.1)\">\n       <use xlink:href=\"#DejaVuSans-31\" transform=\"translate(0 0.684375)\"/>\n       <use xlink:href=\"#DejaVuSans-30\" transform=\"translate(63.623047 0.684375)\"/>\n       <use xlink:href=\"#DejaVuSans-2212\" transform=\"translate(128.203125 38.965625) scale(0.7)\"/>\n       <use xlink:href=\"#DejaVuSans-31\" transform=\"translate(186.855469 38.965625) scale(0.7)\"/>\n      </g>\n     </g>\n    </g>\n    <g id=\"ytick_5\">\n     <g id=\"line2d_11\">\n      <g>\n       <use xlink:href=\"#m7b816209a7\" x=\"37.7\" y=\"10.999219\" style=\"stroke: #000000; stroke-width: 0.8\"/>\n      </g>\n     </g>\n     <g id=\"text_12\">\n      <!-- $\\mathdefault{10^{0}}$ -->\n      <g transform=\"translate(13.1 14.798438) scale(0.1 -0.1)\">\n       <use xlink:href=\"#DejaVuSans-31\" transform=\"translate(0 0.765625)\"/>\n       <use xlink:href=\"#DejaVuSans-30\" transform=\"translate(63.623047 0.765625)\"/>\n       <use xlink:href=\"#DejaVuSans-30\" transform=\"translate(128.203125 39.046875) scale(0.7)\"/>\n      </g>\n     </g>\n    </g>\n    <g id=\"ytick_6\">\n     <g id=\"line2d_12\">\n      <defs>\n       <path id=\"mc3ccd7455e\" d=\"M 0 0 \nL -2 0 \n\" style=\"stroke: #000000; stroke-width: 0.6\"/>\n      </defs>\n      <g>\n       <use xlink:href=\"#mc3ccd7455e\" x=\"37.7\" y=\"137.030475\" style=\"stroke: #000000; stroke-width: 0.6\"/>\n      </g>\n     </g>\n    </g>\n    <g id=\"ytick_7\">\n     <g id=\"line2d_13\">\n      <g>\n       <use xlink:href=\"#mc3ccd7455e\" x=\"37.7\" y=\"131.030696\" style=\"stroke: #000000; stroke-width: 0.6\"/>\n      </g>\n     </g>\n    </g>\n    <g id=\"ytick_8\">\n     <g id=\"line2d_14\">\n      <g>\n       <use xlink:href=\"#mc3ccd7455e\" x=\"37.7\" y=\"126.773785\" style=\"stroke: #000000; stroke-width: 0.6\"/>\n      </g>\n     </g>\n    </g>\n    <g id=\"ytick_9\">\n     <g id=\"line2d_15\">\n      <g>\n       <use xlink:href=\"#mc3ccd7455e\" x=\"37.7\" y=\"123.471868\" style=\"stroke: #000000; stroke-width: 0.6\"/>\n      </g>\n     </g>\n    </g>\n    <g id=\"ytick_10\">\n     <g id=\"line2d_16\">\n      <g>\n       <use xlink:href=\"#mc3ccd7455e\" x=\"37.7\" y=\"120.774006\" style=\"stroke: #000000; stroke-width: 0.6\"/>\n      </g>\n     </g>\n    </g>\n    <g id=\"ytick_11\">\n     <g id=\"line2d_17\">\n      <g>\n       <use xlink:href=\"#mc3ccd7455e\" x=\"37.7\" y=\"118.492996\" style=\"stroke: #000000; stroke-width: 0.6\"/>\n      </g>\n     </g>\n    </g>\n    <g id=\"ytick_12\">\n     <g id=\"line2d_18\">\n      <g>\n       <use xlink:href=\"#mc3ccd7455e\" x=\"37.7\" y=\"116.517095\" style=\"stroke: #000000; stroke-width: 0.6\"/>\n      </g>\n     </g>\n    </g>\n    <g id=\"ytick_13\">\n     <g id=\"line2d_19\">\n      <g>\n       <use xlink:href=\"#mc3ccd7455e\" x=\"37.7\" y=\"114.774227\" style=\"stroke: #000000; stroke-width: 0.6\"/>\n      </g>\n     </g>\n    </g>\n    <g id=\"ytick_14\">\n     <g id=\"line2d_20\">\n      <g>\n       <use xlink:href=\"#mc3ccd7455e\" x=\"37.7\" y=\"102.958488\" style=\"stroke: #000000; stroke-width: 0.6\"/>\n      </g>\n     </g>\n    </g>\n    <g id=\"ytick_15\">\n     <g id=\"line2d_21\">\n      <g>\n       <use xlink:href=\"#mc3ccd7455e\" x=\"37.7\" y=\"96.958709\" style=\"stroke: #000000; stroke-width: 0.6\"/>\n      </g>\n     </g>\n    </g>\n    <g id=\"ytick_16\">\n     <g id=\"line2d_22\">\n      <g>\n       <use xlink:href=\"#mc3ccd7455e\" x=\"37.7\" y=\"92.701798\" style=\"stroke: #000000; stroke-width: 0.6\"/>\n      </g>\n     </g>\n    </g>\n    <g id=\"ytick_17\">\n     <g id=\"line2d_23\">\n      <g>\n       <use xlink:href=\"#mc3ccd7455e\" x=\"37.7\" y=\"89.399882\" style=\"stroke: #000000; stroke-width: 0.6\"/>\n      </g>\n     </g>\n    </g>\n    <g id=\"ytick_18\">\n     <g id=\"line2d_24\">\n      <g>\n       <use xlink:href=\"#mc3ccd7455e\" x=\"37.7\" y=\"86.702019\" style=\"stroke: #000000; stroke-width: 0.6\"/>\n      </g>\n     </g>\n    </g>\n    <g id=\"ytick_19\">\n     <g id=\"line2d_25\">\n      <g>\n       <use xlink:href=\"#mc3ccd7455e\" x=\"37.7\" y=\"84.421009\" style=\"stroke: #000000; stroke-width: 0.6\"/>\n      </g>\n     </g>\n    </g>\n    <g id=\"ytick_20\">\n     <g id=\"line2d_26\">\n      <g>\n       <use xlink:href=\"#mc3ccd7455e\" x=\"37.7\" y=\"82.445108\" style=\"stroke: #000000; stroke-width: 0.6\"/>\n      </g>\n     </g>\n    </g>\n    <g id=\"ytick_21\">\n     <g id=\"line2d_27\">\n      <g>\n       <use xlink:href=\"#mc3ccd7455e\" x=\"37.7\" y=\"80.70224\" style=\"stroke: #000000; stroke-width: 0.6\"/>\n      </g>\n     </g>\n    </g>\n    <g id=\"ytick_22\">\n     <g id=\"line2d_28\">\n      <g>\n       <use xlink:href=\"#mc3ccd7455e\" x=\"37.7\" y=\"68.886502\" style=\"stroke: #000000; stroke-width: 0.6\"/>\n      </g>\n     </g>\n    </g>\n    <g id=\"ytick_23\">\n     <g id=\"line2d_29\">\n      <g>\n       <use xlink:href=\"#mc3ccd7455e\" x=\"37.7\" y=\"62.886723\" style=\"stroke: #000000; stroke-width: 0.6\"/>\n      </g>\n     </g>\n    </g>\n    <g id=\"ytick_24\">\n     <g id=\"line2d_30\">\n      <g>\n       <use xlink:href=\"#mc3ccd7455e\" x=\"37.7\" y=\"58.629812\" style=\"stroke: #000000; stroke-width: 0.6\"/>\n      </g>\n     </g>\n    </g>\n    <g id=\"ytick_25\">\n     <g id=\"line2d_31\">\n      <g>\n       <use xlink:href=\"#mc3ccd7455e\" x=\"37.7\" y=\"55.327895\" style=\"stroke: #000000; stroke-width: 0.6\"/>\n      </g>\n     </g>\n    </g>\n    <g id=\"ytick_26\">\n     <g id=\"line2d_32\">\n      <g>\n       <use xlink:href=\"#mc3ccd7455e\" x=\"37.7\" y=\"52.630033\" style=\"stroke: #000000; stroke-width: 0.6\"/>\n      </g>\n     </g>\n    </g>\n    <g id=\"ytick_27\">\n     <g id=\"line2d_33\">\n      <g>\n       <use xlink:href=\"#mc3ccd7455e\" x=\"37.7\" y=\"50.349023\" style=\"stroke: #000000; stroke-width: 0.6\"/>\n      </g>\n     </g>\n    </g>\n    <g id=\"ytick_28\">\n     <g id=\"line2d_34\">\n      <g>\n       <use xlink:href=\"#mc3ccd7455e\" x=\"37.7\" y=\"48.373122\" style=\"stroke: #000000; stroke-width: 0.6\"/>\n      </g>\n     </g>\n    </g>\n    <g id=\"ytick_29\">\n     <g id=\"line2d_35\">\n      <g>\n       <use xlink:href=\"#mc3ccd7455e\" x=\"37.7\" y=\"46.630254\" style=\"stroke: #000000; stroke-width: 0.6\"/>\n      </g>\n     </g>\n    </g>\n    <g id=\"ytick_30\">\n     <g id=\"line2d_36\">\n      <g>\n       <use xlink:href=\"#mc3ccd7455e\" x=\"37.7\" y=\"34.814515\" style=\"stroke: #000000; stroke-width: 0.6\"/>\n      </g>\n     </g>\n    </g>\n    <g id=\"ytick_31\">\n     <g id=\"line2d_37\">\n      <g>\n       <use xlink:href=\"#mc3ccd7455e\" x=\"37.7\" y=\"28.814736\" style=\"stroke: #000000; stroke-width: 0.6\"/>\n      </g>\n     </g>\n    </g>\n    <g id=\"ytick_32\">\n     <g id=\"line2d_38\">\n      <g>\n       <use xlink:href=\"#mc3ccd7455e\" x=\"37.7\" y=\"24.557825\" style=\"stroke: #000000; stroke-width: 0.6\"/>\n      </g>\n     </g>\n    </g>\n    <g id=\"ytick_33\">\n     <g id=\"line2d_39\">\n      <g>\n       <use xlink:href=\"#mc3ccd7455e\" x=\"37.7\" y=\"21.255909\" style=\"stroke: #000000; stroke-width: 0.6\"/>\n      </g>\n     </g>\n    </g>\n    <g id=\"ytick_34\">\n     <g id=\"line2d_40\">\n      <g>\n       <use xlink:href=\"#mc3ccd7455e\" x=\"37.7\" y=\"18.558046\" style=\"stroke: #000000; stroke-width: 0.6\"/>\n      </g>\n     </g>\n    </g>\n    <g id=\"ytick_35\">\n     <g id=\"line2d_41\">\n      <g>\n       <use xlink:href=\"#mc3ccd7455e\" x=\"37.7\" y=\"16.277036\" style=\"stroke: #000000; stroke-width: 0.6\"/>\n      </g>\n     </g>\n    </g>\n    <g id=\"ytick_36\">\n     <g id=\"line2d_42\">\n      <g>\n       <use xlink:href=\"#mc3ccd7455e\" x=\"37.7\" y=\"14.301135\" style=\"stroke: #000000; stroke-width: 0.6\"/>\n      </g>\n     </g>\n    </g>\n    <g id=\"ytick_37\">\n     <g id=\"line2d_43\">\n      <g>\n       <use xlink:href=\"#mc3ccd7455e\" x=\"37.7\" y=\"12.558267\" style=\"stroke: #000000; stroke-width: 0.6\"/>\n      </g>\n     </g>\n    </g>\n   </g>\n   <g id=\"line2d_44\">\n    <path d=\"M 40.14125 16.35025 \n\" clip-path=\"url(#p9b27f8967f)\" style=\"fill: none; stroke: #1f77b4; stroke-width: 1.5; stroke-linecap: square\"/>\n   </g>\n   <g id=\"line2d_45\">\n    <path d=\"M 40.14125 16.35025 \nL 49.90625 32.386835 \n\" clip-path=\"url(#p9b27f8967f)\" style=\"fill: none; stroke: #1f77b4; stroke-width: 1.5; stroke-linecap: square\"/>\n   </g>\n   <g id=\"line2d_46\">\n    <path d=\"M 40.14125 16.35025 \nL 49.90625 32.386835 \n\" clip-path=\"url(#p9b27f8967f)\" style=\"fill: none; stroke: #1f77b4; stroke-width: 1.5; stroke-linecap: square\"/>\n   </g>\n   <g id=\"line2d_47\">\n    <path d=\"M 57.23 33.885866 \n\" clip-path=\"url(#p9b27f8967f)\" style=\"fill: none; stroke-dasharray: 5.55,2.4; stroke-dashoffset: 0; stroke: #ff7f0e; stroke-width: 1.5\"/>\n   </g>\n   <g id=\"line2d_48\">\n    <path d=\"M 40.14125 16.35025 \nL 49.90625 32.386835 \nL 59.67125 75.206561 \n\" clip-path=\"url(#p9b27f8967f)\" style=\"fill: none; stroke: #1f77b4; stroke-width: 1.5; stroke-linecap: square\"/>\n   </g>\n   <g id=\"line2d_49\">\n    <path d=\"M 57.23 33.885866 \n\" clip-path=\"url(#p9b27f8967f)\" style=\"fill: none; stroke-dasharray: 5.55,2.4; stroke-dashoffset: 0; stroke: #ff7f0e; stroke-width: 1.5\"/>\n   </g>\n   <g id=\"line2d_50\">\n    <path d=\"M 40.14125 16.35025 \nL 49.90625 32.386835 \nL 59.67125 75.206561 \nL 69.43625 75.588518 \n\" clip-path=\"url(#p9b27f8967f)\" style=\"fill: none; stroke: #1f77b4; stroke-width: 1.5; stroke-linecap: square\"/>\n   </g>\n   <g id=\"line2d_51\">\n    <path d=\"M 57.23 33.885866 \n\" clip-path=\"url(#p9b27f8967f)\" style=\"fill: none; stroke-dasharray: 5.55,2.4; stroke-dashoffset: 0; stroke: #ff7f0e; stroke-width: 1.5\"/>\n   </g>\n   <g id=\"line2d_52\">\n    <path d=\"M 40.14125 16.35025 \nL 49.90625 32.386835 \nL 59.67125 75.206561 \nL 69.43625 75.588518 \n\" clip-path=\"url(#p9b27f8967f)\" style=\"fill: none; stroke: #1f77b4; stroke-width: 1.5; stroke-linecap: square\"/>\n   </g>\n   <g id=\"line2d_53\">\n    <path d=\"M 57.23 33.885866 \nL 76.76 37.105952 \n\" clip-path=\"url(#p9b27f8967f)\" style=\"fill: none; stroke-dasharray: 5.55,2.4; stroke-dashoffset: 0; stroke: #ff7f0e; stroke-width: 1.5\"/>\n   </g>\n   <g id=\"line2d_54\">\n    <path d=\"M 40.14125 16.35025 \nL 49.90625 32.386835 \nL 59.67125 75.206561 \nL 69.43625 75.588518 \nL 79.20125 101.469457 \n\" clip-path=\"url(#p9b27f8967f)\" style=\"fill: none; stroke: #1f77b4; stroke-width: 1.5; stroke-linecap: square\"/>\n   </g>\n   <g id=\"line2d_55\">\n    <path d=\"M 57.23 33.885866 \nL 76.76 37.105952 \n\" clip-path=\"url(#p9b27f8967f)\" style=\"fill: none; stroke-dasharray: 5.55,2.4; stroke-dashoffset: 0; stroke: #ff7f0e; stroke-width: 1.5\"/>\n   </g>\n   <g id=\"line2d_56\">\n    <path d=\"M 40.14125 16.35025 \nL 49.90625 32.386835 \nL 59.67125 75.206561 \nL 69.43625 75.588518 \nL 79.20125 101.469457 \nL 88.96625 100.779733 \n\" clip-path=\"url(#p9b27f8967f)\" style=\"fill: none; stroke: #1f77b4; stroke-width: 1.5; stroke-linecap: square\"/>\n   </g>\n   <g id=\"line2d_57\">\n    <path d=\"M 57.23 33.885866 \nL 76.76 37.105952 \n\" clip-path=\"url(#p9b27f8967f)\" style=\"fill: none; stroke-dasharray: 5.55,2.4; stroke-dashoffset: 0; stroke: #ff7f0e; stroke-width: 1.5\"/>\n   </g>\n   <g id=\"line2d_58\">\n    <path d=\"M 40.14125 16.35025 \nL 49.90625 32.386835 \nL 59.67125 75.206561 \nL 69.43625 75.588518 \nL 79.20125 101.469457 \nL 88.96625 100.779733 \n\" clip-path=\"url(#p9b27f8967f)\" style=\"fill: none; stroke: #1f77b4; stroke-width: 1.5; stroke-linecap: square\"/>\n   </g>\n   <g id=\"line2d_59\">\n    <path d=\"M 57.23 33.885866 \nL 76.76 37.105952 \nL 96.29 40.17882 \n\" clip-path=\"url(#p9b27f8967f)\" style=\"fill: none; stroke-dasharray: 5.55,2.4; stroke-dashoffset: 0; stroke: #ff7f0e; stroke-width: 1.5\"/>\n   </g>\n   <g id=\"line2d_60\">\n    <path d=\"M 40.14125 16.35025 \nL 49.90625 32.386835 \nL 59.67125 75.206561 \nL 69.43625 75.588518 \nL 79.20125 101.469457 \nL 88.96625 100.779733 \nL 98.73125 127.433104 \n\" clip-path=\"url(#p9b27f8967f)\" style=\"fill: none; stroke: #1f77b4; stroke-width: 1.5; stroke-linecap: square\"/>\n   </g>\n   <g id=\"line2d_61\">\n    <path d=\"M 57.23 33.885866 \nL 76.76 37.105952 \nL 96.29 40.17882 \n\" clip-path=\"url(#p9b27f8967f)\" style=\"fill: none; stroke-dasharray: 5.55,2.4; stroke-dashoffset: 0; stroke: #ff7f0e; stroke-width: 1.5\"/>\n   </g>\n   <g id=\"line2d_62\">\n    <path d=\"M 40.14125 16.35025 \nL 49.90625 32.386835 \nL 59.67125 75.206561 \nL 69.43625 75.588518 \nL 79.20125 101.469457 \nL 88.96625 100.779733 \nL 98.73125 127.433104 \nL 108.49625 120.937593 \n\" clip-path=\"url(#p9b27f8967f)\" style=\"fill: none; stroke: #1f77b4; stroke-width: 1.5; stroke-linecap: square\"/>\n   </g>\n   <g id=\"line2d_63\">\n    <path d=\"M 57.23 33.885866 \nL 76.76 37.105952 \nL 96.29 40.17882 \n\" clip-path=\"url(#p9b27f8967f)\" style=\"fill: none; stroke-dasharray: 5.55,2.4; stroke-dashoffset: 0; stroke: #ff7f0e; stroke-width: 1.5\"/>\n   </g>\n   <g id=\"line2d_64\">\n    <path d=\"M 40.14125 16.35025 \nL 49.90625 32.386835 \nL 59.67125 75.206561 \nL 69.43625 75.588518 \nL 79.20125 101.469457 \nL 88.96625 100.779733 \nL 98.73125 127.433104 \nL 108.49625 120.937593 \n\" clip-path=\"url(#p9b27f8967f)\" style=\"fill: none; stroke: #1f77b4; stroke-width: 1.5; stroke-linecap: square\"/>\n   </g>\n   <g id=\"line2d_65\">\n    <path d=\"M 57.23 33.885866 \nL 76.76 37.105952 \nL 96.29 40.17882 \nL 115.82 43.199476 \n\" clip-path=\"url(#p9b27f8967f)\" style=\"fill: none; stroke-dasharray: 5.55,2.4; stroke-dashoffset: 0; stroke: #ff7f0e; stroke-width: 1.5\"/>\n   </g>\n   <g id=\"line2d_66\">\n    <path d=\"M 40.14125 16.35025 \nL 49.90625 32.386835 \nL 59.67125 75.206561 \nL 69.43625 75.588518 \nL 79.20125 101.469457 \nL 88.96625 100.779733 \nL 98.73125 127.433104 \nL 108.49625 120.937593 \nL 118.26125 120.734852 \n\" clip-path=\"url(#p9b27f8967f)\" style=\"fill: none; stroke: #1f77b4; stroke-width: 1.5; stroke-linecap: square\"/>\n   </g>\n   <g id=\"line2d_67\">\n    <path d=\"M 57.23 33.885866 \nL 76.76 37.105952 \nL 96.29 40.17882 \nL 115.82 43.199476 \n\" clip-path=\"url(#p9b27f8967f)\" style=\"fill: none; stroke-dasharray: 5.55,2.4; stroke-dashoffset: 0; stroke: #ff7f0e; stroke-width: 1.5\"/>\n   </g>\n   <g id=\"line2d_68\">\n    <path d=\"M 40.14125 16.35025 \nL 49.90625 32.386835 \nL 59.67125 75.206561 \nL 69.43625 75.588518 \nL 79.20125 101.469457 \nL 88.96625 100.779733 \nL 98.73125 127.433104 \nL 108.49625 120.937593 \nL 118.26125 120.734852 \nL 128.02625 129.403715 \n\" clip-path=\"url(#p9b27f8967f)\" style=\"fill: none; stroke: #1f77b4; stroke-width: 1.5; stroke-linecap: square\"/>\n   </g>\n   <g id=\"line2d_69\">\n    <path d=\"M 57.23 33.885866 \nL 76.76 37.105952 \nL 96.29 40.17882 \nL 115.82 43.199476 \n\" clip-path=\"url(#p9b27f8967f)\" style=\"fill: none; stroke-dasharray: 5.55,2.4; stroke-dashoffset: 0; stroke: #ff7f0e; stroke-width: 1.5\"/>\n   </g>\n   <g id=\"line2d_70\">\n    <path d=\"M 40.14125 16.35025 \nL 49.90625 32.386835 \nL 59.67125 75.206561 \nL 69.43625 75.588518 \nL 79.20125 101.469457 \nL 88.96625 100.779733 \nL 98.73125 127.433104 \nL 108.49625 120.937593 \nL 118.26125 120.734852 \nL 128.02625 129.403715 \n\" clip-path=\"url(#p9b27f8967f)\" style=\"fill: none; stroke: #1f77b4; stroke-width: 1.5; stroke-linecap: square\"/>\n   </g>\n   <g id=\"line2d_71\">\n    <path d=\"M 57.23 33.885866 \nL 76.76 37.105952 \nL 96.29 40.17882 \nL 115.82 43.199476 \nL 135.35 46.069593 \n\" clip-path=\"url(#p9b27f8967f)\" style=\"fill: none; stroke-dasharray: 5.55,2.4; stroke-dashoffset: 0; stroke: #ff7f0e; stroke-width: 1.5\"/>\n   </g>\n   <g id=\"line2d_72\">\n    <path d=\"M 40.14125 16.35025 \nL 49.90625 32.386835 \nL 59.67125 75.206561 \nL 69.43625 75.588518 \nL 79.20125 101.469457 \nL 88.96625 100.779733 \nL 98.73125 127.433104 \nL 108.49625 120.937593 \nL 118.26125 120.734852 \nL 128.02625 129.403715 \nL 137.79125 123.995073 \n\" clip-path=\"url(#p9b27f8967f)\" style=\"fill: none; stroke: #1f77b4; stroke-width: 1.5; stroke-linecap: square\"/>\n   </g>\n   <g id=\"line2d_73\">\n    <path d=\"M 57.23 33.885866 \nL 76.76 37.105952 \nL 96.29 40.17882 \nL 115.82 43.199476 \nL 135.35 46.069593 \n\" clip-path=\"url(#p9b27f8967f)\" style=\"fill: none; stroke-dasharray: 5.55,2.4; stroke-dashoffset: 0; stroke: #ff7f0e; stroke-width: 1.5\"/>\n   </g>\n   <g id=\"line2d_74\">\n    <path d=\"M 40.14125 16.35025 \nL 49.90625 32.386835 \nL 59.67125 75.206561 \nL 69.43625 75.588518 \nL 79.20125 101.469457 \nL 88.96625 100.779733 \nL 98.73125 127.433104 \nL 108.49625 120.937593 \nL 118.26125 120.734852 \nL 128.02625 129.403715 \nL 137.79125 123.995073 \nL 147.55625 126.319729 \n\" clip-path=\"url(#p9b27f8967f)\" style=\"fill: none; stroke: #1f77b4; stroke-width: 1.5; stroke-linecap: square\"/>\n   </g>\n   <g id=\"line2d_75\">\n    <path d=\"M 57.23 33.885866 \nL 76.76 37.105952 \nL 96.29 40.17882 \nL 115.82 43.199476 \nL 135.35 46.069593 \n\" clip-path=\"url(#p9b27f8967f)\" style=\"fill: none; stroke-dasharray: 5.55,2.4; stroke-dashoffset: 0; stroke: #ff7f0e; stroke-width: 1.5\"/>\n   </g>\n   <g id=\"line2d_76\">\n    <path d=\"M 40.14125 16.35025 \nL 49.90625 32.386835 \nL 59.67125 75.206561 \nL 69.43625 75.588518 \nL 79.20125 101.469457 \nL 88.96625 100.779733 \nL 98.73125 127.433104 \nL 108.49625 120.937593 \nL 118.26125 120.734852 \nL 128.02625 129.403715 \nL 137.79125 123.995073 \nL 147.55625 126.319729 \n\" clip-path=\"url(#p9b27f8967f)\" style=\"fill: none; stroke: #1f77b4; stroke-width: 1.5; stroke-linecap: square\"/>\n   </g>\n   <g id=\"line2d_77\">\n    <path d=\"M 57.23 33.885866 \nL 76.76 37.105952 \nL 96.29 40.17882 \nL 115.82 43.199476 \nL 135.35 46.069593 \nL 154.88 48.827488 \n\" clip-path=\"url(#p9b27f8967f)\" style=\"fill: none; stroke-dasharray: 5.55,2.4; stroke-dashoffset: 0; stroke: #ff7f0e; stroke-width: 1.5\"/>\n   </g>\n   <g id=\"line2d_78\">\n    <path d=\"M 40.14125 16.35025 \nL 49.90625 32.386835 \nL 59.67125 75.206561 \nL 69.43625 75.588518 \nL 79.20125 101.469457 \nL 88.96625 100.779733 \nL 98.73125 127.433104 \nL 108.49625 120.937593 \nL 118.26125 120.734852 \nL 128.02625 129.403715 \nL 137.79125 123.995073 \nL 147.55625 126.319729 \nL 157.32125 128.787471 \n\" clip-path=\"url(#p9b27f8967f)\" style=\"fill: none; stroke: #1f77b4; stroke-width: 1.5; stroke-linecap: square\"/>\n   </g>\n   <g id=\"line2d_79\">\n    <path d=\"M 57.23 33.885866 \nL 76.76 37.105952 \nL 96.29 40.17882 \nL 115.82 43.199476 \nL 135.35 46.069593 \nL 154.88 48.827488 \n\" clip-path=\"url(#p9b27f8967f)\" style=\"fill: none; stroke-dasharray: 5.55,2.4; stroke-dashoffset: 0; stroke: #ff7f0e; stroke-width: 1.5\"/>\n   </g>\n   <g id=\"line2d_80\">\n    <path d=\"M 40.14125 16.35025 \nL 49.90625 32.386835 \nL 59.67125 75.206561 \nL 69.43625 75.588518 \nL 79.20125 101.469457 \nL 88.96625 100.779733 \nL 98.73125 127.433104 \nL 108.49625 120.937593 \nL 118.26125 120.734852 \nL 128.02625 129.403715 \nL 137.79125 123.995073 \nL 147.55625 126.319729 \nL 157.32125 128.787471 \nL 167.08625 116.492197 \n\" clip-path=\"url(#p9b27f8967f)\" style=\"fill: none; stroke: #1f77b4; stroke-width: 1.5; stroke-linecap: square\"/>\n   </g>\n   <g id=\"line2d_81\">\n    <path d=\"M 57.23 33.885866 \nL 76.76 37.105952 \nL 96.29 40.17882 \nL 115.82 43.199476 \nL 135.35 46.069593 \nL 154.88 48.827488 \n\" clip-path=\"url(#p9b27f8967f)\" style=\"fill: none; stroke-dasharray: 5.55,2.4; stroke-dashoffset: 0; stroke: #ff7f0e; stroke-width: 1.5\"/>\n   </g>\n   <g id=\"line2d_82\">\n    <path d=\"M 40.14125 16.35025 \nL 49.90625 32.386835 \nL 59.67125 75.206561 \nL 69.43625 75.588518 \nL 79.20125 101.469457 \nL 88.96625 100.779733 \nL 98.73125 127.433104 \nL 108.49625 120.937593 \nL 118.26125 120.734852 \nL 128.02625 129.403715 \nL 137.79125 123.995073 \nL 147.55625 126.319729 \nL 157.32125 128.787471 \nL 167.08625 116.492197 \n\" clip-path=\"url(#p9b27f8967f)\" style=\"fill: none; stroke: #1f77b4; stroke-width: 1.5; stroke-linecap: square\"/>\n   </g>\n   <g id=\"line2d_83\">\n    <path d=\"M 57.23 33.885866 \nL 76.76 37.105952 \nL 96.29 40.17882 \nL 115.82 43.199476 \nL 135.35 46.069593 \nL 154.88 48.827488 \nL 174.41 51.374134 \n\" clip-path=\"url(#p9b27f8967f)\" style=\"fill: none; stroke-dasharray: 5.55,2.4; stroke-dashoffset: 0; stroke: #ff7f0e; stroke-width: 1.5\"/>\n   </g>\n   <g id=\"line2d_84\">\n    <path d=\"M 40.14125 16.35025 \nL 49.90625 32.386835 \nL 59.67125 75.206561 \nL 69.43625 75.588518 \nL 79.20125 101.469457 \nL 88.96625 100.779733 \nL 98.73125 127.433104 \nL 108.49625 120.937593 \nL 118.26125 120.734852 \nL 128.02625 129.403715 \nL 137.79125 123.995073 \nL 147.55625 126.319729 \nL 157.32125 128.787471 \nL 167.08625 116.492197 \nL 176.85125 142.35025 \n\" clip-path=\"url(#p9b27f8967f)\" style=\"fill: none; stroke: #1f77b4; stroke-width: 1.5; stroke-linecap: square\"/>\n   </g>\n   <g id=\"line2d_85\">\n    <path d=\"M 57.23 33.885866 \nL 76.76 37.105952 \nL 96.29 40.17882 \nL 115.82 43.199476 \nL 135.35 46.069593 \nL 154.88 48.827488 \nL 174.41 51.374134 \n\" clip-path=\"url(#p9b27f8967f)\" style=\"fill: none; stroke-dasharray: 5.55,2.4; stroke-dashoffset: 0; stroke: #ff7f0e; stroke-width: 1.5\"/>\n   </g>\n   <g id=\"line2d_86\">\n    <path d=\"M 40.14125 16.35025 \nL 49.90625 32.386835 \nL 59.67125 75.206561 \nL 69.43625 75.588518 \nL 79.20125 101.469457 \nL 88.96625 100.779733 \nL 98.73125 127.433104 \nL 108.49625 120.937593 \nL 118.26125 120.734852 \nL 128.02625 129.403715 \nL 137.79125 123.995073 \nL 147.55625 126.319729 \nL 157.32125 128.787471 \nL 167.08625 116.492197 \nL 176.85125 142.35025 \nL 186.61625 117.611377 \n\" clip-path=\"url(#p9b27f8967f)\" style=\"fill: none; stroke: #1f77b4; stroke-width: 1.5; stroke-linecap: square\"/>\n   </g>\n   <g id=\"line2d_87\">\n    <path d=\"M 57.23 33.885866 \nL 76.76 37.105952 \nL 96.29 40.17882 \nL 115.82 43.199476 \nL 135.35 46.069593 \nL 154.88 48.827488 \nL 174.41 51.374134 \n\" clip-path=\"url(#p9b27f8967f)\" style=\"fill: none; stroke-dasharray: 5.55,2.4; stroke-dashoffset: 0; stroke: #ff7f0e; stroke-width: 1.5\"/>\n   </g>\n   <g id=\"line2d_88\">\n    <path d=\"M 40.14125 16.35025 \nL 49.90625 32.386835 \nL 59.67125 75.206561 \nL 69.43625 75.588518 \nL 79.20125 101.469457 \nL 88.96625 100.779733 \nL 98.73125 127.433104 \nL 108.49625 120.937593 \nL 118.26125 120.734852 \nL 128.02625 129.403715 \nL 137.79125 123.995073 \nL 147.55625 126.319729 \nL 157.32125 128.787471 \nL 167.08625 116.492197 \nL 176.85125 142.35025 \nL 186.61625 117.611377 \n\" clip-path=\"url(#p9b27f8967f)\" style=\"fill: none; stroke: #1f77b4; stroke-width: 1.5; stroke-linecap: square\"/>\n   </g>\n   <g id=\"line2d_89\">\n    <path d=\"M 57.23 33.885866 \nL 76.76 37.105952 \nL 96.29 40.17882 \nL 115.82 43.199476 \nL 135.35 46.069593 \nL 154.88 48.827488 \nL 174.41 51.374134 \nL 193.94 53.768091 \n\" clip-path=\"url(#p9b27f8967f)\" style=\"fill: none; stroke-dasharray: 5.55,2.4; stroke-dashoffset: 0; stroke: #ff7f0e; stroke-width: 1.5\"/>\n   </g>\n   <g id=\"line2d_90\">\n    <path d=\"M 40.14125 16.35025 \nL 49.90625 32.386835 \nL 59.67125 75.206561 \nL 69.43625 75.588518 \nL 79.20125 101.469457 \nL 88.96625 100.779733 \nL 98.73125 127.433104 \nL 108.49625 120.937593 \nL 118.26125 120.734852 \nL 128.02625 129.403715 \nL 137.79125 123.995073 \nL 147.55625 126.319729 \nL 157.32125 128.787471 \nL 167.08625 116.492197 \nL 176.85125 142.35025 \nL 186.61625 117.611377 \nL 196.38125 133.708912 \n\" clip-path=\"url(#p9b27f8967f)\" style=\"fill: none; stroke: #1f77b4; stroke-width: 1.5; stroke-linecap: square\"/>\n   </g>\n   <g id=\"line2d_91\">\n    <path d=\"M 57.23 33.885866 \nL 76.76 37.105952 \nL 96.29 40.17882 \nL 115.82 43.199476 \nL 135.35 46.069593 \nL 154.88 48.827488 \nL 174.41 51.374134 \nL 193.94 53.768091 \n\" clip-path=\"url(#p9b27f8967f)\" style=\"fill: none; stroke-dasharray: 5.55,2.4; stroke-dashoffset: 0; stroke: #ff7f0e; stroke-width: 1.5\"/>\n   </g>\n   <g id=\"line2d_92\">\n    <path d=\"M 40.14125 16.35025 \nL 49.90625 32.386835 \nL 59.67125 75.206561 \nL 69.43625 75.588518 \nL 79.20125 101.469457 \nL 88.96625 100.779733 \nL 98.73125 127.433104 \nL 108.49625 120.937593 \nL 118.26125 120.734852 \nL 128.02625 129.403715 \nL 137.79125 123.995073 \nL 147.55625 126.319729 \nL 157.32125 128.787471 \nL 167.08625 116.492197 \nL 176.85125 142.35025 \nL 186.61625 117.611377 \nL 196.38125 133.708912 \nL 206.14625 120.427788 \n\" clip-path=\"url(#p9b27f8967f)\" style=\"fill: none; stroke: #1f77b4; stroke-width: 1.5; stroke-linecap: square\"/>\n   </g>\n   <g id=\"line2d_93\">\n    <path d=\"M 57.23 33.885866 \nL 76.76 37.105952 \nL 96.29 40.17882 \nL 115.82 43.199476 \nL 135.35 46.069593 \nL 154.88 48.827488 \nL 174.41 51.374134 \nL 193.94 53.768091 \n\" clip-path=\"url(#p9b27f8967f)\" style=\"fill: none; stroke-dasharray: 5.55,2.4; stroke-dashoffset: 0; stroke: #ff7f0e; stroke-width: 1.5\"/>\n   </g>\n   <g id=\"line2d_94\">\n    <path d=\"M 40.14125 16.35025 \nL 49.90625 32.386835 \nL 59.67125 75.206561 \nL 69.43625 75.588518 \nL 79.20125 101.469457 \nL 88.96625 100.779733 \nL 98.73125 127.433104 \nL 108.49625 120.937593 \nL 118.26125 120.734852 \nL 128.02625 129.403715 \nL 137.79125 123.995073 \nL 147.55625 126.319729 \nL 157.32125 128.787471 \nL 167.08625 116.492197 \nL 176.85125 142.35025 \nL 186.61625 117.611377 \nL 196.38125 133.708912 \nL 206.14625 120.427788 \n\" clip-path=\"url(#p9b27f8967f)\" style=\"fill: none; stroke: #1f77b4; stroke-width: 1.5; stroke-linecap: square\"/>\n   </g>\n   <g id=\"line2d_95\">\n    <path d=\"M 57.23 33.885866 \nL 76.76 37.105952 \nL 96.29 40.17882 \nL 115.82 43.199476 \nL 135.35 46.069593 \nL 154.88 48.827488 \nL 174.41 51.374134 \nL 193.94 53.768091 \nL 213.47 55.928858 \n\" clip-path=\"url(#p9b27f8967f)\" style=\"fill: none; stroke-dasharray: 5.55,2.4; stroke-dashoffset: 0; stroke: #ff7f0e; stroke-width: 1.5\"/>\n   </g>\n   <g id=\"line2d_96\">\n    <path d=\"M 40.14125 16.35025 \nL 49.90625 32.386835 \nL 59.67125 75.206561 \nL 69.43625 75.588518 \nL 79.20125 101.469457 \nL 88.96625 100.779733 \nL 98.73125 127.433104 \nL 108.49625 120.937593 \nL 118.26125 120.734852 \nL 128.02625 129.403715 \nL 137.79125 123.995073 \nL 147.55625 126.319729 \nL 157.32125 128.787471 \nL 167.08625 116.492197 \nL 176.85125 142.35025 \nL 186.61625 117.611377 \nL 196.38125 133.708912 \nL 206.14625 120.427788 \nL 215.91125 133.897844 \n\" clip-path=\"url(#p9b27f8967f)\" style=\"fill: none; stroke: #1f77b4; stroke-width: 1.5; stroke-linecap: square\"/>\n   </g>\n   <g id=\"line2d_97\">\n    <path d=\"M 57.23 33.885866 \nL 76.76 37.105952 \nL 96.29 40.17882 \nL 115.82 43.199476 \nL 135.35 46.069593 \nL 154.88 48.827488 \nL 174.41 51.374134 \nL 193.94 53.768091 \nL 213.47 55.928858 \n\" clip-path=\"url(#p9b27f8967f)\" style=\"fill: none; stroke-dasharray: 5.55,2.4; stroke-dashoffset: 0; stroke: #ff7f0e; stroke-width: 1.5\"/>\n   </g>\n   <g id=\"line2d_98\">\n    <path d=\"M 40.14125 16.35025 \nL 49.90625 32.386835 \nL 59.67125 75.206561 \nL 69.43625 75.588518 \nL 79.20125 101.469457 \nL 88.96625 100.779733 \nL 98.73125 127.433104 \nL 108.49625 120.937593 \nL 118.26125 120.734852 \nL 128.02625 129.403715 \nL 137.79125 123.995073 \nL 147.55625 126.319729 \nL 157.32125 128.787471 \nL 167.08625 116.492197 \nL 176.85125 142.35025 \nL 186.61625 117.611377 \nL 196.38125 133.708912 \nL 206.14625 120.427788 \nL 215.91125 133.897844 \nL 225.67625 122.605557 \n\" clip-path=\"url(#p9b27f8967f)\" style=\"fill: none; stroke: #1f77b4; stroke-width: 1.5; stroke-linecap: square\"/>\n   </g>\n   <g id=\"line2d_99\">\n    <path d=\"M 57.23 33.885866 \nL 76.76 37.105952 \nL 96.29 40.17882 \nL 115.82 43.199476 \nL 135.35 46.069593 \nL 154.88 48.827488 \nL 174.41 51.374134 \nL 193.94 53.768091 \nL 213.47 55.928858 \n\" clip-path=\"url(#p9b27f8967f)\" style=\"fill: none; stroke-dasharray: 5.55,2.4; stroke-dashoffset: 0; stroke: #ff7f0e; stroke-width: 1.5\"/>\n   </g>\n   <g id=\"line2d_100\">\n    <path d=\"M 40.14125 16.35025 \nL 49.90625 32.386835 \nL 59.67125 75.206561 \nL 69.43625 75.588518 \nL 79.20125 101.469457 \nL 88.96625 100.779733 \nL 98.73125 127.433104 \nL 108.49625 120.937593 \nL 118.26125 120.734852 \nL 128.02625 129.403715 \nL 137.79125 123.995073 \nL 147.55625 126.319729 \nL 157.32125 128.787471 \nL 167.08625 116.492197 \nL 176.85125 142.35025 \nL 186.61625 117.611377 \nL 196.38125 133.708912 \nL 206.14625 120.427788 \nL 215.91125 133.897844 \nL 225.67625 122.605557 \n\" clip-path=\"url(#p9b27f8967f)\" style=\"fill: none; stroke: #1f77b4; stroke-width: 1.5; stroke-linecap: square\"/>\n   </g>\n   <g id=\"line2d_101\">\n    <path d=\"M 57.23 33.885866 \nL 76.76 37.105952 \nL 96.29 40.17882 \nL 115.82 43.199476 \nL 135.35 46.069593 \nL 154.88 48.827488 \nL 174.41 51.374134 \nL 193.94 53.768091 \nL 213.47 55.928858 \nL 233 57.870008 \n\" clip-path=\"url(#p9b27f8967f)\" style=\"fill: none; stroke-dasharray: 5.55,2.4; stroke-dashoffset: 0; stroke: #ff7f0e; stroke-width: 1.5\"/>\n   </g>\n   <g id=\"patch_3\">\n    <path d=\"M 37.7 148.65025 \nL 37.7 10.05025 \n\" style=\"fill: none; stroke: #000000; stroke-width: 0.8; stroke-linejoin: miter; stroke-linecap: square\"/>\n   </g>\n   <g id=\"patch_4\">\n    <path d=\"M 233 148.65025 \nL 233 10.05025 \n\" style=\"fill: none; stroke: #000000; stroke-width: 0.8; stroke-linejoin: miter; stroke-linecap: square\"/>\n   </g>\n   <g id=\"patch_5\">\n    <path d=\"M 37.7 148.65025 \nL 233 148.65025 \n\" style=\"fill: none; stroke: #000000; stroke-width: 0.8; stroke-linejoin: miter; stroke-linecap: square\"/>\n   </g>\n   <g id=\"patch_6\">\n    <path d=\"M 37.7 10.05025 \nL 233 10.05025 \n\" style=\"fill: none; stroke: #000000; stroke-width: 0.8; stroke-linejoin: miter; stroke-linecap: square\"/>\n   </g>\n   <g id=\"legend_1\">\n    <g id=\"patch_7\">\n     <path d=\"M 146.409375 95.8065 \nL 226 95.8065 \nQ 228 95.8065 228 93.8065 \nL 228 64.894 \nQ 228 62.894 226 62.894 \nL 146.409375 62.894 \nQ 144.409375 62.894 144.409375 64.894 \nL 144.409375 93.8065 \nQ 144.409375 95.8065 146.409375 95.8065 \nz\n\" style=\"fill: #ffffff; opacity: 0.8; stroke: #cccccc; stroke-linejoin: miter\"/>\n    </g>\n    <g id=\"line2d_102\">\n     <path d=\"M 148.409375 70.992438 \nL 158.409375 70.992438 \nL 168.409375 70.992438 \n\" style=\"fill: none; stroke: #1f77b4; stroke-width: 1.5; stroke-linecap: square\"/>\n    </g>\n    <g id=\"text_13\">\n     <!-- train_loss -->\n     <g transform=\"translate(176.409375 74.492438) scale(0.1 -0.1)\">\n      <defs>\n       <path id=\"DejaVuSans-74\" d=\"M 1172 4494 \nL 1172 3500 \nL 2356 3500 \nL 2356 3053 \nL 1172 3053 \nL 1172 1153 \nQ 1172 725 1289 603 \nQ 1406 481 1766 481 \nL 2356 481 \nL 2356 0 \nL 1766 0 \nQ 1100 0 847 248 \nQ 594 497 594 1153 \nL 594 3053 \nL 172 3053 \nL 172 3500 \nL 594 3500 \nL 594 4494 \nL 1172 4494 \nz\n\" transform=\"scale(0.015625)\"/>\n       <path id=\"DejaVuSans-72\" d=\"M 2631 2963 \nQ 2534 3019 2420 3045 \nQ 2306 3072 2169 3072 \nQ 1681 3072 1420 2755 \nQ 1159 2438 1159 1844 \nL 1159 0 \nL 581 0 \nL 581 3500 \nL 1159 3500 \nL 1159 2956 \nQ 1341 3275 1631 3429 \nQ 1922 3584 2338 3584 \nQ 2397 3584 2469 3576 \nQ 2541 3569 2628 3553 \nL 2631 2963 \nz\n\" transform=\"scale(0.015625)\"/>\n       <path id=\"DejaVuSans-61\" d=\"M 2194 1759 \nQ 1497 1759 1228 1600 \nQ 959 1441 959 1056 \nQ 959 750 1161 570 \nQ 1363 391 1709 391 \nQ 2188 391 2477 730 \nQ 2766 1069 2766 1631 \nL 2766 1759 \nL 2194 1759 \nz\nM 3341 1997 \nL 3341 0 \nL 2766 0 \nL 2766 531 \nQ 2569 213 2275 61 \nQ 1981 -91 1556 -91 \nQ 1019 -91 701 211 \nQ 384 513 384 1019 \nQ 384 1609 779 1909 \nQ 1175 2209 1959 2209 \nL 2766 2209 \nL 2766 2266 \nQ 2766 2663 2505 2880 \nQ 2244 3097 1772 3097 \nQ 1472 3097 1187 3025 \nQ 903 2953 641 2809 \nL 641 3341 \nQ 956 3463 1253 3523 \nQ 1550 3584 1831 3584 \nQ 2591 3584 2966 3190 \nQ 3341 2797 3341 1997 \nz\n\" transform=\"scale(0.015625)\"/>\n       <path id=\"DejaVuSans-69\" d=\"M 603 3500 \nL 1178 3500 \nL 1178 0 \nL 603 0 \nL 603 3500 \nz\nM 603 4863 \nL 1178 4863 \nL 1178 4134 \nL 603 4134 \nL 603 4863 \nz\n\" transform=\"scale(0.015625)\"/>\n       <path id=\"DejaVuSans-6e\" d=\"M 3513 2113 \nL 3513 0 \nL 2938 0 \nL 2938 2094 \nQ 2938 2591 2744 2837 \nQ 2550 3084 2163 3084 \nQ 1697 3084 1428 2787 \nQ 1159 2491 1159 1978 \nL 1159 0 \nL 581 0 \nL 581 3500 \nL 1159 3500 \nL 1159 2956 \nQ 1366 3272 1645 3428 \nQ 1925 3584 2291 3584 \nQ 2894 3584 3203 3211 \nQ 3513 2838 3513 2113 \nz\n\" transform=\"scale(0.015625)\"/>\n       <path id=\"DejaVuSans-5f\" d=\"M 3263 -1063 \nL 3263 -1509 \nL -63 -1509 \nL -63 -1063 \nL 3263 -1063 \nz\n\" transform=\"scale(0.015625)\"/>\n       <path id=\"DejaVuSans-6c\" d=\"M 603 4863 \nL 1178 4863 \nL 1178 0 \nL 603 0 \nL 603 4863 \nz\n\" transform=\"scale(0.015625)\"/>\n       <path id=\"DejaVuSans-73\" d=\"M 2834 3397 \nL 2834 2853 \nQ 2591 2978 2328 3040 \nQ 2066 3103 1784 3103 \nQ 1356 3103 1142 2972 \nQ 928 2841 928 2578 \nQ 928 2378 1081 2264 \nQ 1234 2150 1697 2047 \nL 1894 2003 \nQ 2506 1872 2764 1633 \nQ 3022 1394 3022 966 \nQ 3022 478 2636 193 \nQ 2250 -91 1575 -91 \nQ 1294 -91 989 -36 \nQ 684 19 347 128 \nL 347 722 \nQ 666 556 975 473 \nQ 1284 391 1588 391 \nQ 1994 391 2212 530 \nQ 2431 669 2431 922 \nQ 2431 1156 2273 1281 \nQ 2116 1406 1581 1522 \nL 1381 1569 \nQ 847 1681 609 1914 \nQ 372 2147 372 2553 \nQ 372 3047 722 3315 \nQ 1072 3584 1716 3584 \nQ 2034 3584 2315 3537 \nQ 2597 3491 2834 3397 \nz\n\" transform=\"scale(0.015625)\"/>\n      </defs>\n      <use xlink:href=\"#DejaVuSans-74\"/>\n      <use xlink:href=\"#DejaVuSans-72\" x=\"39.208984\"/>\n      <use xlink:href=\"#DejaVuSans-61\" x=\"80.322266\"/>\n      <use xlink:href=\"#DejaVuSans-69\" x=\"141.601562\"/>\n      <use xlink:href=\"#DejaVuSans-6e\" x=\"169.384766\"/>\n      <use xlink:href=\"#DejaVuSans-5f\" x=\"232.763672\"/>\n      <use xlink:href=\"#DejaVuSans-6c\" x=\"282.763672\"/>\n      <use xlink:href=\"#DejaVuSans-6f\" x=\"310.546875\"/>\n      <use xlink:href=\"#DejaVuSans-73\" x=\"371.728516\"/>\n      <use xlink:href=\"#DejaVuSans-73\" x=\"423.828125\"/>\n     </g>\n    </g>\n    <g id=\"line2d_103\">\n     <path d=\"M 148.409375 85.948688 \nL 158.409375 85.948688 \nL 168.409375 85.948688 \n\" style=\"fill: none; stroke-dasharray: 5.55,2.4; stroke-dashoffset: 0; stroke: #ff7f0e; stroke-width: 1.5\"/>\n    </g>\n    <g id=\"text_14\">\n     <!-- val_loss -->\n     <g transform=\"translate(176.409375 89.448688) scale(0.1 -0.1)\">\n      <defs>\n       <path id=\"DejaVuSans-76\" d=\"M 191 3500 \nL 800 3500 \nL 1894 563 \nL 2988 3500 \nL 3597 3500 \nL 2284 0 \nL 1503 0 \nL 191 3500 \nz\n\" transform=\"scale(0.015625)\"/>\n      </defs>\n      <use xlink:href=\"#DejaVuSans-76\"/>\n      <use xlink:href=\"#DejaVuSans-61\" x=\"59.179688\"/>\n      <use xlink:href=\"#DejaVuSans-6c\" x=\"120.458984\"/>\n      <use xlink:href=\"#DejaVuSans-5f\" x=\"148.242188\"/>\n      <use xlink:href=\"#DejaVuSans-6c\" x=\"198.242188\"/>\n      <use xlink:href=\"#DejaVuSans-6f\" x=\"226.025391\"/>\n      <use xlink:href=\"#DejaVuSans-73\" x=\"287.207031\"/>\n      <use xlink:href=\"#DejaVuSans-73\" x=\"339.306641\"/>\n     </g>\n    </g>\n   </g>\n  </g>\n </g>\n <defs>\n  <clipPath id=\"p9b27f8967f\">\n   <rect x=\"37.7\" y=\"10.05025\" width=\"195.3\" height=\"138.6\"/>\n  </clipPath>\n </defs>\n</svg>\n",
      "text/plain": [
       "<Figure size 350x250 with 1 Axes>"
      ]
     },
     "metadata": {},
     "output_type": "display_data"
    }
   ],
   "source": [
    "model = WeightDecay(wd=3, lr=0.01)\n",
    "model.board.yscale='log'\n",
    "trainer.fit(model, data)\n",
    "print('L2 norm of w:', float(l2_penalty(model.get_w_b()[0])))"
   ]
  },
  {
   "cell_type": "markdown",
   "id": "edac9275",
   "metadata": {
    "origin_pos": 26
   },
   "source": [
    "So far, we only touched upon one notion of\n",
    "what constitutes a simple linear function.\n",
    "Moreover, what constitutes a simple nonlinear function\n",
    "can be an even more complex question.\n",
    "For instance, [reproducing kernel Hilbert space (RKHS)](https://en.wikipedia.org/wiki/Reproducing_kernel_Hilbert_space)\n",
    "allows one to apply tools introduced\n",
    "for linear functions in a nonlinear context.\n",
    "Unfortunately, RKHS-based algorithms\n",
    "tend to scale poorly to large, high-dimensional data.\n",
    "In this book we will often adopt the common heuristic\n",
    "whereby weight decay is applied\n",
    "to all layers of a deep network.\n",
    "\n",
    "## Summary\n",
    "\n",
    "* Regularization is a common method for dealing with overfitting. Classical regularization techniques add a penalty term to the loss function (when training) to reduce the complexity of the learned model.\n",
    "* One particular choice for keeping the model simple is using an $\\ell_2$ penalty. This leads to weight decay in the update steps of the minibatch stochastic gradient descent algorithm.\n",
    "* The weight decay functionality is provided in optimizers from deep learning frameworks.\n",
    "* Different sets of parameters can have different update behaviors within the same training loop.\n",
    "\n",
    "\n",
    "\n",
    "## Exercises\n",
    "\n",
    "1. Experiment with the value of $\\lambda$ in the estimation problem in this section. Plot training and validation accuracy as a function of $\\lambda$. What do you observe?\n",
    "1. Use a validation set to find the optimal value of $\\lambda$. Is it really the optimal value? Does this matter?\n",
    "1. What would the update equations look like if instead of $\\|\\mathbf{w}\\|^2$ we used $\\sum_i |w_i|$ as our penalty of choice ($\\ell_1$ regularization)?\n",
    "1. We know that $\\|\\mathbf{w}\\|^2 = \\mathbf{w}^\\top \\mathbf{w}$. Can you find a similar equation for matrices (see the Frobenius norm in :numref:`subsec_lin-algebra-norms`)?\n",
    "1. Review the relationship between training error and generalization error. In addition to weight decay, increased training, and the use of a model of suitable complexity, what other ways can you think of to deal with overfitting?\n",
    "1. In Bayesian statistics we use the product of prior and likelihood to arrive at a posterior via $P(w \\mid x) \\propto P(x \\mid w) P(w)$. How can you identify $P(w)$ with regularization?\n"
   ]
  },
  {
   "cell_type": "markdown",
   "id": "28aad374",
   "metadata": {
    "origin_pos": 28,
    "tab": [
     "pytorch"
    ]
   },
   "source": [
    "[Discussions](https://discuss.d2l.ai/t/99)\n"
   ]
  }
 ],
 "metadata": {
  "kernelspec": {
   "display_name": "base",
   "language": "python",
   "name": "python3"
  },
  "language_info": {
   "codemirror_mode": {
    "name": "ipython",
    "version": 3
   },
   "file_extension": ".py",
   "mimetype": "text/x-python",
   "name": "python",
   "nbconvert_exporter": "python",
   "pygments_lexer": "ipython3",
   "version": "3.10.6"
  },
  "vscode": {
   "interpreter": {
    "hash": "924b4310eef0a4626e6be183858539210ebddb9168f6747ddef9ed01eb54dbfb"
   }
  }
 },
 "nbformat": 4,
 "nbformat_minor": 5
}
