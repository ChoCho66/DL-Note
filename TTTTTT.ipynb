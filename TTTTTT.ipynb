{
 "cells": [
  {
   "cell_type": "markdown",
   "metadata": {},
   "source": [
    "# TTTTTT {#sec-TTTTTT}"
   ]
  },
  {
   "cell_type": "code",
   "execution_count": 5,
   "metadata": {},
   "outputs": [
    {
     "data": {
      "text/markdown": [
       "Est, ut dicis, inquam. sed tamen omne, quod de re bona dilucide dicitur, mihi praeclare dici videtur. istius modi autem res dicere ornate velle puerile est, plane autem et perspicue expedire posse docti et intellegentis viri. Progrediamur igitur, quoniam, inquit, ab his principiis naturae discessimus, quibus congruere debent quae sequuntur. sequitur autem haec prima divisio: Aestimabile esse dicunt - sic enim, ut opinor, appellemus - id, quod aut ipsum secundum naturam sit aut tale quid efficiat, ut selectione dignum propterea sit, quod aliquod pondus habeat dignum aestimatione, quam illi an vocant, contraque inaestimabile, quod sit superiori contrarium. initiis igitur it!"
      ],
      "text/plain": [
       "<IPython.core.display.Markdown object>"
      ]
     },
     "metadata": {},
     "output_type": "display_data"
    }
   ],
   "source": [
    "#| echo: False\n",
    "\n",
    "from IPython.display import display, Markdown\n",
    "import lipsum\n",
    "display(Markdown(lipsum.generate_words(100)))\n"
   ]
  },
  {
   "cell_type": "code",
   "execution_count": 2,
   "metadata": {},
   "outputs": [
    {
     "data": {
      "text/markdown": [
       "\n",
       "The radius of the circle is 10.\n"
      ],
      "text/plain": [
       "<IPython.core.display.Markdown object>"
      ]
     },
     "metadata": {},
     "output_type": "display_data"
    },
    {
     "data": {
      "text/markdown": [
       "\n",
       "FFF is 100.\n"
      ],
      "text/plain": [
       "<IPython.core.display.Markdown object>"
      ]
     },
     "metadata": {},
     "output_type": "display_data"
    },
    {
     "data": {
      "text/markdown": [
       "Quid igitur est? inquit; audire enim cupio, quid non probes. Principio, inquam, in physicis, quibus maxime gloriatur, primum totus est alienus. Democritea dicit perpauca mutans, sed ita, ut ea, quae corrigere vult, mihi quidem depravare videatur. ille atomos quas appellat, id est corpora individua propter soliditatem, censet in infinito inani, in quo nihil nec summum nec infimum nec medium nec ultimum nec extremum sit, ita ferri, ut concursionibus inter se cohaerescant, ex quo efficiantur ea, quae sint quaeque cernantur, omnia, eumque motum atomorum nullo a principio, sed ex aeterno tempore intellegi convenire. Epicurus autem, in quibus sequitur Democritum, non fer."
      ],
      "text/plain": [
       "<IPython.core.display.Markdown object>"
      ]
     },
     "metadata": {},
     "output_type": "display_data"
    }
   ],
   "source": [
    "#| echo: False\n",
    "\n",
    "from IPython.display import display, Markdown\n",
    "import lipsum\n",
    "radius = 10\n",
    "FFF = 100\n",
    "\n",
    "display(Markdown(\"\"\"\n",
    "The radius of the circle is {radius}.\n",
    "\"\"\".format(radius = radius)))\n",
    "\n",
    "display(Markdown(f\"\"\"\n",
    "FFF is {FFF}.\n",
    "\"\"\"))\n",
    "\n",
    "display(Markdown(lipsum.generate_words(100)))"
   ]
  },
  {
   "cell_type": "code",
   "execution_count": 3,
   "metadata": {},
   "outputs": [
    {
     "name": "stdout",
     "output_type": "stream",
     "text": [
      "0\n",
      "1\n",
      "2\n",
      "3\n",
      "4\n"
     ]
    }
   ],
   "source": [
    "import time\n",
    "\n",
    "for i in range(10):\n",
    "    print(i)\n",
    "    time.sleep(3)"
   ]
  },
  {
   "cell_type": "markdown",
   "metadata": {},
   "source": [
    "測試中文  \n",
    "\n",
    "\n",
    "See @sec-TTTTTT."
   ]
  },
  {
   "cell_type": "markdown",
   "metadata": {
    "slideshow": {
     "slide_type": "slide"
    }
   },
   "source": [
    "Let $f$ be a function of $B.$\n",
    "\n",
    "\\begin{align*}\n",
    "  \\begin{aligned}\n",
    "  f(X) = y.\n",
    "  \\end{aligned}\n",
    "\\end{align*}\n"
   ]
  },
  {
   "cell_type": "code",
   "execution_count": null,
   "metadata": {},
   "outputs": [
    {
     "name": "stdout",
     "output_type": "stream",
     "text": [
      "0\n",
      "1\n",
      "2\n",
      "3\n",
      "4\n"
     ]
    }
   ],
   "source": [
    "for i in range(100):\n",
    "    print(i)"
   ]
  },
  {
   "cell_type": "markdown",
   "metadata": {},
   "source": [
    "Let\n",
    "\\begin{align*}\n",
    "  \\begin{aligned}\n",
    "  F(X) = Y, \\cr \n",
    "  G(Y) = Z.\n",
    "  \\end{aligned}\n",
    "\\end{align*}\n",
    "Then we have\n",
    "\n",
    "* asdasd\n",
    "* asdasdsa \n",
    "  * asdasds \n",
    "\n",
    "\n",
    "::: {#thm-line}\n",
    "\n",
    "## ABS\n",
    "\n",
    "The equation of any straight line, called a linear equation, can be written as:\n",
    "\n",
    "Black-Scholes (@eq-black-scholes) is a mathematical model that seeks to explain the behavior of financial derivatives, most commonly options:\n",
    "\n",
    "$$\n",
    "\\begin{aligned}\n",
    "f(X) &= Y, \\cr \n",
    "g(Y) &= Zasdasd .\n",
    "\\end{aligned}\n",
    "$$ {#eq-black-scholes}\n",
    "\n",
    "$$\n",
    "\\begin{aligned}\n",
    "  F(X) = y.\n",
    "\\end{aligned}\n",
    "$$ {#eq-black-scholes2}\n",
    "\n",
    ":::\n",
    "\n",
    "See @thm-line.\n",
    "\n",
    "Let (@eq-black-scholes2) . \n",
    "\n",
    "\n",
    "\n",
    "::: {.solution}\n",
    "The solution.\n",
    ":::\n",
    "\n",
    "::: {.remark}\n",
    "TTTTTTT remark.\n",
    ":::\n",
    "\n",
    "::: {.proof}\n",
    "asdsadasds finish.\n",
    ":::\n",
    "\n",
    "asdasd\n",
    "\n",
    "\n",
    "$\\mathbb E$ adasd sd asd \n",
    "\n",
    "測試中文\n",
    "\n",
    "\n",
    "\n",
    "Let $f$ be a bounded function on $\\mathbb R$ with a jumpt at $0.$\n",
    "\n",
    "## SSSSSSSSSS {#sec-SSSSS}\n",
    "\n",
    "\n",
    "See @sec-SSSSS\n"
   ]
  }
 ],
 "metadata": {
  "kernelspec": {
   "display_name": "Python 3.8.5 ('base')",
   "language": "python",
   "name": "python3"
  },
  "language_info": {
   "codemirror_mode": {
    "name": "ipython",
    "version": 3
   },
   "file_extension": ".py",
   "mimetype": "text/x-python",
   "name": "python",
   "nbconvert_exporter": "python",
   "pygments_lexer": "ipython3",
   "version": "3.9.15"
  },
  "orig_nbformat": 4,
  "vscode": {
   "interpreter": {
    "hash": "eec0bbd69775e2ede617eb732c3da0908a156ab824a3a35ce619a3d92f1491be"
   }
  }
 },
 "nbformat": 4,
 "nbformat_minor": 2
}
