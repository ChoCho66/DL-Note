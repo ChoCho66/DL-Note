{
 "cells": [
  {
   "attachments": {},
   "cell_type": "markdown",
   "metadata": {},
   "source": [
    "---\n",
    "title: \"2023-01-11\"\n",
    "# subtitle: Last \n",
    "# author: <a href=\"https://github.com/ChoCho66\">ChoCho</a>\n",
    "author: ChoCho<br><br>\n",
    "date: last-modified\n",
    "# date-modified: last-modified\n",
    "date-format: iso\n",
    "institute: MODIFIED\n",
    "bibliography: ../references.bib\n",
    "slide-number: c/t\n",
    "# knitr: true\n",
    "# jupyter: python3\n",
    "\n",
    "format:\n",
    "  revealjs:\n",
    "    # theme: beige\n",
    "    # theme: ../custom.scss\n",
    "    theme: [serif,custom.scss]    # 像 LaTeX\n",
    "    width: 1800\n",
    "    height: 1050\n",
    "    # transition: fade\n",
    "    # preview-links: auto\n",
    "    # slide-number: true\n",
    "    # slide-tone: true\n",
    "    # show-slide-number: print\n",
    "    chalkboard:\n",
    "      theme: whiteboard\n",
    "      boardmarker-width: 2\n",
    "      src: \"Chalkboard.json\"\n",
    "    scrollable: true\n",
    "    echo: true\n",
    "    # footer: \"NCU math\"\n",
    "    # logo: cover.jpg\n",
    "filters: [revealjs_filter.lua]\n",
    "\n",
    "---\n",
    "\n",
    "### MODIFIED\n",
    "\n",
    "- 2023-01-09: 測試"
   ]
  },
  {
   "attachments": {},
   "cell_type": "markdown",
   "metadata": {},
   "source": [
    "## Part 1\n",
    "\n",
    "### 333\n",
    "\n",
    "## Part 2\n",
    "\n",
    "asdsd \n",
    "\n",
    "### 444\n",
    "\n",
    "fjapidfjaipfj ap ip"
   ]
  }
 ],
 "metadata": {
  "kernelspec": {
   "display_name": "base",
   "language": "python",
   "name": "python3"
  },
  "language_info": {
   "codemirror_mode": {
    "name": "ipython",
    "version": 3
   },
   "file_extension": ".py",
   "mimetype": "text/x-python",
   "name": "python",
   "nbconvert_exporter": "python",
   "pygments_lexer": "ipython3",
   "version": "3.10.6 | packaged by conda-forge | (main, Aug 22 2022, 20:41:22) [Clang 13.0.1 ]"
  },
  "orig_nbformat": 4,
  "vscode": {
   "interpreter": {
    "hash": "924b4310eef0a4626e6be183858539210ebddb9168f6747ddef9ed01eb54dbfb"
   }
  }
 },
 "nbformat": 4,
 "nbformat_minor": 2
}
