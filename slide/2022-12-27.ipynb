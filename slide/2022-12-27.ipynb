{
 "cells": [
  {
   "cell_type": "raw",
   "metadata": {},
   "source": [
    "---\n",
    "title: \"2022-12-27\"\n",
    "author: \"ChoCho\"\n",
    "date: last-modified\n",
    "date-format: iso\n",
    "bibliography: ../references.bib\n",
    "# knitr: true\n",
    "# jupyter: python3\n",
    "format:\n",
    "  revealjs:\n",
    "    # theme: beige\n",
    "    # theme: ../custom.scss\n",
    "    theme: [serif,custom.scss]    # 像 LaTeX\n",
    "    width: 1800\n",
    "    height: 1050\n",
    "    # transition: fade\n",
    "    # preview-links: auto\n",
    "    # slide-number: true\n",
    "    # slide-tone: true\n",
    "    # show-slide-number: print\n",
    "    chalkboard:\n",
    "      theme: whiteboard\n",
    "      boardmarker-width: 2\n",
    "      src: \"Chalkboard-2022-12-27.json\"\n",
    "    scrollable: true\n",
    "    echo: true\n",
    "    # footer: \"NCU math\"\n",
    "    # logo: cover.jpg\n",
    "---"
   ]
  },
  {
   "attachments": {},
   "cell_type": "markdown",
   "metadata": {},
   "source": [
    "## Recall 2022-12-20\n",
    "\n",
    "- Date $(x^{(1)},y^{(1)}), \\cdots , (x^{(n)},y^{(n)})$ 是從 $y=f_{\\mathtt{real}}(x)$ sample 出來的 (加上一些擾動).\n",
    "\n",
    "- $f_{\\mathtt{real}}$ 一般會是連續函數.\n",
    "  - [Stone–Weierstrass theorem](https://en.wikipedia.org/wiki/Stone–Weierstrass_theorem)\n",
    "\n",
    "- 要估計 $f_{\\mathtt{real}}$:\n",
    "  - 去生成 $f$ s.t. $f\\approx f_{\\mathtt{real}}.$\n",
    "  - 用 $\\widehat{y}=\\mathtt{Net}(x):=f(x)$ 作為估計值.\n",
    "  - $\\mathtt{Net}=\\mathtt{Net}(\\theta)$: $\\theta$ 為變量.\n",
    "  - Linear model 大多時無用.\n",
    "  - Let $\\widehat{y}^{(i)}=\\mathtt{Net}(x^{(i)}).$\n",
    "  - 去 min $\\frac{1}{n}\\sum_{i=1}^n \\ell(y^{(i)},\\widehat{y}^{(i)}),$ where $\\ell$ is some loss function.\n",
    "\n",
    "- 理紅意老師講義\n",
    "- 得到 DNN 的架構\n",
    "  - 宇宙定理 5.1.1.4. en"
   ]
  },
  {
   "attachments": {},
   "cell_type": "markdown",
   "metadata": {},
   "source": [
    "## Outline of 2022-12-27\n",
    "\n",
    "- "
   ]
  },
  {
   "attachments": {},
   "cell_type": "markdown",
   "metadata": {},
   "source": [
    "\n",
    "- 為什麼 DNN 結構長這樣：微分好算\n",
    "  - 5.3 Forward Propagation, Backward Propagation (en)\n",
    "  - 很好用電腦表示(可用矩陣表示)\n",
    "\n",
    "- 宇宙定理\n",
    "  - 所以 DNN 只要參數足夠, 幾乎都會 Overfitting.\n",
    "\n",
    "## 5.2.2 用 API 弄 NN\n",
    "\n",
    "## 3.6 en overfitting 那些\n",
    "\n",
    "## 3.7 en Regularization\n",
    "  - 5.6 Dropout en\n",
    "  - https://speech.ee.ntu.edu.tw/~tlkagk/courses/ML_2017/Lecture/DNN%20tip.pdf\n",
    "  - 銀行人員？\n",
    "  - 破壞細胞？\n",
    "\n",
    "## 5.4 梯度消失 以及 W 初始化的問題\n",
    "\n"
   ]
  },
  {
   "attachments": {},
   "cell_type": "markdown",
   "metadata": {},
   "source": [
    "## 5.2.2 Net API\n",
    "\n",
    "Visualize Net"
   ]
  },
  {
   "attachments": {},
   "cell_type": "markdown",
   "metadata": {},
   "source": [
    "## 4.9.3 分布偏移"
   ]
  },
  {
   "attachments": {},
   "cell_type": "markdown",
   "metadata": {},
   "source": [
    "- https://www.zhihu.com/question/26485586\n",
    "- https://roger010620.medium.com/l1-l2-regularization-原理-5beb1b68b955\n",
    "- https://hackmd.io/@kk6333/BkIDyLikj"
   ]
  },
  {
   "attachments": {},
   "cell_type": "markdown",
   "metadata": {},
   "source": [
    "- https://bobondemon.github.io/2017/11/14/Notes-for-KKT-Conditions/\n",
    "- https://stats.stackexchange.com/a/348505\n",
    "- https://www.zhihu.com/question/26485586"
   ]
  }
 ],
 "metadata": {
  "kernelspec": {
   "display_name": "base",
   "language": "python",
   "name": "python3"
  },
  "language_info": {
   "codemirror_mode": {
    "name": "ipython",
    "version": 3
   },
   "file_extension": ".py",
   "mimetype": "text/x-python",
   "name": "python",
   "nbconvert_exporter": "python",
   "pygments_lexer": "ipython3",
   "version": "3.10.6 | packaged by conda-forge | (main, Aug 22 2022, 20:41:22) [Clang 13.0.1 ]"
  },
  "orig_nbformat": 4,
  "vscode": {
   "interpreter": {
    "hash": "924b4310eef0a4626e6be183858539210ebddb9168f6747ddef9ed01eb54dbfb"
   }
  }
 },
 "nbformat": 4,
 "nbformat_minor": 2
}
