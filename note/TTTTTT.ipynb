{
 "cells": [
  {
   "cell_type": "markdown",
   "metadata": {},
   "source": [
    "# TTTTTT {#sec-TTTTTT}"
   ]
  },
  {
   "cell_type": "code",
   "execution_count": 2,
   "metadata": {},
   "outputs": [
    {
     "data": {
      "text/markdown": [
       "Atque haec quidem de rerum nominibus. de ipsis rebus autem saepenumero, Brute, vereor ne reprehendar, cum haec ad te scribam, qui cum in philosophia, tum in optimo genere philosophiae tantum processeris. quod si facerem quasi te erudiens, iure reprehenderer. sed ab eo plurimum absum neque, ut ea cognoscas, quae tibi notissima sunt, ad te mitto, sed quia facillime in nomine tuo adquiesco, et quia te habeo aequissimum eorum studiorum, quae mihi communia tecum sunt, existimatorem et iudicem. attendes igitur, ut soles, diligenter eamque controversiam diiudicabis, quae mihi fuit cum avunculo tuo, divino ac singulari viro. nam in Tusculano cum esse."
      ],
      "text/plain": [
       "<IPython.core.display.Markdown object>"
      ]
     },
     "metadata": {},
     "output_type": "display_data"
    }
   ],
   "source": [
    "#| echo: False\n",
    "\n",
    "from IPython.display import display, Markdown\n",
    "import lipsum\n",
    "display(Markdown(lipsum.generate_words(100)))\n"
   ]
  },
  {
   "cell_type": "code",
   "execution_count": 3,
   "metadata": {},
   "outputs": [
    {
     "data": {
      "text/markdown": [
       "\n",
       "The radius of the circle is 10.\n"
      ],
      "text/plain": [
       "<IPython.core.display.Markdown object>"
      ]
     },
     "metadata": {},
     "output_type": "display_data"
    },
    {
     "data": {
      "text/markdown": [
       "\n",
       "FFF is 100.\n"
      ],
      "text/plain": [
       "<IPython.core.display.Markdown object>"
      ]
     },
     "metadata": {},
     "output_type": "display_data"
    },
    {
     "data": {
      "text/markdown": [
       "Laelius clamoressofw ille so lebat Edere compellans gumias ex ordinenostros. praeclare Laelius, et recte sofw, illudque vere: OPubli, o gurges, Galloni! es homo miser, inquit. Cenasti in vitanumquam bene, cum omnia in ista Consumis squilla atque acupenserecum decimano. is haec loquitur, qui in voluptate nihil ponens negateum bene cenare, qui omnia ponat in voluptate, et tamen non negatlibenter cenasse umquam Gallonium - mentiretur enim - sed bene.ita graviter et severe voluptatem secrevit a bono. ex quo illudefficitur, qui bene cenent omnis libenter cenare, qui libenter, noncontinuo bene. prave, nequiter, turpiter cenabat; non igitur. nec lapathi suavitatem acupenseri Galloni Laeliusanteponebat, se?"
      ],
      "text/plain": [
       "<IPython.core.display.Markdown object>"
      ]
     },
     "metadata": {},
     "output_type": "display_data"
    }
   ],
   "source": [
    "#| echo: False\n",
    "\n",
    "from IPython.display import display, Markdown\n",
    "import lipsum\n",
    "radius = 10\n",
    "FFF = 100\n",
    "\n",
    "display(Markdown(\"\"\"\n",
    "The radius of the circle is {radius}.\n",
    "\"\"\".format(radius = radius)))\n",
    "\n",
    "display(Markdown(f\"\"\"\n",
    "FFF is {FFF}.\n",
    "\"\"\"))\n",
    "\n",
    "display(Markdown(lipsum.generate_words(100)))"
   ]
  },
  {
   "cell_type": "code",
   "execution_count": 4,
   "metadata": {},
   "outputs": [
    {
     "name": "stdout",
     "output_type": "stream",
     "text": [
      "0\n",
      "1\n",
      "2\n",
      "3\n",
      "4\n",
      "5\n",
      "6\n",
      "7\n",
      "8\n",
      "9\n"
     ]
    }
   ],
   "source": [
    "import time\n",
    "\n",
    "for i in range(10):\n",
    "    print(i)\n",
    "    time.sleep(3)"
   ]
  },
  {
   "cell_type": "markdown",
   "metadata": {},
   "source": [
    "測試中文  \n",
    "\n",
    "\n",
    "See @sec-TTTTTT."
   ]
  },
  {
   "cell_type": "markdown",
   "metadata": {
    "slideshow": {
     "slide_type": "slide"
    }
   },
   "source": [
    "Let $f$ be a function of $B.$\n",
    "\n",
    "\\begin{align*}\n",
    "  \\begin{aligned}\n",
    "  f(X) = y.\n",
    "  \\end{aligned}\n",
    "\\end{align*}\n"
   ]
  },
  {
   "cell_type": "code",
   "execution_count": null,
   "metadata": {},
   "outputs": [
    {
     "name": "stdout",
     "output_type": "stream",
     "text": [
      "0\n",
      "1\n",
      "2\n",
      "3\n",
      "4\n"
     ]
    }
   ],
   "source": [
    "for i in range(100):\n",
    "    print(i)"
   ]
  },
  {
   "cell_type": "markdown",
   "metadata": {},
   "source": [
    "Let\n",
    "\\begin{align*}\n",
    "  \\begin{aligned}\n",
    "  F(X) = Y, \\cr \n",
    "  G(Y) = Z.\n",
    "  \\end{aligned}\n",
    "\\end{align*}\n",
    "Then we have\n",
    "\n",
    "* asdasd\n",
    "* asdasdsa \n",
    "  * asdasds \n",
    "\n",
    "\n",
    "::: {#thm-line}\n",
    "\n",
    "## ABS\n",
    "\n",
    "The equation of any straight line, called a linear equation, can be written as:\n",
    "\n",
    "Black-Scholes (@eq-black-scholes) is a mathematical model that seeks to explain the behavior of financial derivatives, most commonly options:\n",
    "\n",
    "$$\n",
    "\\begin{aligned}\n",
    "f(X) &= Y, \\cr \n",
    "g(Y) &= Zasdasd .\n",
    "\\end{aligned}\n",
    "$$ {#eq-black-scholes}\n",
    "\n",
    "$$\n",
    "\\begin{aligned}\n",
    "  F(X) = y.\n",
    "\\end{aligned}\n",
    "$$ {#eq-black-scholes2}\n",
    "\n",
    ":::\n",
    "\n",
    "See @thm-line.\n",
    "\n",
    "Let (@eq-black-scholes2) . \n",
    "\n",
    "\n",
    "\n",
    "::: {.solution}\n",
    "The solution.\n",
    ":::\n",
    "\n",
    "::: {.remark}\n",
    "TTTTTTT remark.\n",
    ":::\n",
    "\n",
    "::: {.proof}\n",
    "asdsadasds finish.\n",
    ":::\n",
    "\n",
    "asdasd\n",
    "\n",
    "\n",
    "$\\mathbb E$ adasd sd asd \n",
    "\n",
    "測試中文\n",
    "\n",
    "\n",
    "\n",
    "Let $f$ be a bounded function on $\\mathbb R$ with a jumpt at $0.$\n",
    "\n",
    "## SSSSSSSSSS {#sec-SSSSS}\n",
    "\n",
    "\n",
    "See @sec-SSSSS\n"
   ]
  }
 ],
 "metadata": {
  "kernelspec": {
   "display_name": "Python 3.9.15 ('d2l-env')",
   "language": "python",
   "name": "python3"
  },
  "language_info": {
   "codemirror_mode": {
    "name": "ipython",
    "version": 3
   },
   "file_extension": ".py",
   "mimetype": "text/x-python",
   "name": "python",
   "nbconvert_exporter": "python",
   "pygments_lexer": "ipython3",
   "version": "3.9.15"
  },
  "orig_nbformat": 4,
  "vscode": {
   "interpreter": {
    "hash": "7ec238b2b05b39769383514cb67f28b6ac6e8f59fb2a96b26a0764ce29a44286"
   }
  }
 },
 "nbformat": 4,
 "nbformat_minor": 2
}
