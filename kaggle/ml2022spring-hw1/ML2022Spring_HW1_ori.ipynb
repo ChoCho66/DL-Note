{
  "cells": [
    {
      "cell_type": "markdown",
      "metadata": {
        "id": "guE34D3Fj2R9"
      },
      "source": [
        "# **Homework 1: COVID-19 Cases Prediction (Regression)**"
      ]
    },
    {
      "cell_type": "markdown",
      "source": [
        "Objectives:\n",
        "* Solve a regression problem with deep neural networks (DNN).\n",
        "* Understand basic DNN training tips.\n",
        "* Familiarize yourself with PyTorch.\n",
        "\n",
        "If you have any questions, please contact the TAs via TA hours, NTU COOL, or email to mlta-2022-spring@googlegroups.com"
      ],
      "metadata": {
        "id": "V57zhcTp1Xxb"
      }
    },
    {
      "cell_type": "markdown",
      "metadata": {
        "id": "Tm2aXcb-j9Fc"
      },
      "source": [
        "# Download data\n",
        "If the Google Drive links below do not work, you can download data from [Kaggle](https://www.kaggle.com/t/a3ebd5b5542f0f55e828d4f00de8e59a), and upload data manually to the workspace."
      ]
    },
    {
      "cell_type": "code",
      "execution_count": 1,
      "metadata": {
        "colab": {
          "base_uri": "https://localhost:8080/"
        },
        "id": "YPmfl-awlKZA",
        "outputId": "79be0062-0d7b-4662-fde1-ebe1a9aa1802"
      },
      "outputs": [
        {
          "output_type": "stream",
          "name": "stdout",
          "text": [
            "/usr/local/lib/python3.8/dist-packages/gdown/cli.py:127: FutureWarning: Option `--id` was deprecated in version 4.3.1 and will be removed in 5.0. You don't need to pass it anymore to use a file ID.\n",
            "  warnings.warn(\n",
            "Downloading...\n",
            "From: https://drive.google.com/uc?id=1kLSW_-cW2Huj7bh84YTdimGBOJaODiOS\n",
            "To: /content/covid.train.csv\n",
            "100% 2.49M/2.49M [00:00<00:00, 140MB/s]\n",
            "/usr/local/lib/python3.8/dist-packages/gdown/cli.py:127: FutureWarning: Option `--id` was deprecated in version 4.3.1 and will be removed in 5.0. You don't need to pass it anymore to use a file ID.\n",
            "  warnings.warn(\n",
            "Downloading...\n",
            "From: https://drive.google.com/uc?id=1iiI5qROrAhZn-o4FPqsE97bMzDEFvIdg\n",
            "To: /content/covid.test.csv\n",
            "100% 993k/993k [00:00<00:00, 101MB/s]\n"
          ]
        }
      ],
      "source": [
        "!gdown --id '1kLSW_-cW2Huj7bh84YTdimGBOJaODiOS' --output covid.train.csv\n",
        "!gdown --id '1iiI5qROrAhZn-o4FPqsE97bMzDEFvIdg' --output covid.test.csv"
      ]
    },
    {
      "cell_type": "markdown",
      "metadata": {
        "id": "igqIMEgu64-F"
      },
      "source": [
        "# Import packages"
      ]
    },
    {
      "cell_type": "code",
      "execution_count": 2,
      "metadata": {
        "id": "xybQNYCXYu13"
      },
      "outputs": [],
      "source": [
        "# Numerical Operations\n",
        "import math\n",
        "import numpy as np\n",
        "\n",
        "# Reading/Writing Data\n",
        "import pandas as pd\n",
        "import os\n",
        "import csv\n",
        "\n",
        "# For Progress Bar\n",
        "from tqdm import tqdm\n",
        "\n",
        "# Pytorch\n",
        "import torch \n",
        "import torch.nn as nn\n",
        "from torch.utils.data import Dataset, DataLoader, random_split\n",
        "\n",
        "# For plotting learning curve\n",
        "from torch.utils.tensorboard import SummaryWriter"
      ]
    },
    {
      "cell_type": "markdown",
      "source": [
        "# Some Utility Functions\n",
        "\n",
        "You do not need to modify this part."
      ],
      "metadata": {
        "id": "fTAVqRfc2KK3"
      }
    },
    {
      "cell_type": "code",
      "source": [
        "def same_seed(seed): \n",
        "    '''Fixes random number generator seeds for reproducibility.'''\n",
        "    torch.backends.cudnn.deterministic = True\n",
        "    torch.backends.cudnn.benchmark = False\n",
        "    np.random.seed(seed)\n",
        "    torch.manual_seed(seed)\n",
        "    if torch.cuda.is_available():\n",
        "        torch.cuda.manual_seed_all(seed)\n",
        "\n",
        "def train_valid_split(data_set, valid_ratio, seed):\n",
        "    '''Split provided training data into training set and validation set'''\n",
        "    valid_set_size = int(valid_ratio * len(data_set)) \n",
        "    train_set_size = len(data_set) - valid_set_size\n",
        "    train_set, valid_set = random_split(data_set, [train_set_size, valid_set_size], generator=torch.Generator().manual_seed(seed))\n",
        "    return np.array(train_set), np.array(valid_set)\n",
        "\n",
        "def predict(test_loader, model, device):\n",
        "    model.eval() # Set your model to evaluation mode.\n",
        "    preds = []\n",
        "    for x in tqdm(test_loader):\n",
        "        x = x.to(device)                        \n",
        "        with torch.no_grad():                   \n",
        "            pred = model(x)                     \n",
        "            preds.append(pred.detach().cpu())   \n",
        "    preds = torch.cat(preds, dim=0).numpy()  \n",
        "    return preds"
      ],
      "metadata": {
        "id": "RbrcpfYN2I-H"
      },
      "execution_count": 3,
      "outputs": []
    },
    {
      "cell_type": "markdown",
      "metadata": {
        "id": "IqO3lTm78nNO"
      },
      "source": [
        "# Dataset"
      ]
    },
    {
      "cell_type": "code",
      "execution_count": 4,
      "metadata": {
        "id": "-mjaJM0wprMs"
      },
      "outputs": [],
      "source": [
        "class COVID19Dataset(Dataset):\n",
        "    '''\n",
        "    x: Features.\n",
        "    y: Targets, if none, do prediction.\n",
        "    '''\n",
        "    def __init__(self, x, y=None):\n",
        "        if y is None:\n",
        "            self.y = y\n",
        "        else:\n",
        "            self.y = torch.FloatTensor(y)\n",
        "        self.x = torch.FloatTensor(x)\n",
        "\n",
        "    def __getitem__(self, idx):\n",
        "        if self.y is None:\n",
        "            return self.x[idx]\n",
        "        else:\n",
        "            return self.x[idx], self.y[idx]\n",
        "\n",
        "    def __len__(self):\n",
        "        return len(self.x)"
      ]
    },
    {
      "cell_type": "markdown",
      "source": [
        "# Neural Network Model\n",
        "Try out different model architectures by modifying the class below."
      ],
      "metadata": {
        "id": "m73ooU75CL_j"
      }
    },
    {
      "cell_type": "code",
      "execution_count": 5,
      "metadata": {
        "id": "Qn97_WvvrEkG",
        "outputId": "b7c087ca-b21c-47fe-ff04-7595d1eda8d6",
        "colab": {
          "base_uri": "https://localhost:8080/"
        }
      },
      "outputs": [
        {
          "output_type": "stream",
          "name": "stderr",
          "text": [
            "/usr/local/lib/python3.8/dist-packages/torch/nn/modules/lazy.py:180: UserWarning: Lazy modules are a new feature under heavy development so changes to the API or functionality can happen at any moment.\n",
            "  warnings.warn('Lazy modules are a new feature under heavy development '\n"
          ]
        }
      ],
      "source": [
        "Net = nn.Sequential(\n",
        "    nn.LazyLinear(1)\n",
        ")\n",
        "class My_Model(nn.Module):\n",
        "    def __init__(self, input_dim):\n",
        "        super(My_Model, self).__init__()\n",
        "        # TODO: modify model's structure, be aware of dimensions. \n",
        "        self.layers = Net\n",
        "\n",
        "    def forward(self, x):\n",
        "        x = self.layers(x)\n",
        "        x = x.squeeze(1) # (B, 1) -> (B)\n",
        "        return x"
      ]
    },
    {
      "cell_type": "markdown",
      "metadata": {
        "id": "x5-LKF6R8xeq"
      },
      "source": [
        "# Feature Selection\n",
        "Choose features you deem useful by modifying the function below."
      ]
    },
    {
      "cell_type": "code",
      "source": [
        "import pandas as pd\n",
        "df0 = pd.read_csv('covid.train.csv')\n",
        "corr = df0.corr().iloc[-1]\n",
        "idx = (abs(corr) > 0.86).tolist()[:-1]\n",
        "idxx = [ i for i in range(len(idx)) if idx[i] == True ]\n",
        "idxx"
      ],
      "metadata": {
        "id": "jwGoLTV9ZQvd",
        "outputId": "1e057faf-ae19-4c92-83d9-b93789edbf95",
        "colab": {
          "base_uri": "https://localhost:8080/"
        }
      },
      "execution_count": 6,
      "outputs": [
        {
          "output_type": "execute_result",
          "data": {
            "text/plain": [
              "[40, 41, 53, 56, 57, 69, 72, 73, 85, 87, 88, 89, 101, 102, 103, 104, 105]"
            ]
          },
          "metadata": {},
          "execution_count": 6
        }
      ]
    },
    {
      "cell_type": "code",
      "source": [
        "def select_feat(train_data, valid_data, test_data, select_all=True):\n",
        "    '''Selects useful features to perform regression'''\n",
        "    y_train, y_valid = train_data[:,-1], valid_data[:,-1]\n",
        "    raw_x_train, raw_x_valid, raw_x_test = train_data[:,:-1], valid_data[:,:-1], test_data\n",
        "\n",
        "    if select_all:\n",
        "        feat_idx = list(range(raw_x_train.shape[1]))\n",
        "    else:\n",
        "        feat_idx = [0,1,2,3,4] # TODO: Select suitable feature columns.\n",
        "        feat_idx = idxx\n",
        "        \n",
        "    return raw_x_train[:,feat_idx], raw_x_valid[:,feat_idx], raw_x_test[:,feat_idx], y_train, y_valid"
      ],
      "metadata": {
        "id": "0FEnKRaIIeKp"
      },
      "execution_count": 7,
      "outputs": []
    },
    {
      "cell_type": "markdown",
      "source": [
        "# Training Loop"
      ],
      "metadata": {
        "id": "kADIPNQ2Ih5X"
      }
    },
    {
      "cell_type": "code",
      "execution_count": 8,
      "metadata": {
        "id": "k4Rq8_TztAhq"
      },
      "outputs": [],
      "source": [
        "def trainer(train_loader, valid_loader, model, config, device):\n",
        "\n",
        "    criterion = nn.MSELoss(reduction='mean') # Define your loss function, do not modify this.\n",
        "\n",
        "    # Define your optimization algorithm. \n",
        "    # TODO: Please check https://pytorch.org/docs/stable/optim.html to get more available algorithms.\n",
        "    # TODO: L2 regularization (optimizer(weight decay...) or implement by your self).\n",
        "    optimizer = torch.optim.SGD(model.parameters(), lr=config['learning_rate'], momentum=0.9) \n",
        "\n",
        "    writer = SummaryWriter() # Writer of tensoboard.\n",
        "\n",
        "    if not os.path.isdir('./models'):\n",
        "        os.mkdir('./models') # Create directory of saving models.\n",
        "\n",
        "    n_epochs, best_loss, step, early_stop_count = config['n_epochs'], math.inf, 0, 0\n",
        "\n",
        "    for epoch in range(n_epochs):\n",
        "        model.train() # Set your model to train mode.\n",
        "        loss_record = []\n",
        "\n",
        "        # tqdm is a package to visualize your training progress.\n",
        "        train_pbar = tqdm(train_loader, position=0, leave=True)\n",
        "\n",
        "        for x, y in train_pbar:\n",
        "            optimizer.zero_grad()               # Set gradient to zero.\n",
        "            x, y = x.to(device), y.to(device)   # Move your data to device. \n",
        "            pred = model(x)             \n",
        "            loss = criterion(pred, y)\n",
        "            loss.backward()                     # Compute gradient(backpropagation).\n",
        "            optimizer.step()                    # Update parameters.\n",
        "            step += 1\n",
        "            loss_record.append(loss.detach().item())\n",
        "            \n",
        "            # Display current epoch number and loss on tqdm progress bar.\n",
        "            train_pbar.set_description(f'Epoch [{epoch+1}/{n_epochs}]')\n",
        "            train_pbar.set_postfix({'loss': loss.detach().item()})\n",
        "\n",
        "        mean_train_loss = sum(loss_record)/len(loss_record)\n",
        "        writer.add_scalar('Loss/train', mean_train_loss, step)\n",
        "\n",
        "        model.eval() # Set your model to evaluation mode.\n",
        "        loss_record = []\n",
        "        for x, y in valid_loader:\n",
        "            x, y = x.to(device), y.to(device)\n",
        "            with torch.no_grad():\n",
        "                pred = model(x)\n",
        "                loss = criterion(pred, y)\n",
        "\n",
        "            loss_record.append(loss.item())\n",
        "            \n",
        "        mean_valid_loss = sum(loss_record)/len(loss_record)\n",
        "        print(f'Epoch [{epoch+1}/{n_epochs}]: Train loss: {mean_train_loss:.4f}, Valid loss: {mean_valid_loss:.4f}')\n",
        "        writer.add_scalar('Loss/valid', mean_valid_loss, step)\n",
        "\n",
        "        if mean_valid_loss < best_loss:\n",
        "            best_loss = mean_valid_loss\n",
        "            torch.save(model.state_dict(), config['save_path']) # Save your best model\n",
        "            print('Saving model with loss {:.3f}...'.format(best_loss))\n",
        "            early_stop_count = 0\n",
        "        else: \n",
        "            early_stop_count += 1\n",
        "\n",
        "        if early_stop_count >= config['early_stop']:\n",
        "            print('\\nModel is not improving, so we halt the training session.')\n",
        "            return"
      ]
    },
    {
      "cell_type": "markdown",
      "metadata": {
        "id": "0pgkOh2e9UjE"
      },
      "source": [
        "# Configurations\n",
        "`config` contains hyper-parameters for training and the path to save your model."
      ]
    },
    {
      "cell_type": "code",
      "execution_count": 9,
      "metadata": {
        "id": "QoWPUahCtoT6"
      },
      "outputs": [],
      "source": [
        "# device = 'cuda' if torch.cuda.is_available() else 'cpu'\n",
        "device = 'cpu'\n",
        "config = {\n",
        "    'seed': 666666,      # Your seed number, you can pick your lucky number. :)\n",
        "    'select_all': False,   # Whether to use all features.\n",
        "    'valid_ratio': 0.2,   # validation_size = train_size * valid_ratio\n",
        "    'n_epochs': 3000,     # Number of epochs.            \n",
        "    'batch_size': 64, \n",
        "    'learning_rate': 5*1e-5,              \n",
        "    'early_stop': 400,    # If model has not improved for this many consecutive epochs, stop training.     \n",
        "    'save_path': './models/model.ckpt'  # Your model will be saved here.\n",
        "}"
      ]
    },
    {
      "cell_type": "markdown",
      "metadata": {
        "id": "lrS-aJJh9XkW"
      },
      "source": [
        "# Dataloader\n",
        "Read data from files and set up training, validation, and testing sets. You do not need to modify this part."
      ]
    },
    {
      "cell_type": "code",
      "execution_count": 10,
      "metadata": {
        "id": "2jc7ZfDot2t9",
        "colab": {
          "base_uri": "https://localhost:8080/"
        },
        "outputId": "e440e028-6e51-448a-de7e-b8085b6548be"
      },
      "outputs": [
        {
          "output_type": "stream",
          "name": "stdout",
          "text": [
            "train_data size: (2160, 118) \n",
            "valid_data size: (539, 118) \n",
            "test_data size: (1078, 117)\n",
            "number of features: 17\n"
          ]
        }
      ],
      "source": [
        "# Set seed for reproducibility\n",
        "same_seed(config['seed'])\n",
        "\n",
        "\n",
        "# train_data size: 2699 x 118 (id + 37 states + 16 features x 5 days) \n",
        "# test_data size: 1078 x 117 (without last day's positive rate)\n",
        "train_data, test_data = pd.read_csv('./covid.train.csv').values, pd.read_csv('./covid.test.csv').values\n",
        "train_data, valid_data = train_valid_split(train_data, config['valid_ratio'], config['seed'])\n",
        "\n",
        "# Print out the data size.\n",
        "print(f\"\"\"train_data size: {train_data.shape} \n",
        "valid_data size: {valid_data.shape} \n",
        "test_data size: {test_data.shape}\"\"\")\n",
        "\n",
        "# Select features\n",
        "x_train, x_valid, x_test, y_train, y_valid = select_feat(train_data, valid_data, test_data, config['select_all'])\n",
        "\n",
        "# Print out the number of features.\n",
        "print(f'number of features: {x_train.shape[1]}')\n",
        "\n",
        "train_dataset, valid_dataset, test_dataset = COVID19Dataset(x_train, y_train), \\\n",
        "                                            COVID19Dataset(x_valid, y_valid), \\\n",
        "                                            COVID19Dataset(x_test)\n",
        "\n",
        "# Pytorch data loader loads pytorch dataset into batches.\n",
        "train_loader = DataLoader(train_dataset, batch_size=config['batch_size'], shuffle=True, pin_memory=True)\n",
        "valid_loader = DataLoader(valid_dataset, batch_size=config['batch_size'], shuffle=True, pin_memory=True)\n",
        "test_loader = DataLoader(test_dataset, batch_size=config['batch_size'], shuffle=False, pin_memory=True)"
      ]
    },
    {
      "cell_type": "markdown",
      "metadata": {
        "id": "0OBYgjCA-YwD"
      },
      "source": [
        "# Start training!"
      ]
    },
    {
      "cell_type": "code",
      "source": [
        "Net = nn.Sequential(\n",
        "            nn.LazyLinear(128),\n",
        "            nn.ReLU(),\n",
        "            nn.LazyLinear(32),\n",
        "            nn.ReLU(),\n",
        "            # nn.LazyBatchNorm1d(),\n",
        "            nn.LazyLinear(1)\n",
        "        )"
      ],
      "metadata": {
        "id": "_A0RykhPkUlc"
      },
      "execution_count": 11,
      "outputs": []
    },
    {
      "cell_type": "code",
      "execution_count": null,
      "metadata": {
        "colab": {
          "base_uri": "https://localhost:8080/"
        },
        "id": "YdttVRkAfu2t",
        "outputId": "84a0d0c0-537a-4d3d-8263-f52aa192de2c"
      },
      "outputs": [
        {
          "output_type": "stream",
          "name": "stderr",
          "text": [
            "Epoch [1/3000]: 100%|██████████| 34/34 [00:00<00:00, 125.57it/s, loss=7.23]\n"
          ]
        },
        {
          "output_type": "stream",
          "name": "stdout",
          "text": [
            "Epoch [1/3000]: Train loss: 63.3084, Valid loss: 16.5270\n",
            "Saving model with loss 16.527...\n"
          ]
        },
        {
          "output_type": "stream",
          "name": "stderr",
          "text": [
            "Epoch [2/3000]: 100%|██████████| 34/34 [00:00<00:00, 157.94it/s, loss=8.89]\n"
          ]
        },
        {
          "output_type": "stream",
          "name": "stdout",
          "text": [
            "Epoch [2/3000]: Train loss: 7.7298, Valid loss: 6.4755\n",
            "Saving model with loss 6.476...\n"
          ]
        },
        {
          "output_type": "stream",
          "name": "stderr",
          "text": [
            "Epoch [3/3000]: 100%|██████████| 34/34 [00:00<00:00, 90.41it/s, loss=6.33]\n"
          ]
        },
        {
          "output_type": "stream",
          "name": "stdout",
          "text": [
            "Epoch [3/3000]: Train loss: 5.6976, Valid loss: 5.9524\n",
            "Saving model with loss 5.952...\n"
          ]
        },
        {
          "output_type": "stream",
          "name": "stderr",
          "text": [
            "Epoch [4/3000]: 100%|██████████| 34/34 [00:00<00:00, 122.27it/s, loss=4.37]\n"
          ]
        },
        {
          "output_type": "stream",
          "name": "stdout",
          "text": [
            "Epoch [4/3000]: Train loss: 5.4255, Valid loss: 5.8792\n",
            "Saving model with loss 5.879...\n"
          ]
        },
        {
          "output_type": "stream",
          "name": "stderr",
          "text": [
            "Epoch [5/3000]: 100%|██████████| 34/34 [00:00<00:00, 135.89it/s, loss=6.97]\n"
          ]
        },
        {
          "output_type": "stream",
          "name": "stdout",
          "text": [
            "Epoch [5/3000]: Train loss: 5.2024, Valid loss: 5.3529\n",
            "Saving model with loss 5.353...\n"
          ]
        },
        {
          "output_type": "stream",
          "name": "stderr",
          "text": [
            "Epoch [6/3000]: 100%|██████████| 34/34 [00:00<00:00, 173.79it/s, loss=6.2]\n"
          ]
        },
        {
          "output_type": "stream",
          "name": "stdout",
          "text": [
            "Epoch [6/3000]: Train loss: 4.9598, Valid loss: 5.2519\n",
            "Saving model with loss 5.252...\n"
          ]
        },
        {
          "output_type": "stream",
          "name": "stderr",
          "text": [
            "Epoch [7/3000]: 100%|██████████| 34/34 [00:00<00:00, 86.46it/s, loss=3.9]\n"
          ]
        },
        {
          "output_type": "stream",
          "name": "stdout",
          "text": [
            "Epoch [7/3000]: Train loss: 4.7006, Valid loss: 4.9822\n",
            "Saving model with loss 4.982...\n"
          ]
        },
        {
          "output_type": "stream",
          "name": "stderr",
          "text": [
            "Epoch [8/3000]: 100%|██████████| 34/34 [00:00<00:00, 145.23it/s, loss=4.6]\n"
          ]
        },
        {
          "output_type": "stream",
          "name": "stdout",
          "text": [
            "Epoch [8/3000]: Train loss: 4.4739, Valid loss: 4.7822\n",
            "Saving model with loss 4.782...\n"
          ]
        },
        {
          "output_type": "stream",
          "name": "stderr",
          "text": [
            "Epoch [9/3000]: 100%|██████████| 34/34 [00:00<00:00, 154.50it/s, loss=3.96]\n"
          ]
        },
        {
          "output_type": "stream",
          "name": "stdout",
          "text": [
            "Epoch [9/3000]: Train loss: 4.2742, Valid loss: 4.6210\n",
            "Saving model with loss 4.621...\n"
          ]
        },
        {
          "output_type": "stream",
          "name": "stderr",
          "text": [
            "Epoch [10/3000]: 100%|██████████| 34/34 [00:00<00:00, 142.05it/s, loss=4.4]\n"
          ]
        },
        {
          "output_type": "stream",
          "name": "stdout",
          "text": [
            "Epoch [10/3000]: Train loss: 4.0607, Valid loss: 4.1985\n",
            "Saving model with loss 4.199...\n"
          ]
        },
        {
          "output_type": "stream",
          "name": "stderr",
          "text": [
            "Epoch [11/3000]: 100%|██████████| 34/34 [00:00<00:00, 133.59it/s, loss=5.01]\n"
          ]
        },
        {
          "output_type": "stream",
          "name": "stdout",
          "text": [
            "Epoch [11/3000]: Train loss: 3.8595, Valid loss: 4.0910\n",
            "Saving model with loss 4.091...\n"
          ]
        },
        {
          "output_type": "stream",
          "name": "stderr",
          "text": [
            "Epoch [12/3000]: 100%|██████████| 34/34 [00:00<00:00, 80.49it/s, loss=4.57]\n"
          ]
        },
        {
          "output_type": "stream",
          "name": "stdout",
          "text": [
            "Epoch [12/3000]: Train loss: 3.6742, Valid loss: 3.9111\n",
            "Saving model with loss 3.911...\n"
          ]
        },
        {
          "output_type": "stream",
          "name": "stderr",
          "text": [
            "Epoch [13/3000]: 100%|██████████| 34/34 [00:00<00:00, 101.42it/s, loss=3.72]\n"
          ]
        },
        {
          "output_type": "stream",
          "name": "stdout",
          "text": [
            "Epoch [13/3000]: Train loss: 3.4964, Valid loss: 3.6120\n",
            "Saving model with loss 3.612...\n"
          ]
        },
        {
          "output_type": "stream",
          "name": "stderr",
          "text": [
            "Epoch [14/3000]: 100%|██████████| 34/34 [00:00<00:00, 141.32it/s, loss=2.04]\n"
          ]
        },
        {
          "output_type": "stream",
          "name": "stdout",
          "text": [
            "Epoch [14/3000]: Train loss: 3.2990, Valid loss: 3.3910\n",
            "Saving model with loss 3.391...\n"
          ]
        },
        {
          "output_type": "stream",
          "name": "stderr",
          "text": [
            "Epoch [15/3000]: 100%|██████████| 34/34 [00:00<00:00, 111.39it/s, loss=3.62]\n"
          ]
        },
        {
          "output_type": "stream",
          "name": "stdout",
          "text": [
            "Epoch [15/3000]: Train loss: 3.1536, Valid loss: 3.3256\n",
            "Saving model with loss 3.326...\n"
          ]
        },
        {
          "output_type": "stream",
          "name": "stderr",
          "text": [
            "Epoch [16/3000]: 100%|██████████| 34/34 [00:00<00:00, 120.72it/s, loss=3.42]\n"
          ]
        },
        {
          "output_type": "stream",
          "name": "stdout",
          "text": [
            "Epoch [16/3000]: Train loss: 3.0063, Valid loss: 3.1916\n",
            "Saving model with loss 3.192...\n"
          ]
        },
        {
          "output_type": "stream",
          "name": "stderr",
          "text": [
            "Epoch [17/3000]: 100%|██████████| 34/34 [00:00<00:00, 164.44it/s, loss=3.07]\n"
          ]
        },
        {
          "output_type": "stream",
          "name": "stdout",
          "text": [
            "Epoch [17/3000]: Train loss: 2.8682, Valid loss: 2.9588\n",
            "Saving model with loss 2.959...\n"
          ]
        },
        {
          "output_type": "stream",
          "name": "stderr",
          "text": [
            "Epoch [18/3000]: 100%|██████████| 34/34 [00:00<00:00, 156.11it/s, loss=2.62]\n"
          ]
        },
        {
          "output_type": "stream",
          "name": "stdout",
          "text": [
            "Epoch [18/3000]: Train loss: 2.7661, Valid loss: 2.8299\n",
            "Saving model with loss 2.830...\n"
          ]
        },
        {
          "output_type": "stream",
          "name": "stderr",
          "text": [
            "Epoch [19/3000]: 100%|██████████| 34/34 [00:00<00:00, 156.69it/s, loss=2.73]\n"
          ]
        },
        {
          "output_type": "stream",
          "name": "stdout",
          "text": [
            "Epoch [19/3000]: Train loss: 2.6476, Valid loss: 2.8939\n"
          ]
        },
        {
          "output_type": "stream",
          "name": "stderr",
          "text": [
            "Epoch [20/3000]: 100%|██████████| 34/34 [00:00<00:00, 162.32it/s, loss=2.08]\n"
          ]
        },
        {
          "output_type": "stream",
          "name": "stdout",
          "text": [
            "Epoch [20/3000]: Train loss: 2.5400, Valid loss: 2.6353\n",
            "Saving model with loss 2.635...\n"
          ]
        },
        {
          "output_type": "stream",
          "name": "stderr",
          "text": [
            "Epoch [21/3000]: 100%|██████████| 34/34 [00:00<00:00, 93.77it/s, loss=2.58]\n"
          ]
        },
        {
          "output_type": "stream",
          "name": "stdout",
          "text": [
            "Epoch [21/3000]: Train loss: 2.4675, Valid loss: 2.6329\n",
            "Saving model with loss 2.633...\n"
          ]
        },
        {
          "output_type": "stream",
          "name": "stderr",
          "text": [
            "Epoch [22/3000]: 100%|██████████| 34/34 [00:00<00:00, 123.36it/s, loss=1.81]\n"
          ]
        },
        {
          "output_type": "stream",
          "name": "stdout",
          "text": [
            "Epoch [22/3000]: Train loss: 2.3827, Valid loss: 2.4588\n",
            "Saving model with loss 2.459...\n"
          ]
        },
        {
          "output_type": "stream",
          "name": "stderr",
          "text": [
            "Epoch [23/3000]: 100%|██████████| 34/34 [00:00<00:00, 60.27it/s, loss=2.78]\n"
          ]
        },
        {
          "output_type": "stream",
          "name": "stdout",
          "text": [
            "Epoch [23/3000]: Train loss: 2.3512, Valid loss: 2.3734\n",
            "Saving model with loss 2.373...\n"
          ]
        },
        {
          "output_type": "stream",
          "name": "stderr",
          "text": [
            "Epoch [24/3000]: 100%|██████████| 34/34 [00:00<00:00, 138.53it/s, loss=1.73]\n"
          ]
        },
        {
          "output_type": "stream",
          "name": "stdout",
          "text": [
            "Epoch [24/3000]: Train loss: 2.2746, Valid loss: 2.3858\n"
          ]
        },
        {
          "output_type": "stream",
          "name": "stderr",
          "text": [
            "Epoch [25/3000]: 100%|██████████| 34/34 [00:00<00:00, 164.55it/s, loss=2.82]\n"
          ]
        },
        {
          "output_type": "stream",
          "name": "stdout",
          "text": [
            "Epoch [25/3000]: Train loss: 2.2291, Valid loss: 2.3311\n",
            "Saving model with loss 2.331...\n"
          ]
        },
        {
          "output_type": "stream",
          "name": "stderr",
          "text": [
            "Epoch [26/3000]: 100%|██████████| 34/34 [00:00<00:00, 146.81it/s, loss=1.89]\n"
          ]
        },
        {
          "output_type": "stream",
          "name": "stdout",
          "text": [
            "Epoch [26/3000]: Train loss: 2.1853, Valid loss: 2.3482\n"
          ]
        },
        {
          "output_type": "stream",
          "name": "stderr",
          "text": [
            "Epoch [27/3000]: 100%|██████████| 34/34 [00:00<00:00, 174.08it/s, loss=2.25]\n"
          ]
        },
        {
          "output_type": "stream",
          "name": "stdout",
          "text": [
            "Epoch [27/3000]: Train loss: 2.1539, Valid loss: 2.1546\n",
            "Saving model with loss 2.155...\n"
          ]
        },
        {
          "output_type": "stream",
          "name": "stderr",
          "text": [
            "Epoch [28/3000]: 100%|██████████| 34/34 [00:00<00:00, 105.72it/s, loss=2.9]\n"
          ]
        },
        {
          "output_type": "stream",
          "name": "stdout",
          "text": [
            "Epoch [28/3000]: Train loss: 2.1345, Valid loss: 2.1754\n"
          ]
        },
        {
          "output_type": "stream",
          "name": "stderr",
          "text": [
            "Epoch [29/3000]: 100%|██████████| 34/34 [00:00<00:00, 111.22it/s, loss=2.51]\n"
          ]
        },
        {
          "output_type": "stream",
          "name": "stdout",
          "text": [
            "Epoch [29/3000]: Train loss: 2.1025, Valid loss: 2.0866\n",
            "Saving model with loss 2.087...\n"
          ]
        },
        {
          "output_type": "stream",
          "name": "stderr",
          "text": [
            "Epoch [30/3000]: 100%|██████████| 34/34 [00:00<00:00, 146.52it/s, loss=1.57]\n"
          ]
        },
        {
          "output_type": "stream",
          "name": "stdout",
          "text": [
            "Epoch [30/3000]: Train loss: 2.0733, Valid loss: 2.0971\n"
          ]
        },
        {
          "output_type": "stream",
          "name": "stderr",
          "text": [
            "Epoch [31/3000]: 100%|██████████| 34/34 [00:00<00:00, 95.99it/s, loss=1.76]\n"
          ]
        },
        {
          "output_type": "stream",
          "name": "stdout",
          "text": [
            "Epoch [31/3000]: Train loss: 2.0519, Valid loss: 2.1651\n"
          ]
        },
        {
          "output_type": "stream",
          "name": "stderr",
          "text": [
            "Epoch [32/3000]: 100%|██████████| 34/34 [00:00<00:00, 149.98it/s, loss=2.1]\n"
          ]
        },
        {
          "output_type": "stream",
          "name": "stdout",
          "text": [
            "Epoch [32/3000]: Train loss: 2.0311, Valid loss: 2.1491\n"
          ]
        },
        {
          "output_type": "stream",
          "name": "stderr",
          "text": [
            "Epoch [33/3000]: 100%|██████████| 34/34 [00:00<00:00, 118.39it/s, loss=2.84]\n"
          ]
        },
        {
          "output_type": "stream",
          "name": "stdout",
          "text": [
            "Epoch [33/3000]: Train loss: 2.0363, Valid loss: 2.0727\n",
            "Saving model with loss 2.073...\n"
          ]
        },
        {
          "output_type": "stream",
          "name": "stderr",
          "text": [
            "Epoch [34/3000]: 100%|██████████| 34/34 [00:00<00:00, 116.74it/s, loss=2.43]\n"
          ]
        },
        {
          "output_type": "stream",
          "name": "stdout",
          "text": [
            "Epoch [34/3000]: Train loss: 2.0093, Valid loss: 2.0409\n",
            "Saving model with loss 2.041...\n"
          ]
        },
        {
          "output_type": "stream",
          "name": "stderr",
          "text": [
            "Epoch [35/3000]: 100%|██████████| 34/34 [00:00<00:00, 130.56it/s, loss=1.51]\n"
          ]
        },
        {
          "output_type": "stream",
          "name": "stdout",
          "text": [
            "Epoch [35/3000]: Train loss: 2.0010, Valid loss: 1.9887\n",
            "Saving model with loss 1.989...\n"
          ]
        },
        {
          "output_type": "stream",
          "name": "stderr",
          "text": [
            "Epoch [36/3000]: 100%|██████████| 34/34 [00:00<00:00, 171.33it/s, loss=1.88]\n"
          ]
        },
        {
          "output_type": "stream",
          "name": "stdout",
          "text": [
            "Epoch [36/3000]: Train loss: 1.9896, Valid loss: 2.0030\n"
          ]
        },
        {
          "output_type": "stream",
          "name": "stderr",
          "text": [
            "Epoch [37/3000]: 100%|██████████| 34/34 [00:00<00:00, 163.61it/s, loss=1.33]\n"
          ]
        },
        {
          "output_type": "stream",
          "name": "stdout",
          "text": [
            "Epoch [37/3000]: Train loss: 1.9567, Valid loss: 1.9316\n",
            "Saving model with loss 1.932...\n"
          ]
        },
        {
          "output_type": "stream",
          "name": "stderr",
          "text": [
            "Epoch [38/3000]: 100%|██████████| 34/34 [00:00<00:00, 166.50it/s, loss=1.32]\n"
          ]
        },
        {
          "output_type": "stream",
          "name": "stdout",
          "text": [
            "Epoch [38/3000]: Train loss: 1.9501, Valid loss: 1.9521\n"
          ]
        },
        {
          "output_type": "stream",
          "name": "stderr",
          "text": [
            "Epoch [39/3000]: 100%|██████████| 34/34 [00:00<00:00, 162.14it/s, loss=2.01]\n"
          ]
        },
        {
          "output_type": "stream",
          "name": "stdout",
          "text": [
            "Epoch [39/3000]: Train loss: 1.9438, Valid loss: 2.0468\n"
          ]
        },
        {
          "output_type": "stream",
          "name": "stderr",
          "text": [
            "Epoch [40/3000]: 100%|██████████| 34/34 [00:00<00:00, 123.62it/s, loss=2.49]\n"
          ]
        },
        {
          "output_type": "stream",
          "name": "stdout",
          "text": [
            "Epoch [40/3000]: Train loss: 1.9288, Valid loss: 1.9687\n"
          ]
        },
        {
          "output_type": "stream",
          "name": "stderr",
          "text": [
            "Epoch [41/3000]: 100%|██████████| 34/34 [00:00<00:00, 161.98it/s, loss=1.15]\n"
          ]
        },
        {
          "output_type": "stream",
          "name": "stdout",
          "text": [
            "Epoch [41/3000]: Train loss: 1.9104, Valid loss: 1.9204\n",
            "Saving model with loss 1.920...\n"
          ]
        },
        {
          "output_type": "stream",
          "name": "stderr",
          "text": [
            "Epoch [42/3000]: 100%|██████████| 34/34 [00:00<00:00, 163.95it/s, loss=3.42]\n"
          ]
        },
        {
          "output_type": "stream",
          "name": "stdout",
          "text": [
            "Epoch [42/3000]: Train loss: 1.9084, Valid loss: 1.8531\n",
            "Saving model with loss 1.853...\n"
          ]
        },
        {
          "output_type": "stream",
          "name": "stderr",
          "text": [
            "Epoch [43/3000]: 100%|██████████| 34/34 [00:00<00:00, 106.53it/s, loss=3.23]\n"
          ]
        },
        {
          "output_type": "stream",
          "name": "stdout",
          "text": [
            "Epoch [43/3000]: Train loss: 1.8996, Valid loss: 1.9109\n"
          ]
        },
        {
          "output_type": "stream",
          "name": "stderr",
          "text": [
            "Epoch [44/3000]: 100%|██████████| 34/34 [00:00<00:00, 121.78it/s, loss=1.82]\n"
          ]
        },
        {
          "output_type": "stream",
          "name": "stdout",
          "text": [
            "Epoch [44/3000]: Train loss: 1.8721, Valid loss: 1.8797\n"
          ]
        },
        {
          "output_type": "stream",
          "name": "stderr",
          "text": [
            "Epoch [45/3000]: 100%|██████████| 34/34 [00:00<00:00, 160.47it/s, loss=1.18]\n"
          ]
        },
        {
          "output_type": "stream",
          "name": "stdout",
          "text": [
            "Epoch [45/3000]: Train loss: 1.8692, Valid loss: 1.8597\n"
          ]
        },
        {
          "output_type": "stream",
          "name": "stderr",
          "text": [
            "Epoch [46/3000]: 100%|██████████| 34/34 [00:00<00:00, 156.74it/s, loss=1.27]\n"
          ]
        },
        {
          "output_type": "stream",
          "name": "stdout",
          "text": [
            "Epoch [46/3000]: Train loss: 1.8545, Valid loss: 1.7886\n",
            "Saving model with loss 1.789...\n"
          ]
        },
        {
          "output_type": "stream",
          "name": "stderr",
          "text": [
            "Epoch [47/3000]: 100%|██████████| 34/34 [00:00<00:00, 160.95it/s, loss=1.54]\n"
          ]
        },
        {
          "output_type": "stream",
          "name": "stdout",
          "text": [
            "Epoch [47/3000]: Train loss: 1.8434, Valid loss: 1.7960\n"
          ]
        },
        {
          "output_type": "stream",
          "name": "stderr",
          "text": [
            "Epoch [48/3000]: 100%|██████████| 34/34 [00:00<00:00, 57.68it/s, loss=1.91]\n"
          ]
        },
        {
          "output_type": "stream",
          "name": "stdout",
          "text": [
            "Epoch [48/3000]: Train loss: 1.8332, Valid loss: 1.8131\n"
          ]
        },
        {
          "output_type": "stream",
          "name": "stderr",
          "text": [
            "Epoch [49/3000]: 100%|██████████| 34/34 [00:00<00:00, 169.62it/s, loss=1.5]\n"
          ]
        },
        {
          "output_type": "stream",
          "name": "stdout",
          "text": [
            "Epoch [49/3000]: Train loss: 1.8202, Valid loss: 1.8529\n"
          ]
        },
        {
          "output_type": "stream",
          "name": "stderr",
          "text": [
            "Epoch [50/3000]: 100%|██████████| 34/34 [00:00<00:00, 159.20it/s, loss=1.46]\n"
          ]
        },
        {
          "output_type": "stream",
          "name": "stdout",
          "text": [
            "Epoch [50/3000]: Train loss: 1.8209, Valid loss: 1.8040\n"
          ]
        },
        {
          "output_type": "stream",
          "name": "stderr",
          "text": [
            "Epoch [51/3000]: 100%|██████████| 34/34 [00:00<00:00, 152.44it/s, loss=2.09]\n"
          ]
        },
        {
          "output_type": "stream",
          "name": "stdout",
          "text": [
            "Epoch [51/3000]: Train loss: 1.8155, Valid loss: 1.7718\n",
            "Saving model with loss 1.772...\n"
          ]
        },
        {
          "output_type": "stream",
          "name": "stderr",
          "text": [
            "Epoch [52/3000]: 100%|██████████| 34/34 [00:00<00:00, 146.75it/s, loss=2.08]\n"
          ]
        },
        {
          "output_type": "stream",
          "name": "stdout",
          "text": [
            "Epoch [52/3000]: Train loss: 1.7934, Valid loss: 1.7363\n",
            "Saving model with loss 1.736...\n"
          ]
        },
        {
          "output_type": "stream",
          "name": "stderr",
          "text": [
            "Epoch [53/3000]: 100%|██████████| 34/34 [00:00<00:00, 138.64it/s, loss=1.61]\n"
          ]
        },
        {
          "output_type": "stream",
          "name": "stdout",
          "text": [
            "Epoch [53/3000]: Train loss: 1.7855, Valid loss: 1.7515\n"
          ]
        },
        {
          "output_type": "stream",
          "name": "stderr",
          "text": [
            "Epoch [54/3000]: 100%|██████████| 34/34 [00:00<00:00, 183.46it/s, loss=1.6]\n"
          ]
        },
        {
          "output_type": "stream",
          "name": "stdout",
          "text": [
            "Epoch [54/3000]: Train loss: 1.7744, Valid loss: 1.7006\n",
            "Saving model with loss 1.701...\n"
          ]
        },
        {
          "output_type": "stream",
          "name": "stderr",
          "text": [
            "Epoch [55/3000]: 100%|██████████| 34/34 [00:00<00:00, 185.60it/s, loss=1.74]\n"
          ]
        },
        {
          "output_type": "stream",
          "name": "stdout",
          "text": [
            "Epoch [55/3000]: Train loss: 1.7705, Valid loss: 1.7372\n"
          ]
        },
        {
          "output_type": "stream",
          "name": "stderr",
          "text": [
            "Epoch [56/3000]: 100%|██████████| 34/34 [00:00<00:00, 147.46it/s, loss=1.92]\n"
          ]
        },
        {
          "output_type": "stream",
          "name": "stdout",
          "text": [
            "Epoch [56/3000]: Train loss: 1.7576, Valid loss: 1.7398\n"
          ]
        },
        {
          "output_type": "stream",
          "name": "stderr",
          "text": [
            "Epoch [57/3000]: 100%|██████████| 34/34 [00:00<00:00, 95.97it/s, loss=1.25]\n"
          ]
        },
        {
          "output_type": "stream",
          "name": "stdout",
          "text": [
            "Epoch [57/3000]: Train loss: 1.7399, Valid loss: 1.8070\n"
          ]
        },
        {
          "output_type": "stream",
          "name": "stderr",
          "text": [
            "Epoch [58/3000]: 100%|██████████| 34/34 [00:00<00:00, 164.57it/s, loss=1]\n"
          ]
        },
        {
          "output_type": "stream",
          "name": "stdout",
          "text": [
            "Epoch [58/3000]: Train loss: 1.7433, Valid loss: 1.7428\n"
          ]
        },
        {
          "output_type": "stream",
          "name": "stderr",
          "text": [
            "Epoch [59/3000]: 100%|██████████| 34/34 [00:00<00:00, 169.82it/s, loss=1.61]\n"
          ]
        },
        {
          "output_type": "stream",
          "name": "stdout",
          "text": [
            "Epoch [59/3000]: Train loss: 1.7256, Valid loss: 1.7719\n"
          ]
        },
        {
          "output_type": "stream",
          "name": "stderr",
          "text": [
            "Epoch [60/3000]: 100%|██████████| 34/34 [00:00<00:00, 97.70it/s, loss=1.73] \n"
          ]
        },
        {
          "output_type": "stream",
          "name": "stdout",
          "text": [
            "Epoch [60/3000]: Train loss: 1.7350, Valid loss: 1.6730\n",
            "Saving model with loss 1.673...\n"
          ]
        },
        {
          "output_type": "stream",
          "name": "stderr",
          "text": [
            "Epoch [61/3000]: 100%|██████████| 34/34 [00:00<00:00, 106.90it/s, loss=1.06]\n"
          ]
        },
        {
          "output_type": "stream",
          "name": "stdout",
          "text": [
            "Epoch [61/3000]: Train loss: 1.7070, Valid loss: 1.7154\n"
          ]
        },
        {
          "output_type": "stream",
          "name": "stderr",
          "text": [
            "Epoch [62/3000]: 100%|██████████| 34/34 [00:00<00:00, 154.04it/s, loss=1.69]\n"
          ]
        },
        {
          "output_type": "stream",
          "name": "stdout",
          "text": [
            "Epoch [62/3000]: Train loss: 1.6971, Valid loss: 1.6889\n"
          ]
        },
        {
          "output_type": "stream",
          "name": "stderr",
          "text": [
            "Epoch [63/3000]: 100%|██████████| 34/34 [00:00<00:00, 111.42it/s, loss=1.73]\n"
          ]
        },
        {
          "output_type": "stream",
          "name": "stdout",
          "text": [
            "Epoch [63/3000]: Train loss: 1.6916, Valid loss: 1.6511\n",
            "Saving model with loss 1.651...\n"
          ]
        },
        {
          "output_type": "stream",
          "name": "stderr",
          "text": [
            "Epoch [64/3000]: 100%|██████████| 34/34 [00:00<00:00, 142.05it/s, loss=1.1]\n"
          ]
        },
        {
          "output_type": "stream",
          "name": "stdout",
          "text": [
            "Epoch [64/3000]: Train loss: 1.6717, Valid loss: 1.6576\n"
          ]
        },
        {
          "output_type": "stream",
          "name": "stderr",
          "text": [
            "Epoch [65/3000]: 100%|██████████| 34/34 [00:00<00:00, 148.35it/s, loss=1.3]\n"
          ]
        },
        {
          "output_type": "stream",
          "name": "stdout",
          "text": [
            "Epoch [65/3000]: Train loss: 1.6616, Valid loss: 1.6339\n",
            "Saving model with loss 1.634...\n"
          ]
        },
        {
          "output_type": "stream",
          "name": "stderr",
          "text": [
            "Epoch [66/3000]: 100%|██████████| 34/34 [00:00<00:00, 165.08it/s, loss=1.47]\n"
          ]
        },
        {
          "output_type": "stream",
          "name": "stdout",
          "text": [
            "Epoch [66/3000]: Train loss: 1.6776, Valid loss: 1.6742\n"
          ]
        },
        {
          "output_type": "stream",
          "name": "stderr",
          "text": [
            "Epoch [67/3000]: 100%|██████████| 34/34 [00:00<00:00, 90.73it/s, loss=1.06]\n"
          ]
        },
        {
          "output_type": "stream",
          "name": "stdout",
          "text": [
            "Epoch [67/3000]: Train loss: 1.6582, Valid loss: 1.5842\n",
            "Saving model with loss 1.584...\n"
          ]
        },
        {
          "output_type": "stream",
          "name": "stderr",
          "text": [
            "Epoch [68/3000]: 100%|██████████| 34/34 [00:00<00:00, 60.02it/s, loss=2.92]\n"
          ]
        },
        {
          "output_type": "stream",
          "name": "stdout",
          "text": [
            "Epoch [68/3000]: Train loss: 1.6574, Valid loss: 1.6394\n"
          ]
        },
        {
          "output_type": "stream",
          "name": "stderr",
          "text": [
            "Epoch [69/3000]: 100%|██████████| 34/34 [00:00<00:00, 156.59it/s, loss=1.38]\n"
          ]
        },
        {
          "output_type": "stream",
          "name": "stdout",
          "text": [
            "Epoch [69/3000]: Train loss: 1.6358, Valid loss: 1.6638\n"
          ]
        },
        {
          "output_type": "stream",
          "name": "stderr",
          "text": [
            "Epoch [70/3000]: 100%|██████████| 34/34 [00:00<00:00, 152.40it/s, loss=1.35]\n"
          ]
        },
        {
          "output_type": "stream",
          "name": "stdout",
          "text": [
            "Epoch [70/3000]: Train loss: 1.6245, Valid loss: 1.5750\n",
            "Saving model with loss 1.575...\n"
          ]
        },
        {
          "output_type": "stream",
          "name": "stderr",
          "text": [
            "Epoch [71/3000]: 100%|██████████| 34/34 [00:00<00:00, 127.20it/s, loss=2.04]\n"
          ]
        },
        {
          "output_type": "stream",
          "name": "stdout",
          "text": [
            "Epoch [71/3000]: Train loss: 1.6171, Valid loss: 1.6350\n"
          ]
        },
        {
          "output_type": "stream",
          "name": "stderr",
          "text": [
            "Epoch [72/3000]: 100%|██████████| 34/34 [00:00<00:00, 151.33it/s, loss=1.34]\n"
          ]
        },
        {
          "output_type": "stream",
          "name": "stdout",
          "text": [
            "Epoch [72/3000]: Train loss: 1.6113, Valid loss: 1.6510\n"
          ]
        },
        {
          "output_type": "stream",
          "name": "stderr",
          "text": [
            "Epoch [73/3000]: 100%|██████████| 34/34 [00:00<00:00, 107.51it/s, loss=1.31]\n"
          ]
        },
        {
          "output_type": "stream",
          "name": "stdout",
          "text": [
            "Epoch [73/3000]: Train loss: 1.6022, Valid loss: 1.6215\n"
          ]
        },
        {
          "output_type": "stream",
          "name": "stderr",
          "text": [
            "Epoch [74/3000]: 100%|██████████| 34/34 [00:00<00:00, 173.92it/s, loss=1.33]\n"
          ]
        },
        {
          "output_type": "stream",
          "name": "stdout",
          "text": [
            "Epoch [74/3000]: Train loss: 1.5954, Valid loss: 1.5646\n",
            "Saving model with loss 1.565...\n"
          ]
        },
        {
          "output_type": "stream",
          "name": "stderr",
          "text": [
            "Epoch [75/3000]: 100%|██████████| 34/34 [00:00<00:00, 147.20it/s, loss=0.821]\n"
          ]
        },
        {
          "output_type": "stream",
          "name": "stdout",
          "text": [
            "Epoch [75/3000]: Train loss: 1.5858, Valid loss: 1.5376\n",
            "Saving model with loss 1.538...\n"
          ]
        },
        {
          "output_type": "stream",
          "name": "stderr",
          "text": [
            "Epoch [76/3000]: 100%|██████████| 34/34 [00:00<00:00, 152.33it/s, loss=1.53]\n"
          ]
        },
        {
          "output_type": "stream",
          "name": "stdout",
          "text": [
            "Epoch [76/3000]: Train loss: 1.5863, Valid loss: 1.5430\n"
          ]
        },
        {
          "output_type": "stream",
          "name": "stderr",
          "text": [
            "Epoch [77/3000]: 100%|██████████| 34/34 [00:00<00:00, 108.67it/s, loss=2.5]\n"
          ]
        },
        {
          "output_type": "stream",
          "name": "stdout",
          "text": [
            "Epoch [77/3000]: Train loss: 1.5714, Valid loss: 1.5137\n",
            "Saving model with loss 1.514...\n"
          ]
        },
        {
          "output_type": "stream",
          "name": "stderr",
          "text": [
            "Epoch [78/3000]: 100%|██████████| 34/34 [00:00<00:00, 103.14it/s, loss=3.15]\n"
          ]
        },
        {
          "output_type": "stream",
          "name": "stdout",
          "text": [
            "Epoch [78/3000]: Train loss: 1.5785, Valid loss: 1.5215\n"
          ]
        },
        {
          "output_type": "stream",
          "name": "stderr",
          "text": [
            "Epoch [79/3000]: 100%|██████████| 34/34 [00:00<00:00, 149.18it/s, loss=1.57]\n"
          ]
        },
        {
          "output_type": "stream",
          "name": "stdout",
          "text": [
            "Epoch [79/3000]: Train loss: 1.5507, Valid loss: 1.4967\n",
            "Saving model with loss 1.497...\n"
          ]
        },
        {
          "output_type": "stream",
          "name": "stderr",
          "text": [
            "Epoch [80/3000]: 100%|██████████| 34/34 [00:00<00:00, 140.14it/s, loss=1.12]\n"
          ]
        },
        {
          "output_type": "stream",
          "name": "stdout",
          "text": [
            "Epoch [80/3000]: Train loss: 1.5367, Valid loss: 1.4949\n",
            "Saving model with loss 1.495...\n"
          ]
        },
        {
          "output_type": "stream",
          "name": "stderr",
          "text": [
            "Epoch [81/3000]: 100%|██████████| 34/34 [00:00<00:00, 88.04it/s, loss=0.865]\n"
          ]
        },
        {
          "output_type": "stream",
          "name": "stdout",
          "text": [
            "Epoch [81/3000]: Train loss: 1.5328, Valid loss: 1.4984\n"
          ]
        },
        {
          "output_type": "stream",
          "name": "stderr",
          "text": [
            "Epoch [82/3000]: 100%|██████████| 34/34 [00:00<00:00, 156.64it/s, loss=2.89]\n"
          ]
        },
        {
          "output_type": "stream",
          "name": "stdout",
          "text": [
            "Epoch [82/3000]: Train loss: 1.5389, Valid loss: 1.5368\n"
          ]
        },
        {
          "output_type": "stream",
          "name": "stderr",
          "text": [
            "Epoch [83/3000]: 100%|██████████| 34/34 [00:00<00:00, 137.68it/s, loss=1.28]\n"
          ]
        },
        {
          "output_type": "stream",
          "name": "stdout",
          "text": [
            "Epoch [83/3000]: Train loss: 1.5175, Valid loss: 1.5490\n"
          ]
        },
        {
          "output_type": "stream",
          "name": "stderr",
          "text": [
            "Epoch [84/3000]: 100%|██████████| 34/34 [00:00<00:00, 141.41it/s, loss=1.31]\n"
          ]
        },
        {
          "output_type": "stream",
          "name": "stdout",
          "text": [
            "Epoch [84/3000]: Train loss: 1.5169, Valid loss: 1.4460\n",
            "Saving model with loss 1.446...\n"
          ]
        },
        {
          "output_type": "stream",
          "name": "stderr",
          "text": [
            "Epoch [85/3000]: 100%|██████████| 34/34 [00:00<00:00, 157.51it/s, loss=1.42]\n"
          ]
        },
        {
          "output_type": "stream",
          "name": "stdout",
          "text": [
            "Epoch [85/3000]: Train loss: 1.5063, Valid loss: 1.5088\n"
          ]
        },
        {
          "output_type": "stream",
          "name": "stderr",
          "text": [
            "Epoch [86/3000]: 100%|██████████| 34/34 [00:00<00:00, 151.64it/s, loss=1.39]\n"
          ]
        },
        {
          "output_type": "stream",
          "name": "stdout",
          "text": [
            "Epoch [86/3000]: Train loss: 1.5063, Valid loss: 1.4608\n"
          ]
        },
        {
          "output_type": "stream",
          "name": "stderr",
          "text": [
            "Epoch [87/3000]: 100%|██████████| 34/34 [00:00<00:00, 95.66it/s, loss=1.48]\n"
          ]
        },
        {
          "output_type": "stream",
          "name": "stdout",
          "text": [
            "Epoch [87/3000]: Train loss: 1.4865, Valid loss: 1.4911\n"
          ]
        },
        {
          "output_type": "stream",
          "name": "stderr",
          "text": [
            "Epoch [88/3000]: 100%|██████████| 34/34 [00:00<00:00, 153.87it/s, loss=1.11]\n"
          ]
        },
        {
          "output_type": "stream",
          "name": "stdout",
          "text": [
            "Epoch [88/3000]: Train loss: 1.4769, Valid loss: 1.4291\n",
            "Saving model with loss 1.429...\n"
          ]
        },
        {
          "output_type": "stream",
          "name": "stderr",
          "text": [
            "Epoch [89/3000]: 100%|██████████| 34/34 [00:00<00:00, 166.78it/s, loss=1.43]\n"
          ]
        },
        {
          "output_type": "stream",
          "name": "stdout",
          "text": [
            "Epoch [89/3000]: Train loss: 1.4744, Valid loss: 1.4233\n",
            "Saving model with loss 1.423...\n"
          ]
        },
        {
          "output_type": "stream",
          "name": "stderr",
          "text": [
            "Epoch [90/3000]: 100%|██████████| 34/34 [00:00<00:00, 92.81it/s, loss=1.13]\n"
          ]
        },
        {
          "output_type": "stream",
          "name": "stdout",
          "text": [
            "Epoch [90/3000]: Train loss: 1.4711, Valid loss: 1.4160\n",
            "Saving model with loss 1.416...\n"
          ]
        },
        {
          "output_type": "stream",
          "name": "stderr",
          "text": [
            "Epoch [91/3000]: 100%|██████████| 34/34 [00:00<00:00, 144.15it/s, loss=0.833]\n"
          ]
        },
        {
          "output_type": "stream",
          "name": "stdout",
          "text": [
            "Epoch [91/3000]: Train loss: 1.4544, Valid loss: 1.4095\n",
            "Saving model with loss 1.409...\n"
          ]
        },
        {
          "output_type": "stream",
          "name": "stderr",
          "text": [
            "Epoch [92/3000]: 100%|██████████| 34/34 [00:00<00:00, 154.53it/s, loss=1.49]\n"
          ]
        },
        {
          "output_type": "stream",
          "name": "stdout",
          "text": [
            "Epoch [92/3000]: Train loss: 1.4614, Valid loss: 1.4499\n"
          ]
        },
        {
          "output_type": "stream",
          "name": "stderr",
          "text": [
            "Epoch [93/3000]: 100%|██████████| 34/34 [00:00<00:00, 98.67it/s, loss=0.874]\n"
          ]
        },
        {
          "output_type": "stream",
          "name": "stdout",
          "text": [
            "Epoch [93/3000]: Train loss: 1.4533, Valid loss: 1.4861\n"
          ]
        },
        {
          "output_type": "stream",
          "name": "stderr",
          "text": [
            "Epoch [94/3000]: 100%|██████████| 34/34 [00:00<00:00, 152.53it/s, loss=1.23]\n"
          ]
        },
        {
          "output_type": "stream",
          "name": "stdout",
          "text": [
            "Epoch [94/3000]: Train loss: 1.4473, Valid loss: 1.3854\n",
            "Saving model with loss 1.385...\n"
          ]
        },
        {
          "output_type": "stream",
          "name": "stderr",
          "text": [
            "Epoch [95/3000]: 100%|██████████| 34/34 [00:00<00:00, 79.89it/s, loss=1.49]\n"
          ]
        },
        {
          "output_type": "stream",
          "name": "stdout",
          "text": [
            "Epoch [95/3000]: Train loss: 1.4414, Valid loss: 1.4462\n"
          ]
        },
        {
          "output_type": "stream",
          "name": "stderr",
          "text": [
            "Epoch [96/3000]: 100%|██████████| 34/34 [00:00<00:00, 155.97it/s, loss=1.67]\n"
          ]
        },
        {
          "output_type": "stream",
          "name": "stdout",
          "text": [
            "Epoch [96/3000]: Train loss: 1.4428, Valid loss: 1.4266\n"
          ]
        },
        {
          "output_type": "stream",
          "name": "stderr",
          "text": [
            "Epoch [97/3000]: 100%|██████████| 34/34 [00:00<00:00, 128.62it/s, loss=0.797]\n"
          ]
        },
        {
          "output_type": "stream",
          "name": "stdout",
          "text": [
            "Epoch [97/3000]: Train loss: 1.4225, Valid loss: 1.3992\n"
          ]
        },
        {
          "output_type": "stream",
          "name": "stderr",
          "text": [
            "Epoch [98/3000]: 100%|██████████| 34/34 [00:00<00:00, 149.19it/s, loss=1.36]\n"
          ]
        },
        {
          "output_type": "stream",
          "name": "stdout",
          "text": [
            "Epoch [98/3000]: Train loss: 1.4213, Valid loss: 1.3707\n",
            "Saving model with loss 1.371...\n"
          ]
        },
        {
          "output_type": "stream",
          "name": "stderr",
          "text": [
            "Epoch [99/3000]: 100%|██████████| 34/34 [00:00<00:00, 141.54it/s, loss=1.24]\n"
          ]
        },
        {
          "output_type": "stream",
          "name": "stdout",
          "text": [
            "Epoch [99/3000]: Train loss: 1.4200, Valid loss: 1.4352\n"
          ]
        },
        {
          "output_type": "stream",
          "name": "stderr",
          "text": [
            "Epoch [100/3000]: 100%|██████████| 34/34 [00:00<00:00, 126.94it/s, loss=0.822]\n"
          ]
        },
        {
          "output_type": "stream",
          "name": "stdout",
          "text": [
            "Epoch [100/3000]: Train loss: 1.4207, Valid loss: 1.4006\n"
          ]
        },
        {
          "output_type": "stream",
          "name": "stderr",
          "text": [
            "Epoch [101/3000]: 100%|██████████| 34/34 [00:00<00:00, 151.53it/s, loss=0.984]\n"
          ]
        },
        {
          "output_type": "stream",
          "name": "stdout",
          "text": [
            "Epoch [101/3000]: Train loss: 1.4012, Valid loss: 1.4211\n"
          ]
        },
        {
          "output_type": "stream",
          "name": "stderr",
          "text": [
            "Epoch [102/3000]: 100%|██████████| 34/34 [00:00<00:00, 144.25it/s, loss=1.7]\n"
          ]
        },
        {
          "output_type": "stream",
          "name": "stdout",
          "text": [
            "Epoch [102/3000]: Train loss: 1.4012, Valid loss: 1.3678\n",
            "Saving model with loss 1.368...\n"
          ]
        },
        {
          "output_type": "stream",
          "name": "stderr",
          "text": [
            "Epoch [103/3000]: 100%|██████████| 34/34 [00:00<00:00, 155.57it/s, loss=1.29]\n"
          ]
        },
        {
          "output_type": "stream",
          "name": "stdout",
          "text": [
            "Epoch [103/3000]: Train loss: 1.3874, Valid loss: 1.3046\n",
            "Saving model with loss 1.305...\n"
          ]
        },
        {
          "output_type": "stream",
          "name": "stderr",
          "text": [
            "Epoch [104/3000]: 100%|██████████| 34/34 [00:00<00:00, 167.71it/s, loss=1.35]\n"
          ]
        },
        {
          "output_type": "stream",
          "name": "stdout",
          "text": [
            "Epoch [104/3000]: Train loss: 1.3897, Valid loss: 1.3598\n"
          ]
        },
        {
          "output_type": "stream",
          "name": "stderr",
          "text": [
            "Epoch [105/3000]: 100%|██████████| 34/34 [00:00<00:00, 167.20it/s, loss=1.33]\n"
          ]
        },
        {
          "output_type": "stream",
          "name": "stdout",
          "text": [
            "Epoch [105/3000]: Train loss: 1.3854, Valid loss: 1.3696\n"
          ]
        },
        {
          "output_type": "stream",
          "name": "stderr",
          "text": [
            "Epoch [106/3000]: 100%|██████████| 34/34 [00:00<00:00, 102.80it/s, loss=1.13]\n"
          ]
        },
        {
          "output_type": "stream",
          "name": "stdout",
          "text": [
            "Epoch [106/3000]: Train loss: 1.3757, Valid loss: 1.3769\n"
          ]
        },
        {
          "output_type": "stream",
          "name": "stderr",
          "text": [
            "Epoch [107/3000]: 100%|██████████| 34/34 [00:00<00:00, 62.13it/s, loss=1.31]\n"
          ]
        },
        {
          "output_type": "stream",
          "name": "stdout",
          "text": [
            "Epoch [107/3000]: Train loss: 1.3689, Valid loss: 1.3860\n"
          ]
        },
        {
          "output_type": "stream",
          "name": "stderr",
          "text": [
            "Epoch [108/3000]: 100%|██████████| 34/34 [00:00<00:00, 112.38it/s, loss=1.6]\n"
          ]
        },
        {
          "output_type": "stream",
          "name": "stdout",
          "text": [
            "Epoch [108/3000]: Train loss: 1.3790, Valid loss: 1.3104\n"
          ]
        },
        {
          "output_type": "stream",
          "name": "stderr",
          "text": [
            "Epoch [109/3000]: 100%|██████████| 34/34 [00:00<00:00, 152.39it/s, loss=1.85]\n"
          ]
        },
        {
          "output_type": "stream",
          "name": "stdout",
          "text": [
            "Epoch [109/3000]: Train loss: 1.3655, Valid loss: 1.3295\n"
          ]
        },
        {
          "output_type": "stream",
          "name": "stderr",
          "text": [
            "Epoch [110/3000]: 100%|██████████| 34/34 [00:00<00:00, 184.99it/s, loss=2.24]\n"
          ]
        },
        {
          "output_type": "stream",
          "name": "stdout",
          "text": [
            "Epoch [110/3000]: Train loss: 1.3620, Valid loss: 1.3473\n"
          ]
        },
        {
          "output_type": "stream",
          "name": "stderr",
          "text": [
            "Epoch [111/3000]: 100%|██████████| 34/34 [00:00<00:00, 175.20it/s, loss=0.598]\n"
          ]
        },
        {
          "output_type": "stream",
          "name": "stdout",
          "text": [
            "Epoch [111/3000]: Train loss: 1.3520, Valid loss: 1.3093\n"
          ]
        },
        {
          "output_type": "stream",
          "name": "stderr",
          "text": [
            "Epoch [112/3000]: 100%|██████████| 34/34 [00:00<00:00, 169.12it/s, loss=1.24]\n"
          ]
        },
        {
          "output_type": "stream",
          "name": "stdout",
          "text": [
            "Epoch [112/3000]: Train loss: 1.3511, Valid loss: 1.3396\n"
          ]
        },
        {
          "output_type": "stream",
          "name": "stderr",
          "text": [
            "Epoch [113/3000]: 100%|██████████| 34/34 [00:00<00:00, 83.30it/s, loss=1.39] \n"
          ]
        },
        {
          "output_type": "stream",
          "name": "stdout",
          "text": [
            "Epoch [113/3000]: Train loss: 1.3402, Valid loss: 1.2746\n",
            "Saving model with loss 1.275...\n"
          ]
        },
        {
          "output_type": "stream",
          "name": "stderr",
          "text": [
            "Epoch [114/3000]: 100%|██████████| 34/34 [00:00<00:00, 107.64it/s, loss=1.48]\n"
          ]
        },
        {
          "output_type": "stream",
          "name": "stdout",
          "text": [
            "Epoch [114/3000]: Train loss: 1.3545, Valid loss: 1.3227\n"
          ]
        },
        {
          "output_type": "stream",
          "name": "stderr",
          "text": [
            "Epoch [115/3000]: 100%|██████████| 34/34 [00:00<00:00, 104.37it/s, loss=1.67]\n"
          ]
        },
        {
          "output_type": "stream",
          "name": "stdout",
          "text": [
            "Epoch [115/3000]: Train loss: 1.3494, Valid loss: 1.3375\n"
          ]
        },
        {
          "output_type": "stream",
          "name": "stderr",
          "text": [
            "Epoch [116/3000]: 100%|██████████| 34/34 [00:00<00:00, 119.89it/s, loss=1.53]\n"
          ]
        },
        {
          "output_type": "stream",
          "name": "stdout",
          "text": [
            "Epoch [116/3000]: Train loss: 1.3405, Valid loss: 1.2837\n"
          ]
        },
        {
          "output_type": "stream",
          "name": "stderr",
          "text": [
            "Epoch [117/3000]: 100%|██████████| 34/34 [00:00<00:00, 136.36it/s, loss=1.32]\n"
          ]
        },
        {
          "output_type": "stream",
          "name": "stdout",
          "text": [
            "Epoch [117/3000]: Train loss: 1.3261, Valid loss: 1.3044\n"
          ]
        },
        {
          "output_type": "stream",
          "name": "stderr",
          "text": [
            "Epoch [118/3000]: 100%|██████████| 34/34 [00:00<00:00, 164.45it/s, loss=1.4]\n"
          ]
        },
        {
          "output_type": "stream",
          "name": "stdout",
          "text": [
            "Epoch [118/3000]: Train loss: 1.3331, Valid loss: 1.3349\n"
          ]
        },
        {
          "output_type": "stream",
          "name": "stderr",
          "text": [
            "Epoch [119/3000]: 100%|██████████| 34/34 [00:00<00:00, 151.02it/s, loss=1.35]\n"
          ]
        },
        {
          "output_type": "stream",
          "name": "stdout",
          "text": [
            "Epoch [119/3000]: Train loss: 1.3265, Valid loss: 1.2885\n"
          ]
        },
        {
          "output_type": "stream",
          "name": "stderr",
          "text": [
            "Epoch [120/3000]: 100%|██████████| 34/34 [00:00<00:00, 172.63it/s, loss=1.42]\n"
          ]
        },
        {
          "output_type": "stream",
          "name": "stdout",
          "text": [
            "Epoch [120/3000]: Train loss: 1.3239, Valid loss: 1.3192\n"
          ]
        },
        {
          "output_type": "stream",
          "name": "stderr",
          "text": [
            "Epoch [121/3000]: 100%|██████████| 34/34 [00:00<00:00, 174.50it/s, loss=0.806]\n"
          ]
        },
        {
          "output_type": "stream",
          "name": "stdout",
          "text": [
            "Epoch [121/3000]: Train loss: 1.3107, Valid loss: 1.2390\n",
            "Saving model with loss 1.239...\n"
          ]
        },
        {
          "output_type": "stream",
          "name": "stderr",
          "text": [
            "Epoch [122/3000]: 100%|██████████| 34/34 [00:00<00:00, 180.43it/s, loss=1.34]\n"
          ]
        },
        {
          "output_type": "stream",
          "name": "stdout",
          "text": [
            "Epoch [122/3000]: Train loss: 1.3125, Valid loss: 1.3362\n"
          ]
        },
        {
          "output_type": "stream",
          "name": "stderr",
          "text": [
            "Epoch [123/3000]: 100%|██████████| 34/34 [00:00<00:00, 156.94it/s, loss=1.44]\n"
          ]
        },
        {
          "output_type": "stream",
          "name": "stdout",
          "text": [
            "Epoch [123/3000]: Train loss: 1.3089, Valid loss: 1.3905\n"
          ]
        },
        {
          "output_type": "stream",
          "name": "stderr",
          "text": [
            "Epoch [124/3000]: 100%|██████████| 34/34 [00:00<00:00, 145.15it/s, loss=1.28]\n"
          ]
        },
        {
          "output_type": "stream",
          "name": "stdout",
          "text": [
            "Epoch [124/3000]: Train loss: 1.3013, Valid loss: 1.3023\n"
          ]
        },
        {
          "output_type": "stream",
          "name": "stderr",
          "text": [
            "Epoch [125/3000]: 100%|██████████| 34/34 [00:00<00:00, 183.63it/s, loss=1.59]\n"
          ]
        },
        {
          "output_type": "stream",
          "name": "stdout",
          "text": [
            "Epoch [125/3000]: Train loss: 1.2995, Valid loss: 1.2667\n"
          ]
        },
        {
          "output_type": "stream",
          "name": "stderr",
          "text": [
            "Epoch [126/3000]: 100%|██████████| 34/34 [00:00<00:00, 173.87it/s, loss=1]\n"
          ]
        },
        {
          "output_type": "stream",
          "name": "stdout",
          "text": [
            "Epoch [126/3000]: Train loss: 1.2925, Valid loss: 1.2498\n"
          ]
        },
        {
          "output_type": "stream",
          "name": "stderr",
          "text": [
            "Epoch [127/3000]: 100%|██████████| 34/34 [00:00<00:00, 99.93it/s, loss=0.968] \n"
          ]
        },
        {
          "output_type": "stream",
          "name": "stdout",
          "text": [
            "Epoch [127/3000]: Train loss: 1.2926, Valid loss: 1.2129\n",
            "Saving model with loss 1.213...\n"
          ]
        },
        {
          "output_type": "stream",
          "name": "stderr",
          "text": [
            "Epoch [129/3000]: 100%|██████████| 34/34 [00:00<00:00, 172.00it/s, loss=1.06]\n"
          ]
        },
        {
          "output_type": "stream",
          "name": "stdout",
          "text": [
            "Epoch [129/3000]: Train loss: 1.2825, Valid loss: 1.3272\n"
          ]
        },
        {
          "output_type": "stream",
          "name": "stderr",
          "text": [
            "Epoch [130/3000]: 100%|██████████| 34/34 [00:00<00:00, 107.11it/s, loss=1.02]\n"
          ]
        },
        {
          "output_type": "stream",
          "name": "stdout",
          "text": [
            "Epoch [130/3000]: Train loss: 1.2848, Valid loss: 1.2176\n"
          ]
        },
        {
          "output_type": "stream",
          "name": "stderr",
          "text": [
            "Epoch [131/3000]: 100%|██████████| 34/34 [00:00<00:00, 158.52it/s, loss=1.46]\n"
          ]
        },
        {
          "output_type": "stream",
          "name": "stdout",
          "text": [
            "Epoch [131/3000]: Train loss: 1.2787, Valid loss: 1.2355\n"
          ]
        },
        {
          "output_type": "stream",
          "name": "stderr",
          "text": [
            "Epoch [132/3000]: 100%|██████████| 34/34 [00:00<00:00, 159.86it/s, loss=0.907]\n"
          ]
        },
        {
          "output_type": "stream",
          "name": "stdout",
          "text": [
            "Epoch [132/3000]: Train loss: 1.2767, Valid loss: 1.2187\n"
          ]
        },
        {
          "output_type": "stream",
          "name": "stderr",
          "text": [
            "Epoch [133/3000]: 100%|██████████| 34/34 [00:00<00:00, 170.41it/s, loss=0.698]\n"
          ]
        },
        {
          "output_type": "stream",
          "name": "stdout",
          "text": [
            "Epoch [133/3000]: Train loss: 1.2721, Valid loss: 1.2477\n"
          ]
        },
        {
          "output_type": "stream",
          "name": "stderr",
          "text": [
            "Epoch [134/3000]: 100%|██████████| 34/34 [00:00<00:00, 99.58it/s, loss=1.5] \n"
          ]
        },
        {
          "output_type": "stream",
          "name": "stdout",
          "text": [
            "Epoch [134/3000]: Train loss: 1.2776, Valid loss: 1.2521\n"
          ]
        },
        {
          "output_type": "stream",
          "name": "stderr",
          "text": [
            "Epoch [135/3000]: 100%|██████████| 34/34 [00:00<00:00, 157.91it/s, loss=1.34]\n"
          ]
        },
        {
          "output_type": "stream",
          "name": "stdout",
          "text": [
            "Epoch [135/3000]: Train loss: 1.2694, Valid loss: 1.2084\n",
            "Saving model with loss 1.208...\n"
          ]
        },
        {
          "output_type": "stream",
          "name": "stderr",
          "text": [
            "Epoch [139/3000]: 100%|██████████| 34/34 [00:00<00:00, 50.45it/s, loss=1]\n"
          ]
        },
        {
          "output_type": "stream",
          "name": "stdout",
          "text": [
            "Epoch [139/3000]: Train loss: 1.2532, Valid loss: 1.2534\n"
          ]
        },
        {
          "output_type": "stream",
          "name": "stderr",
          "text": [
            "Epoch [140/3000]: 100%|██████████| 34/34 [00:00<00:00, 120.10it/s, loss=1.64]\n"
          ]
        },
        {
          "output_type": "stream",
          "name": "stdout",
          "text": [
            "Epoch [140/3000]: Train loss: 1.2534, Valid loss: 1.3226\n"
          ]
        },
        {
          "output_type": "stream",
          "name": "stderr",
          "text": [
            "Epoch [141/3000]: 100%|██████████| 34/34 [00:00<00:00, 116.80it/s, loss=1.1]\n"
          ]
        },
        {
          "output_type": "stream",
          "name": "stdout",
          "text": [
            "Epoch [141/3000]: Train loss: 1.2663, Valid loss: 1.2462\n"
          ]
        },
        {
          "output_type": "stream",
          "name": "stderr",
          "text": [
            "Epoch [142/3000]: 100%|██████████| 34/34 [00:00<00:00, 117.87it/s, loss=1.26]\n"
          ]
        },
        {
          "output_type": "stream",
          "name": "stdout",
          "text": [
            "Epoch [142/3000]: Train loss: 1.2607, Valid loss: 1.2273\n"
          ]
        },
        {
          "output_type": "stream",
          "name": "stderr",
          "text": [
            "Epoch [143/3000]: 100%|██████████| 34/34 [00:00<00:00, 118.12it/s, loss=2.3]\n"
          ]
        },
        {
          "output_type": "stream",
          "name": "stdout",
          "text": [
            "Epoch [143/3000]: Train loss: 1.2528, Valid loss: 1.2278\n"
          ]
        },
        {
          "output_type": "stream",
          "name": "stderr",
          "text": [
            "Epoch [144/3000]: 100%|██████████| 34/34 [00:00<00:00, 114.57it/s, loss=1.61]\n"
          ]
        },
        {
          "output_type": "stream",
          "name": "stdout",
          "text": [
            "Epoch [144/3000]: Train loss: 1.2467, Valid loss: 1.3321\n"
          ]
        },
        {
          "output_type": "stream",
          "name": "stderr",
          "text": [
            "Epoch [145/3000]: 100%|██████████| 34/34 [00:00<00:00, 155.93it/s, loss=0.66]\n"
          ]
        },
        {
          "output_type": "stream",
          "name": "stdout",
          "text": [
            "Epoch [145/3000]: Train loss: 1.2625, Valid loss: 1.2114\n"
          ]
        },
        {
          "output_type": "stream",
          "name": "stderr",
          "text": [
            "Epoch [148/3000]: 100%|██████████| 34/34 [00:00<00:00, 105.61it/s, loss=1.57]\n"
          ]
        },
        {
          "output_type": "stream",
          "name": "stdout",
          "text": [
            "Epoch [148/3000]: Train loss: 1.2436, Valid loss: 1.2139\n"
          ]
        },
        {
          "output_type": "stream",
          "name": "stderr",
          "text": [
            "Epoch [149/3000]: 100%|██████████| 34/34 [00:00<00:00, 171.40it/s, loss=1.17]\n"
          ]
        },
        {
          "output_type": "stream",
          "name": "stdout",
          "text": [
            "Epoch [149/3000]: Train loss: 1.2463, Valid loss: 1.1951\n",
            "Saving model with loss 1.195...\n"
          ]
        },
        {
          "output_type": "stream",
          "name": "stderr",
          "text": [
            "Epoch [150/3000]: 100%|██████████| 34/34 [00:00<00:00, 162.20it/s, loss=1.03]\n"
          ]
        },
        {
          "output_type": "stream",
          "name": "stdout",
          "text": [
            "Epoch [150/3000]: Train loss: 1.2333, Valid loss: 1.2360\n"
          ]
        },
        {
          "output_type": "stream",
          "name": "stderr",
          "text": [
            "Epoch [151/3000]: 100%|██████████| 34/34 [00:00<00:00, 64.10it/s, loss=1.72]\n"
          ]
        },
        {
          "output_type": "stream",
          "name": "stdout",
          "text": [
            "Epoch [151/3000]: Train loss: 1.2328, Valid loss: 1.1974\n"
          ]
        },
        {
          "output_type": "stream",
          "name": "stderr",
          "text": [
            "Epoch [152/3000]: 100%|██████████| 34/34 [00:00<00:00, 129.31it/s, loss=0.834]\n"
          ]
        },
        {
          "output_type": "stream",
          "name": "stdout",
          "text": [
            "Epoch [152/3000]: Train loss: 1.2543, Valid loss: 1.2239\n"
          ]
        },
        {
          "output_type": "stream",
          "name": "stderr",
          "text": [
            "Epoch [153/3000]: 100%|██████████| 34/34 [00:00<00:00, 163.35it/s, loss=1.91]\n"
          ]
        },
        {
          "output_type": "stream",
          "name": "stdout",
          "text": [
            "Epoch [153/3000]: Train loss: 1.2379, Valid loss: 1.1587\n",
            "Saving model with loss 1.159...\n"
          ]
        },
        {
          "output_type": "stream",
          "name": "stderr",
          "text": [
            "Epoch [157/3000]: 100%|██████████| 34/34 [00:00<00:00, 147.79it/s, loss=1.07]\n"
          ]
        },
        {
          "output_type": "stream",
          "name": "stdout",
          "text": [
            "Epoch [157/3000]: Train loss: 1.2167, Valid loss: 1.1940\n"
          ]
        },
        {
          "output_type": "stream",
          "name": "stderr",
          "text": [
            "Epoch [158/3000]: 100%|██████████| 34/34 [00:00<00:00, 167.32it/s, loss=1.4]\n"
          ]
        },
        {
          "output_type": "stream",
          "name": "stdout",
          "text": [
            "Epoch [158/3000]: Train loss: 1.2197, Valid loss: 1.1661\n"
          ]
        },
        {
          "output_type": "stream",
          "name": "stderr",
          "text": [
            "Epoch [159/3000]: 100%|██████████| 34/34 [00:00<00:00, 52.68it/s, loss=1.3]\n"
          ]
        },
        {
          "output_type": "stream",
          "name": "stdout",
          "text": [
            "Epoch [159/3000]: Train loss: 1.2211, Valid loss: 1.1763\n"
          ]
        },
        {
          "output_type": "stream",
          "name": "stderr",
          "text": [
            "Epoch [160/3000]: 100%|██████████| 34/34 [00:00<00:00, 97.87it/s, loss=1.01] \n"
          ]
        },
        {
          "output_type": "stream",
          "name": "stdout",
          "text": [
            "Epoch [160/3000]: Train loss: 1.2177, Valid loss: 1.1419\n",
            "Saving model with loss 1.142...\n"
          ]
        },
        {
          "output_type": "stream",
          "name": "stderr",
          "text": [
            "Epoch [161/3000]: 100%|██████████| 34/34 [00:00<00:00, 112.35it/s, loss=1.68]\n"
          ]
        },
        {
          "output_type": "stream",
          "name": "stdout",
          "text": [
            "Epoch [161/3000]: Train loss: 1.2146, Valid loss: 1.1684\n"
          ]
        },
        {
          "output_type": "stream",
          "name": "stderr",
          "text": [
            "Epoch [162/3000]: 100%|██████████| 34/34 [00:00<00:00, 112.74it/s, loss=1.1]\n"
          ]
        },
        {
          "output_type": "stream",
          "name": "stdout",
          "text": [
            "Epoch [162/3000]: Train loss: 1.2126, Valid loss: 1.2209\n"
          ]
        },
        {
          "output_type": "stream",
          "name": "stderr",
          "text": [
            "Epoch [163/3000]: 100%|██████████| 34/34 [00:00<00:00, 112.79it/s, loss=1.1]\n"
          ]
        },
        {
          "output_type": "stream",
          "name": "stdout",
          "text": [
            "Epoch [163/3000]: Train loss: 1.2193, Valid loss: 1.1450\n"
          ]
        },
        {
          "output_type": "stream",
          "name": "stderr",
          "text": [
            "Epoch [164/3000]:  35%|███▌      | 12/34 [00:00<00:00, 112.74it/s, loss=1.1]"
          ]
        },
        {
          "output_type": "stream",
          "name": "stdout",
          "text": [
            "Epoch [165/3000]: Train loss: 1.2178, Valid loss: 1.1937\n"
          ]
        },
        {
          "output_type": "stream",
          "name": "stderr",
          "text": [
            "Epoch [166/3000]: 100%|██████████| 34/34 [00:00<00:00, 113.03it/s, loss=0.693]\n"
          ]
        },
        {
          "output_type": "stream",
          "name": "stdout",
          "text": [
            "Epoch [166/3000]: Train loss: 1.2151, Valid loss: 1.1732\n"
          ]
        },
        {
          "output_type": "stream",
          "name": "stderr",
          "text": [
            "Epoch [167/3000]: 100%|██████████| 34/34 [00:00<00:00, 118.17it/s, loss=0.754]\n"
          ]
        },
        {
          "output_type": "stream",
          "name": "stdout",
          "text": [
            "Epoch [167/3000]: Train loss: 1.2006, Valid loss: 1.1648\n"
          ]
        },
        {
          "output_type": "stream",
          "name": "stderr",
          "text": [
            "Epoch [168/3000]: 100%|██████████| 34/34 [00:00<00:00, 136.33it/s, loss=1.23]\n"
          ]
        },
        {
          "output_type": "stream",
          "name": "stdout",
          "text": [
            "Epoch [168/3000]: Train loss: 1.2067, Valid loss: 1.1752\n"
          ]
        },
        {
          "output_type": "stream",
          "name": "stderr",
          "text": [
            "Epoch [169/3000]: 100%|██████████| 34/34 [00:00<00:00, 177.44it/s, loss=0.769]\n"
          ]
        },
        {
          "output_type": "stream",
          "name": "stdout",
          "text": [
            "Epoch [169/3000]: Train loss: 1.1987, Valid loss: 1.1520\n"
          ]
        },
        {
          "output_type": "stream",
          "name": "stderr",
          "text": [
            "Epoch [170/3000]: 100%|██████████| 34/34 [00:00<00:00, 77.49it/s, loss=1.49]\n"
          ]
        },
        {
          "output_type": "stream",
          "name": "stdout",
          "text": [
            "Epoch [170/3000]: Train loss: 1.2057, Valid loss: 1.1503\n"
          ]
        },
        {
          "output_type": "stream",
          "name": "stderr",
          "text": [
            "Epoch [171/3000]: 100%|██████████| 34/34 [00:00<00:00, 130.90it/s, loss=1.92]\n"
          ]
        },
        {
          "output_type": "stream",
          "name": "stdout",
          "text": [
            "Epoch [171/3000]: Train loss: 1.2078, Valid loss: 1.1881\n"
          ]
        },
        {
          "output_type": "stream",
          "name": "stderr",
          "text": [
            "Epoch [172/3000]:  44%|████▍     | 15/34 [00:00<00:00, 84.24it/s, loss=1.43]\n"
          ]
        },
        {
          "output_type": "stream",
          "name": "stdout",
          "text": [
            "Epoch [172/3000]: Train loss: 1.2007, Valid loss: 1.1764\n"
          ]
        },
        {
          "output_type": "stream",
          "name": "stderr",
          "text": [
            "Epoch [173/3000]: 100%|██████████| 34/34 [00:00<00:00, 159.49it/s, loss=2.39]\n"
          ]
        },
        {
          "output_type": "stream",
          "name": "stdout",
          "text": [
            "Epoch [173/3000]: Train loss: 1.2091, Valid loss: 1.1595\n"
          ]
        },
        {
          "output_type": "stream",
          "name": "stderr",
          "text": [
            "Epoch [174/3000]: 100%|██████████| 34/34 [00:00<00:00, 165.31it/s, loss=1]\n"
          ]
        },
        {
          "output_type": "stream",
          "name": "stdout",
          "text": [
            "Epoch [174/3000]: Train loss: 1.1986, Valid loss: 1.1403\n",
            "Saving model with loss 1.140...\n"
          ]
        },
        {
          "output_type": "stream",
          "name": "stderr",
          "text": [
            "Epoch [175/3000]: 100%|██████████| 34/34 [00:00<00:00, 159.98it/s, loss=1.12]\n"
          ]
        },
        {
          "output_type": "stream",
          "name": "stdout",
          "text": [
            "Epoch [175/3000]: Train loss: 1.2018, Valid loss: 1.2071\n"
          ]
        },
        {
          "output_type": "stream",
          "name": "stderr",
          "text": [
            "Epoch [176/3000]: 100%|██████████| 34/34 [00:00<00:00, 182.60it/s, loss=1.11]\n"
          ]
        },
        {
          "output_type": "stream",
          "name": "stdout",
          "text": [
            "Epoch [176/3000]: Train loss: 1.2002, Valid loss: 1.1704\n"
          ]
        },
        {
          "output_type": "stream",
          "name": "stderr",
          "text": [
            "Epoch [177/3000]: 100%|██████████| 34/34 [00:00<00:00, 161.72it/s, loss=1.13]\n"
          ]
        },
        {
          "output_type": "stream",
          "name": "stdout",
          "text": [
            "Epoch [177/3000]: Train loss: 1.1937, Valid loss: 1.1607\n"
          ]
        },
        {
          "output_type": "stream",
          "name": "stderr",
          "text": [
            "Epoch [178/3000]: 100%|██████████| 34/34 [00:00<00:00, 187.74it/s, loss=1.33]\n"
          ]
        },
        {
          "output_type": "stream",
          "name": "stdout",
          "text": [
            "Epoch [178/3000]: Train loss: 1.1953, Valid loss: 1.1842\n"
          ]
        },
        {
          "output_type": "stream",
          "name": "stderr",
          "text": [
            "Epoch [185/3000]: 100%|██████████| 34/34 [00:00<00:00, 162.51it/s, loss=1.87]\n"
          ]
        },
        {
          "output_type": "stream",
          "name": "stdout",
          "text": [
            "Epoch [185/3000]: Train loss: 1.1887, Valid loss: 1.1957\n"
          ]
        },
        {
          "output_type": "stream",
          "name": "stderr",
          "text": [
            "Epoch [186/3000]: 100%|██████████| 34/34 [00:00<00:00, 177.56it/s, loss=0.933]\n"
          ]
        },
        {
          "output_type": "stream",
          "name": "stdout",
          "text": [
            "Epoch [186/3000]: Train loss: 1.1980, Valid loss: 1.1547\n"
          ]
        },
        {
          "output_type": "stream",
          "name": "stderr",
          "text": [
            "Epoch [187/3000]: 100%|██████████| 34/34 [00:00<00:00, 149.50it/s, loss=1.23]\n"
          ]
        },
        {
          "output_type": "stream",
          "name": "stdout",
          "text": [
            "Epoch [187/3000]: Train loss: 1.1903, Valid loss: 1.0977\n",
            "Saving model with loss 1.098...\n"
          ]
        },
        {
          "output_type": "stream",
          "name": "stderr",
          "text": [
            "Epoch [188/3000]: 100%|██████████| 34/34 [00:00<00:00, 112.31it/s, loss=1.79]\n"
          ]
        },
        {
          "output_type": "stream",
          "name": "stdout",
          "text": [
            "Epoch [188/3000]: Train loss: 1.1947, Valid loss: 1.1171\n"
          ]
        },
        {
          "output_type": "stream",
          "name": "stderr",
          "text": [
            "Epoch [189/3000]: 100%|██████████| 34/34 [00:00<00:00, 164.43it/s, loss=1.2]\n"
          ]
        },
        {
          "output_type": "stream",
          "name": "stdout",
          "text": [
            "Epoch [189/3000]: Train loss: 1.1874, Valid loss: 1.1647\n"
          ]
        },
        {
          "output_type": "stream",
          "name": "stderr",
          "text": [
            "Epoch [190/3000]: 100%|██████████| 34/34 [00:00<00:00, 113.92it/s, loss=1.12]\n"
          ]
        },
        {
          "output_type": "stream",
          "name": "stdout",
          "text": [
            "Epoch [190/3000]: Train loss: 1.1842, Valid loss: 1.1838\n"
          ]
        },
        {
          "output_type": "stream",
          "name": "stderr",
          "text": [
            "Epoch [191/3000]: 100%|██████████| 34/34 [00:00<00:00, 104.50it/s, loss=1.16]\n"
          ]
        },
        {
          "output_type": "stream",
          "name": "stdout",
          "text": [
            "Epoch [191/3000]: Train loss: 1.1881, Valid loss: 1.1472\n"
          ]
        },
        {
          "output_type": "stream",
          "name": "stderr",
          "text": [
            "Epoch [196/3000]: 100%|██████████| 34/34 [00:00<00:00, 158.16it/s, loss=0.936]\n"
          ]
        },
        {
          "output_type": "stream",
          "name": "stdout",
          "text": [
            "Epoch [196/3000]: Train loss: 1.1829, Valid loss: 1.1269\n"
          ]
        },
        {
          "output_type": "stream",
          "name": "stderr",
          "text": [
            "Epoch [197/3000]: 100%|██████████| 34/34 [00:00<00:00, 159.00it/s, loss=1.22]\n"
          ]
        },
        {
          "output_type": "stream",
          "name": "stdout",
          "text": [
            "Epoch [197/3000]: Train loss: 1.1760, Valid loss: 1.1602\n"
          ]
        },
        {
          "output_type": "stream",
          "name": "stderr",
          "text": [
            "Epoch [198/3000]: 100%|██████████| 34/34 [00:00<00:00, 46.22it/s, loss=1.56]\n"
          ]
        },
        {
          "output_type": "stream",
          "name": "stdout",
          "text": [
            "Epoch [198/3000]: Train loss: 1.1811, Valid loss: 1.1329\n"
          ]
        },
        {
          "output_type": "stream",
          "name": "stderr",
          "text": [
            "Epoch [199/3000]: 100%|██████████| 34/34 [00:00<00:00, 67.17it/s, loss=1.88]\n"
          ]
        },
        {
          "output_type": "stream",
          "name": "stdout",
          "text": [
            "Epoch [199/3000]: Train loss: 1.1829, Valid loss: 1.1381\n"
          ]
        },
        {
          "output_type": "stream",
          "name": "stderr",
          "text": [
            "Epoch [200/3000]: 100%|██████████| 34/34 [00:00<00:00, 85.75it/s, loss=0.672]\n"
          ]
        },
        {
          "output_type": "stream",
          "name": "stdout",
          "text": [
            "Epoch [200/3000]: Train loss: 1.1831, Valid loss: 1.1188\n"
          ]
        },
        {
          "output_type": "stream",
          "name": "stderr",
          "text": [
            "Epoch [201/3000]: 100%|██████████| 34/34 [00:00<00:00, 61.27it/s, loss=1.73]\n"
          ]
        },
        {
          "output_type": "stream",
          "name": "stdout",
          "text": [
            "Epoch [201/3000]: Train loss: 1.1801, Valid loss: 1.1415\n"
          ]
        },
        {
          "output_type": "stream",
          "name": "stderr",
          "text": [
            "Epoch [202/3000]: 100%|██████████| 34/34 [00:00<00:00, 150.04it/s, loss=0.709]\n"
          ]
        },
        {
          "output_type": "stream",
          "name": "stdout",
          "text": [
            "Epoch [202/3000]: Train loss: 1.1930, Valid loss: 1.1832\n"
          ]
        },
        {
          "output_type": "stream",
          "name": "stderr",
          "text": [
            "Epoch [203/3000]:   0%|          | 0/34 [00:00<?, ?it/s, loss=1.04]"
          ]
        },
        {
          "output_type": "stream",
          "name": "stdout",
          "text": [
            "Epoch [203/3000]: Train loss: 1.1781, Valid loss: 1.1817\n"
          ]
        },
        {
          "output_type": "stream",
          "name": "stderr",
          "text": [
            "Epoch [204/3000]: 100%|██████████| 34/34 [00:01<00:00, 27.03it/s, loss=1]\n"
          ]
        },
        {
          "output_type": "stream",
          "name": "stdout",
          "text": [
            "Epoch [204/3000]: Train loss: 1.1734, Valid loss: 1.1546\n"
          ]
        },
        {
          "output_type": "stream",
          "name": "stderr",
          "text": [
            "Epoch [205/3000]: 100%|██████████| 34/34 [00:00<00:00, 170.20it/s, loss=0.458]\n"
          ]
        },
        {
          "output_type": "stream",
          "name": "stdout",
          "text": [
            "Epoch [205/3000]: Train loss: 1.1765, Valid loss: 1.1873\n"
          ]
        },
        {
          "output_type": "stream",
          "name": "stderr",
          "text": [
            "Epoch [206/3000]: 100%|██████████| 34/34 [00:00<00:00, 49.94it/s, loss=1.35]\n"
          ]
        },
        {
          "output_type": "stream",
          "name": "stdout",
          "text": [
            "Epoch [206/3000]: Train loss: 1.2159, Valid loss: 1.1699\n"
          ]
        },
        {
          "output_type": "stream",
          "name": "stderr",
          "text": [
            "Epoch [207/3000]: 100%|██████████| 34/34 [00:00<00:00, 88.42it/s, loss=1.65]\n"
          ]
        },
        {
          "output_type": "stream",
          "name": "stdout",
          "text": [
            "Epoch [207/3000]: Train loss: 1.1758, Valid loss: 1.1824\n"
          ]
        },
        {
          "output_type": "stream",
          "name": "stderr",
          "text": [
            "Epoch [208/3000]: 100%|██████████| 34/34 [00:00<00:00, 127.54it/s, loss=1.35]\n"
          ]
        },
        {
          "output_type": "stream",
          "name": "stdout",
          "text": [
            "Epoch [208/3000]: Train loss: 1.1791, Valid loss: 1.1339\n"
          ]
        },
        {
          "output_type": "stream",
          "name": "stderr",
          "text": [
            "Epoch [209/3000]: 100%|██████████| 34/34 [00:00<00:00, 42.15it/s, loss=1.01]\n"
          ]
        },
        {
          "output_type": "stream",
          "name": "stdout",
          "text": [
            "Epoch [209/3000]: Train loss: 1.1763, Valid loss: 1.2269\n"
          ]
        },
        {
          "output_type": "stream",
          "name": "stderr",
          "text": [
            "Epoch [210/3000]: 100%|██████████| 34/34 [00:00<00:00, 169.21it/s, loss=1.01]\n"
          ]
        },
        {
          "output_type": "stream",
          "name": "stdout",
          "text": [
            "Epoch [210/3000]: Train loss: 1.1732, Valid loss: 1.1750\n"
          ]
        },
        {
          "output_type": "stream",
          "name": "stderr",
          "text": [
            "Epoch [211/3000]: 100%|██████████| 34/34 [00:00<00:00, 107.73it/s, loss=1.06]\n"
          ]
        },
        {
          "output_type": "stream",
          "name": "stdout",
          "text": [
            "Epoch [211/3000]: Train loss: 1.1720, Valid loss: 1.1203\n"
          ]
        },
        {
          "output_type": "stream",
          "name": "stderr",
          "text": [
            "Epoch [212/3000]: 100%|██████████| 34/34 [00:00<00:00, 166.61it/s, loss=1.19]\n"
          ]
        },
        {
          "output_type": "stream",
          "name": "stdout",
          "text": [
            "Epoch [212/3000]: Train loss: 1.1773, Valid loss: 1.1341\n"
          ]
        },
        {
          "output_type": "stream",
          "name": "stderr",
          "text": [
            "Epoch [213/3000]: 100%|██████████| 34/34 [00:00<00:00, 118.00it/s, loss=1.16]\n"
          ]
        },
        {
          "output_type": "stream",
          "name": "stdout",
          "text": [
            "Epoch [213/3000]: Train loss: 1.1840, Valid loss: 1.1585\n"
          ]
        },
        {
          "output_type": "stream",
          "name": "stderr",
          "text": [
            "Epoch [214/3000]: 100%|██████████| 34/34 [00:00<00:00, 112.84it/s, loss=1.88]\n"
          ]
        },
        {
          "output_type": "stream",
          "name": "stdout",
          "text": [
            "Epoch [214/3000]: Train loss: 1.1824, Valid loss: 1.1506\n"
          ]
        },
        {
          "output_type": "stream",
          "name": "stderr",
          "text": [
            "Epoch [215/3000]: 100%|██████████| 34/34 [00:00<00:00, 126.37it/s, loss=1.07]\n"
          ]
        },
        {
          "output_type": "stream",
          "name": "stdout",
          "text": [
            "Epoch [215/3000]: Train loss: 1.1695, Valid loss: 1.1673\n"
          ]
        },
        {
          "output_type": "stream",
          "name": "stderr",
          "text": [
            "Epoch [216/3000]: 100%|██████████| 34/34 [00:00<00:00, 163.57it/s, loss=1.42]\n"
          ]
        },
        {
          "output_type": "stream",
          "name": "stdout",
          "text": [
            "Epoch [216/3000]: Train loss: 1.1898, Valid loss: 1.1357\n"
          ]
        },
        {
          "output_type": "stream",
          "name": "stderr",
          "text": [
            "Epoch [217/3000]: 100%|██████████| 34/34 [00:00<00:00, 166.97it/s, loss=2.04]\n"
          ]
        },
        {
          "output_type": "stream",
          "name": "stdout",
          "text": [
            "Epoch [217/3000]: Train loss: 1.1791, Valid loss: 1.1251\n"
          ]
        },
        {
          "output_type": "stream",
          "name": "stderr",
          "text": [
            "Epoch [218/3000]: 100%|██████████| 34/34 [00:00<00:00, 174.40it/s, loss=1.83]\n"
          ]
        },
        {
          "output_type": "stream",
          "name": "stdout",
          "text": [
            "Epoch [218/3000]: Train loss: 1.1815, Valid loss: 1.1193\n"
          ]
        },
        {
          "output_type": "stream",
          "name": "stderr",
          "text": [
            "Epoch [219/3000]: 100%|██████████| 34/34 [00:00<00:00, 121.97it/s, loss=1.39]\n"
          ]
        },
        {
          "output_type": "stream",
          "name": "stdout",
          "text": [
            "Epoch [219/3000]: Train loss: 1.1722, Valid loss: 1.1678\n"
          ]
        },
        {
          "output_type": "stream",
          "name": "stderr",
          "text": [
            "Epoch [220/3000]: 100%|██████████| 34/34 [00:00<00:00, 80.75it/s, loss=1.14]\n"
          ]
        },
        {
          "output_type": "stream",
          "name": "stdout",
          "text": [
            "Epoch [220/3000]: Train loss: 1.1781, Valid loss: 1.1615\n"
          ]
        },
        {
          "output_type": "stream",
          "name": "stderr",
          "text": [
            "Epoch [221/3000]: 100%|██████████| 34/34 [00:00<00:00, 110.73it/s, loss=1.22]\n"
          ]
        },
        {
          "output_type": "stream",
          "name": "stdout",
          "text": [
            "Epoch [221/3000]: Train loss: 1.1701, Valid loss: 1.1089\n"
          ]
        },
        {
          "output_type": "stream",
          "name": "stderr",
          "text": [
            "Epoch [222/3000]: 100%|██████████| 34/34 [00:00<00:00, 110.46it/s, loss=1.3]\n"
          ]
        },
        {
          "output_type": "stream",
          "name": "stdout",
          "text": [
            "Epoch [222/3000]: Train loss: 1.1736, Valid loss: 1.1310\n"
          ]
        },
        {
          "output_type": "stream",
          "name": "stderr",
          "text": [
            "Epoch [223/3000]: 100%|██████████| 34/34 [00:00<00:00, 134.43it/s, loss=1.12]\n"
          ]
        },
        {
          "output_type": "stream",
          "name": "stdout",
          "text": [
            "Epoch [223/3000]: Train loss: 1.1825, Valid loss: 1.1265\n"
          ]
        },
        {
          "output_type": "stream",
          "name": "stderr",
          "text": [
            "Epoch [225/3000]: 100%|██████████| 34/34 [00:00<00:00, 173.92it/s, loss=1.36]\n"
          ]
        },
        {
          "output_type": "stream",
          "name": "stdout",
          "text": [
            "Epoch [225/3000]: Train loss: 1.1782, Valid loss: 1.0938\n",
            "Saving model with loss 1.094...\n"
          ]
        },
        {
          "output_type": "stream",
          "name": "stderr",
          "text": [
            "Epoch [226/3000]: 100%|██████████| 34/34 [00:00<00:00, 77.69it/s, loss=1.24]\n"
          ]
        },
        {
          "output_type": "stream",
          "name": "stdout",
          "text": [
            "Epoch [226/3000]: Train loss: 1.1686, Valid loss: 1.1606\n"
          ]
        },
        {
          "output_type": "stream",
          "name": "stderr",
          "text": [
            "Epoch [227/3000]: 100%|██████████| 34/34 [00:00<00:00, 112.37it/s, loss=1.2]\n"
          ]
        },
        {
          "output_type": "stream",
          "name": "stdout",
          "text": [
            "Epoch [227/3000]: Train loss: 1.1661, Valid loss: 1.1175\n"
          ]
        },
        {
          "output_type": "stream",
          "name": "stderr",
          "text": [
            "Epoch [228/3000]: 100%|██████████| 34/34 [00:00<00:00, 107.56it/s, loss=0.879]\n"
          ]
        },
        {
          "output_type": "stream",
          "name": "stdout",
          "text": [
            "Epoch [228/3000]: Train loss: 1.1768, Valid loss: 1.1188\n"
          ]
        },
        {
          "output_type": "stream",
          "name": "stderr",
          "text": [
            "Epoch [229/3000]: 100%|██████████| 34/34 [00:00<00:00, 110.45it/s, loss=1.1]\n"
          ]
        },
        {
          "output_type": "stream",
          "name": "stdout",
          "text": [
            "Epoch [229/3000]: Train loss: 1.1807, Valid loss: 1.1398\n"
          ]
        },
        {
          "output_type": "stream",
          "name": "stderr",
          "text": [
            "Epoch [230/3000]: 100%|██████████| 34/34 [00:00<00:00, 112.28it/s, loss=0.663]\n"
          ]
        },
        {
          "output_type": "stream",
          "name": "stdout",
          "text": [
            "Epoch [230/3000]: Train loss: 1.1666, Valid loss: 1.1100\n"
          ]
        },
        {
          "output_type": "stream",
          "name": "stderr",
          "text": [
            "Epoch [231/3000]: 100%|██████████| 34/34 [00:00<00:00, 117.79it/s, loss=1.26]\n"
          ]
        },
        {
          "output_type": "stream",
          "name": "stdout",
          "text": [
            "Epoch [231/3000]: Train loss: 1.1751, Valid loss: 1.1915\n"
          ]
        },
        {
          "output_type": "stream",
          "name": "stderr",
          "text": [
            "Epoch [233/3000]: 100%|██████████| 34/34 [00:00<00:00, 110.38it/s, loss=1.53]\n"
          ]
        },
        {
          "output_type": "stream",
          "name": "stdout",
          "text": [
            "Epoch [233/3000]: Train loss: 1.1740, Valid loss: 1.1150\n"
          ]
        },
        {
          "output_type": "stream",
          "name": "stderr",
          "text": [
            "Epoch [234/3000]: 100%|██████████| 34/34 [00:00<00:00, 77.03it/s, loss=1.23]\n"
          ]
        },
        {
          "output_type": "stream",
          "name": "stdout",
          "text": [
            "Epoch [234/3000]: Train loss: 1.1682, Valid loss: 1.1167\n"
          ]
        },
        {
          "output_type": "stream",
          "name": "stderr",
          "text": [
            "Epoch [235/3000]: 100%|██████████| 34/34 [00:00<00:00, 109.68it/s, loss=0.937]\n"
          ]
        },
        {
          "output_type": "stream",
          "name": "stdout",
          "text": [
            "Epoch [235/3000]: Train loss: 1.1692, Valid loss: 1.1581\n"
          ]
        },
        {
          "output_type": "stream",
          "name": "stderr",
          "text": [
            "Epoch [236/3000]: 100%|██████████| 34/34 [00:00<00:00, 96.45it/s, loss=1.67] \n"
          ]
        },
        {
          "output_type": "stream",
          "name": "stdout",
          "text": [
            "Epoch [236/3000]: Train loss: 1.1776, Valid loss: 1.1297\n"
          ]
        },
        {
          "output_type": "stream",
          "name": "stderr",
          "text": [
            "Epoch [237/3000]: 100%|██████████| 34/34 [00:00<00:00, 73.97it/s, loss=1.29]\n"
          ]
        },
        {
          "output_type": "stream",
          "name": "stdout",
          "text": [
            "Epoch [237/3000]: Train loss: 1.1647, Valid loss: 1.1231\n"
          ]
        },
        {
          "output_type": "stream",
          "name": "stderr",
          "text": [
            "Epoch [238/3000]: 100%|██████████| 34/34 [00:00<00:00, 74.10it/s, loss=1.75]\n"
          ]
        },
        {
          "output_type": "stream",
          "name": "stdout",
          "text": [
            "Epoch [238/3000]: Train loss: 1.1725, Valid loss: 1.1116\n"
          ]
        },
        {
          "output_type": "stream",
          "name": "stderr",
          "text": [
            "Epoch [239/3000]: 100%|██████████| 34/34 [00:00<00:00, 38.93it/s, loss=1.18]\n"
          ]
        },
        {
          "output_type": "stream",
          "name": "stdout",
          "text": [
            "Epoch [239/3000]: Train loss: 1.1768, Valid loss: 1.1459\n"
          ]
        },
        {
          "output_type": "stream",
          "name": "stderr",
          "text": [
            "Epoch [240/3000]: 100%|██████████| 34/34 [00:00<00:00, 64.30it/s, loss=1.58]\n"
          ]
        },
        {
          "output_type": "stream",
          "name": "stdout",
          "text": [
            "Epoch [240/3000]: Train loss: 1.1622, Valid loss: 1.1752\n"
          ]
        },
        {
          "output_type": "stream",
          "name": "stderr",
          "text": [
            "Epoch [241/3000]: 100%|██████████| 34/34 [00:00<00:00, 52.20it/s, loss=0.642]\n"
          ]
        },
        {
          "output_type": "stream",
          "name": "stdout",
          "text": [
            "Epoch [241/3000]: Train loss: 1.1597, Valid loss: 1.1457\n"
          ]
        },
        {
          "output_type": "stream",
          "name": "stderr",
          "text": [
            "Epoch [242/3000]: 100%|██████████| 34/34 [00:00<00:00, 55.53it/s, loss=0.899]\n"
          ]
        },
        {
          "output_type": "stream",
          "name": "stdout",
          "text": [
            "Epoch [242/3000]: Train loss: 1.1606, Valid loss: 1.1085\n"
          ]
        },
        {
          "output_type": "stream",
          "name": "stderr",
          "text": [
            "Epoch [243/3000]: 100%|██████████| 34/34 [00:00<00:00, 157.00it/s, loss=1.04]\n"
          ]
        },
        {
          "output_type": "stream",
          "name": "stdout",
          "text": [
            "Epoch [243/3000]: Train loss: 1.1604, Valid loss: 1.1401\n"
          ]
        },
        {
          "output_type": "stream",
          "name": "stderr",
          "text": [
            "Epoch [244/3000]: 100%|██████████| 34/34 [00:00<00:00, 163.87it/s, loss=1.5]\n"
          ]
        },
        {
          "output_type": "stream",
          "name": "stdout",
          "text": [
            "Epoch [244/3000]: Train loss: 1.1655, Valid loss: 1.0843\n",
            "Saving model with loss 1.084...\n"
          ]
        },
        {
          "output_type": "stream",
          "name": "stderr",
          "text": [
            "Epoch [245/3000]: 100%|██████████| 34/34 [00:00<00:00, 76.16it/s, loss=0.883] \n"
          ]
        },
        {
          "output_type": "stream",
          "name": "stdout",
          "text": [
            "Epoch [245/3000]: Train loss: 1.1568, Valid loss: 1.1152\n"
          ]
        },
        {
          "output_type": "stream",
          "name": "stderr",
          "text": [
            "Epoch [246/3000]: 100%|██████████| 34/34 [00:00<00:00, 118.66it/s, loss=0.803]\n"
          ]
        },
        {
          "output_type": "stream",
          "name": "stdout",
          "text": [
            "Epoch [246/3000]: Train loss: 1.1648, Valid loss: 1.1155\n"
          ]
        },
        {
          "output_type": "stream",
          "name": "stderr",
          "text": [
            "Epoch [247/3000]: 100%|██████████| 34/34 [00:00<00:00, 97.27it/s, loss=0.688]\n"
          ]
        },
        {
          "output_type": "stream",
          "name": "stdout",
          "text": [
            "Epoch [247/3000]: Train loss: 1.1622, Valid loss: 1.1502\n"
          ]
        },
        {
          "output_type": "stream",
          "name": "stderr",
          "text": [
            "Epoch [248/3000]: 100%|██████████| 34/34 [00:00<00:00, 139.49it/s, loss=1.2]\n"
          ]
        },
        {
          "output_type": "stream",
          "name": "stdout",
          "text": [
            "Epoch [248/3000]: Train loss: 1.1705, Valid loss: 1.0958\n"
          ]
        },
        {
          "output_type": "stream",
          "name": "stderr",
          "text": [
            "Epoch [249/3000]: 100%|██████████| 34/34 [00:00<00:00, 44.20it/s, loss=1.27]\n"
          ]
        },
        {
          "output_type": "stream",
          "name": "stdout",
          "text": [
            "Epoch [249/3000]: Train loss: 1.1619, Valid loss: 1.1298\n"
          ]
        },
        {
          "output_type": "stream",
          "name": "stderr",
          "text": [
            "Epoch [250/3000]: 100%|██████████| 34/34 [00:00<00:00, 102.78it/s, loss=0.924]\n"
          ]
        },
        {
          "output_type": "stream",
          "name": "stdout",
          "text": [
            "Epoch [250/3000]: Train loss: 1.1590, Valid loss: 1.1350\n"
          ]
        },
        {
          "output_type": "stream",
          "name": "stderr",
          "text": [
            "Epoch [251/3000]: 100%|██████████| 34/34 [00:00<00:00, 61.73it/s, loss=0.731]\n"
          ]
        },
        {
          "output_type": "stream",
          "name": "stdout",
          "text": [
            "Epoch [251/3000]: Train loss: 1.1585, Valid loss: 1.1473\n"
          ]
        },
        {
          "output_type": "stream",
          "name": "stderr",
          "text": [
            "Epoch [252/3000]: 100%|██████████| 34/34 [00:00<00:00, 64.75it/s, loss=1.01]\n"
          ]
        },
        {
          "output_type": "stream",
          "name": "stdout",
          "text": [
            "Epoch [252/3000]: Train loss: 1.1552, Valid loss: 1.1888\n"
          ]
        },
        {
          "output_type": "stream",
          "name": "stderr",
          "text": [
            "Epoch [253/3000]: 100%|██████████| 34/34 [00:00<00:00, 59.59it/s, loss=1.34]\n"
          ]
        },
        {
          "output_type": "stream",
          "name": "stdout",
          "text": [
            "Epoch [253/3000]: Train loss: 1.1563, Valid loss: 1.1631\n"
          ]
        },
        {
          "output_type": "stream",
          "name": "stderr",
          "text": [
            "Epoch [254/3000]: 100%|██████████| 34/34 [00:00<00:00, 45.89it/s, loss=1.1]\n"
          ]
        },
        {
          "output_type": "stream",
          "name": "stdout",
          "text": [
            "Epoch [254/3000]: Train loss: 1.1597, Valid loss: 1.1299\n"
          ]
        },
        {
          "output_type": "stream",
          "name": "stderr",
          "text": [
            "Epoch [255/3000]: 100%|██████████| 34/34 [00:00<00:00, 36.53it/s, loss=0.992]\n"
          ]
        },
        {
          "output_type": "stream",
          "name": "stdout",
          "text": [
            "Epoch [255/3000]: Train loss: 1.1672, Valid loss: 1.1285\n"
          ]
        },
        {
          "output_type": "stream",
          "name": "stderr",
          "text": [
            "Epoch [256/3000]: 100%|██████████| 34/34 [00:00<00:00, 67.33it/s, loss=1.27]\n"
          ]
        },
        {
          "output_type": "stream",
          "name": "stdout",
          "text": [
            "Epoch [256/3000]: Train loss: 1.1624, Valid loss: 1.0983\n"
          ]
        },
        {
          "output_type": "stream",
          "name": "stderr",
          "text": [
            "Epoch [257/3000]: 100%|██████████| 34/34 [00:00<00:00, 117.95it/s, loss=1.13]\n"
          ]
        },
        {
          "output_type": "stream",
          "name": "stdout",
          "text": [
            "Epoch [257/3000]: Train loss: 1.1650, Valid loss: 1.0852\n"
          ]
        },
        {
          "output_type": "stream",
          "name": "stderr",
          "text": [
            "Epoch [258/3000]: 100%|██████████| 34/34 [00:00<00:00, 119.28it/s, loss=0.82]\n"
          ]
        },
        {
          "output_type": "stream",
          "name": "stdout",
          "text": [
            "Epoch [258/3000]: Train loss: 1.1610, Valid loss: 1.1601\n"
          ]
        },
        {
          "output_type": "stream",
          "name": "stderr",
          "text": [
            "Epoch [259/3000]: 100%|██████████| 34/34 [00:00<00:00, 120.23it/s, loss=0.803]\n"
          ]
        },
        {
          "output_type": "stream",
          "name": "stdout",
          "text": [
            "Epoch [259/3000]: Train loss: 1.1648, Valid loss: 1.2012\n"
          ]
        },
        {
          "output_type": "stream",
          "name": "stderr",
          "text": [
            "Epoch [260/3000]: 100%|██████████| 34/34 [00:00<00:00, 95.15it/s, loss=1.6]\n"
          ]
        },
        {
          "output_type": "stream",
          "name": "stdout",
          "text": [
            "Epoch [260/3000]: Train loss: 1.1663, Valid loss: 1.1203\n"
          ]
        },
        {
          "output_type": "stream",
          "name": "stderr",
          "text": [
            "Epoch [261/3000]: 100%|██████████| 34/34 [00:00<00:00, 108.43it/s, loss=0.807]\n"
          ]
        },
        {
          "output_type": "stream",
          "name": "stdout",
          "text": [
            "Epoch [261/3000]: Train loss: 1.1647, Valid loss: 1.1430\n"
          ]
        },
        {
          "output_type": "stream",
          "name": "stderr",
          "text": [
            "Epoch [262/3000]: 100%|██████████| 34/34 [00:00<00:00, 118.52it/s, loss=0.918]\n"
          ]
        },
        {
          "output_type": "stream",
          "name": "stdout",
          "text": [
            "Epoch [262/3000]: Train loss: 1.1559, Valid loss: 1.1341\n"
          ]
        },
        {
          "output_type": "stream",
          "name": "stderr",
          "text": [
            "Epoch [263/3000]: 100%|██████████| 34/34 [00:00<00:00, 123.53it/s, loss=1.33]\n"
          ]
        },
        {
          "output_type": "stream",
          "name": "stdout",
          "text": [
            "Epoch [263/3000]: Train loss: 1.1549, Valid loss: 1.1365\n"
          ]
        },
        {
          "output_type": "stream",
          "name": "stderr",
          "text": [
            "Epoch [264/3000]: 100%|██████████| 34/34 [00:00<00:00, 113.84it/s, loss=1.09]\n"
          ]
        },
        {
          "output_type": "stream",
          "name": "stdout",
          "text": [
            "Epoch [264/3000]: Train loss: 1.1784, Valid loss: 1.1627\n"
          ]
        },
        {
          "output_type": "stream",
          "name": "stderr",
          "text": [
            "Epoch [265/3000]: 100%|██████████| 34/34 [00:00<00:00, 119.49it/s, loss=0.786]\n"
          ]
        },
        {
          "output_type": "stream",
          "name": "stdout",
          "text": [
            "Epoch [265/3000]: Train loss: 1.1621, Valid loss: 1.1058\n"
          ]
        },
        {
          "output_type": "stream",
          "name": "stderr",
          "text": [
            "Epoch [266/3000]: 100%|██████████| 34/34 [00:00<00:00, 119.95it/s, loss=1.76]\n"
          ]
        },
        {
          "output_type": "stream",
          "name": "stdout",
          "text": [
            "Epoch [266/3000]: Train loss: 1.1701, Valid loss: 1.1154\n"
          ]
        },
        {
          "output_type": "stream",
          "name": "stderr",
          "text": [
            "Epoch [267/3000]: 100%|██████████| 34/34 [00:00<00:00, 115.73it/s, loss=1.08]\n"
          ]
        },
        {
          "output_type": "stream",
          "name": "stdout",
          "text": [
            "Epoch [267/3000]: Train loss: 1.1570, Valid loss: 1.1050\n"
          ]
        },
        {
          "output_type": "stream",
          "name": "stderr",
          "text": [
            "Epoch [268/3000]: 100%|██████████| 34/34 [00:00<00:00, 110.08it/s, loss=0.961]\n"
          ]
        },
        {
          "output_type": "stream",
          "name": "stdout",
          "text": [
            "Epoch [268/3000]: Train loss: 1.1634, Valid loss: 1.1213\n"
          ]
        },
        {
          "output_type": "stream",
          "name": "stderr",
          "text": [
            "Epoch [269/3000]: 100%|██████████| 34/34 [00:00<00:00, 114.79it/s, loss=0.73]\n"
          ]
        },
        {
          "output_type": "stream",
          "name": "stdout",
          "text": [
            "Epoch [269/3000]: Train loss: 1.1544, Valid loss: 1.0898\n"
          ]
        },
        {
          "output_type": "stream",
          "name": "stderr",
          "text": [
            "Epoch [270/3000]: 100%|██████████| 34/34 [00:00<00:00, 114.60it/s, loss=0.763]\n"
          ]
        },
        {
          "output_type": "stream",
          "name": "stdout",
          "text": [
            "Epoch [270/3000]: Train loss: 1.1594, Valid loss: 1.1202\n"
          ]
        },
        {
          "output_type": "stream",
          "name": "stderr",
          "text": [
            "Epoch [271/3000]: 100%|██████████| 34/34 [00:00<00:00, 155.24it/s, loss=1.26]\n"
          ]
        },
        {
          "output_type": "stream",
          "name": "stdout",
          "text": [
            "Epoch [271/3000]: Train loss: 1.1566, Valid loss: 1.1483\n"
          ]
        },
        {
          "output_type": "stream",
          "name": "stderr",
          "text": [
            "Epoch [272/3000]: 100%|██████████| 34/34 [00:00<00:00, 161.00it/s, loss=1.01]\n"
          ]
        },
        {
          "output_type": "stream",
          "name": "stdout",
          "text": [
            "Epoch [272/3000]: Train loss: 1.1539, Valid loss: 1.1630\n"
          ]
        },
        {
          "output_type": "stream",
          "name": "stderr",
          "text": [
            "Epoch [273/3000]: 100%|██████████| 34/34 [00:00<00:00, 161.39it/s, loss=0.895]\n"
          ]
        },
        {
          "output_type": "stream",
          "name": "stdout",
          "text": [
            "Epoch [273/3000]: Train loss: 1.1526, Valid loss: 1.1079\n"
          ]
        },
        {
          "output_type": "stream",
          "name": "stderr",
          "text": [
            "Epoch [274/3000]: 100%|██████████| 34/34 [00:00<00:00, 164.39it/s, loss=0.726]\n"
          ]
        },
        {
          "output_type": "stream",
          "name": "stdout",
          "text": [
            "Epoch [274/3000]: Train loss: 1.1557, Valid loss: 1.1534\n"
          ]
        },
        {
          "output_type": "stream",
          "name": "stderr",
          "text": [
            "Epoch [275/3000]: 100%|██████████| 34/34 [00:00<00:00, 128.20it/s, loss=1.03]\n"
          ]
        },
        {
          "output_type": "stream",
          "name": "stdout",
          "text": [
            "Epoch [275/3000]: Train loss: 1.1587, Valid loss: 1.2032\n"
          ]
        },
        {
          "output_type": "stream",
          "name": "stderr",
          "text": [
            "Epoch [276/3000]: 100%|██████████| 34/34 [00:00<00:00, 159.02it/s, loss=1.29]\n"
          ]
        },
        {
          "output_type": "stream",
          "name": "stdout",
          "text": [
            "Epoch [276/3000]: Train loss: 1.1562, Valid loss: 1.1580\n"
          ]
        },
        {
          "output_type": "stream",
          "name": "stderr",
          "text": [
            "Epoch [277/3000]: 100%|██████████| 34/34 [00:00<00:00, 143.54it/s, loss=1.57]\n"
          ]
        },
        {
          "output_type": "stream",
          "name": "stdout",
          "text": [
            "Epoch [277/3000]: Train loss: 1.1571, Valid loss: 1.1434\n"
          ]
        },
        {
          "output_type": "stream",
          "name": "stderr",
          "text": [
            "Epoch [278/3000]: 100%|██████████| 34/34 [00:00<00:00, 126.01it/s, loss=0.987]\n"
          ]
        },
        {
          "output_type": "stream",
          "name": "stdout",
          "text": [
            "Epoch [278/3000]: Train loss: 1.1525, Valid loss: 1.1034\n"
          ]
        },
        {
          "output_type": "stream",
          "name": "stderr",
          "text": [
            "Epoch [279/3000]: 100%|██████████| 34/34 [00:00<00:00, 181.50it/s, loss=1.11]\n"
          ]
        },
        {
          "output_type": "stream",
          "name": "stdout",
          "text": [
            "Epoch [279/3000]: Train loss: 1.1720, Valid loss: 1.0943\n"
          ]
        },
        {
          "output_type": "stream",
          "name": "stderr",
          "text": [
            "Epoch [285/3000]: 100%|██████████| 34/34 [00:00<00:00, 162.30it/s, loss=0.884]\n"
          ]
        },
        {
          "output_type": "stream",
          "name": "stdout",
          "text": [
            "Epoch [285/3000]: Train loss: 1.1495, Valid loss: 1.1773\n"
          ]
        },
        {
          "output_type": "stream",
          "name": "stderr",
          "text": [
            "Epoch [286/3000]: 100%|██████████| 34/34 [00:00<00:00, 156.93it/s, loss=0.547]\n"
          ]
        },
        {
          "output_type": "stream",
          "name": "stdout",
          "text": [
            "Epoch [286/3000]: Train loss: 1.1556, Valid loss: 1.1674\n"
          ]
        },
        {
          "output_type": "stream",
          "name": "stderr",
          "text": [
            "Epoch [287/3000]: 100%|██████████| 34/34 [00:00<00:00, 171.82it/s, loss=0.63]\n"
          ]
        },
        {
          "output_type": "stream",
          "name": "stdout",
          "text": [
            "Epoch [287/3000]: Train loss: 1.1594, Valid loss: 1.1349\n"
          ]
        },
        {
          "output_type": "stream",
          "name": "stderr",
          "text": [
            "Epoch [288/3000]: 100%|██████████| 34/34 [00:00<00:00, 108.65it/s, loss=1.69]\n"
          ]
        },
        {
          "output_type": "stream",
          "name": "stdout",
          "text": [
            "Epoch [288/3000]: Train loss: 1.1615, Valid loss: 1.1229\n"
          ]
        },
        {
          "output_type": "stream",
          "name": "stderr",
          "text": [
            "Epoch [289/3000]: 100%|██████████| 34/34 [00:00<00:00, 156.96it/s, loss=1.23]\n"
          ]
        },
        {
          "output_type": "stream",
          "name": "stdout",
          "text": [
            "Epoch [289/3000]: Train loss: 1.1557, Valid loss: 1.1169\n"
          ]
        },
        {
          "output_type": "stream",
          "name": "stderr",
          "text": [
            "Epoch [290/3000]: 100%|██████████| 34/34 [00:00<00:00, 177.35it/s, loss=1.02]\n"
          ]
        },
        {
          "output_type": "stream",
          "name": "stdout",
          "text": [
            "Epoch [290/3000]: Train loss: 1.1527, Valid loss: 1.1239\n"
          ]
        },
        {
          "output_type": "stream",
          "name": "stderr",
          "text": [
            "Epoch [291/3000]: 100%|██████████| 34/34 [00:00<00:00, 110.27it/s, loss=1.15]\n"
          ]
        },
        {
          "output_type": "stream",
          "name": "stdout",
          "text": [
            "Epoch [291/3000]: Train loss: 1.1653, Valid loss: 1.0853\n"
          ]
        },
        {
          "output_type": "stream",
          "name": "stderr",
          "text": [
            "Epoch [301/3000]: 100%|██████████| 34/34 [00:00<00:00, 99.53it/s, loss=0.983] \n"
          ]
        },
        {
          "output_type": "stream",
          "name": "stdout",
          "text": [
            "Epoch [301/3000]: Train loss: 1.1705, Valid loss: 1.1146\n"
          ]
        },
        {
          "output_type": "stream",
          "name": "stderr",
          "text": [
            "Epoch [302/3000]: 100%|██████████| 34/34 [00:00<00:00, 169.45it/s, loss=0.762]\n"
          ]
        },
        {
          "output_type": "stream",
          "name": "stdout",
          "text": [
            "Epoch [302/3000]: Train loss: 1.1476, Valid loss: 1.1793\n"
          ]
        },
        {
          "output_type": "stream",
          "name": "stderr",
          "text": [
            "Epoch [303/3000]: 100%|██████████| 34/34 [00:00<00:00, 166.97it/s, loss=1.25]\n"
          ]
        },
        {
          "output_type": "stream",
          "name": "stdout",
          "text": [
            "Epoch [303/3000]: Train loss: 1.1669, Valid loss: 1.1067\n"
          ]
        },
        {
          "output_type": "stream",
          "name": "stderr",
          "text": [
            "Epoch [304/3000]: 100%|██████████| 34/34 [00:00<00:00, 167.02it/s, loss=0.827]\n"
          ]
        },
        {
          "output_type": "stream",
          "name": "stdout",
          "text": [
            "Epoch [304/3000]: Train loss: 1.1522, Valid loss: 1.1236\n"
          ]
        },
        {
          "output_type": "stream",
          "name": "stderr",
          "text": [
            "Epoch [305/3000]: 100%|██████████| 34/34 [00:00<00:00, 107.34it/s, loss=1.24]\n"
          ]
        },
        {
          "output_type": "stream",
          "name": "stdout",
          "text": [
            "Epoch [305/3000]: Train loss: 1.1566, Valid loss: 1.1226\n"
          ]
        },
        {
          "output_type": "stream",
          "name": "stderr",
          "text": [
            "Epoch [306/3000]: 100%|██████████| 34/34 [00:00<00:00, 163.23it/s, loss=1.23]\n"
          ]
        },
        {
          "output_type": "stream",
          "name": "stdout",
          "text": [
            "Epoch [306/3000]: Train loss: 1.1588, Valid loss: 1.1153\n"
          ]
        },
        {
          "output_type": "stream",
          "name": "stderr",
          "text": [
            "Epoch [307/3000]: 100%|██████████| 34/34 [00:00<00:00, 171.25it/s, loss=1.45]\n"
          ]
        },
        {
          "output_type": "stream",
          "name": "stdout",
          "text": [
            "Epoch [307/3000]: Train loss: 1.1542, Valid loss: 1.1135\n"
          ]
        },
        {
          "output_type": "stream",
          "name": "stderr",
          "text": [
            "Epoch [313/3000]: 100%|██████████| 34/34 [00:00<00:00, 185.72it/s, loss=1.58]\n"
          ]
        },
        {
          "output_type": "stream",
          "name": "stdout",
          "text": [
            "Epoch [313/3000]: Train loss: 1.1502, Valid loss: 1.1242\n"
          ]
        },
        {
          "output_type": "stream",
          "name": "stderr",
          "text": [
            "Epoch [314/3000]: 100%|██████████| 34/34 [00:00<00:00, 162.14it/s, loss=1.32]\n"
          ]
        },
        {
          "output_type": "stream",
          "name": "stdout",
          "text": [
            "Epoch [314/3000]: Train loss: 1.1516, Valid loss: 1.1141\n"
          ]
        },
        {
          "output_type": "stream",
          "name": "stderr",
          "text": [
            "Epoch [315/3000]: 100%|██████████| 34/34 [00:00<00:00, 112.21it/s, loss=1.07]\n"
          ]
        },
        {
          "output_type": "stream",
          "name": "stdout",
          "text": [
            "Epoch [315/3000]: Train loss: 1.1465, Valid loss: 1.1258\n"
          ]
        },
        {
          "output_type": "stream",
          "name": "stderr",
          "text": [
            "Epoch [316/3000]: 100%|██████████| 34/34 [00:00<00:00, 176.77it/s, loss=0.802]\n"
          ]
        },
        {
          "output_type": "stream",
          "name": "stdout",
          "text": [
            "Epoch [316/3000]: Train loss: 1.1435, Valid loss: 1.1752\n"
          ]
        },
        {
          "output_type": "stream",
          "name": "stderr",
          "text": [
            "Epoch [317/3000]: 100%|██████████| 34/34 [00:00<00:00, 181.17it/s, loss=0.832]\n"
          ]
        },
        {
          "output_type": "stream",
          "name": "stdout",
          "text": [
            "Epoch [317/3000]: Train loss: 1.1485, Valid loss: 1.1370\n"
          ]
        },
        {
          "output_type": "stream",
          "name": "stderr",
          "text": [
            "Epoch [318/3000]: 100%|██████████| 34/34 [00:00<00:00, 112.89it/s, loss=1.23]\n"
          ]
        },
        {
          "output_type": "stream",
          "name": "stdout",
          "text": [
            "Epoch [318/3000]: Train loss: 1.1507, Valid loss: 1.1120\n"
          ]
        },
        {
          "output_type": "stream",
          "name": "stderr",
          "text": [
            "Epoch [319/3000]: 100%|██████████| 34/34 [00:00<00:00, 180.32it/s, loss=1.05]\n"
          ]
        },
        {
          "output_type": "stream",
          "name": "stdout",
          "text": [
            "Epoch [319/3000]: Train loss: 1.1525, Valid loss: 1.1266\n"
          ]
        },
        {
          "output_type": "stream",
          "name": "stderr",
          "text": [
            "Epoch [326/3000]: 100%|██████████| 34/34 [00:00<00:00, 154.90it/s, loss=0.887]\n"
          ]
        },
        {
          "output_type": "stream",
          "name": "stdout",
          "text": [
            "Epoch [326/3000]: Train loss: 1.1514, Valid loss: 1.1427\n"
          ]
        },
        {
          "output_type": "stream",
          "name": "stderr",
          "text": [
            "Epoch [327/3000]: 100%|██████████| 34/34 [00:00<00:00, 173.12it/s, loss=1.22]\n"
          ]
        },
        {
          "output_type": "stream",
          "name": "stdout",
          "text": [
            "Epoch [327/3000]: Train loss: 1.1665, Valid loss: 1.1551\n"
          ]
        },
        {
          "output_type": "stream",
          "name": "stderr",
          "text": [
            "Epoch [328/3000]: 100%|██████████| 34/34 [00:00<00:00, 104.35it/s, loss=1.06]\n"
          ]
        },
        {
          "output_type": "stream",
          "name": "stdout",
          "text": [
            "Epoch [328/3000]: Train loss: 1.1463, Valid loss: 1.1362\n"
          ]
        },
        {
          "output_type": "stream",
          "name": "stderr",
          "text": [
            "Epoch [329/3000]: 100%|██████████| 34/34 [00:00<00:00, 161.26it/s, loss=0.887]\n"
          ]
        },
        {
          "output_type": "stream",
          "name": "stdout",
          "text": [
            "Epoch [329/3000]: Train loss: 1.1466, Valid loss: 1.1274\n"
          ]
        },
        {
          "output_type": "stream",
          "name": "stderr",
          "text": [
            "Epoch [330/3000]: 100%|██████████| 34/34 [00:00<00:00, 166.04it/s, loss=0.852]\n"
          ]
        },
        {
          "output_type": "stream",
          "name": "stdout",
          "text": [
            "Epoch [330/3000]: Train loss: 1.1438, Valid loss: 1.0972\n"
          ]
        },
        {
          "output_type": "stream",
          "name": "stderr",
          "text": [
            "Epoch [331/3000]: 100%|██████████| 34/34 [00:00<00:00, 185.96it/s, loss=0.991]\n"
          ]
        },
        {
          "output_type": "stream",
          "name": "stdout",
          "text": [
            "Epoch [331/3000]: Train loss: 1.1437, Valid loss: 1.0663\n",
            "Saving model with loss 1.066...\n"
          ]
        },
        {
          "output_type": "stream",
          "name": "stderr",
          "text": [
            "Epoch [332/3000]: 100%|██████████| 34/34 [00:00<00:00, 126.92it/s, loss=1.36]\n"
          ]
        },
        {
          "output_type": "stream",
          "name": "stdout",
          "text": [
            "Epoch [332/3000]: Train loss: 1.1440, Valid loss: 1.1578\n"
          ]
        },
        {
          "output_type": "stream",
          "name": "stderr",
          "text": [
            "Epoch [333/3000]:  50%|█████     | 17/34 [00:00<00:00, 166.77it/s, loss=1]\n"
          ]
        },
        {
          "output_type": "stream",
          "name": "stdout",
          "text": [
            "Epoch [339/3000]: Train loss: 1.1578, Valid loss: 1.1318\n"
          ]
        },
        {
          "output_type": "stream",
          "name": "stderr",
          "text": [
            "Epoch [340/3000]: 100%|██████████| 34/34 [00:00<00:00, 177.42it/s, loss=0.741]\n"
          ]
        },
        {
          "output_type": "stream",
          "name": "stdout",
          "text": [
            "Epoch [340/3000]: Train loss: 1.1404, Valid loss: 1.1296\n"
          ]
        },
        {
          "output_type": "stream",
          "name": "stderr",
          "text": [
            "Epoch [341/3000]: 100%|██████████| 34/34 [00:00<00:00, 184.83it/s, loss=3.12]\n"
          ]
        },
        {
          "output_type": "stream",
          "name": "stdout",
          "text": [
            "Epoch [341/3000]: Train loss: 1.1697, Valid loss: 1.1145\n"
          ]
        },
        {
          "output_type": "stream",
          "name": "stderr",
          "text": [
            "Epoch [342/3000]: 100%|██████████| 34/34 [00:00<00:00, 109.08it/s, loss=1.14]\n"
          ]
        },
        {
          "output_type": "stream",
          "name": "stdout",
          "text": [
            "Epoch [342/3000]: Train loss: 1.1457, Valid loss: 1.1279\n"
          ]
        },
        {
          "output_type": "stream",
          "name": "stderr",
          "text": [
            "Epoch [343/3000]: 100%|██████████| 34/34 [00:00<00:00, 168.53it/s, loss=0.854]\n"
          ]
        },
        {
          "output_type": "stream",
          "name": "stdout",
          "text": [
            "Epoch [343/3000]: Train loss: 1.1460, Valid loss: 1.1379\n"
          ]
        },
        {
          "output_type": "stream",
          "name": "stderr",
          "text": [
            "Epoch [344/3000]: 100%|██████████| 34/34 [00:00<00:00, 179.86it/s, loss=1.23]\n"
          ]
        },
        {
          "output_type": "stream",
          "name": "stdout",
          "text": [
            "Epoch [344/3000]: Train loss: 1.1560, Valid loss: 1.0884\n"
          ]
        },
        {
          "output_type": "stream",
          "name": "stderr",
          "text": [
            "Epoch [345/3000]: 100%|██████████| 34/34 [00:00<00:00, 112.51it/s, loss=0.714]\n"
          ]
        },
        {
          "output_type": "stream",
          "name": "stdout",
          "text": [
            "Epoch [345/3000]: Train loss: 1.1525, Valid loss: 1.1195\n"
          ]
        },
        {
          "output_type": "stream",
          "name": "stderr",
          "text": [
            "Epoch [352/3000]: 100%|██████████| 34/34 [00:00<00:00, 176.85it/s, loss=0.821]\n"
          ]
        },
        {
          "output_type": "stream",
          "name": "stdout",
          "text": [
            "Epoch [352/3000]: Train loss: 1.1534, Valid loss: 1.1176\n"
          ]
        },
        {
          "output_type": "stream",
          "name": "stderr",
          "text": [
            "Epoch [353/3000]: 100%|██████████| 34/34 [00:00<00:00, 168.22it/s, loss=2.78]\n"
          ]
        },
        {
          "output_type": "stream",
          "name": "stdout",
          "text": [
            "Epoch [353/3000]: Train loss: 1.1687, Valid loss: 1.1046\n"
          ]
        },
        {
          "output_type": "stream",
          "name": "stderr",
          "text": [
            "Epoch [354/3000]: 100%|██████████| 34/34 [00:00<00:00, 144.91it/s, loss=1.9]\n"
          ]
        },
        {
          "output_type": "stream",
          "name": "stdout",
          "text": [
            "Epoch [354/3000]: Train loss: 1.1696, Valid loss: 1.1659\n"
          ]
        },
        {
          "output_type": "stream",
          "name": "stderr",
          "text": [
            "Epoch [355/3000]: 100%|██████████| 34/34 [00:00<00:00, 170.39it/s, loss=1.2]\n"
          ]
        },
        {
          "output_type": "stream",
          "name": "stdout",
          "text": [
            "Epoch [355/3000]: Train loss: 1.1443, Valid loss: 1.1029\n"
          ]
        },
        {
          "output_type": "stream",
          "name": "stderr",
          "text": [
            "Epoch [356/3000]: 100%|██████████| 34/34 [00:00<00:00, 174.02it/s, loss=1.68]\n"
          ]
        },
        {
          "output_type": "stream",
          "name": "stdout",
          "text": [
            "Epoch [356/3000]: Train loss: 1.1363, Valid loss: 1.1217\n"
          ]
        },
        {
          "output_type": "stream",
          "name": "stderr",
          "text": [
            "Epoch [357/3000]: 100%|██████████| 34/34 [00:00<00:00, 173.08it/s, loss=1.66]\n"
          ]
        },
        {
          "output_type": "stream",
          "name": "stdout",
          "text": [
            "Epoch [357/3000]: Train loss: 1.1548, Valid loss: 1.1045\n"
          ]
        },
        {
          "output_type": "stream",
          "name": "stderr",
          "text": [
            "Epoch [364/3000]: 100%|██████████| 34/34 [00:00<00:00, 171.75it/s, loss=1.05]\n"
          ]
        },
        {
          "output_type": "stream",
          "name": "stdout",
          "text": [
            "Epoch [364/3000]: Train loss: 1.1657, Valid loss: 1.1132\n"
          ]
        },
        {
          "output_type": "stream",
          "name": "stderr",
          "text": [
            "Epoch [365/3000]: 100%|██████████| 34/34 [00:00<00:00, 171.42it/s, loss=1.78]\n"
          ]
        },
        {
          "output_type": "stream",
          "name": "stdout",
          "text": [
            "Epoch [365/3000]: Train loss: 1.1560, Valid loss: 1.1025\n"
          ]
        },
        {
          "output_type": "stream",
          "name": "stderr",
          "text": [
            "Epoch [366/3000]: 100%|██████████| 34/34 [00:00<00:00, 78.14it/s, loss=1.08]\n"
          ]
        },
        {
          "output_type": "stream",
          "name": "stdout",
          "text": [
            "Epoch [366/3000]: Train loss: 1.1416, Valid loss: 1.0835\n"
          ]
        },
        {
          "output_type": "stream",
          "name": "stderr",
          "text": [
            "Epoch [367/3000]: 100%|██████████| 34/34 [00:00<00:00, 62.79it/s, loss=0.98]\n"
          ]
        },
        {
          "output_type": "stream",
          "name": "stdout",
          "text": [
            "Epoch [367/3000]: Train loss: 1.1397, Valid loss: 1.1169\n"
          ]
        },
        {
          "output_type": "stream",
          "name": "stderr",
          "text": [
            "Epoch [368/3000]: 100%|██████████| 34/34 [00:00<00:00, 114.24it/s, loss=1.64]\n"
          ]
        },
        {
          "output_type": "stream",
          "name": "stdout",
          "text": [
            "Epoch [368/3000]: Train loss: 1.1462, Valid loss: 1.1573\n"
          ]
        },
        {
          "output_type": "stream",
          "name": "stderr",
          "text": [
            "Epoch [369/3000]: 100%|██████████| 34/34 [00:00<00:00, 118.79it/s, loss=0.829]\n"
          ]
        },
        {
          "output_type": "stream",
          "name": "stdout",
          "text": [
            "Epoch [369/3000]: Train loss: 1.1420, Valid loss: 1.0693\n"
          ]
        },
        {
          "output_type": "stream",
          "name": "stderr",
          "text": [
            "Epoch [370/3000]: 100%|██████████| 34/34 [00:00<00:00, 109.49it/s, loss=0.699]\n"
          ]
        },
        {
          "output_type": "stream",
          "name": "stdout",
          "text": [
            "Epoch [370/3000]: Train loss: 1.1411, Valid loss: 1.0862\n"
          ]
        },
        {
          "output_type": "stream",
          "name": "stderr",
          "text": [
            "Epoch [372/3000]: 100%|██████████| 34/34 [00:00<00:00, 145.19it/s, loss=0.759]\n"
          ]
        },
        {
          "output_type": "stream",
          "name": "stdout",
          "text": [
            "Epoch [372/3000]: Train loss: 1.1436, Valid loss: 1.1029\n"
          ]
        },
        {
          "output_type": "stream",
          "name": "stderr",
          "text": [
            "Epoch [373/3000]: 100%|██████████| 34/34 [00:00<00:00, 150.03it/s, loss=1.07]\n"
          ]
        },
        {
          "output_type": "stream",
          "name": "stdout",
          "text": [
            "Epoch [373/3000]: Train loss: 1.1541, Valid loss: 1.0995\n"
          ]
        },
        {
          "output_type": "stream",
          "name": "stderr",
          "text": [
            "Epoch [374/3000]: 100%|██████████| 34/34 [00:00<00:00, 162.07it/s, loss=1.28]\n"
          ]
        },
        {
          "output_type": "stream",
          "name": "stdout",
          "text": [
            "Epoch [374/3000]: Train loss: 1.1532, Valid loss: 1.0799\n"
          ]
        },
        {
          "output_type": "stream",
          "name": "stderr",
          "text": [
            "Epoch [375/3000]: 100%|██████████| 34/34 [00:00<00:00, 167.80it/s, loss=0.848]\n"
          ]
        },
        {
          "output_type": "stream",
          "name": "stdout",
          "text": [
            "Epoch [375/3000]: Train loss: 1.1346, Valid loss: 1.1019\n"
          ]
        },
        {
          "output_type": "stream",
          "name": "stderr",
          "text": [
            "Epoch [376/3000]: 100%|██████████| 34/34 [00:00<00:00, 165.05it/s, loss=0.986]\n"
          ]
        },
        {
          "output_type": "stream",
          "name": "stdout",
          "text": [
            "Epoch [376/3000]: Train loss: 1.1428, Valid loss: 1.1103\n"
          ]
        },
        {
          "output_type": "stream",
          "name": "stderr",
          "text": [
            "Epoch [377/3000]: 100%|██████████| 34/34 [00:00<00:00, 174.48it/s, loss=1.06]\n"
          ]
        },
        {
          "output_type": "stream",
          "name": "stdout",
          "text": [
            "Epoch [377/3000]: Train loss: 1.1438, Valid loss: 1.1022\n"
          ]
        },
        {
          "output_type": "stream",
          "name": "stderr",
          "text": [
            "Epoch [378/3000]: 100%|██████████| 34/34 [00:00<00:00, 117.32it/s, loss=1.31]\n"
          ]
        },
        {
          "output_type": "stream",
          "name": "stdout",
          "text": [
            "Epoch [378/3000]: Train loss: 1.1431, Valid loss: 1.1053\n"
          ]
        },
        {
          "output_type": "stream",
          "name": "stderr",
          "text": [
            "Epoch [382/3000]: 100%|██████████| 34/34 [00:00<00:00, 45.78it/s, loss=1.71]\n"
          ]
        },
        {
          "output_type": "stream",
          "name": "stdout",
          "text": [
            "Epoch [382/3000]: Train loss: 1.1433, Valid loss: 1.0710\n"
          ]
        },
        {
          "output_type": "stream",
          "name": "stderr",
          "text": [
            "Epoch [383/3000]: 100%|██████████| 34/34 [00:00<00:00, 116.94it/s, loss=0.941]\n"
          ]
        },
        {
          "output_type": "stream",
          "name": "stdout",
          "text": [
            "Epoch [383/3000]: Train loss: 1.1449, Valid loss: 1.0908\n"
          ]
        },
        {
          "output_type": "stream",
          "name": "stderr",
          "text": [
            "Epoch [384/3000]: 100%|██████████| 34/34 [00:00<00:00, 112.29it/s, loss=1.42]\n"
          ]
        },
        {
          "output_type": "stream",
          "name": "stdout",
          "text": [
            "Epoch [384/3000]: Train loss: 1.1600, Valid loss: 1.1513\n"
          ]
        },
        {
          "output_type": "stream",
          "name": "stderr",
          "text": [
            "Epoch [385/3000]: 100%|██████████| 34/34 [00:00<00:00, 119.09it/s, loss=1.31]\n"
          ]
        },
        {
          "output_type": "stream",
          "name": "stdout",
          "text": [
            "Epoch [385/3000]: Train loss: 1.1521, Valid loss: 1.1283\n"
          ]
        },
        {
          "output_type": "stream",
          "name": "stderr",
          "text": [
            "Epoch [386/3000]: 100%|██████████| 34/34 [00:00<00:00, 116.38it/s, loss=1.23]\n"
          ]
        },
        {
          "output_type": "stream",
          "name": "stdout",
          "text": [
            "Epoch [386/3000]: Train loss: 1.1452, Valid loss: 1.0878\n"
          ]
        },
        {
          "output_type": "stream",
          "name": "stderr",
          "text": [
            "Epoch [387/3000]: 100%|██████████| 34/34 [00:00<00:00, 108.24it/s, loss=1.21]\n"
          ]
        },
        {
          "output_type": "stream",
          "name": "stdout",
          "text": [
            "Epoch [387/3000]: Train loss: 1.1467, Valid loss: 1.1220\n"
          ]
        },
        {
          "output_type": "stream",
          "name": "stderr",
          "text": [
            "Epoch [388/3000]: 100%|██████████| 34/34 [00:00<00:00, 118.26it/s, loss=1.73]\n"
          ]
        },
        {
          "output_type": "stream",
          "name": "stdout",
          "text": [
            "Epoch [388/3000]: Train loss: 1.1415, Valid loss: 1.1224\n"
          ]
        },
        {
          "output_type": "stream",
          "name": "stderr",
          "text": [
            "Epoch [391/3000]: 100%|██████████| 34/34 [00:00<00:00, 107.83it/s, loss=0.542]\n"
          ]
        },
        {
          "output_type": "stream",
          "name": "stdout",
          "text": [
            "Epoch [391/3000]: Train loss: 1.1333, Valid loss: 1.1292\n"
          ]
        },
        {
          "output_type": "stream",
          "name": "stderr",
          "text": [
            "Epoch [392/3000]: 100%|██████████| 34/34 [00:00<00:00, 116.99it/s, loss=1.23]\n"
          ]
        },
        {
          "output_type": "stream",
          "name": "stdout",
          "text": [
            "Epoch [392/3000]: Train loss: 1.1572, Valid loss: 1.1038\n"
          ]
        },
        {
          "output_type": "stream",
          "name": "stderr",
          "text": [
            "Epoch [393/3000]: 100%|██████████| 34/34 [00:00<00:00, 140.16it/s, loss=1.29]\n"
          ]
        },
        {
          "output_type": "stream",
          "name": "stdout",
          "text": [
            "Epoch [393/3000]: Train loss: 1.1378, Valid loss: 1.1020\n"
          ]
        },
        {
          "output_type": "stream",
          "name": "stderr",
          "text": [
            "Epoch [394/3000]: 100%|██████████| 34/34 [00:00<00:00, 144.46it/s, loss=0.578]\n"
          ]
        },
        {
          "output_type": "stream",
          "name": "stdout",
          "text": [
            "Epoch [394/3000]: Train loss: 1.1336, Valid loss: 1.1151\n"
          ]
        },
        {
          "output_type": "stream",
          "name": "stderr",
          "text": [
            "Epoch [395/3000]: 100%|██████████| 34/34 [00:00<00:00, 127.21it/s, loss=1.37]\n"
          ]
        },
        {
          "output_type": "stream",
          "name": "stdout",
          "text": [
            "Epoch [395/3000]: Train loss: 1.1389, Valid loss: 1.0944\n"
          ]
        },
        {
          "output_type": "stream",
          "name": "stderr",
          "text": [
            "Epoch [396/3000]: 100%|██████████| 34/34 [00:00<00:00, 75.76it/s, loss=0.885]\n"
          ]
        },
        {
          "output_type": "stream",
          "name": "stdout",
          "text": [
            "Epoch [396/3000]: Train loss: 1.1349, Valid loss: 1.0734\n"
          ]
        },
        {
          "output_type": "stream",
          "name": "stderr",
          "text": [
            "Epoch [397/3000]: 100%|██████████| 34/34 [00:00<00:00, 137.22it/s, loss=1.2]\n"
          ]
        },
        {
          "output_type": "stream",
          "name": "stdout",
          "text": [
            "Epoch [397/3000]: Train loss: 1.1434, Valid loss: 1.1157\n"
          ]
        },
        {
          "output_type": "stream",
          "name": "stderr",
          "text": [
            "Epoch [398/3000]:   0%|          | 0/34 [00:00<?, ?it/s, loss=0.991]"
          ]
        },
        {
          "output_type": "stream",
          "name": "stdout",
          "text": [
            "Epoch [401/3000]: Train loss: 1.1541, Valid loss: 1.1106\n"
          ]
        },
        {
          "output_type": "stream",
          "name": "stderr",
          "text": [
            "Epoch [402/3000]: 100%|██████████| 34/34 [00:00<00:00, 175.26it/s, loss=1.45]\n"
          ]
        },
        {
          "output_type": "stream",
          "name": "stdout",
          "text": [
            "Epoch [402/3000]: Train loss: 1.1364, Valid loss: 1.0936\n"
          ]
        },
        {
          "output_type": "stream",
          "name": "stderr",
          "text": [
            "Epoch [403/3000]: 100%|██████████| 34/34 [00:00<00:00, 121.15it/s, loss=1.23]\n"
          ]
        },
        {
          "output_type": "stream",
          "name": "stdout",
          "text": [
            "Epoch [403/3000]: Train loss: 1.1392, Valid loss: 1.1457\n"
          ]
        },
        {
          "output_type": "stream",
          "name": "stderr",
          "text": [
            "Epoch [404/3000]: 100%|██████████| 34/34 [00:00<00:00, 177.54it/s, loss=0.808]\n"
          ]
        },
        {
          "output_type": "stream",
          "name": "stdout",
          "text": [
            "Epoch [404/3000]: Train loss: 1.1444, Valid loss: 1.1340\n"
          ]
        },
        {
          "output_type": "stream",
          "name": "stderr",
          "text": [
            "Epoch [405/3000]: 100%|██████████| 34/34 [00:00<00:00, 183.90it/s, loss=1.05]"
          ]
        },
        {
          "output_type": "stream",
          "name": "stdout",
          "text": [
            "Epoch [405/3000]: Train loss: 1.1427, Valid loss: 1.0651\n"
          ]
        },
        {
          "output_type": "stream",
          "name": "stderr",
          "text": [
            "\n"
          ]
        },
        {
          "output_type": "stream",
          "name": "stdout",
          "text": [
            "Saving model with loss 1.065...\n"
          ]
        },
        {
          "output_type": "stream",
          "name": "stderr",
          "text": [
            "Epoch [406/3000]: 100%|██████████| 34/34 [00:00<00:00, 113.24it/s, loss=0.675]\n"
          ]
        },
        {
          "output_type": "stream",
          "name": "stdout",
          "text": [
            "Epoch [406/3000]: Train loss: 1.1362, Valid loss: 1.0666\n"
          ]
        },
        {
          "output_type": "stream",
          "name": "stderr",
          "text": [
            "Epoch [407/3000]: 100%|██████████| 34/34 [00:00<00:00, 162.43it/s, loss=2.08]\n"
          ]
        },
        {
          "output_type": "stream",
          "name": "stdout",
          "text": [
            "Epoch [407/3000]: Train loss: 1.1488, Valid loss: 1.1244\n"
          ]
        },
        {
          "output_type": "stream",
          "name": "stderr",
          "text": [
            "Epoch [414/3000]: 100%|██████████| 34/34 [00:00<00:00, 183.81it/s, loss=1.28]\n"
          ]
        },
        {
          "output_type": "stream",
          "name": "stdout",
          "text": [
            "Epoch [414/3000]: Train loss: 1.1381, Valid loss: 1.1298\n"
          ]
        },
        {
          "output_type": "stream",
          "name": "stderr",
          "text": [
            "Epoch [415/3000]: 100%|██████████| 34/34 [00:00<00:00, 162.86it/s, loss=1.13]\n"
          ]
        },
        {
          "output_type": "stream",
          "name": "stdout",
          "text": [
            "Epoch [415/3000]: Train loss: 1.1394, Valid loss: 1.0983\n"
          ]
        },
        {
          "output_type": "stream",
          "name": "stderr",
          "text": [
            "Epoch [416/3000]: 100%|██████████| 34/34 [00:00<00:00, 93.72it/s, loss=0.812] \n"
          ]
        },
        {
          "output_type": "stream",
          "name": "stdout",
          "text": [
            "Epoch [416/3000]: Train loss: 1.1359, Valid loss: 1.1149\n"
          ]
        },
        {
          "output_type": "stream",
          "name": "stderr",
          "text": [
            "Epoch [417/3000]: 100%|██████████| 34/34 [00:00<00:00, 185.13it/s, loss=1.4]\n"
          ]
        },
        {
          "output_type": "stream",
          "name": "stdout",
          "text": [
            "Epoch [417/3000]: Train loss: 1.1448, Valid loss: 1.1415\n"
          ]
        },
        {
          "output_type": "stream",
          "name": "stderr",
          "text": [
            "Epoch [418/3000]: 100%|██████████| 34/34 [00:00<00:00, 182.84it/s, loss=0.869]\n"
          ]
        },
        {
          "output_type": "stream",
          "name": "stdout",
          "text": [
            "Epoch [418/3000]: Train loss: 1.1486, Valid loss: 1.0927\n"
          ]
        },
        {
          "output_type": "stream",
          "name": "stderr",
          "text": [
            "Epoch [419/3000]: 100%|██████████| 34/34 [00:00<00:00, 45.97it/s, loss=1.23] \n"
          ]
        },
        {
          "output_type": "stream",
          "name": "stdout",
          "text": [
            "Epoch [419/3000]: Train loss: 1.1373, Valid loss: 1.1189\n"
          ]
        },
        {
          "output_type": "stream",
          "name": "stderr",
          "text": [
            "Epoch [420/3000]: 100%|██████████| 34/34 [00:00<00:00, 154.56it/s, loss=1.42]\n"
          ]
        },
        {
          "output_type": "stream",
          "name": "stdout",
          "text": [
            "Epoch [420/3000]: Train loss: 1.1385, Valid loss: 1.1124\n"
          ]
        },
        {
          "output_type": "stream",
          "name": "stderr",
          "text": [
            "Epoch [421/3000]:  47%|████▋     | 16/34 [00:00<00:00, 158.79it/s, loss=1.8]"
          ]
        },
        {
          "output_type": "stream",
          "name": "stdout",
          "text": [
            "Epoch [424/3000]: Train loss: 1.1378, Valid loss: 1.0949\n"
          ]
        },
        {
          "output_type": "stream",
          "name": "stderr",
          "text": [
            "Epoch [425/3000]: 100%|██████████| 34/34 [00:00<00:00, 162.87it/s, loss=1.17]\n"
          ]
        },
        {
          "output_type": "stream",
          "name": "stdout",
          "text": [
            "Epoch [425/3000]: Train loss: 1.1368, Valid loss: 1.1394\n"
          ]
        },
        {
          "output_type": "stream",
          "name": "stderr",
          "text": [
            "Epoch [426/3000]: 100%|██████████| 34/34 [00:00<00:00, 127.82it/s, loss=1.29]\n"
          ]
        },
        {
          "output_type": "stream",
          "name": "stdout",
          "text": [
            "Epoch [426/3000]: Train loss: 1.1390, Valid loss: 1.1556\n"
          ]
        },
        {
          "output_type": "stream",
          "name": "stderr",
          "text": [
            "Epoch [427/3000]: 100%|██████████| 34/34 [00:00<00:00, 170.55it/s, loss=1.4]\n"
          ]
        },
        {
          "output_type": "stream",
          "name": "stdout",
          "text": [
            "Epoch [427/3000]: Train loss: 1.1688, Valid loss: 1.1583\n"
          ]
        },
        {
          "output_type": "stream",
          "name": "stderr",
          "text": [
            "Epoch [428/3000]: 100%|██████████| 34/34 [00:00<00:00, 180.03it/s, loss=0.717]\n"
          ]
        },
        {
          "output_type": "stream",
          "name": "stdout",
          "text": [
            "Epoch [428/3000]: Train loss: 1.1371, Valid loss: 1.0856\n"
          ]
        },
        {
          "output_type": "stream",
          "name": "stderr",
          "text": [
            "Epoch [429/3000]: 100%|██████████| 34/34 [00:00<00:00, 173.42it/s, loss=0.835]\n"
          ]
        },
        {
          "output_type": "stream",
          "name": "stdout",
          "text": [
            "Epoch [429/3000]: Train loss: 1.1334, Valid loss: 1.0783\n"
          ]
        },
        {
          "output_type": "stream",
          "name": "stderr",
          "text": [
            "Epoch [430/3000]: 100%|██████████| 34/34 [00:00<00:00, 47.95it/s, loss=1.67] \n"
          ]
        },
        {
          "output_type": "stream",
          "name": "stdout",
          "text": [
            "Epoch [430/3000]: Train loss: 1.1369, Valid loss: 1.1030\n"
          ]
        },
        {
          "output_type": "stream",
          "name": "stderr",
          "text": [
            "Epoch [431/3000]:  76%|███████▋  | 26/34 [00:00<00:00, 118.66it/s, loss=1.22]"
          ]
        },
        {
          "output_type": "stream",
          "name": "stdout",
          "text": [
            "Epoch [433/3000]: Train loss: 1.1620, Valid loss: 1.1544\n"
          ]
        },
        {
          "output_type": "stream",
          "name": "stderr",
          "text": [
            "Epoch [434/3000]: 100%|██████████| 34/34 [00:00<00:00, 115.89it/s, loss=1.06]\n"
          ]
        },
        {
          "output_type": "stream",
          "name": "stdout",
          "text": [
            "Epoch [434/3000]: Train loss: 1.1369, Valid loss: 1.1237\n"
          ]
        },
        {
          "output_type": "stream",
          "name": "stderr",
          "text": [
            "Epoch [435/3000]: 100%|██████████| 34/34 [00:00<00:00, 116.26it/s, loss=0.942]\n"
          ]
        },
        {
          "output_type": "stream",
          "name": "stdout",
          "text": [
            "Epoch [435/3000]: Train loss: 1.1585, Valid loss: 1.0752\n"
          ]
        },
        {
          "output_type": "stream",
          "name": "stderr",
          "text": [
            "Epoch [436/3000]: 100%|██████████| 34/34 [00:00<00:00, 122.29it/s, loss=1.21]\n"
          ]
        },
        {
          "output_type": "stream",
          "name": "stdout",
          "text": [
            "Epoch [436/3000]: Train loss: 1.1389, Valid loss: 1.1291\n"
          ]
        },
        {
          "output_type": "stream",
          "name": "stderr",
          "text": [
            "Epoch [437/3000]: 100%|██████████| 34/34 [00:00<00:00, 154.32it/s, loss=0.733]\n"
          ]
        },
        {
          "output_type": "stream",
          "name": "stdout",
          "text": [
            "Epoch [437/3000]: Train loss: 1.1371, Valid loss: 1.0863\n"
          ]
        },
        {
          "output_type": "stream",
          "name": "stderr",
          "text": [
            "Epoch [438/3000]: 100%|██████████| 34/34 [00:00<00:00, 165.28it/s, loss=0.82]\n"
          ]
        },
        {
          "output_type": "stream",
          "name": "stdout",
          "text": [
            "Epoch [438/3000]: Train loss: 1.1323, Valid loss: 1.1251\n"
          ]
        },
        {
          "output_type": "stream",
          "name": "stderr",
          "text": [
            "Epoch [439/3000]: 100%|██████████| 34/34 [00:00<00:00, 172.70it/s, loss=0.844]\n"
          ]
        },
        {
          "output_type": "stream",
          "name": "stdout",
          "text": [
            "Epoch [439/3000]: Train loss: 1.1391, Valid loss: 1.1144\n"
          ]
        },
        {
          "output_type": "stream",
          "name": "stderr",
          "text": [
            "Epoch [447/3000]: 100%|██████████| 34/34 [00:00<00:00, 98.29it/s, loss=1.47]\n"
          ]
        },
        {
          "output_type": "stream",
          "name": "stdout",
          "text": [
            "Epoch [447/3000]: Train loss: 1.1433, Valid loss: 1.1428\n"
          ]
        },
        {
          "output_type": "stream",
          "name": "stderr",
          "text": [
            "Epoch [448/3000]: 100%|██████████| 34/34 [00:00<00:00, 49.09it/s, loss=1.14] \n"
          ]
        },
        {
          "output_type": "stream",
          "name": "stdout",
          "text": [
            "Epoch [448/3000]: Train loss: 1.1364, Valid loss: 1.0889\n"
          ]
        },
        {
          "output_type": "stream",
          "name": "stderr",
          "text": [
            "Epoch [449/3000]: 100%|██████████| 34/34 [00:00<00:00, 115.28it/s, loss=0.741]\n"
          ]
        },
        {
          "output_type": "stream",
          "name": "stdout",
          "text": [
            "Epoch [449/3000]: Train loss: 1.1409, Valid loss: 1.0528\n",
            "Saving model with loss 1.053...\n"
          ]
        },
        {
          "output_type": "stream",
          "name": "stderr",
          "text": [
            "Epoch [450/3000]: 100%|██████████| 34/34 [00:00<00:00, 114.31it/s, loss=0.884]\n"
          ]
        },
        {
          "output_type": "stream",
          "name": "stdout",
          "text": [
            "Epoch [450/3000]: Train loss: 1.1578, Valid loss: 1.1199\n"
          ]
        },
        {
          "output_type": "stream",
          "name": "stderr",
          "text": [
            "Epoch [451/3000]: 100%|██████████| 34/34 [00:00<00:00, 130.05it/s, loss=1.35]\n"
          ]
        },
        {
          "output_type": "stream",
          "name": "stdout",
          "text": [
            "Epoch [451/3000]: Train loss: 1.1443, Valid loss: 1.1211\n"
          ]
        },
        {
          "output_type": "stream",
          "name": "stderr",
          "text": [
            "Epoch [452/3000]: 100%|██████████| 34/34 [00:00<00:00, 184.46it/s, loss=1.34]\n"
          ]
        },
        {
          "output_type": "stream",
          "name": "stdout",
          "text": [
            "Epoch [452/3000]: Train loss: 1.1332, Valid loss: 1.0719\n"
          ]
        },
        {
          "output_type": "stream",
          "name": "stderr",
          "text": [
            "Epoch [454/3000]: 100%|██████████| 34/34 [00:00<00:00, 167.45it/s, loss=0.719]\n"
          ]
        },
        {
          "output_type": "stream",
          "name": "stdout",
          "text": [
            "Epoch [454/3000]: Train loss: 1.1328, Valid loss: 1.1272\n"
          ]
        },
        {
          "output_type": "stream",
          "name": "stderr",
          "text": [
            "Epoch [455/3000]: 100%|██████████| 34/34 [00:00<00:00, 200.95it/s, loss=1.32]\n"
          ]
        },
        {
          "output_type": "stream",
          "name": "stdout",
          "text": [
            "Epoch [455/3000]: Train loss: 1.1449, Valid loss: 1.1491\n"
          ]
        },
        {
          "output_type": "stream",
          "name": "stderr",
          "text": [
            "Epoch [456/3000]: 100%|██████████| 34/34 [00:00<00:00, 163.96it/s, loss=0.975]\n"
          ]
        },
        {
          "output_type": "stream",
          "name": "stdout",
          "text": [
            "Epoch [456/3000]: Train loss: 1.1404, Valid loss: 1.1300\n"
          ]
        },
        {
          "output_type": "stream",
          "name": "stderr",
          "text": [
            "Epoch [457/3000]: 100%|██████████| 34/34 [00:00<00:00, 164.25it/s, loss=0.98]\n"
          ]
        },
        {
          "output_type": "stream",
          "name": "stdout",
          "text": [
            "Epoch [457/3000]: Train loss: 1.1327, Valid loss: 1.0937\n"
          ]
        },
        {
          "output_type": "stream",
          "name": "stderr",
          "text": [
            "Epoch [458/3000]: 100%|██████████| 34/34 [00:00<00:00, 186.77it/s, loss=0.851]\n"
          ]
        },
        {
          "output_type": "stream",
          "name": "stdout",
          "text": [
            "Epoch [458/3000]: Train loss: 1.1346, Valid loss: 1.1226\n"
          ]
        },
        {
          "output_type": "stream",
          "name": "stderr",
          "text": [
            "Epoch [459/3000]: 100%|██████████| 34/34 [00:00<00:00, 180.80it/s, loss=0.996]\n"
          ]
        },
        {
          "output_type": "stream",
          "name": "stdout",
          "text": [
            "Epoch [459/3000]: Train loss: 1.1346, Valid loss: 1.1326\n"
          ]
        },
        {
          "output_type": "stream",
          "name": "stderr",
          "text": [
            "Epoch [460/3000]: 100%|██████████| 34/34 [00:00<00:00, 102.52it/s, loss=1.19]\n"
          ]
        },
        {
          "output_type": "stream",
          "name": "stdout",
          "text": [
            "Epoch [460/3000]: Train loss: 1.1403, Valid loss: 1.1278\n"
          ]
        },
        {
          "output_type": "stream",
          "name": "stderr",
          "text": [
            "Epoch [467/3000]: 100%|██████████| 34/34 [00:00<00:00, 146.09it/s, loss=0.902]\n"
          ]
        },
        {
          "output_type": "stream",
          "name": "stdout",
          "text": [
            "Epoch [467/3000]: Train loss: 1.1386, Valid loss: 1.0888\n"
          ]
        },
        {
          "output_type": "stream",
          "name": "stderr",
          "text": [
            "Epoch [468/3000]: 100%|██████████| 34/34 [00:00<00:00, 138.05it/s, loss=0.91]\n"
          ]
        },
        {
          "output_type": "stream",
          "name": "stdout",
          "text": [
            "Epoch [468/3000]: Train loss: 1.1290, Valid loss: 1.1599\n"
          ]
        },
        {
          "output_type": "stream",
          "name": "stderr",
          "text": [
            "Epoch [469/3000]: 100%|██████████| 34/34 [00:00<00:00, 186.62it/s, loss=1.43]\n"
          ]
        },
        {
          "output_type": "stream",
          "name": "stdout",
          "text": [
            "Epoch [469/3000]: Train loss: 1.1353, Valid loss: 1.1570\n"
          ]
        },
        {
          "output_type": "stream",
          "name": "stderr",
          "text": [
            "Epoch [470/3000]: 100%|██████████| 34/34 [00:00<00:00, 109.00it/s, loss=1.76]\n"
          ]
        },
        {
          "output_type": "stream",
          "name": "stdout",
          "text": [
            "Epoch [470/3000]: Train loss: 1.1552, Valid loss: 1.1297\n"
          ]
        },
        {
          "output_type": "stream",
          "name": "stderr",
          "text": [
            "Epoch [471/3000]: 100%|██████████| 34/34 [00:00<00:00, 158.70it/s, loss=1.27]\n"
          ]
        },
        {
          "output_type": "stream",
          "name": "stdout",
          "text": [
            "Epoch [471/3000]: Train loss: 1.1415, Valid loss: 1.1634\n"
          ]
        },
        {
          "output_type": "stream",
          "name": "stderr",
          "text": [
            "Epoch [472/3000]: 100%|██████████| 34/34 [00:00<00:00, 170.27it/s, loss=1.24]\n"
          ]
        },
        {
          "output_type": "stream",
          "name": "stdout",
          "text": [
            "Epoch [472/3000]: Train loss: 1.1379, Valid loss: 1.1373\n"
          ]
        },
        {
          "output_type": "stream",
          "name": "stderr",
          "text": [
            "Epoch [473/3000]: 100%|██████████| 34/34 [00:00<00:00, 180.27it/s, loss=0.968]\n"
          ]
        },
        {
          "output_type": "stream",
          "name": "stdout",
          "text": [
            "Epoch [473/3000]: Train loss: 1.1351, Valid loss: 1.1054\n"
          ]
        },
        {
          "output_type": "stream",
          "name": "stderr",
          "text": [
            "Epoch [480/3000]: 100%|██████████| 34/34 [00:00<00:00, 113.85it/s, loss=0.754]\n"
          ]
        },
        {
          "output_type": "stream",
          "name": "stdout",
          "text": [
            "Epoch [480/3000]: Train loss: 1.1296, Valid loss: 1.0948\n"
          ]
        },
        {
          "output_type": "stream",
          "name": "stderr",
          "text": [
            "Epoch [481/3000]: 100%|██████████| 34/34 [00:00<00:00, 171.17it/s, loss=1.22]\n"
          ]
        },
        {
          "output_type": "stream",
          "name": "stdout",
          "text": [
            "Epoch [481/3000]: Train loss: 1.1285, Valid loss: 1.1063\n"
          ]
        },
        {
          "output_type": "stream",
          "name": "stderr",
          "text": [
            "Epoch [482/3000]: 100%|██████████| 34/34 [00:00<00:00, 181.89it/s, loss=1.25]\n"
          ]
        },
        {
          "output_type": "stream",
          "name": "stdout",
          "text": [
            "Epoch [482/3000]: Train loss: 1.1330, Valid loss: 1.1197\n"
          ]
        },
        {
          "output_type": "stream",
          "name": "stderr",
          "text": [
            "Epoch [483/3000]: 100%|██████████| 34/34 [00:00<00:00, 162.18it/s, loss=0.481]\n"
          ]
        },
        {
          "output_type": "stream",
          "name": "stdout",
          "text": [
            "Epoch [483/3000]: Train loss: 1.1317, Valid loss: 1.1096\n"
          ]
        },
        {
          "output_type": "stream",
          "name": "stderr",
          "text": [
            "Epoch [484/3000]: 100%|██████████| 34/34 [00:00<00:00, 114.01it/s, loss=1.04]\n"
          ]
        },
        {
          "output_type": "stream",
          "name": "stdout",
          "text": [
            "Epoch [484/3000]: Train loss: 1.1324, Valid loss: 1.1241\n"
          ]
        },
        {
          "output_type": "stream",
          "name": "stderr",
          "text": [
            "Epoch [485/3000]: 100%|██████████| 34/34 [00:00<00:00, 175.12it/s, loss=0.557]\n"
          ]
        },
        {
          "output_type": "stream",
          "name": "stdout",
          "text": [
            "Epoch [485/3000]: Train loss: 1.1324, Valid loss: 1.0752\n"
          ]
        },
        {
          "output_type": "stream",
          "name": "stderr",
          "text": [
            "Epoch [486/3000]: 100%|██████████| 34/34 [00:00<00:00, 179.84it/s, loss=0.991]\n"
          ]
        },
        {
          "output_type": "stream",
          "name": "stdout",
          "text": [
            "Epoch [486/3000]: Train loss: 1.1370, Valid loss: 1.1205\n"
          ]
        },
        {
          "output_type": "stream",
          "name": "stderr",
          "text": [
            "Epoch [493/3000]: 100%|██████████| 34/34 [00:00<00:00, 174.72it/s, loss=2.15]\n"
          ]
        },
        {
          "output_type": "stream",
          "name": "stdout",
          "text": [
            "Epoch [493/3000]: Train loss: 1.1403, Valid loss: 1.1194\n"
          ]
        },
        {
          "output_type": "stream",
          "name": "stderr",
          "text": [
            "Epoch [494/3000]: 100%|██████████| 34/34 [00:00<00:00, 121.34it/s, loss=1.2]\n"
          ]
        },
        {
          "output_type": "stream",
          "name": "stdout",
          "text": [
            "Epoch [494/3000]: Train loss: 1.1310, Valid loss: 1.0901\n"
          ]
        },
        {
          "output_type": "stream",
          "name": "stderr",
          "text": [
            "Epoch [495/3000]: 100%|██████████| 34/34 [00:00<00:00, 168.32it/s, loss=1.1]\n"
          ]
        },
        {
          "output_type": "stream",
          "name": "stdout",
          "text": [
            "Epoch [495/3000]: Train loss: 1.1285, Valid loss: 1.1075\n"
          ]
        },
        {
          "output_type": "stream",
          "name": "stderr",
          "text": [
            "Epoch [496/3000]: 100%|██████████| 34/34 [00:00<00:00, 56.73it/s, loss=1.28]\n"
          ]
        },
        {
          "output_type": "stream",
          "name": "stdout",
          "text": [
            "Epoch [496/3000]: Train loss: 1.1362, Valid loss: 1.1541\n"
          ]
        },
        {
          "output_type": "stream",
          "name": "stderr",
          "text": [
            "Epoch [497/3000]: 100%|██████████| 34/34 [00:00<00:00, 98.64it/s, loss=1.16]\n"
          ]
        },
        {
          "output_type": "stream",
          "name": "stdout",
          "text": [
            "Epoch [497/3000]: Train loss: 1.1341, Valid loss: 1.1524\n"
          ]
        },
        {
          "output_type": "stream",
          "name": "stderr",
          "text": [
            "Epoch [498/3000]: 100%|██████████| 34/34 [00:00<00:00, 139.56it/s, loss=1.19]\n"
          ]
        },
        {
          "output_type": "stream",
          "name": "stdout",
          "text": [
            "Epoch [498/3000]: Train loss: 1.1344, Valid loss: 1.1390\n"
          ]
        },
        {
          "output_type": "stream",
          "name": "stderr",
          "text": [
            "Epoch [501/3000]: 100%|██████████| 34/34 [00:00<00:00, 114.46it/s, loss=1]\n"
          ]
        },
        {
          "output_type": "stream",
          "name": "stdout",
          "text": [
            "Epoch [501/3000]: Train loss: 1.1311, Valid loss: 1.1254\n"
          ]
        },
        {
          "output_type": "stream",
          "name": "stderr",
          "text": [
            "Epoch [502/3000]: 100%|██████████| 34/34 [00:00<00:00, 121.30it/s, loss=0.802]\n"
          ]
        },
        {
          "output_type": "stream",
          "name": "stdout",
          "text": [
            "Epoch [502/3000]: Train loss: 1.1318, Valid loss: 1.0847\n"
          ]
        },
        {
          "output_type": "stream",
          "name": "stderr",
          "text": [
            "Epoch [503/3000]: 100%|██████████| 34/34 [00:00<00:00, 118.24it/s, loss=1.02]\n"
          ]
        },
        {
          "output_type": "stream",
          "name": "stdout",
          "text": [
            "Epoch [503/3000]: Train loss: 1.1332, Valid loss: 1.1361\n"
          ]
        },
        {
          "output_type": "stream",
          "name": "stderr",
          "text": [
            "Epoch [504/3000]: 100%|██████████| 34/34 [00:00<00:00, 109.81it/s, loss=1.8]\n"
          ]
        },
        {
          "output_type": "stream",
          "name": "stdout",
          "text": [
            "Epoch [504/3000]: Train loss: 1.1343, Valid loss: 1.0574\n"
          ]
        },
        {
          "output_type": "stream",
          "name": "stderr",
          "text": [
            "Epoch [505/3000]: 100%|██████████| 34/34 [00:00<00:00, 118.33it/s, loss=1.47]\n"
          ]
        },
        {
          "output_type": "stream",
          "name": "stdout",
          "text": [
            "Epoch [505/3000]: Train loss: 1.1387, Valid loss: 1.1119\n"
          ]
        },
        {
          "output_type": "stream",
          "name": "stderr",
          "text": [
            "Epoch [506/3000]: 100%|██████████| 34/34 [00:00<00:00, 116.80it/s, loss=1.16]\n"
          ]
        },
        {
          "output_type": "stream",
          "name": "stdout",
          "text": [
            "Epoch [506/3000]: Train loss: 1.1489, Valid loss: 1.1119\n"
          ]
        },
        {
          "output_type": "stream",
          "name": "stderr",
          "text": [
            "Epoch [507/3000]: 100%|██████████| 34/34 [00:00<00:00, 112.65it/s, loss=0.959]\n"
          ]
        },
        {
          "output_type": "stream",
          "name": "stdout",
          "text": [
            "Epoch [507/3000]: Train loss: 1.1265, Valid loss: 1.1180\n"
          ]
        },
        {
          "output_type": "stream",
          "name": "stderr",
          "text": [
            "Epoch [509/3000]: 100%|██████████| 34/34 [00:00<00:00, 119.20it/s, loss=1]\n"
          ]
        },
        {
          "output_type": "stream",
          "name": "stdout",
          "text": [
            "Epoch [509/3000]: Train loss: 1.1408, Valid loss: 1.1104\n"
          ]
        },
        {
          "output_type": "stream",
          "name": "stderr",
          "text": [
            "Epoch [510/3000]: 100%|██████████| 34/34 [00:00<00:00, 118.38it/s, loss=0.872]\n"
          ]
        },
        {
          "output_type": "stream",
          "name": "stdout",
          "text": [
            "Epoch [510/3000]: Train loss: 1.1291, Valid loss: 1.1127\n"
          ]
        },
        {
          "output_type": "stream",
          "name": "stderr",
          "text": [
            "Epoch [511/3000]: 100%|██████████| 34/34 [00:00<00:00, 171.77it/s, loss=1.55]\n"
          ]
        },
        {
          "output_type": "stream",
          "name": "stdout",
          "text": [
            "Epoch [511/3000]: Train loss: 1.1414, Valid loss: 1.0766\n"
          ]
        },
        {
          "output_type": "stream",
          "name": "stderr",
          "text": [
            "Epoch [512/3000]: 100%|██████████| 34/34 [00:00<00:00, 176.08it/s, loss=0.907]\n"
          ]
        },
        {
          "output_type": "stream",
          "name": "stdout",
          "text": [
            "Epoch [512/3000]: Train loss: 1.1237, Valid loss: 1.1007\n"
          ]
        },
        {
          "output_type": "stream",
          "name": "stderr",
          "text": [
            "Epoch [513/3000]: 100%|██████████| 34/34 [00:00<00:00, 173.59it/s, loss=0.997]\n"
          ]
        },
        {
          "output_type": "stream",
          "name": "stdout",
          "text": [
            "Epoch [513/3000]: Train loss: 1.1351, Valid loss: 1.0851\n"
          ]
        },
        {
          "output_type": "stream",
          "name": "stderr",
          "text": [
            "Epoch [514/3000]: 100%|██████████| 34/34 [00:00<00:00, 176.29it/s, loss=1.04]\n"
          ]
        },
        {
          "output_type": "stream",
          "name": "stdout",
          "text": [
            "Epoch [514/3000]: Train loss: 1.1389, Valid loss: 1.1048\n"
          ]
        },
        {
          "output_type": "stream",
          "name": "stderr",
          "text": [
            "Epoch [515/3000]: 100%|██████████| 34/34 [00:00<00:00, 160.74it/s, loss=0.984]\n"
          ]
        },
        {
          "output_type": "stream",
          "name": "stdout",
          "text": [
            "Epoch [515/3000]: Train loss: 1.1355, Valid loss: 1.0851\n"
          ]
        },
        {
          "output_type": "stream",
          "name": "stderr",
          "text": [
            "Epoch [522/3000]: 100%|██████████| 34/34 [00:00<00:00, 168.03it/s, loss=1.29]\n"
          ]
        },
        {
          "output_type": "stream",
          "name": "stdout",
          "text": [
            "Epoch [522/3000]: Train loss: 1.1309, Valid loss: 1.1482\n"
          ]
        },
        {
          "output_type": "stream",
          "name": "stderr",
          "text": [
            "Epoch [523/3000]: 100%|██████████| 34/34 [00:00<00:00, 177.26it/s, loss=1.12]\n"
          ]
        },
        {
          "output_type": "stream",
          "name": "stdout",
          "text": [
            "Epoch [523/3000]: Train loss: 1.1304, Valid loss: 1.1460\n"
          ]
        },
        {
          "output_type": "stream",
          "name": "stderr",
          "text": [
            "Epoch [524/3000]: 100%|██████████| 34/34 [00:00<00:00, 99.67it/s, loss=0.964]\n"
          ]
        },
        {
          "output_type": "stream",
          "name": "stdout",
          "text": [
            "Epoch [524/3000]: Train loss: 1.1400, Valid loss: 1.0888\n"
          ]
        },
        {
          "output_type": "stream",
          "name": "stderr",
          "text": [
            "Epoch [525/3000]: 100%|██████████| 34/34 [00:00<00:00, 190.21it/s, loss=0.974]\n"
          ]
        },
        {
          "output_type": "stream",
          "name": "stdout",
          "text": [
            "Epoch [525/3000]: Train loss: 1.1419, Valid loss: 1.1361\n"
          ]
        },
        {
          "output_type": "stream",
          "name": "stderr",
          "text": [
            "Epoch [526/3000]: 100%|██████████| 34/34 [00:00<00:00, 186.21it/s, loss=0.726]\n"
          ]
        },
        {
          "output_type": "stream",
          "name": "stdout",
          "text": [
            "Epoch [526/3000]: Train loss: 1.1384, Valid loss: 1.1090\n"
          ]
        },
        {
          "output_type": "stream",
          "name": "stderr",
          "text": [
            "Epoch [527/3000]: 100%|██████████| 34/34 [00:00<00:00, 49.11it/s, loss=1.36]\n"
          ]
        },
        {
          "output_type": "stream",
          "name": "stdout",
          "text": [
            "Epoch [527/3000]: Train loss: 1.1315, Valid loss: 1.1094\n"
          ]
        },
        {
          "output_type": "stream",
          "name": "stderr",
          "text": [
            "Epoch [530/3000]: 100%|██████████| 34/34 [00:00<00:00, 170.32it/s, loss=1.13]\n"
          ]
        },
        {
          "output_type": "stream",
          "name": "stdout",
          "text": [
            "Epoch [530/3000]: Train loss: 1.1315, Valid loss: 1.1379\n"
          ]
        },
        {
          "output_type": "stream",
          "name": "stderr",
          "text": [
            "Epoch [531/3000]: 100%|██████████| 34/34 [00:00<00:00, 189.10it/s, loss=0.7]\n"
          ]
        },
        {
          "output_type": "stream",
          "name": "stdout",
          "text": [
            "Epoch [531/3000]: Train loss: 1.1267, Valid loss: 1.0822\n"
          ]
        },
        {
          "output_type": "stream",
          "name": "stderr",
          "text": [
            "Epoch [532/3000]: 100%|██████████| 34/34 [00:00<00:00, 196.60it/s, loss=0.665]\n"
          ]
        },
        {
          "output_type": "stream",
          "name": "stdout",
          "text": [
            "Epoch [532/3000]: Train loss: 1.1224, Valid loss: 1.0842\n"
          ]
        },
        {
          "output_type": "stream",
          "name": "stderr",
          "text": [
            "Epoch [533/3000]: 100%|██████████| 34/34 [00:00<00:00, 105.03it/s, loss=1.12]\n"
          ]
        },
        {
          "output_type": "stream",
          "name": "stdout",
          "text": [
            "Epoch [533/3000]: Train loss: 1.1291, Valid loss: 1.1555\n"
          ]
        },
        {
          "output_type": "stream",
          "name": "stderr",
          "text": [
            "Epoch [534/3000]: 100%|██████████| 34/34 [00:00<00:00, 157.51it/s, loss=1.08]\n"
          ]
        },
        {
          "output_type": "stream",
          "name": "stdout",
          "text": [
            "Epoch [534/3000]: Train loss: 1.1283, Valid loss: 1.0696\n"
          ]
        },
        {
          "output_type": "stream",
          "name": "stderr",
          "text": [
            "Epoch [535/3000]: 100%|██████████| 34/34 [00:00<00:00, 182.33it/s, loss=1.04]\n"
          ]
        },
        {
          "output_type": "stream",
          "name": "stdout",
          "text": [
            "Epoch [535/3000]: Train loss: 1.1291, Valid loss: 1.0758\n"
          ]
        },
        {
          "output_type": "stream",
          "name": "stderr",
          "text": [
            "Epoch [536/3000]: 100%|██████████| 34/34 [00:00<00:00, 160.38it/s, loss=1.23]\n"
          ]
        },
        {
          "output_type": "stream",
          "name": "stdout",
          "text": [
            "Epoch [536/3000]: Train loss: 1.1286, Valid loss: 1.0959\n"
          ]
        },
        {
          "output_type": "stream",
          "name": "stderr",
          "text": [
            "Epoch [540/3000]: 100%|██████████| 34/34 [00:00<00:00, 115.49it/s, loss=1.34]\n"
          ]
        },
        {
          "output_type": "stream",
          "name": "stdout",
          "text": [
            "Epoch [540/3000]: Train loss: 1.1400, Valid loss: 1.1007\n"
          ]
        },
        {
          "output_type": "stream",
          "name": "stderr",
          "text": [
            "Epoch [541/3000]: 100%|██████████| 34/34 [00:00<00:00, 118.59it/s, loss=0.754]\n"
          ]
        },
        {
          "output_type": "stream",
          "name": "stdout",
          "text": [
            "Epoch [541/3000]: Train loss: 1.1285, Valid loss: 1.1094\n"
          ]
        },
        {
          "output_type": "stream",
          "name": "stderr",
          "text": [
            "Epoch [542/3000]: 100%|██████████| 34/34 [00:00<00:00, 113.29it/s, loss=0.66]\n"
          ]
        },
        {
          "output_type": "stream",
          "name": "stdout",
          "text": [
            "Epoch [542/3000]: Train loss: 1.1253, Valid loss: 1.0715\n"
          ]
        },
        {
          "output_type": "stream",
          "name": "stderr",
          "text": [
            "Epoch [543/3000]: 100%|██████████| 34/34 [00:00<00:00, 118.85it/s, loss=0.903]\n"
          ]
        },
        {
          "output_type": "stream",
          "name": "stdout",
          "text": [
            "Epoch [543/3000]: Train loss: 1.1310, Valid loss: 1.1333\n"
          ]
        },
        {
          "output_type": "stream",
          "name": "stderr",
          "text": [
            "Epoch [544/3000]: 100%|██████████| 34/34 [00:00<00:00, 123.83it/s, loss=1.79]\n"
          ]
        },
        {
          "output_type": "stream",
          "name": "stdout",
          "text": [
            "Epoch [544/3000]: Train loss: 1.1363, Valid loss: 1.1517\n"
          ]
        },
        {
          "output_type": "stream",
          "name": "stderr",
          "text": [
            "Epoch [545/3000]: 100%|██████████| 34/34 [00:00<00:00, 126.87it/s, loss=1.26]\n"
          ]
        },
        {
          "output_type": "stream",
          "name": "stdout",
          "text": [
            "Epoch [545/3000]: Train loss: 1.1300, Valid loss: 1.0831\n"
          ]
        },
        {
          "output_type": "stream",
          "name": "stderr",
          "text": [
            "Epoch [546/3000]:  44%|████▍     | 15/34 [00:00<00:00, 145.87it/s, loss=0.972]"
          ]
        },
        {
          "output_type": "stream",
          "name": "stdout",
          "text": [
            "Epoch [548/3000]: Train loss: 1.1257, Valid loss: 1.1343\n"
          ]
        },
        {
          "output_type": "stream",
          "name": "stderr",
          "text": [
            "Epoch [549/3000]: 100%|██████████| 34/34 [00:00<00:00, 129.92it/s, loss=0.753]\n"
          ]
        },
        {
          "output_type": "stream",
          "name": "stdout",
          "text": [
            "Epoch [549/3000]: Train loss: 1.1271, Valid loss: 1.0719\n"
          ]
        },
        {
          "output_type": "stream",
          "name": "stderr",
          "text": [
            "Epoch [550/3000]: 100%|██████████| 34/34 [00:00<00:00, 179.47it/s, loss=1.39]\n"
          ]
        },
        {
          "output_type": "stream",
          "name": "stdout",
          "text": [
            "Epoch [550/3000]: Train loss: 1.1323, Valid loss: 1.1280\n"
          ]
        },
        {
          "output_type": "stream",
          "name": "stderr",
          "text": [
            "Epoch [551/3000]: 100%|██████████| 34/34 [00:00<00:00, 178.03it/s, loss=0.659]\n"
          ]
        },
        {
          "output_type": "stream",
          "name": "stdout",
          "text": [
            "Epoch [551/3000]: Train loss: 1.1408, Valid loss: 1.1450\n"
          ]
        },
        {
          "output_type": "stream",
          "name": "stderr",
          "text": [
            "Epoch [552/3000]: 100%|██████████| 34/34 [00:00<00:00, 135.12it/s, loss=0.704]\n"
          ]
        },
        {
          "output_type": "stream",
          "name": "stdout",
          "text": [
            "Epoch [552/3000]: Train loss: 1.1517, Valid loss: 1.1266\n"
          ]
        },
        {
          "output_type": "stream",
          "name": "stderr",
          "text": [
            "Epoch [553/3000]: 100%|██████████| 34/34 [00:00<00:00, 179.52it/s, loss=1.16]\n"
          ]
        },
        {
          "output_type": "stream",
          "name": "stdout",
          "text": [
            "Epoch [553/3000]: Train loss: 1.1263, Valid loss: 1.1025\n"
          ]
        },
        {
          "output_type": "stream",
          "name": "stderr",
          "text": [
            "Epoch [554/3000]: 100%|██████████| 34/34 [00:00<00:00, 154.28it/s, loss=0.892]\n"
          ]
        },
        {
          "output_type": "stream",
          "name": "stdout",
          "text": [
            "Epoch [554/3000]: Train loss: 1.1362, Valid loss: 1.0779\n"
          ]
        },
        {
          "output_type": "stream",
          "name": "stderr",
          "text": [
            "Epoch [561/3000]: 100%|██████████| 34/34 [00:00<00:00, 106.37it/s, loss=0.649]\n"
          ]
        },
        {
          "output_type": "stream",
          "name": "stdout",
          "text": [
            "Epoch [561/3000]: Train loss: 1.1396, Valid loss: 1.1495\n"
          ]
        },
        {
          "output_type": "stream",
          "name": "stderr",
          "text": [
            "Epoch [562/3000]: 100%|██████████| 34/34 [00:00<00:00, 174.72it/s, loss=1.54]\n"
          ]
        },
        {
          "output_type": "stream",
          "name": "stdout",
          "text": [
            "Epoch [562/3000]: Train loss: 1.1354, Valid loss: 1.1305\n"
          ]
        },
        {
          "output_type": "stream",
          "name": "stderr",
          "text": [
            "Epoch [563/3000]: 100%|██████████| 34/34 [00:00<00:00, 174.77it/s, loss=1.26]\n"
          ]
        },
        {
          "output_type": "stream",
          "name": "stdout",
          "text": [
            "Epoch [563/3000]: Train loss: 1.1274, Valid loss: 1.0671\n"
          ]
        },
        {
          "output_type": "stream",
          "name": "stderr",
          "text": [
            "Epoch [564/3000]: 100%|██████████| 34/34 [00:00<00:00, 156.53it/s, loss=2.02]\n"
          ]
        },
        {
          "output_type": "stream",
          "name": "stdout",
          "text": [
            "Epoch [564/3000]: Train loss: 1.1354, Valid loss: 1.0962\n"
          ]
        },
        {
          "output_type": "stream",
          "name": "stderr",
          "text": [
            "Epoch [565/3000]: 100%|██████████| 34/34 [00:00<00:00, 112.12it/s, loss=0.91]\n"
          ]
        },
        {
          "output_type": "stream",
          "name": "stdout",
          "text": [
            "Epoch [565/3000]: Train loss: 1.1284, Valid loss: 1.0965\n"
          ]
        },
        {
          "output_type": "stream",
          "name": "stderr",
          "text": [
            "Epoch [566/3000]: 100%|██████████| 34/34 [00:00<00:00, 190.39it/s, loss=1.42]\n"
          ]
        },
        {
          "output_type": "stream",
          "name": "stdout",
          "text": [
            "Epoch [566/3000]: Train loss: 1.1296, Valid loss: 1.1023\n"
          ]
        },
        {
          "output_type": "stream",
          "name": "stderr",
          "text": [
            "Epoch [572/3000]: 100%|██████████| 34/34 [00:00<00:00, 90.06it/s, loss=1.25] \n"
          ]
        },
        {
          "output_type": "stream",
          "name": "stdout",
          "text": [
            "Epoch [572/3000]: Train loss: 1.1261, Valid loss: 1.1184\n"
          ]
        },
        {
          "output_type": "stream",
          "name": "stderr",
          "text": [
            "Epoch [573/3000]: 100%|██████████| 34/34 [00:00<00:00, 173.58it/s, loss=2.01]\n"
          ]
        },
        {
          "output_type": "stream",
          "name": "stdout",
          "text": [
            "Epoch [573/3000]: Train loss: 1.1359, Valid loss: 1.1164\n"
          ]
        },
        {
          "output_type": "stream",
          "name": "stderr",
          "text": [
            "Epoch [574/3000]: 100%|██████████| 34/34 [00:00<00:00, 178.29it/s, loss=1.14]\n"
          ]
        },
        {
          "output_type": "stream",
          "name": "stdout",
          "text": [
            "Epoch [574/3000]: Train loss: 1.1340, Valid loss: 1.1074\n"
          ]
        },
        {
          "output_type": "stream",
          "name": "stderr",
          "text": [
            "Epoch [575/3000]: 100%|██████████| 34/34 [00:00<00:00, 101.66it/s, loss=1.14]\n"
          ]
        },
        {
          "output_type": "stream",
          "name": "stdout",
          "text": [
            "Epoch [575/3000]: Train loss: 1.1439, Valid loss: 1.1437\n"
          ]
        },
        {
          "output_type": "stream",
          "name": "stderr",
          "text": [
            "Epoch [576/3000]: 100%|██████████| 34/34 [00:00<00:00, 175.35it/s, loss=1.03]\n"
          ]
        },
        {
          "output_type": "stream",
          "name": "stdout",
          "text": [
            "Epoch [576/3000]: Train loss: 1.1353, Valid loss: 1.1091\n"
          ]
        },
        {
          "output_type": "stream",
          "name": "stderr",
          "text": [
            "Epoch [577/3000]: 100%|██████████| 34/34 [00:00<00:00, 177.51it/s, loss=1.2]\n"
          ]
        },
        {
          "output_type": "stream",
          "name": "stdout",
          "text": [
            "Epoch [577/3000]: Train loss: 1.1330, Valid loss: 1.1260\n"
          ]
        },
        {
          "output_type": "stream",
          "name": "stderr",
          "text": [
            "Epoch [583/3000]: 100%|██████████| 34/34 [00:00<00:00, 104.54it/s, loss=0.761]\n"
          ]
        },
        {
          "output_type": "stream",
          "name": "stdout",
          "text": [
            "Epoch [583/3000]: Train loss: 1.1249, Valid loss: 1.0803\n"
          ]
        },
        {
          "output_type": "stream",
          "name": "stderr",
          "text": [
            "Epoch [584/3000]: 100%|██████████| 34/34 [00:00<00:00, 113.43it/s, loss=0.965]\n"
          ]
        },
        {
          "output_type": "stream",
          "name": "stdout",
          "text": [
            "Epoch [584/3000]: Train loss: 1.1289, Valid loss: 1.1020\n"
          ]
        },
        {
          "output_type": "stream",
          "name": "stderr",
          "text": [
            "Epoch [585/3000]: 100%|██████████| 34/34 [00:00<00:00, 107.84it/s, loss=0.769]\n"
          ]
        },
        {
          "output_type": "stream",
          "name": "stdout",
          "text": [
            "Epoch [585/3000]: Train loss: 1.1319, Valid loss: 1.0888\n"
          ]
        },
        {
          "output_type": "stream",
          "name": "stderr",
          "text": [
            "Epoch [586/3000]: 100%|██████████| 34/34 [00:00<00:00, 166.73it/s, loss=0.777]\n"
          ]
        },
        {
          "output_type": "stream",
          "name": "stdout",
          "text": [
            "Epoch [586/3000]: Train loss: 1.1371, Valid loss: 1.0792\n"
          ]
        },
        {
          "output_type": "stream",
          "name": "stderr",
          "text": [
            "Epoch [587/3000]: 100%|██████████| 34/34 [00:00<00:00, 168.72it/s, loss=1.32]\n"
          ]
        },
        {
          "output_type": "stream",
          "name": "stdout",
          "text": [
            "Epoch [587/3000]: Train loss: 1.1293, Valid loss: 1.1000\n"
          ]
        },
        {
          "output_type": "stream",
          "name": "stderr",
          "text": [
            "Epoch [588/3000]: 100%|██████████| 34/34 [00:00<00:00, 167.16it/s, loss=1.53]\n"
          ]
        },
        {
          "output_type": "stream",
          "name": "stdout",
          "text": [
            "Epoch [588/3000]: Train loss: 1.1330, Valid loss: 1.0637\n"
          ]
        },
        {
          "output_type": "stream",
          "name": "stderr",
          "text": [
            "Epoch [593/3000]: 100%|██████████| 34/34 [00:00<00:00, 154.01it/s, loss=0.737]\n"
          ]
        },
        {
          "output_type": "stream",
          "name": "stdout",
          "text": [
            "Epoch [593/3000]: Train loss: 1.1341, Valid loss: 1.0774\n"
          ]
        },
        {
          "output_type": "stream",
          "name": "stderr",
          "text": [
            "Epoch [594/3000]: 100%|██████████| 34/34 [00:00<00:00, 158.43it/s, loss=0.935]\n"
          ]
        },
        {
          "output_type": "stream",
          "name": "stdout",
          "text": [
            "Epoch [594/3000]: Train loss: 1.1260, Valid loss: 1.1078\n"
          ]
        },
        {
          "output_type": "stream",
          "name": "stderr",
          "text": [
            "Epoch [595/3000]: 100%|██████████| 34/34 [00:00<00:00, 161.45it/s, loss=0.764]\n"
          ]
        },
        {
          "output_type": "stream",
          "name": "stdout",
          "text": [
            "Epoch [595/3000]: Train loss: 1.1546, Valid loss: 1.0866\n"
          ]
        },
        {
          "output_type": "stream",
          "name": "stderr",
          "text": [
            "Epoch [596/3000]: 100%|██████████| 34/34 [00:00<00:00, 165.21it/s, loss=1.24]\n"
          ]
        },
        {
          "output_type": "stream",
          "name": "stdout",
          "text": [
            "Epoch [596/3000]: Train loss: 1.1253, Valid loss: 1.1226\n"
          ]
        },
        {
          "output_type": "stream",
          "name": "stderr",
          "text": [
            "Epoch [597/3000]: 100%|██████████| 34/34 [00:00<00:00, 88.96it/s, loss=0.912] \n"
          ]
        },
        {
          "output_type": "stream",
          "name": "stdout",
          "text": [
            "Epoch [597/3000]: Train loss: 1.1282, Valid loss: 1.1016\n"
          ]
        },
        {
          "output_type": "stream",
          "name": "stderr",
          "text": [
            "Epoch [598/3000]: 100%|██████████| 34/34 [00:00<00:00, 112.38it/s, loss=0.772]\n"
          ]
        },
        {
          "output_type": "stream",
          "name": "stdout",
          "text": [
            "Epoch [598/3000]: Train loss: 1.1294, Valid loss: 1.1178\n"
          ]
        },
        {
          "output_type": "stream",
          "name": "stderr",
          "text": [
            "Epoch [601/3000]: 100%|██████████| 34/34 [00:00<00:00, 108.61it/s, loss=0.88]\n"
          ]
        },
        {
          "output_type": "stream",
          "name": "stdout",
          "text": [
            "Epoch [601/3000]: Train loss: 1.1230, Valid loss: 1.0471\n",
            "Saving model with loss 1.047...\n"
          ]
        },
        {
          "output_type": "stream",
          "name": "stderr",
          "text": [
            "Epoch [602/3000]: 100%|██████████| 34/34 [00:00<00:00, 103.72it/s, loss=1.09]\n"
          ]
        },
        {
          "output_type": "stream",
          "name": "stdout",
          "text": [
            "Epoch [602/3000]: Train loss: 1.1310, Valid loss: 1.1270\n"
          ]
        },
        {
          "output_type": "stream",
          "name": "stderr",
          "text": [
            "Epoch [603/3000]: 100%|██████████| 34/34 [00:00<00:00, 104.48it/s, loss=1.35]\n"
          ]
        },
        {
          "output_type": "stream",
          "name": "stdout",
          "text": [
            "Epoch [603/3000]: Train loss: 1.1310, Valid loss: 1.1235\n"
          ]
        },
        {
          "output_type": "stream",
          "name": "stderr",
          "text": [
            "Epoch [604/3000]: 100%|██████████| 34/34 [00:00<00:00, 127.30it/s, loss=1.2]\n"
          ]
        },
        {
          "output_type": "stream",
          "name": "stdout",
          "text": [
            "Epoch [604/3000]: Train loss: 1.1243, Valid loss: 1.0874\n"
          ]
        },
        {
          "output_type": "stream",
          "name": "stderr",
          "text": [
            "Epoch [605/3000]: 100%|██████████| 34/34 [00:00<00:00, 170.58it/s, loss=1.08]\n"
          ]
        },
        {
          "output_type": "stream",
          "name": "stdout",
          "text": [
            "Epoch [605/3000]: Train loss: 1.1241, Valid loss: 1.1085\n"
          ]
        },
        {
          "output_type": "stream",
          "name": "stderr",
          "text": [
            "Epoch [606/3000]: 100%|██████████| 34/34 [00:00<00:00, 162.45it/s, loss=0.964]\n"
          ]
        },
        {
          "output_type": "stream",
          "name": "stdout",
          "text": [
            "Epoch [606/3000]: Train loss: 1.1271, Valid loss: 1.0751\n"
          ]
        },
        {
          "output_type": "stream",
          "name": "stderr",
          "text": [
            "Epoch [607/3000]: 100%|██████████| 34/34 [00:00<00:00, 154.61it/s, loss=1.14]\n"
          ]
        },
        {
          "output_type": "stream",
          "name": "stdout",
          "text": [
            "Epoch [607/3000]: Train loss: 1.1325, Valid loss: 1.0980\n"
          ]
        },
        {
          "output_type": "stream",
          "name": "stderr",
          "text": [
            "Epoch [613/3000]: 100%|██████████| 34/34 [00:00<00:00, 159.40it/s, loss=1.05]\n"
          ]
        },
        {
          "output_type": "stream",
          "name": "stdout",
          "text": [
            "Epoch [613/3000]: Train loss: 1.1246, Valid loss: 1.0790\n"
          ]
        },
        {
          "output_type": "stream",
          "name": "stderr",
          "text": [
            "Epoch [614/3000]: 100%|██████████| 34/34 [00:00<00:00, 159.16it/s, loss=0.97]\n"
          ]
        },
        {
          "output_type": "stream",
          "name": "stdout",
          "text": [
            "Epoch [614/3000]: Train loss: 1.1294, Valid loss: 1.0830\n"
          ]
        },
        {
          "output_type": "stream",
          "name": "stderr",
          "text": [
            "Epoch [615/3000]:  91%|█████████ | 31/34 [00:00<00:00, 78.23it/s, loss=1.01]"
          ]
        }
      ],
      "source": [
        "model = My_Model(input_dim=x_train.shape[1]).to(device) # put your model and data on the same computation device.\n",
        "trainer(train_loader, valid_loader, model, config, device)"
      ]
    },
    {
      "cell_type": "markdown",
      "metadata": {
        "id": "Ik09KPqU-di-"
      },
      "source": [
        "# Plot learning curves with `tensorboard` (optional)\n",
        "\n",
        "`tensorboard` is a tool that allows you to visualize your training progress.\n",
        "\n",
        "If this block does not display your learning curve, please wait for few minutes, and re-run this block. It might take some time to load your logging information. "
      ]
    },
    {
      "cell_type": "code",
      "execution_count": null,
      "metadata": {
        "id": "loA4nKmLGQ-n"
      },
      "outputs": [],
      "source": [
        "%reload_ext tensorboard\n",
        "%tensorboard --logdir=./runs/"
      ]
    },
    {
      "cell_type": "markdown",
      "metadata": {
        "id": "yhAHGqC9-woK"
      },
      "source": [
        "# Testing\n",
        "The predictions of your model on testing set will be stored at `pred.csv`."
      ]
    },
    {
      "cell_type": "code",
      "execution_count": null,
      "metadata": {
        "id": "Q5eVdpbvAlAe"
      },
      "outputs": [],
      "source": [
        "def save_pred(preds, file):\n",
        "    ''' Save predictions to specified file '''\n",
        "    with open(file, 'w') as fp:\n",
        "        writer = csv.writer(fp)\n",
        "        writer.writerow(['id', 'tested_positive'])\n",
        "        for i, p in enumerate(preds):\n",
        "            writer.writerow([i, p])\n",
        "\n",
        "model = My_Model(input_dim=x_train.shape[1]).to(device)\n",
        "model.load_state_dict(torch.load(config['save_path']))\n",
        "preds = predict(test_loader, model, device) \n",
        "save_pred(preds, 'pred.csv')         "
      ]
    },
    {
      "cell_type": "markdown",
      "source": [
        "# Reference\n",
        "This notebook uses code written by Heng-Jui Chang @ NTUEE (https://github.com/ga642381/ML2021-Spring/blob/main/HW01/HW01.ipynb)"
      ],
      "metadata": {
        "id": "IJ_k5rY0GvSV"
      }
    }
  ],
  "metadata": {
    "colab": {
      "provenance": []
    },
    "kernelspec": {
      "display_name": "Python 3",
      "name": "python3"
    },
    "language_info": {
      "name": "python"
    },
    "gpuClass": "standard"
  },
  "nbformat": 4,
  "nbformat_minor": 0
}