{
  "cells": [
    {
      "cell_type": "markdown",
      "metadata": {
        "id": "guE34D3Fj2R9"
      },
      "source": [
        "# **Homework 1: COVID-19 Cases Prediction (Regression)**"
      ]
    },
    {
      "cell_type": "markdown",
      "metadata": {
        "id": "V57zhcTp1Xxb"
      },
      "source": [
        "Objectives:\n",
        "* Solve a regression problem with deep neural networks (DNN).\n",
        "* Understand basic DNN training tips.\n",
        "* Familiarize yourself with PyTorch.\n",
        "\n",
        "If you have any questions, please contact the TAs via TA hours, NTU COOL, or email to mlta-2022-spring@googlegroups.com"
      ]
    },
    {
      "cell_type": "markdown",
      "metadata": {
        "id": "igqIMEgu64-F"
      },
      "source": [
        "# Import packages"
      ]
    },
    {
      "cell_type": "code",
      "execution_count": 1,
      "metadata": {
        "id": "xybQNYCXYu13"
      },
      "outputs": [],
      "source": [
        "# Numerical Operations\n",
        "import math\n",
        "import numpy as np\n",
        "\n",
        "# Reading/Writing Data\n",
        "import pandas as pd\n",
        "import os\n",
        "import csv\n",
        "\n",
        "# For Progress Bar\n",
        "from tqdm import tqdm\n",
        "\n",
        "# Pytorch\n",
        "import torch \n",
        "import torch.nn as nn\n",
        "from torch.utils.data import Dataset, DataLoader, random_split\n",
        "\n",
        "# For plotting learning curve\n",
        "from torch.utils.tensorboard import SummaryWriter"
      ]
    },
    {
      "cell_type": "markdown",
      "metadata": {
        "id": "fTAVqRfc2KK3"
      },
      "source": [
        "# Some Utility Functions\n",
        "\n",
        "You do not need to modify this part."
      ]
    },
    {
      "cell_type": "code",
      "execution_count": 2,
      "metadata": {
        "id": "RbrcpfYN2I-H"
      },
      "outputs": [],
      "source": [
        "def same_seed(seed): \n",
        "    '''Fixes random number generator seeds for reproducibility.'''\n",
        "    torch.backends.cudnn.deterministic = True\n",
        "    torch.backends.cudnn.benchmark = False\n",
        "    np.random.seed(seed)\n",
        "    torch.manual_seed(seed)\n",
        "    if torch.cuda.is_available():\n",
        "        torch.cuda.manual_seed_all(seed)\n",
        "\n",
        "def train_valid_split(data_set, valid_ratio, seed):\n",
        "    '''Split provided training data into training set and validation set'''\n",
        "    valid_set_size = int(valid_ratio * len(data_set)) \n",
        "    train_set_size = len(data_set) - valid_set_size\n",
        "    train_set, valid_set = random_split(data_set, \n",
        "                                        [train_set_size, valid_set_size], \n",
        "                                        generator=torch.Generator().manual_seed(seed)\n",
        "                                        )\n",
        "    return np.array(train_set), np.array(valid_set)\n",
        "\n",
        "def predict(test_loader, model, device):\n",
        "    model.eval() # Set your model to evaluation mode.\n",
        "    preds = []\n",
        "    for x in tqdm(test_loader):\n",
        "        x = x.to(device)                        \n",
        "        with torch.no_grad():                   \n",
        "            pred = model(x)                     \n",
        "            preds.append(pred.detach().cpu())   \n",
        "    preds = torch.cat(preds, dim=0).numpy()  \n",
        "    return preds"
      ]
    },
    {
      "cell_type": "markdown",
      "metadata": {
        "id": "IqO3lTm78nNO"
      },
      "source": [
        "# Dataset"
      ]
    },
    {
      "cell_type": "code",
      "execution_count": 3,
      "metadata": {
        "id": "-mjaJM0wprMs"
      },
      "outputs": [],
      "source": [
        "class COVID19Dataset(Dataset):\n",
        "    '''\n",
        "    x: Features.\n",
        "    y: Targets, if none, do prediction.\n",
        "    '''\n",
        "    def __init__(self, x, y=None):\n",
        "        if y is None:\n",
        "            self.y = y\n",
        "        else:\n",
        "            self.y = torch.FloatTensor(y)\n",
        "        self.x = torch.FloatTensor(x)\n",
        "\n",
        "    def __getitem__(self, idx):\n",
        "        if self.y is None:\n",
        "            return self.x[idx]\n",
        "        else:\n",
        "            return self.x[idx], self.y[idx]\n",
        "\n",
        "    def __len__(self):\n",
        "        return len(self.x)"
      ]
    },
    {
      "cell_type": "markdown",
      "metadata": {
        "id": "m73ooU75CL_j"
      },
      "source": [
        "# Neural Network Model\n",
        "Try out different model architectures by modifying the class below."
      ]
    },
    {
      "cell_type": "code",
      "execution_count": 4,
      "metadata": {},
      "outputs": [],
      "source": [
        "class My_Model(nn.Module):\n",
        "    def __init__(self):\n",
        "        super(My_Model, self).__init__()\n",
        "        # TODO: modify model's structure, be aware of dimensions. \n",
        "        self.layers = nn.Sequential(\n",
        "            nn.LazyLinear(64),\n",
        "            # nn.Linear(24, 128),\n",
        "            nn.ReLU(),\n",
        "            nn.LazyLinear(32),\n",
        "            nn.ReLU(),\n",
        "            nn.LazyLinear(1)\n",
        "        )\n",
        "\n",
        "    def forward(self, x):\n",
        "        x = self.layers(x)\n",
        "        x = x.squeeze(1) # (B, 1) -> (B)\n",
        "        return x"
      ]
    },
    {
      "cell_type": "markdown",
      "metadata": {
        "id": "x5-LKF6R8xeq"
      },
      "source": [
        "# Feature Selection\n",
        "Choose features you deem useful by modifying the function below."
      ]
    },
    {
      "cell_type": "code",
      "execution_count": 5,
      "metadata": {
        "id": "0FEnKRaIIeKp"
      },
      "outputs": [],
      "source": [
        "def select_feat(train_data, valid_data, test_data, feat_idx):\n",
        "    '''Selects useful features to perform regression'''\n",
        "    y_train, y_valid = train_data[:,-1], valid_data[:,-1]\n",
        "    raw_x_train, raw_x_valid, raw_x_test = train_data[:,:-1], valid_data[:,:-1], test_data\n",
        "\n",
        "    return raw_x_train[:,feat_idx], raw_x_valid[:,feat_idx], raw_x_test[:,feat_idx], y_train, y_valid"
      ]
    },
    {
      "cell_type": "markdown",
      "metadata": {
        "id": "kADIPNQ2Ih5X"
      },
      "source": [
        "# Training Loop"
      ]
    },
    {
      "cell_type": "code",
      "execution_count": 72,
      "metadata": {},
      "outputs": [],
      "source": [
        "class Trainer():\n",
        "    def __init__(self, train_loader, valid_loader, model, config, device):\n",
        "        # self.save_hyperparameters(ignore=['ignore'])\n",
        "        criterion = nn.MSELoss(reduction='mean') # Define your loss function, do not modify this.\n",
        "        \n",
        "        writer = SummaryWriter() # Writer of tensoboard.\n",
        "        \n",
        "        if not os.path.isdir('./models'):\n",
        "                os.mkdir('./models') # Create directory of saving models.\n",
        "\n",
        "        n_epochs, best_loss, step, early_stop_count = config['n_epochs'], math.inf, 0, 0\n",
        "        self.loss_both = math.inf, math.inf, math.inf\n",
        "\n",
        "        for epoch in range(n_epochs):\n",
        "            model.train() # Set your model to train mode.\n",
        "            loss_record = []\n",
        "\n",
        "            # tqdm is a package to visualize your training progress.\n",
        "            # train_pbar = tqdm(train_loader, position=0, leave=True)\n",
        "\n",
        "            # for x, y in train_pbar:\n",
        "            for x,y in train_loader:\n",
        "                self.optimizer().zero_grad()               # Set gradient to zero.\n",
        "                x, y = x.to(device), y.to(device)   # Move your data to device. \n",
        "                pred = model(x)             \n",
        "                loss = criterion(pred, y)\n",
        "                loss.backward()                     # Compute gradient(backpropagation).\n",
        "                self.optimizer().step()                    # Update parameters.\n",
        "                step += 1\n",
        "                loss_record.append(loss.detach().item())\n",
        "            \n",
        "            # print(\"loss of train = \", loss.detach().item() ) #, end=\"\\r\")\n",
        "                \n",
        "                # Display current epoch number and loss on tqdm progress bar.\n",
        "                # train_pbar.set_description(f'Epoch [{epoch+1}/{n_epochs}]')\n",
        "                # train_pbar.set_postfix({'loss': loss.detach().item()})\n",
        "                # train_pbar.refresh() # to show immediately the update\n",
        "\n",
        "            mean_train_loss = sum(loss_record)/len(loss_record)\n",
        "\n",
        "            writer.add_scalar('Loss/train', mean_train_loss, step)\n",
        "\n",
        "            model.eval() # Set your model to evaluation mode.\n",
        "            loss_record = []\n",
        "            for x, y in valid_loader:\n",
        "                x, y = x.to(device), y.to(device)\n",
        "                with torch.no_grad():\n",
        "                    pred = model(x)\n",
        "                    loss = criterion(pred, y)\n",
        "\n",
        "                loss_record.append(loss.item())\n",
        "            # print(\"loss of valid = \", loss.item() ) #,end=\"\\r\")\n",
        "                \n",
        "            mean_valid_loss = sum(loss_record)/len(loss_record)\n",
        "            print(f'Epoch [{epoch+1}/{n_epochs}]: Train loss: {mean_train_loss:.4f}, Valid loss: {mean_valid_loss:.4f}', end='\\r')\n",
        "            \n",
        "            writer.add_scalar('Loss/valid', mean_valid_loss, step)\n",
        "\n",
        "            if mean_valid_loss < best_loss:\n",
        "                best_loss = mean_valid_loss\n",
        "                torch.save(model.state_dict(), config['save_path']) # Save your best model\n",
        "                # print('Saving model with loss {:.3f}... at epoch {epoch}'.format(best_loss))\n",
        "                \n",
        "                self.loss_both = str(mean_train_loss)[:5], str(mean_valid_loss)[:5], str(best_loss)[:5]\n",
        "                print(f'Saving model with loss {best_loss:.3f} at epoch {epoch}.' , end='\\r')\n",
        "                # print(f\"mean of (train loss, valid loss) = {self.loss_both[0]}, {self.loss_both[1]}.\") #, end='\\r')\n",
        "                \n",
        "                early_stop_count = 0\n",
        "            else: \n",
        "                early_stop_count += 1\n",
        "\n",
        "            if early_stop_count >= config['early_stop']:\n",
        "                print(f'Model is not improving, so we halt the training session at epoch {epoch}.')\n",
        "                print(f'Train loss: {mean_train_loss:.4f}, Valid loss: {mean_valid_loss:.4f}', end='\\r')\n",
        "                return\n",
        "\n",
        "    def optimizer(self):\n",
        "        return torch.optim.SGD(\n",
        "            model.parameters(), \n",
        "            lr = 0.001,\n",
        "            momentum=0.9\n",
        "            )"
      ]
    },
    {
      "attachments": {},
      "cell_type": "markdown",
      "metadata": {},
      "source": [
        "# Configurations\n",
        "`config` contains hyper-parameters for training and the path to save your model."
      ]
    },
    {
      "cell_type": "markdown",
      "metadata": {
        "id": "lrS-aJJh9XkW"
      },
      "source": [
        "# Dataloader\n",
        "Read data from files and set up training, validation, and testing sets. You do not need to modify this part."
      ]
    },
    {
      "cell_type": "code",
      "execution_count": 7,
      "metadata": {
        "colab": {
          "base_uri": "https://localhost:8080/"
        },
        "id": "2jc7ZfDot2t9",
        "outputId": "87423693-f02b-4368-e243-b2785d2fba7c"
      },
      "outputs": [],
      "source": [
        "class Seperate_DATA():\n",
        "  def __init__(self, seed, feat_idx, valid_ratio, batch_size):\n",
        "  # Set seed for reproducibility\n",
        "    same_seed(seed)\n",
        "\n",
        "    # train_data size: 2699 x 118 (id + 37 states + 16 features x 5 days) \n",
        "    # test_data size: 1078 x 117 (without last day's positive rate)\n",
        "    train_data, test_data = pd.read_csv('covid.train.csv').values, pd.read_csv('covid.test.csv').values\n",
        "    train_data, valid_data = train_valid_split(train_data, valid_ratio, seed)\n",
        "\n",
        "    # Print out the data size.\n",
        "    print(f\"\"\"train_data size: {train_data.shape} \n",
        "    valid_data size: {valid_data.shape} \n",
        "    test_data size: {test_data.shape}\"\"\")\n",
        "\n",
        "    # Select features\n",
        "    x_train, x_valid, x_test, y_train, y_valid = select_feat(train_data, valid_data, test_data, feat_idx)\n",
        "\n",
        "    # Print out the number of features.\n",
        "    print(f'number of features: {x_train.shape[1]}')\n",
        "\n",
        "    # train_dataset, valid_dataset, test_dataset = COVID19Dataset(x_train, y_train), \\\n",
        "    #                                             COVID19Dataset(x_valid, y_valid), \\\n",
        "    #                                             COVID19Dataset(x_test)\n",
        "    \n",
        "    self.batch_size = batch_size\n",
        "    self.train_dataset = COVID19Dataset(x_train, y_train)\n",
        "    self.valid_dataset = COVID19Dataset(x_valid, y_valid)\n",
        "    self.test_dataset = COVID19Dataset(x_test)\n",
        "\n",
        "  # Pytorch data loader loads pytorch dataset into batches.\n",
        "  def train_loader(self):\n",
        "    return DataLoader(self.train_dataset, batch_size=self.batch_size, shuffle=True, pin_memory=True)\n",
        "  def valid_loader(self):\n",
        "    return DataLoader(self.valid_dataset, batch_size=self.batch_size, shuffle=True, pin_memory=True)\n",
        "  def test_loader(self):\n",
        "    return DataLoader(self.test_dataset, batch_size=self.batch_size, shuffle=False, pin_memory=True)\n"
      ]
    },
    {
      "attachments": {},
      "cell_type": "markdown",
      "metadata": {},
      "source": [
        "# 調整區"
      ]
    },
    {
      "cell_type": "code",
      "execution_count": 8,
      "metadata": {},
      "outputs": [],
      "source": [
        "def add_to_class(Class):\n",
        "    def wrapper(obj):\n",
        "        setattr(Class, obj.__name__, obj)\n",
        "    return wrapper"
      ]
    },
    {
      "cell_type": "code",
      "execution_count": 39,
      "metadata": {},
      "outputs": [
        {
          "data": {
            "text/plain": [
              "17"
            ]
          },
          "execution_count": 39,
          "metadata": {},
          "output_type": "execute_result"
        }
      ],
      "source": [
        "# index_col = 0: 把第一個 column 當成 index\n",
        "# df0 = pd.read_csv('covid.train.csv', index_col = 0)\n",
        "df0 = pd.read_csv('covid.train.csv')\n",
        "corr = df0.corr().iloc[-1]\n",
        "idx = (abs(corr) > 0.86).tolist()[:-1]\n",
        "idxx = [ i for i in range(len(idx)) if idx[i] == True ]\n",
        "len(idxx)"
      ]
    },
    {
      "cell_type": "code",
      "execution_count": 54,
      "metadata": {},
      "outputs": [],
      "source": [
        "device = 'cuda' if torch.cuda.is_available() else 'cpu'\n",
        "config = {\n",
        "    'seed': 666666,      # Your seed number, you can pick your lucky number. :)\n",
        "    'valid_ratio': 0.2,   # validation_size = train_size * valid_ratio\n",
        "    'n_epochs': 5000,     # Number of epochs.            \n",
        "    'batch_size': 64,            \n",
        "    'early_stop': 600,    # If model has not improved for this many consecutive epochs, stop training.     \n",
        "    'save_path': 'models/model.ckpt'  # Your model will be saved here.\n",
        "}"
      ]
    },
    {
      "cell_type": "code",
      "execution_count": 109,
      "metadata": {},
      "outputs": [],
      "source": [
        "@add_to_class(My_Model)\n",
        "def __init__(self):\n",
        "    super(My_Model, self).__init__()\n",
        "    self.layers = nn.Sequential(\n",
        "                # nn.Dropout(0.2),\n",
        "                nn.LazyBatchNorm1d(),\n",
        "                nn.LazyLinear(128),\n",
        "                nn.LeakyReLU(0.1),\n",
        "                nn.LazyLinear(16),\n",
        "                # nn.ReLU(),\n",
        "                # nn.LazyBatchNorm1d(),\n",
        "                nn.LazyLinear(1)\n",
        "        )"
      ]
    },
    {
      "cell_type": "code",
      "execution_count": 110,
      "metadata": {},
      "outputs": [],
      "source": [
        "@add_to_class(Trainer)\n",
        "def optimizer(self):\n",
        "  return torch.optim.Adam(\n",
        "      model.parameters(), \n",
        "      lr = 0.001,\n",
        "      # momentum=0.9\n",
        "      )"
      ]
    },
    {
      "cell_type": "markdown",
      "metadata": {
        "id": "0OBYgjCA-YwD"
      },
      "source": [
        "# Start training!"
      ]
    },
    {
      "cell_type": "code",
      "execution_count": 111,
      "metadata": {
        "colab": {
          "base_uri": "https://localhost:8080/"
        },
        "id": "YdttVRkAfu2t",
        "outputId": "0ea76151-94bf-41c8-8e98-7c4f5955bbba"
      },
      "outputs": [
        {
          "name": "stdout",
          "output_type": "stream",
          "text": [
            "train_data size: (2160, 118) \n",
            "    valid_data size: (539, 118) \n",
            "    test_data size: (1078, 117)\n",
            "number of features: 17\n",
            "Saving model with loss 3.574 at epoch 4.d loss: 3.5737700\r"
          ]
        },
        {
          "name": "stderr",
          "output_type": "stream",
          "text": [
            "/Users/chocho/Library/r-miniconda-arm64/lib/python3.10/site-packages/torch/nn/modules/lazy.py:178: UserWarning: Lazy modules are a new feature under heavy development so changes to the API or functionality can happen at any moment.\n",
            "  warnings.warn('Lazy modules are a new feature under heavy development '\n"
          ]
        },
        {
          "name": "stdout",
          "output_type": "stream",
          "text": [
            "Model is not improving, so we halt the training session at epoch 1512.\n",
            "Train loss: 1.9717, Valid loss: 1.1465\r"
          ]
        }
      ],
      "source": [
        "seperate_DATA = Seperate_DATA(config['seed'],idxx , config['valid_ratio'], config['batch_size'])\n",
        "model = My_Model().to(device) # put your model and data on the same computation device.\n",
        "trainer = Trainer(seperate_DATA.train_loader(), seperate_DATA.valid_loader(), model, config, device)"
      ]
    },
    {
      "cell_type": "code",
      "execution_count": 112,
      "metadata": {},
      "outputs": [
        {
          "data": {
            "text/plain": [
              "(64,\n",
              " Sequential(\n",
              "   (0): BatchNorm1d(17, eps=1e-05, momentum=0.1, affine=True, track_running_stats=True)\n",
              "   (1): Linear(in_features=17, out_features=128, bias=True)\n",
              "   (2): LeakyReLU(negative_slope=0.1)\n",
              "   (3): Linear(in_features=128, out_features=16, bias=True)\n",
              "   (4): Linear(in_features=16, out_features=1, bias=True)\n",
              " ),\n",
              " Adam (\n",
              " Parameter Group 0\n",
              "     amsgrad: False\n",
              "     betas: (0.9, 0.999)\n",
              "     capturable: False\n",
              "     eps: 1e-08\n",
              "     foreach: None\n",
              "     lr: 0.001\n",
              "     maximize: False\n",
              "     weight_decay: 0\n",
              " ),\n",
              " ('2.087', '1.082', '1.082'))"
            ]
          },
          "execution_count": 112,
          "metadata": {},
          "output_type": "execute_result"
        }
      ],
      "source": [
        "config['batch_size'], model.layers, trainer.optimizer(), trainer.loss_both"
      ]
    },
    {
      "cell_type": "markdown",
      "metadata": {
        "id": "Ik09KPqU-di-"
      },
      "source": [
        "# Plot learning curves with `tensorboard` (optional)\n",
        "\n",
        "`tensorboard` is a tool that allows you to visualize your training progress.\n",
        "\n",
        "If this block does not display your learning curve, please wait for few minutes, and re-run this block. It might take some time to load your logging information. "
      ]
    },
    {
      "cell_type": "code",
      "execution_count": 113,
      "metadata": {},
      "outputs": [
        {
          "data": {
            "text/plain": [
              "Reusing TensorBoard on port 6006 (pid 23765), started 0:17:48 ago. (Use '!kill 23765' to kill it.)"
            ]
          },
          "metadata": {},
          "output_type": "display_data"
        },
        {
          "data": {
            "text/html": [
              "\n",
              "      <iframe id=\"tensorboard-frame-d67458f4c029f258\" width=\"100%\" height=\"800\" frameborder=\"0\">\n",
              "      </iframe>\n",
              "      <script>\n",
              "        (function() {\n",
              "          const frame = document.getElementById(\"tensorboard-frame-d67458f4c029f258\");\n",
              "          const url = new URL(\"http://localhost\");\n",
              "          const port = 6006;\n",
              "          if (port) {\n",
              "            url.port = port;\n",
              "          }\n",
              "          frame.src = url;\n",
              "        })();\n",
              "      </script>\n",
              "    "
            ],
            "text/plain": [
              "<IPython.core.display.HTML object>"
            ]
          },
          "metadata": {},
          "output_type": "display_data"
        }
      ],
      "source": [
        "%reload_ext tensorboard\n",
        "%tensorboard --logdir=./runs/"
      ]
    },
    {
      "cell_type": "markdown",
      "metadata": {
        "id": "yhAHGqC9-woK"
      },
      "source": [
        "# Testing\n",
        "The predictions of your model on testing set will be stored at `pred.csv`."
      ]
    },
    {
      "cell_type": "code",
      "execution_count": 114,
      "metadata": {
        "colab": {
          "base_uri": "https://localhost:8080/"
        },
        "id": "Q5eVdpbvAlAe",
        "outputId": "2fabc956-ae05-4b56-a10c-c6f241d116ce"
      },
      "outputs": [
        {
          "name": "stderr",
          "output_type": "stream",
          "text": [
            "100%|██████████| 17/17 [00:00<00:00, 4858.49it/s]\n"
          ]
        }
      ],
      "source": [
        "def save_pred(preds, file):\n",
        "    ''' Save predictions to specified file '''\n",
        "    with open(file, 'w') as fp:\n",
        "        writer = csv.writer(fp)\n",
        "        writer.writerow(['id', 'tested_positive'])\n",
        "        for i, p in enumerate(preds):\n",
        "            writer.writerow([i, p])\n",
        "\n",
        "model = My_Model().to(device)\n",
        "model.load_state_dict(torch.load(config['save_path']))\n",
        "preds = predict(seperate_DATA.test_loader(), model, device) \n",
        "save_pred(preds, 'pred.csv')         "
      ]
    },
    {
      "cell_type": "markdown",
      "metadata": {
        "id": "IJ_k5rY0GvSV"
      },
      "source": [
        "# Reference\n",
        "This notebook uses code written by Heng-Jui Chang @ NTUEE (https://github.com/ga642381/ML2021-Spring/blob/main/HW01/HW01.ipynb)"
      ]
    }
  ],
  "metadata": {
    "accelerator": "GPU",
    "colab": {
      "provenance": []
    },
    "kernelspec": {
      "display_name": "base",
      "language": "python",
      "name": "python3"
    },
    "language_info": {
      "codemirror_mode": {
        "name": "ipython",
        "version": 3
      },
      "file_extension": ".py",
      "mimetype": "text/x-python",
      "name": "python",
      "nbconvert_exporter": "python",
      "pygments_lexer": "ipython3",
      "version": "3.10.6"
    },
    "vscode": {
      "interpreter": {
        "hash": "924b4310eef0a4626e6be183858539210ebddb9168f6747ddef9ed01eb54dbfb"
      }
    }
  },
  "nbformat": 4,
  "nbformat_minor": 0
}
