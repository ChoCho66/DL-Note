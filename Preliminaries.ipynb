{
 "cells": [
  {
   "cell_type": "markdown",
   "metadata": {},
   "source": [
    "# 預備知識 (Preliminaries) {#sec-Preliminaries}"
   ]
  },
  {
   "cell_type": "code",
   "execution_count": 4,
   "metadata": {},
   "outputs": [
    {
     "name": "stdout",
     "output_type": "stream",
     "text": [
      "0\n",
      "1\n",
      "2\n",
      "3\n",
      "4\n",
      "5\n",
      "6\n",
      "7\n",
      "8\n",
      "9\n"
     ]
    }
   ],
   "source": [
    "import time\n",
    "\n",
    "for i in range(10):\n",
    "    print(i)\n",
    "    time.sleep(3)"
   ]
  },
  {
   "cell_type": "markdown",
   "metadata": {},
   "source": [
    "測試中文  \n",
    "\n",
    "\n",
    "See @sec-TTTTTT."
   ]
  },
  {
   "cell_type": "markdown",
   "metadata": {
    "slideshow": {
     "slide_type": "slide"
    }
   },
   "source": [
    "Let $f$ be a function of $B.$\n",
    "\n",
    "\\begin{align*}\n",
    "  \\begin{aligned}\n",
    "  f(X) = y.\n",
    "  \\end{aligned}\n",
    "\\end{align*}\n"
   ]
  },
  {
   "cell_type": "code",
   "execution_count": null,
   "metadata": {},
   "outputs": [
    {
     "name": "stdout",
     "output_type": "stream",
     "text": [
      "0\n",
      "1\n",
      "2\n",
      "3\n",
      "4\n"
     ]
    }
   ],
   "source": [
    "for i in range(100):\n",
    "    print(i)"
   ]
  },
  {
   "cell_type": "markdown",
   "metadata": {},
   "source": [
    "Let\n",
    "\\begin{align*}\n",
    "  \\begin{aligned}\n",
    "  F(X) = Y, \\cr \n",
    "  G(Y) = Z.\n",
    "  \\end{aligned}\n",
    "\\end{align*}\n",
    "Then we have\n",
    "\n",
    "* asdasd\n",
    "* asdasdsa \n",
    "  * asdasds \n",
    "\n",
    "\n",
    "::: {#thm-line}\n",
    "\n",
    "## ABS\n",
    "\n",
    "The equation of any straight line, called a linear equation, can be written as:\n",
    "\n",
    "Black-Scholes (@eq-black-scholes) is a mathematical model that seeks to explain the behavior of financial derivatives, most commonly options:\n",
    "\n",
    "$$\n",
    "\\begin{aligned}\n",
    "f(X) &= Y, \\cr \n",
    "g(Y) &= Zasdasd .\n",
    "\\end{aligned}\n",
    "$$ {#eq-black-scholes}\n",
    "\n",
    "$$\n",
    "\\begin{aligned}\n",
    "  F(X) = y.\n",
    "\\end{aligned}\n",
    "$$ {#eq-black-scholes2}\n",
    "\n",
    ":::\n",
    "\n",
    "See @thm-line.\n",
    "\n",
    "Let (@eq-black-scholes2) . \n",
    "\n",
    "\n",
    "\n",
    "::: {.solution}\n",
    "The solution.\n",
    ":::\n",
    "\n",
    "::: {.remark}\n",
    "TTTTTTT remark.\n",
    ":::\n",
    "\n",
    "::: {.proof}\n",
    "asdsadasds finish.\n",
    ":::\n",
    "\n",
    "asdasd\n",
    "\n",
    "\n",
    "$\\mathbb E$ adasd sd asd \n",
    "\n",
    "測試中文\n",
    "\n",
    "\n",
    "\n",
    "Let $f$ be a bounded function on $\\mathbb R$ with a jumpt at $0.$\n",
    "\n",
    "## SSSSSSSSSS {#sec-SSSSS}\n",
    "\n",
    "\n",
    "See @sec-SSSSS\n"
   ]
  }
 ],
 "metadata": {
  "kernelspec": {
   "display_name": "Python 3.9.15 ('d2l-env')",
   "language": "python",
   "name": "python3"
  },
  "language_info": {
   "codemirror_mode": {
    "name": "ipython",
    "version": 3
   },
   "file_extension": ".py",
   "mimetype": "text/x-python",
   "name": "python",
   "nbconvert_exporter": "python",
   "pygments_lexer": "ipython3",
   "version": "3.9.15"
  },
  "orig_nbformat": 4,
  "vscode": {
   "interpreter": {
    "hash": "7ec238b2b05b39769383514cb67f28b6ac6e8f59fb2a96b26a0764ce29a44286"
   }
  }
 },
 "nbformat": 4,
 "nbformat_minor": 2
}
